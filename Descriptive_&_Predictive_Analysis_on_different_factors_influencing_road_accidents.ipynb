{
  "cells": [
    {
      "cell_type": "markdown",
      "metadata": {
        "id": "view-in-github",
        "colab_type": "text"
      },
      "source": [
        "<a href=\"https://colab.research.google.com/github/APURVSAXENA/Missouri-Traffic-Accident-Data/blob/main/Descriptive_%26_Predictive_Analysis_on_different_factors_influencing_road_accidents.ipynb\" target=\"_parent\"><img src=\"https://colab.research.google.com/assets/colab-badge.svg\" alt=\"Open In Colab\"/></a>"
      ]
    },
    {
      "cell_type": "markdown",
      "metadata": {
        "id": "Lt8GjA6B_HCL"
      },
      "source": [
        "<h1 align=\"center\"> Missouri Traffic Accident Data</h1>\n",
        "<h2 align=\"center\"> Descriptive & Predictive Analysis on different factors influencing road accidents </h2>\n",
        "<h3 align=\"center\"> "
      ]
    },
    {
      "cell_type": "markdown",
      "metadata": {
        "id": "dmxy3H8c_HCM"
      },
      "source": [
        "## 1. Introduction\n",
        "US-Accidents can be used for numerous applications such as real-time accident prediction, studying accident hotspot locations, casualty analysis and extracting cause and effect rules to predict accidents, and studying the impact of precipitation or other environmental stimuli on accident occurrence. This data has been collected in real-time, using multiple Traffic APIs. Currently, it contains data that is collected from February 2016 to December 2019 for the Contiguous United States.\n",
        "\n",
        "This is a countrywide traffic accident dataset, which covers 49 states of the United States from which we are taking 3 states into consideration. The data is collected from February 2016 to December 2019, using several data providers, including two APIs that provide streaming traffic incident data. These APIs broadcast traffic data captured by a variety of entities, such as the US and state departments of transportation, law enforcement agencies, traffic cameras, and traffic sensors within the road-networks. Currently, there are about 3.0 million accident records in this dataset.\n",
        "\n",
        "Most of the accidents take place due to bad weather conditions (like heavy fog, rain, sleet, wind), traffic, because of drivers mood variations and so on.\n",
        "\n",
        "Our study will focus on Weather_Condition factor, Temperature factor, Visibility factor, Wind_Speed factor, Wind_Direction factor and all other weather related factors. Also Severity factor, factors related to the place where the accident has occurred. Using this data we will create a model which would predict the list of accident prone areas for the next day based on the weather conditions, which would help the department of transportation and police to take necessary precautions to avoid accidents from occuring or to take immediate action if required.\n",
        "\n",
        "In this project, we want to conduct an exploratory study on the road accidents and factors inﬂuencing it. Speciﬁcally, we want to answer the following research questions:\n",
        "1. What are the predicting variables actually aﬀecting the road accidents?\n",
        "2. How does weather conditions impact road accidents?\n",
        "3. What are factors of the accident and how it could be mapped with severity?\n"
      ]
    },
    {
      "cell_type": "markdown",
      "metadata": {
        "id": "WvSzulqF_HCN"
      },
      "source": [
        "## 2. Data\n",
        "\n",
        "### 2.1. Data extraction\n",
        "The dataset is collected from the below link\n",
        "\n",
        "https://www.kaggle.com/sobhanmoosavi/us-accidents\n",
        "\n",
        "The dataset will be filtered to contain the data of three states. This is due to the size of the original dataset being too large to feasibly manipulate. The three states the new dataset will be based on will be Missouri (MO), California (CA), and Maryland (MD). This will pull data from the west coast, midwest, and the east coast of the United States.\n",
        "\n",
        "We then preceded to determine what variables included NULL values and how many NULL values there are so that we could remove them to further clean the data. We also determined what columns were necessary to  answer our research questions and removed any columns we deemed unnecessary."
      ]
    },
    {
      "cell_type": "code",
      "execution_count": null,
      "metadata": {
        "colab": {
          "base_uri": "https://localhost:8080/",
          "height": 958
        },
        "id": "Ym1REvJY_HCO",
        "outputId": "e242ac40-ca47-4143-d023-b1ca324e3f3e"
      },
      "outputs": [
        {
          "name": "stdout",
          "output_type": "stream",
          "text": [
            "<class 'pandas.core.frame.DataFrame'>\n",
            "RangeIndex: 7666 entries, 0 to 7665\n",
            "Data columns (total 49 columns):\n",
            " #   Column                 Non-Null Count  Dtype  \n",
            "---  ------                 --------------  -----  \n",
            " 0   ID                     7666 non-null   object \n",
            " 1   Source                 7666 non-null   object \n",
            " 2   TMC                    7666 non-null   int64  \n",
            " 3   Severity               7666 non-null   int64  \n",
            " 4   Start_Time             7666 non-null   object \n",
            " 5   End_Time               7666 non-null   object \n",
            " 6   Start_Lat              7666 non-null   float64\n",
            " 7   Start_Lng              7666 non-null   float64\n",
            " 8   End_Lat                0 non-null      float64\n",
            " 9   End_Lng                0 non-null      float64\n",
            " 10  Distance(mi)           7666 non-null   float64\n",
            " 11  Description            7666 non-null   object \n",
            " 12  Number                 1088 non-null   float64\n",
            " 13  Street                 7666 non-null   object \n",
            " 14  Side                   7666 non-null   object \n",
            " 15  City                   7666 non-null   object \n",
            " 16  County                 7666 non-null   object \n",
            " 17  State                  7666 non-null   object \n",
            " 18  Zipcode                7666 non-null   object \n",
            " 19  Country                7666 non-null   object \n",
            " 20  Timezone               7666 non-null   object \n",
            " 21  Airport_Code           7665 non-null   object \n",
            " 22  Weather_Timestamp      7612 non-null   object \n",
            " 23  Temperature(F)         7600 non-null   float64\n",
            " 24  Wind_Chill(F)          5922 non-null   float64\n",
            " 25  Humidity(%)            7597 non-null   float64\n",
            " 26  Pressure(in)           7600 non-null   float64\n",
            " 27  Visibility(mi)         7595 non-null   float64\n",
            " 28  Wind_Direction         7577 non-null   object \n",
            " 29  Wind_Speed(mph)        7389 non-null   float64\n",
            " 30  Precipitation(in)      5816 non-null   float64\n",
            " 31  Weather_Condition      7594 non-null   object \n",
            " 32  Amenity                7666 non-null   bool   \n",
            " 33  Bump                   7666 non-null   bool   \n",
            " 34  Crossing               7666 non-null   bool   \n",
            " 35  Give_Way               7666 non-null   bool   \n",
            " 36  Junction               7666 non-null   bool   \n",
            " 37  No_Exit                7666 non-null   bool   \n",
            " 38  Railway                7666 non-null   bool   \n",
            " 39  Roundabout             7666 non-null   bool   \n",
            " 40  Station                7666 non-null   bool   \n",
            " 41  Stop                   7666 non-null   bool   \n",
            " 42  Traffic_Calming        7666 non-null   bool   \n",
            " 43  Traffic_Signal         7666 non-null   bool   \n",
            " 44  Turning_Loop           7666 non-null   bool   \n",
            " 45  Sunrise_Sunset         7666 non-null   object \n",
            " 46  Civil_Twilight         7666 non-null   object \n",
            " 47  Nautical_Twilight      7666 non-null   object \n",
            " 48  Astronomical_Twilight  7666 non-null   object \n",
            "dtypes: bool(13), float64(13), int64(2), object(21)\n",
            "memory usage: 2.2+ MB\n"
          ]
        }
      ],
      "source": [
        "# Import Modules\n",
        "import pandas as pd\n",
        "import numpy as np\n",
        "\n",
        "# Read in the data\n",
        "dat = pd.read_csv(\"MO_Accidents.csv\")\n",
        "\n",
        "# Shows us the data types of each variable included within the study.\n",
        "dat.info()"
      ]
    },
    {
      "cell_type": "code",
      "execution_count": null,
      "metadata": {
        "id": "ytJhf3ts_HCT",
        "outputId": "4d8fdc07-b5fe-41c9-a6f9-e9ae6a77c034",
        "scrolled": true
      },
      "outputs": [
        {
          "data": {
            "text/html": [
              "<div>\n",
              "<style scoped>\n",
              "    .dataframe tbody tr th:only-of-type {\n",
              "        vertical-align: middle;\n",
              "    }\n",
              "\n",
              "    .dataframe tbody tr th {\n",
              "        vertical-align: top;\n",
              "    }\n",
              "\n",
              "    .dataframe thead th {\n",
              "        text-align: right;\n",
              "    }\n",
              "</style>\n",
              "<table border=\"1\" class=\"dataframe\">\n",
              "  <thead>\n",
              "    <tr style=\"text-align: right;\">\n",
              "      <th></th>\n",
              "      <th>0</th>\n",
              "    </tr>\n",
              "  </thead>\n",
              "  <tbody>\n",
              "    <tr>\n",
              "      <th>ID</th>\n",
              "      <td>A-167306</td>\n",
              "    </tr>\n",
              "    <tr>\n",
              "      <th>Source</th>\n",
              "      <td>MapQuest</td>\n",
              "    </tr>\n",
              "    <tr>\n",
              "      <th>TMC</th>\n",
              "      <td>201</td>\n",
              "    </tr>\n",
              "    <tr>\n",
              "      <th>Severity</th>\n",
              "      <td>3</td>\n",
              "    </tr>\n",
              "    <tr>\n",
              "      <th>Start_Time</th>\n",
              "      <td>11/30/2016 17:32</td>\n",
              "    </tr>\n",
              "    <tr>\n",
              "      <th>End_Time</th>\n",
              "      <td>11/30/2016 18:02</td>\n",
              "    </tr>\n",
              "    <tr>\n",
              "      <th>Start_Lat</th>\n",
              "      <td>38.65</td>\n",
              "    </tr>\n",
              "    <tr>\n",
              "      <th>Start_Lng</th>\n",
              "      <td>-90.4486</td>\n",
              "    </tr>\n",
              "    <tr>\n",
              "      <th>End_Lat</th>\n",
              "      <td>NaN</td>\n",
              "    </tr>\n",
              "    <tr>\n",
              "      <th>End_Lng</th>\n",
              "      <td>NaN</td>\n",
              "    </tr>\n",
              "    <tr>\n",
              "      <th>Distance(mi)</th>\n",
              "      <td>0.01</td>\n",
              "    </tr>\n",
              "    <tr>\n",
              "      <th>Description</th>\n",
              "      <td>Accident on I-270 Southbound at Exit 13 MO-AB.</td>\n",
              "    </tr>\n",
              "    <tr>\n",
              "      <th>Number</th>\n",
              "      <td>NaN</td>\n",
              "    </tr>\n",
              "    <tr>\n",
              "      <th>Street</th>\n",
              "      <td>I-270 S</td>\n",
              "    </tr>\n",
              "    <tr>\n",
              "      <th>Side</th>\n",
              "      <td>R</td>\n",
              "    </tr>\n",
              "    <tr>\n",
              "      <th>City</th>\n",
              "      <td>Saint Louis</td>\n",
              "    </tr>\n",
              "    <tr>\n",
              "      <th>County</th>\n",
              "      <td>St. Louis County</td>\n",
              "    </tr>\n",
              "    <tr>\n",
              "      <th>State</th>\n",
              "      <td>MO</td>\n",
              "    </tr>\n",
              "    <tr>\n",
              "      <th>Zipcode</th>\n",
              "      <td>63141</td>\n",
              "    </tr>\n",
              "    <tr>\n",
              "      <th>Country</th>\n",
              "      <td>US</td>\n",
              "    </tr>\n",
              "    <tr>\n",
              "      <th>Timezone</th>\n",
              "      <td>US/Central</td>\n",
              "    </tr>\n",
              "    <tr>\n",
              "      <th>Airport_Code</th>\n",
              "      <td>KSTL</td>\n",
              "    </tr>\n",
              "    <tr>\n",
              "      <th>Weather_Timestamp</th>\n",
              "      <td>11/30/2016 17:51</td>\n",
              "    </tr>\n",
              "    <tr>\n",
              "      <th>Temperature(F)</th>\n",
              "      <td>42.1</td>\n",
              "    </tr>\n",
              "    <tr>\n",
              "      <th>Wind_Chill(F)</th>\n",
              "      <td>33.9</td>\n",
              "    </tr>\n",
              "    <tr>\n",
              "      <th>Humidity(%)</th>\n",
              "      <td>55</td>\n",
              "    </tr>\n",
              "    <tr>\n",
              "      <th>Pressure(in)</th>\n",
              "      <td>29.85</td>\n",
              "    </tr>\n",
              "    <tr>\n",
              "      <th>Visibility(mi)</th>\n",
              "      <td>10</td>\n",
              "    </tr>\n",
              "    <tr>\n",
              "      <th>Wind_Direction</th>\n",
              "      <td>WSW</td>\n",
              "    </tr>\n",
              "    <tr>\n",
              "      <th>Wind_Speed(mph)</th>\n",
              "      <td>17.3</td>\n",
              "    </tr>\n",
              "    <tr>\n",
              "      <th>Precipitation(in)</th>\n",
              "      <td>NaN</td>\n",
              "    </tr>\n",
              "    <tr>\n",
              "      <th>Weather_Condition</th>\n",
              "      <td>Overcast</td>\n",
              "    </tr>\n",
              "    <tr>\n",
              "      <th>Amenity</th>\n",
              "      <td>False</td>\n",
              "    </tr>\n",
              "    <tr>\n",
              "      <th>Bump</th>\n",
              "      <td>False</td>\n",
              "    </tr>\n",
              "    <tr>\n",
              "      <th>Crossing</th>\n",
              "      <td>False</td>\n",
              "    </tr>\n",
              "    <tr>\n",
              "      <th>Give_Way</th>\n",
              "      <td>False</td>\n",
              "    </tr>\n",
              "    <tr>\n",
              "      <th>Junction</th>\n",
              "      <td>False</td>\n",
              "    </tr>\n",
              "    <tr>\n",
              "      <th>No_Exit</th>\n",
              "      <td>False</td>\n",
              "    </tr>\n",
              "    <tr>\n",
              "      <th>Railway</th>\n",
              "      <td>False</td>\n",
              "    </tr>\n",
              "    <tr>\n",
              "      <th>Roundabout</th>\n",
              "      <td>False</td>\n",
              "    </tr>\n",
              "    <tr>\n",
              "      <th>Station</th>\n",
              "      <td>False</td>\n",
              "    </tr>\n",
              "    <tr>\n",
              "      <th>Stop</th>\n",
              "      <td>False</td>\n",
              "    </tr>\n",
              "    <tr>\n",
              "      <th>Traffic_Calming</th>\n",
              "      <td>False</td>\n",
              "    </tr>\n",
              "    <tr>\n",
              "      <th>Traffic_Signal</th>\n",
              "      <td>False</td>\n",
              "    </tr>\n",
              "    <tr>\n",
              "      <th>Turning_Loop</th>\n",
              "      <td>False</td>\n",
              "    </tr>\n",
              "    <tr>\n",
              "      <th>Sunrise_Sunset</th>\n",
              "      <td>Night</td>\n",
              "    </tr>\n",
              "    <tr>\n",
              "      <th>Civil_Twilight</th>\n",
              "      <td>Night</td>\n",
              "    </tr>\n",
              "    <tr>\n",
              "      <th>Nautical_Twilight</th>\n",
              "      <td>Day</td>\n",
              "    </tr>\n",
              "    <tr>\n",
              "      <th>Astronomical_Twilight</th>\n",
              "      <td>Day</td>\n",
              "    </tr>\n",
              "  </tbody>\n",
              "</table>\n",
              "</div>"
            ],
            "text/plain": [
              "                                                                    0\n",
              "ID                                                           A-167306\n",
              "Source                                                       MapQuest\n",
              "TMC                                                               201\n",
              "Severity                                                            3\n",
              "Start_Time                                           11/30/2016 17:32\n",
              "End_Time                                             11/30/2016 18:02\n",
              "Start_Lat                                                       38.65\n",
              "Start_Lng                                                    -90.4486\n",
              "End_Lat                                                           NaN\n",
              "End_Lng                                                           NaN\n",
              "Distance(mi)                                                     0.01\n",
              "Description            Accident on I-270 Southbound at Exit 13 MO-AB.\n",
              "Number                                                            NaN\n",
              "Street                                                        I-270 S\n",
              "Side                                                                R\n",
              "City                                                      Saint Louis\n",
              "County                                               St. Louis County\n",
              "State                                                              MO\n",
              "Zipcode                                                         63141\n",
              "Country                                                            US\n",
              "Timezone                                                   US/Central\n",
              "Airport_Code                                                     KSTL\n",
              "Weather_Timestamp                                    11/30/2016 17:51\n",
              "Temperature(F)                                                   42.1\n",
              "Wind_Chill(F)                                                    33.9\n",
              "Humidity(%)                                                        55\n",
              "Pressure(in)                                                    29.85\n",
              "Visibility(mi)                                                     10\n",
              "Wind_Direction                                                    WSW\n",
              "Wind_Speed(mph)                                                  17.3\n",
              "Precipitation(in)                                                 NaN\n",
              "Weather_Condition                                            Overcast\n",
              "Amenity                                                         False\n",
              "Bump                                                            False\n",
              "Crossing                                                        False\n",
              "Give_Way                                                        False\n",
              "Junction                                                        False\n",
              "No_Exit                                                         False\n",
              "Railway                                                         False\n",
              "Roundabout                                                      False\n",
              "Station                                                         False\n",
              "Stop                                                            False\n",
              "Traffic_Calming                                                 False\n",
              "Traffic_Signal                                                  False\n",
              "Turning_Loop                                                    False\n",
              "Sunrise_Sunset                                                  Night\n",
              "Civil_Twilight                                                  Night\n",
              "Nautical_Twilight                                                 Day\n",
              "Astronomical_Twilight                                             Day"
            ]
          },
          "execution_count": 30,
          "metadata": {},
          "output_type": "execute_result"
        }
      ],
      "source": [
        "#Visualizes the data in a readable format\n",
        "dat.head(1).transpose()"
      ]
    },
    {
      "cell_type": "markdown",
      "metadata": {
        "id": "-83miB78_HCW"
      },
      "source": [
        "### 2.2. Key Information in The Dataset\n",
        "\n",
        "\n",
        "SlNo. Attribute: Description\n",
        "1. ID: This is a unique identifier of the accident record.\n",
        "2. Source: Indicates source of the accident report (i.e. the API which reported the accident.).\n",
        "3. TMC: A traffic accident may have a Traffic Message Channel (TMC) code which provides a more detailed description of the event.\n",
        "4. Severity: Shows the severity of the accident, a number between 1 and 4, where 1 indicates the least impact on traffic (i.e., short delay as a result of the accident) and 4 indicates a significant impact on traffic (i.e., long delay).\n",
        "5. Start_Time: Shows start time of the accident in the local time zone.\n",
        "6. End_Time: Shows end time of the accident in the local time zone.\n",
        "7. Start_Lat: Shows latitude in GPS coordinate of the start point.\n",
        "8. Start_Lng: Shows longitude in GPS coordinate of the start point.\n",
        "9. End_Lat: Shows latitude in GPS coordinate of the end point.\n",
        "10. End_Lng: Shows longitude in GPS coordinate of the end point.\n",
        "11. Distance(mi): The length of the road extent affected by the accident.\n",
        "12. Description: Shows natural language description of the accident.\n",
        "13. Number: Shows the street number in the address field.\n",
        "14. Street: Shows the street name in the address field.\n",
        "15. Side: Shows the relative side of the street (Right/Left) in the address field.\n",
        "16. City: Shows the city in the address field.\n",
        "17. County: Shows the county in the address field.\n",
        "18. State: Shows the state in the address field.\n",
        "19. Zip Code: Shows the zip code in the address field.\n",
        "20. Country: Shows the country in the address field.\n",
        "21. Timezone: Shows timezone based on the location of the accident (eastern, central, etc.).\n",
        "22. Airport_Code: Denotes an airport-based weather station which is the closest one to the location of the accident.\n",
        "23. Weather_Timestamp: Shows the time-stamp of weather observation record (in local time).\n",
        "24. Temperature(F): Shows the temperature (in Fahrenheit).\n",
        "25. Wind_Chill(F): Shows the wind chill (in Fahrenheit).\n",
        "26. Humidity(%): Shows the humidity (in percentage).\n",
        "27. Pressure(in): Shows the air pressure (in inches).\n",
        "28. Visibility(mi): Shows visibility (in miles).\n",
        "29. Wind_Direction: Shows wind direction.\n",
        "30. Wind_Speed(mph): Shows wind speed (in miles per hour).\n",
        "31. Precipitation(in): Shows precipitation amount in inches, if there is any.\n",
        "32. Weather_Condition: Shows the weather condition (rain, snow, thunderstorm, fog, etc.)\n",
        "33. Amenity: A POI annotation which indicates the presence of amenity in a nearby location.\n",
        "34. Bump: A POI annotation which indicates presence of speed bump or hump in a nearby location.\n",
        "35. Crossing: A POI annotation which indicates the presence of crossing in a nearby location.\n",
        "36. Give_Way: A POI annotation which indicates the presence of a give_way in a nearby location.\n",
        "37. Junction: A POI annotation which indicates the presence of a junction in a nearby location.\n",
        "38. No_Exit: A POI annotation which indicates the presence of no_exit in a nearby location.\n",
        "39. Railway: A POI annotation which indicates the presence of railway in a nearby location.\n",
        "40. Roundabout: A POI annotation which indicates the presence of roundabout in a nearby location.\n",
        "41. Station: A POI annotation which indicates the presence of a station in a nearby location.\n",
        "42. Stop: A POI annotation which indicates the presence of a stop in a nearby location.\n",
        "43. Traffic_Calming: A POI annotation which indicates the presence of traffic_calming in a nearby location.\n",
        "44. Traffic_Signal: A POI annotation which indicates the presence of traffic_signal in a nearby location.\n",
        "45. Turning_Loop: A POI annotation which indicates the presence of a turning_loop in a nearby location.\n",
        "46. Sunrise_Sunset: Shows the period of day (i.e. day or night) based on sunrise/sunset.\n",
        "47. Civil_Twilight: Shows the period of day (i.e. day or night) based on civil twilight.\n",
        "48. Nautical_Twilight: Shows the period of day (i.e. day or night) based on nautical twilight.\n",
        "49. Astronomical_Twilight: Shows the period of day (i.e. day or night) based on astronomical twilight.\n",
        "\n"
      ]
    },
    {
      "cell_type": "markdown",
      "metadata": {
        "id": "8ZOuPneZ_HCX"
      },
      "source": [
        "### 2.3. Clean the Data\n"
      ]
    },
    {
      "cell_type": "code",
      "execution_count": null,
      "metadata": {
        "id": "sabwnrRH_HCX",
        "outputId": "37a0d5d9-4597-4f69-ae85-6ff3be7d9876",
        "scrolled": true
      },
      "outputs": [
        {
          "data": {
            "text/plain": [
              "ID                          0\n",
              "Source                      0\n",
              "TMC                         0\n",
              "Severity                    0\n",
              "Start_Time                  0\n",
              "End_Time                    0\n",
              "Start_Lat                   0\n",
              "Start_Lng                   0\n",
              "End_Lat                  7666\n",
              "End_Lng                  7666\n",
              "Distance(mi)                0\n",
              "Description                 0\n",
              "Number                   6578\n",
              "Street                      0\n",
              "Side                        0\n",
              "City                        0\n",
              "County                      0\n",
              "State                       0\n",
              "Zipcode                     0\n",
              "Country                     0\n",
              "Timezone                    0\n",
              "Airport_Code                1\n",
              "Weather_Timestamp          54\n",
              "Temperature(F)             66\n",
              "Wind_Chill(F)            1744\n",
              "Humidity(%)                69\n",
              "Pressure(in)               66\n",
              "Visibility(mi)             71\n",
              "Wind_Direction             89\n",
              "Wind_Speed(mph)           277\n",
              "Precipitation(in)        1850\n",
              "Weather_Condition          72\n",
              "Amenity                     0\n",
              "Bump                        0\n",
              "Crossing                    0\n",
              "Give_Way                    0\n",
              "Junction                    0\n",
              "No_Exit                     0\n",
              "Railway                     0\n",
              "Roundabout                  0\n",
              "Station                     0\n",
              "Stop                        0\n",
              "Traffic_Calming             0\n",
              "Traffic_Signal              0\n",
              "Turning_Loop                0\n",
              "Sunrise_Sunset              0\n",
              "Civil_Twilight              0\n",
              "Nautical_Twilight           0\n",
              "Astronomical_Twilight       0\n",
              "dtype: int64"
            ]
          },
          "execution_count": 31,
          "metadata": {},
          "output_type": "execute_result"
        }
      ],
      "source": [
        "# Apply() allows us to see what variables include NULL values and how many NULL values are there.\n",
        "dat.apply(lambda x: sum(x.isnull()), axis=0)"
      ]
    },
    {
      "cell_type": "code",
      "execution_count": null,
      "metadata": {
        "id": "iWl8sRNg_HCb",
        "outputId": "6517324a-cc27-4a8e-8941-9dca27d34a88"
      },
      "outputs": [
        {
          "data": {
            "text/html": [
              "<div>\n",
              "<style scoped>\n",
              "    .dataframe tbody tr th:only-of-type {\n",
              "        vertical-align: middle;\n",
              "    }\n",
              "\n",
              "    .dataframe tbody tr th {\n",
              "        vertical-align: top;\n",
              "    }\n",
              "\n",
              "    .dataframe thead th {\n",
              "        text-align: right;\n",
              "    }\n",
              "</style>\n",
              "<table border=\"1\" class=\"dataframe\">\n",
              "  <thead>\n",
              "    <tr style=\"text-align: right;\">\n",
              "      <th></th>\n",
              "      <th>count</th>\n",
              "      <th>mean</th>\n",
              "      <th>std</th>\n",
              "      <th>min</th>\n",
              "      <th>25%</th>\n",
              "      <th>50%</th>\n",
              "      <th>75%</th>\n",
              "      <th>max</th>\n",
              "    </tr>\n",
              "  </thead>\n",
              "  <tbody>\n",
              "    <tr>\n",
              "      <th>TMC</th>\n",
              "      <td>7666.0</td>\n",
              "      <td>209.557396</td>\n",
              "      <td>25.158507</td>\n",
              "      <td>201.000000</td>\n",
              "      <td>201.000000</td>\n",
              "      <td>201.000000</td>\n",
              "      <td>201.000000</td>\n",
              "      <td>406.000000</td>\n",
              "    </tr>\n",
              "    <tr>\n",
              "      <th>Severity</th>\n",
              "      <td>7666.0</td>\n",
              "      <td>2.711584</td>\n",
              "      <td>0.483425</td>\n",
              "      <td>1.000000</td>\n",
              "      <td>2.000000</td>\n",
              "      <td>3.000000</td>\n",
              "      <td>3.000000</td>\n",
              "      <td>4.000000</td>\n",
              "    </tr>\n",
              "    <tr>\n",
              "      <th>Start_Lat</th>\n",
              "      <td>7666.0</td>\n",
              "      <td>38.646983</td>\n",
              "      <td>0.429148</td>\n",
              "      <td>36.089977</td>\n",
              "      <td>38.562069</td>\n",
              "      <td>38.672737</td>\n",
              "      <td>38.803123</td>\n",
              "      <td>40.466331</td>\n",
              "    </tr>\n",
              "    <tr>\n",
              "      <th>Start_Lng</th>\n",
              "      <td>7666.0</td>\n",
              "      <td>-91.483290</td>\n",
              "      <td>1.744734</td>\n",
              "      <td>-95.480331</td>\n",
              "      <td>-93.277824</td>\n",
              "      <td>-90.449280</td>\n",
              "      <td>-90.339684</td>\n",
              "      <td>-89.533127</td>\n",
              "    </tr>\n",
              "    <tr>\n",
              "      <th>End_Lat</th>\n",
              "      <td>0.0</td>\n",
              "      <td>NaN</td>\n",
              "      <td>NaN</td>\n",
              "      <td>NaN</td>\n",
              "      <td>NaN</td>\n",
              "      <td>NaN</td>\n",
              "      <td>NaN</td>\n",
              "      <td>NaN</td>\n",
              "    </tr>\n",
              "    <tr>\n",
              "      <th>End_Lng</th>\n",
              "      <td>0.0</td>\n",
              "      <td>NaN</td>\n",
              "      <td>NaN</td>\n",
              "      <td>NaN</td>\n",
              "      <td>NaN</td>\n",
              "      <td>NaN</td>\n",
              "      <td>NaN</td>\n",
              "      <td>NaN</td>\n",
              "    </tr>\n",
              "    <tr>\n",
              "      <th>Distance(mi)</th>\n",
              "      <td>7666.0</td>\n",
              "      <td>0.114018</td>\n",
              "      <td>0.648372</td>\n",
              "      <td>0.000000</td>\n",
              "      <td>0.000000</td>\n",
              "      <td>0.000000</td>\n",
              "      <td>0.000000</td>\n",
              "      <td>13.820000</td>\n",
              "    </tr>\n",
              "    <tr>\n",
              "      <th>Number</th>\n",
              "      <td>1088.0</td>\n",
              "      <td>4497.553309</td>\n",
              "      <td>4097.305301</td>\n",
              "      <td>1.000000</td>\n",
              "      <td>1236.000000</td>\n",
              "      <td>3300.000000</td>\n",
              "      <td>6402.750000</td>\n",
              "      <td>24499.000000</td>\n",
              "    </tr>\n",
              "    <tr>\n",
              "      <th>Temperature(F)</th>\n",
              "      <td>7600.0</td>\n",
              "      <td>61.061039</td>\n",
              "      <td>19.066254</td>\n",
              "      <td>-0.900000</td>\n",
              "      <td>48.000000</td>\n",
              "      <td>64.000000</td>\n",
              "      <td>76.000000</td>\n",
              "      <td>102.900000</td>\n",
              "    </tr>\n",
              "    <tr>\n",
              "      <th>Wind_Chill(F)</th>\n",
              "      <td>5922.0</td>\n",
              "      <td>57.085681</td>\n",
              "      <td>22.538226</td>\n",
              "      <td>-13.800000</td>\n",
              "      <td>39.000000</td>\n",
              "      <td>62.000000</td>\n",
              "      <td>75.000000</td>\n",
              "      <td>96.000000</td>\n",
              "    </tr>\n",
              "    <tr>\n",
              "      <th>Humidity(%)</th>\n",
              "      <td>7597.0</td>\n",
              "      <td>68.328551</td>\n",
              "      <td>18.483066</td>\n",
              "      <td>2.000000</td>\n",
              "      <td>54.000000</td>\n",
              "      <td>70.000000</td>\n",
              "      <td>84.000000</td>\n",
              "      <td>100.000000</td>\n",
              "    </tr>\n",
              "    <tr>\n",
              "      <th>Pressure(in)</th>\n",
              "      <td>7600.0</td>\n",
              "      <td>29.503126</td>\n",
              "      <td>0.448640</td>\n",
              "      <td>28.110000</td>\n",
              "      <td>29.210000</td>\n",
              "      <td>29.470000</td>\n",
              "      <td>29.860000</td>\n",
              "      <td>30.860000</td>\n",
              "    </tr>\n",
              "    <tr>\n",
              "      <th>Visibility(mi)</th>\n",
              "      <td>7595.0</td>\n",
              "      <td>9.029763</td>\n",
              "      <td>2.292923</td>\n",
              "      <td>0.000000</td>\n",
              "      <td>10.000000</td>\n",
              "      <td>10.000000</td>\n",
              "      <td>10.000000</td>\n",
              "      <td>10.000000</td>\n",
              "    </tr>\n",
              "    <tr>\n",
              "      <th>Wind_Speed(mph)</th>\n",
              "      <td>7389.0</td>\n",
              "      <td>8.459345</td>\n",
              "      <td>4.938522</td>\n",
              "      <td>0.000000</td>\n",
              "      <td>5.000000</td>\n",
              "      <td>8.000000</td>\n",
              "      <td>11.500000</td>\n",
              "      <td>44.000000</td>\n",
              "    </tr>\n",
              "    <tr>\n",
              "      <th>Precipitation(in)</th>\n",
              "      <td>5816.0</td>\n",
              "      <td>0.015069</td>\n",
              "      <td>0.073588</td>\n",
              "      <td>0.000000</td>\n",
              "      <td>0.000000</td>\n",
              "      <td>0.000000</td>\n",
              "      <td>0.000000</td>\n",
              "      <td>1.860000</td>\n",
              "    </tr>\n",
              "  </tbody>\n",
              "</table>\n",
              "</div>"
            ],
            "text/plain": [
              "                    count         mean          std         min          25%  \\\n",
              "TMC                7666.0   209.557396    25.158507  201.000000   201.000000   \n",
              "Severity           7666.0     2.711584     0.483425    1.000000     2.000000   \n",
              "Start_Lat          7666.0    38.646983     0.429148   36.089977    38.562069   \n",
              "Start_Lng          7666.0   -91.483290     1.744734  -95.480331   -93.277824   \n",
              "End_Lat               0.0          NaN          NaN         NaN          NaN   \n",
              "End_Lng               0.0          NaN          NaN         NaN          NaN   \n",
              "Distance(mi)       7666.0     0.114018     0.648372    0.000000     0.000000   \n",
              "Number             1088.0  4497.553309  4097.305301    1.000000  1236.000000   \n",
              "Temperature(F)     7600.0    61.061039    19.066254   -0.900000    48.000000   \n",
              "Wind_Chill(F)      5922.0    57.085681    22.538226  -13.800000    39.000000   \n",
              "Humidity(%)        7597.0    68.328551    18.483066    2.000000    54.000000   \n",
              "Pressure(in)       7600.0    29.503126     0.448640   28.110000    29.210000   \n",
              "Visibility(mi)     7595.0     9.029763     2.292923    0.000000    10.000000   \n",
              "Wind_Speed(mph)    7389.0     8.459345     4.938522    0.000000     5.000000   \n",
              "Precipitation(in)  5816.0     0.015069     0.073588    0.000000     0.000000   \n",
              "\n",
              "                           50%          75%           max  \n",
              "TMC                 201.000000   201.000000    406.000000  \n",
              "Severity              3.000000     3.000000      4.000000  \n",
              "Start_Lat            38.672737    38.803123     40.466331  \n",
              "Start_Lng           -90.449280   -90.339684    -89.533127  \n",
              "End_Lat                    NaN          NaN           NaN  \n",
              "End_Lng                    NaN          NaN           NaN  \n",
              "Distance(mi)          0.000000     0.000000     13.820000  \n",
              "Number             3300.000000  6402.750000  24499.000000  \n",
              "Temperature(F)       64.000000    76.000000    102.900000  \n",
              "Wind_Chill(F)        62.000000    75.000000     96.000000  \n",
              "Humidity(%)          70.000000    84.000000    100.000000  \n",
              "Pressure(in)         29.470000    29.860000     30.860000  \n",
              "Visibility(mi)       10.000000    10.000000     10.000000  \n",
              "Wind_Speed(mph)       8.000000    11.500000     44.000000  \n",
              "Precipitation(in)     0.000000     0.000000      1.860000  "
            ]
          },
          "execution_count": 32,
          "metadata": {},
          "output_type": "execute_result"
        }
      ],
      "source": [
        "#Summary of the statistics\n",
        "dat.describe().transpose()"
      ]
    },
    {
      "cell_type": "markdown",
      "metadata": {
        "id": "mgKjqXO8_HCe"
      },
      "source": [
        "We see that 'End_Lat' and 'End_Lng' columns are empty. Thus removing these columns is better as they are of no use."
      ]
    },
    {
      "cell_type": "code",
      "execution_count": null,
      "metadata": {
        "id": "xCNYCLDc_HCe"
      },
      "outputs": [],
      "source": [
        "dat = dat.drop(['End_Lat', 'End_Lng'], axis=1)"
      ]
    },
    {
      "cell_type": "markdown",
      "metadata": {
        "id": "f-WaLJ-K_HCh"
      },
      "source": [
        "As we are doing analysis on only Missouri state data some columns like Timezone, Country and State will have same values. Thus removing these columns is better as they are of no use. "
      ]
    },
    {
      "cell_type": "code",
      "execution_count": null,
      "metadata": {
        "id": "IqqQwnQ5_HCh",
        "outputId": "004caeaf-d286-4795-ec74-8a085172c344"
      },
      "outputs": [
        {
          "name": "stdout",
          "output_type": "stream",
          "text": [
            "<class 'pandas.core.frame.DataFrame'>\n",
            "RangeIndex: 7666 entries, 0 to 7665\n",
            "Data columns (total 36 columns):\n",
            " #   Column             Non-Null Count  Dtype  \n",
            "---  ------             --------------  -----  \n",
            " 0   ID                 7666 non-null   object \n",
            " 1   Source             7666 non-null   object \n",
            " 2   TMC                7666 non-null   int64  \n",
            " 3   Severity           7666 non-null   int64  \n",
            " 4   Start_Time         7666 non-null   object \n",
            " 5   End_Time           7666 non-null   object \n",
            " 6   Start_Lat          7666 non-null   float64\n",
            " 7   Start_Lng          7666 non-null   float64\n",
            " 8   Distance(mi)       7666 non-null   float64\n",
            " 9   Description        7666 non-null   object \n",
            " 10  Street             7666 non-null   object \n",
            " 11  Side               7666 non-null   object \n",
            " 12  City               7666 non-null   object \n",
            " 13  County             7666 non-null   object \n",
            " 14  Zipcode            7666 non-null   object \n",
            " 15  Temperature(F)     7600 non-null   float64\n",
            " 16  Wind_Chill(F)      5922 non-null   float64\n",
            " 17  Humidity(%)        7597 non-null   float64\n",
            " 18  Pressure(in)       7600 non-null   float64\n",
            " 19  Visibility(mi)     7595 non-null   float64\n",
            " 20  Wind_Direction     7577 non-null   object \n",
            " 21  Wind_Speed(mph)    7389 non-null   float64\n",
            " 22  Precipitation(in)  5816 non-null   float64\n",
            " 23  Weather_Condition  7594 non-null   object \n",
            " 24  Amenity            7666 non-null   bool   \n",
            " 25  Crossing           7666 non-null   bool   \n",
            " 26  Give_Way           7666 non-null   bool   \n",
            " 27  Junction           7666 non-null   bool   \n",
            " 28  No_Exit            7666 non-null   bool   \n",
            " 29  Railway            7666 non-null   bool   \n",
            " 30  Station            7666 non-null   bool   \n",
            " 31  Stop               7666 non-null   bool   \n",
            " 32  Traffic_Calming    7666 non-null   bool   \n",
            " 33  Traffic_Signal     7666 non-null   bool   \n",
            " 34  Turning_Loop       7666 non-null   bool   \n",
            " 35  Sunrise_Sunset     7666 non-null   object \n",
            "dtypes: bool(11), float64(10), int64(2), object(13)\n",
            "memory usage: 1.5+ MB\n"
          ]
        }
      ],
      "source": [
        "dat = dat.drop(['Timezone', 'Country','State', 'Number', 'Astronomical_Twilight', 'Nautical_Twilight', 'Civil_Twilight', 'Roundabout', 'Bump', 'Weather_Timestamp', 'Airport_Code'], axis=1)\n",
        "dat.info()"
      ]
    },
    {
      "cell_type": "code",
      "execution_count": null,
      "metadata": {
        "id": "14ow5BFH_HCk",
        "outputId": "ddb973a0-1eb7-4a83-8fca-afe05353d045"
      },
      "outputs": [
        {
          "name": "stdout",
          "output_type": "stream",
          "text": [
            "<class 'pandas.core.frame.DataFrame'>\n",
            "Int64Index: 5424 entries, 20 to 7664\n",
            "Data columns (total 36 columns):\n",
            " #   Column             Non-Null Count  Dtype  \n",
            "---  ------             --------------  -----  \n",
            " 0   ID                 5424 non-null   object \n",
            " 1   Source             5424 non-null   object \n",
            " 2   TMC                5424 non-null   int64  \n",
            " 3   Severity           5424 non-null   int64  \n",
            " 4   Start_Time         5424 non-null   object \n",
            " 5   End_Time           5424 non-null   object \n",
            " 6   Start_Lat          5424 non-null   float64\n",
            " 7   Start_Lng          5424 non-null   float64\n",
            " 8   Distance(mi)       5424 non-null   float64\n",
            " 9   Description        5424 non-null   object \n",
            " 10  Street             5424 non-null   object \n",
            " 11  Side               5424 non-null   object \n",
            " 12  City               5424 non-null   object \n",
            " 13  County             5424 non-null   object \n",
            " 14  Zipcode            5424 non-null   object \n",
            " 15  Temperature(F)     5424 non-null   float64\n",
            " 16  Wind_Chill(F)      5424 non-null   float64\n",
            " 17  Humidity(%)        5424 non-null   float64\n",
            " 18  Pressure(in)       5424 non-null   float64\n",
            " 19  Visibility(mi)     5424 non-null   float64\n",
            " 20  Wind_Direction     5424 non-null   object \n",
            " 21  Wind_Speed(mph)    5424 non-null   float64\n",
            " 22  Precipitation(in)  5424 non-null   float64\n",
            " 23  Weather_Condition  5424 non-null   object \n",
            " 24  Amenity            5424 non-null   bool   \n",
            " 25  Crossing           5424 non-null   bool   \n",
            " 26  Give_Way           5424 non-null   bool   \n",
            " 27  Junction           5424 non-null   bool   \n",
            " 28  No_Exit            5424 non-null   bool   \n",
            " 29  Railway            5424 non-null   bool   \n",
            " 30  Station            5424 non-null   bool   \n",
            " 31  Stop               5424 non-null   bool   \n",
            " 32  Traffic_Calming    5424 non-null   bool   \n",
            " 33  Traffic_Signal     5424 non-null   bool   \n",
            " 34  Turning_Loop       5424 non-null   bool   \n",
            " 35  Sunrise_Sunset     5424 non-null   object \n",
            "dtypes: bool(11), float64(10), int64(2), object(13)\n",
            "memory usage: 1.1+ MB\n"
          ]
        }
      ],
      "source": [
        "# removing null values\n",
        "dat =dat.dropna(axis=0)\n",
        "dat.info()"
      ]
    },
    {
      "cell_type": "markdown",
      "metadata": {
        "id": "6ZCTL_gL_HCn"
      },
      "source": [
        "## 3. Data Exploration"
      ]
    },
    {
      "cell_type": "markdown",
      "metadata": {
        "id": "HU8uaLic_HCo"
      },
      "source": [
        "### 3.1. Data Transformation\n",
        "\n",
        "We notice that the Start_Time and End_Time columns are represented as strings. It's better to represent them as datetime objects. Let's transform them by calling the to_datetime() function in the pandas module."
      ]
    },
    {
      "cell_type": "code",
      "execution_count": null,
      "metadata": {
        "id": "6_iBB28r_HCo"
      },
      "outputs": [],
      "source": [
        "dat['Start_Time'] = pd.to_datetime(dat['Start_Time'])\n",
        "dat['End_Time'] = pd.to_datetime(dat['End_Time'])"
      ]
    },
    {
      "cell_type": "code",
      "execution_count": null,
      "metadata": {
        "id": "mBTGevmh_HCq",
        "outputId": "2fbf5c6c-c31a-4653-ea50-88d34a34b7cf"
      },
      "outputs": [
        {
          "data": {
            "text/plain": [
              "count                    5424\n",
              "unique                   5293\n",
              "top       2019-12-16 05:30:00\n",
              "freq                        3\n",
              "first     2016-09-14 08:33:00\n",
              "last      2019-12-31 21:41:00\n",
              "Name: Start_Time, dtype: object"
            ]
          },
          "execution_count": 37,
          "metadata": {},
          "output_type": "execute_result"
        }
      ],
      "source": [
        "# Describe the Start_Time column\n",
        "dat['Start_Time'].describe()"
      ]
    },
    {
      "cell_type": "code",
      "execution_count": null,
      "metadata": {
        "id": "VT5AcRwV_HCu",
        "outputId": "df3ba522-bf92-4d8f-ffa4-afb4d6cf1b3a"
      },
      "outputs": [
        {
          "data": {
            "text/plain": [
              "count                    5424\n",
              "unique                   5177\n",
              "top       2019-04-30 19:22:00\n",
              "freq                        6\n",
              "first     2016-09-14 09:03:00\n",
              "last      2019-12-31 22:56:00\n",
              "Name: End_Time, dtype: object"
            ]
          },
          "execution_count": 38,
          "metadata": {},
          "output_type": "execute_result"
        }
      ],
      "source": [
        "# Describe the End_Time column\n",
        "dat['End_Time'].describe()"
      ]
    },
    {
      "cell_type": "markdown",
      "metadata": {
        "id": "O3MZ3SNl_HCz"
      },
      "source": [
        "In many cases, we may need to know the year, month, day of week, hour information of the accident. These columns may be helpful in visualizing the data as well as regression or predicitive analyses. Let's create seperate variables."
      ]
    },
    {
      "cell_type": "code",
      "execution_count": null,
      "metadata": {
        "id": "vKU9ApSj_HC0"
      },
      "outputs": [],
      "source": [
        "# Create Start_Year column\n",
        "dat['Start_Year'] = dat['Start_Time'].dt.year\n",
        "# Create Start_Month column\n",
        "dat['Start_Month'] = dat['Start_Time'].dt.month\n",
        "# Create Start_Dayofweek column (0=Mon, 6=Sun)\n",
        "dat['Start_Dayofweek'] = dat['Start_Time'].dt.dayofweek\n",
        "# Create Start_Hour column\n",
        "dat['Start_Hour']= dat['Start_Time'].dt.hour"
      ]
    },
    {
      "cell_type": "markdown",
      "metadata": {
        "id": "3RlihpQK_HC2"
      },
      "source": [
        "We noticed that there are few columns with boolean values which can be replaced with 1 and 0"
      ]
    },
    {
      "cell_type": "code",
      "execution_count": null,
      "metadata": {
        "id": "G6s8zOJO_HC3"
      },
      "outputs": [],
      "source": [
        "# Replace Boolean values with numbers\n",
        "dat.replace([True, False], [1, 0], inplace=True)"
      ]
    },
    {
      "cell_type": "code",
      "execution_count": null,
      "metadata": {
        "id": "kL2aM7p1_HC5",
        "outputId": "9a538f85-e20f-4634-bacc-f17be568190c"
      },
      "outputs": [
        {
          "data": {
            "text/plain": [
              "array([0, 1], dtype=int64)"
            ]
          },
          "execution_count": 41,
          "metadata": {},
          "output_type": "execute_result"
        }
      ],
      "source": [
        "dat['Amenity'].unique()"
      ]
    },
    {
      "cell_type": "markdown",
      "metadata": {
        "id": "9r9hJc9A_HC8"
      },
      "source": [
        "As extreme weather conditions like for, rain, snow effect number of accidents because they create trouble to the driver in visibility of road and slippery roads we should create dummies for Weather_Condition and take only required extreme condions. These columns may be helpful in knowing the relationship between severity and extreme weather conditions.\n",
        "\n",
        "Let's create dummies and append them to our dataset."
      ]
    },
    {
      "cell_type": "code",
      "execution_count": null,
      "metadata": {
        "id": "8o0PY1rT_HC9"
      },
      "outputs": [],
      "source": [
        "# creating dummies for Weather_Conditions\n",
        "dummy = pd.get_dummies(dat['Weather_Condition'])"
      ]
    },
    {
      "cell_type": "code",
      "execution_count": null,
      "metadata": {
        "id": "OCLVqsaS_HDA"
      },
      "outputs": [],
      "source": [
        "#dat.reset_index(drop=True, inplace=True)\n",
        "#dummy.reset_index(drop=True, inplace=True)"
      ]
    },
    {
      "cell_type": "code",
      "execution_count": null,
      "metadata": {
        "id": "dAKb-gRR_HDC"
      },
      "outputs": [],
      "source": [
        "## adding only extreme weather conditions to the dataset\n",
        "dat = pd.concat([dat, dummy[['Fog', 'Rain', 'Heavy Rain', 'Light Rain', 'Snow']]], axis=1)"
      ]
    },
    {
      "cell_type": "code",
      "execution_count": null,
      "metadata": {
        "id": "IYUoxx_1_HDF"
      },
      "outputs": [],
      "source": [
        "# Renaming Heavy Rain and Light Rain to avoid space between them\n",
        "dat = dat.rename(columns={\"Heavy Rain\": \"Heavy_Rain\", \"Light Rain\": \"Light_Rain\"})"
      ]
    },
    {
      "cell_type": "code",
      "execution_count": null,
      "metadata": {
        "id": "1on6p9YF_HDH",
        "outputId": "c15befa4-4cab-4203-d7a2-1cc5cc720bf6"
      },
      "outputs": [
        {
          "name": "stdout",
          "output_type": "stream",
          "text": [
            "<class 'pandas.core.frame.DataFrame'>\n",
            "Int64Index: 5424 entries, 20 to 7664\n",
            "Data columns (total 45 columns):\n",
            " #   Column             Non-Null Count  Dtype         \n",
            "---  ------             --------------  -----         \n",
            " 0   ID                 5424 non-null   object        \n",
            " 1   Source             5424 non-null   object        \n",
            " 2   TMC                5424 non-null   int64         \n",
            " 3   Severity           5424 non-null   int64         \n",
            " 4   Start_Time         5424 non-null   datetime64[ns]\n",
            " 5   End_Time           5424 non-null   datetime64[ns]\n",
            " 6   Start_Lat          5424 non-null   float64       \n",
            " 7   Start_Lng          5424 non-null   float64       \n",
            " 8   Distance(mi)       5424 non-null   float64       \n",
            " 9   Description        5424 non-null   object        \n",
            " 10  Street             5424 non-null   object        \n",
            " 11  Side               5424 non-null   object        \n",
            " 12  City               5424 non-null   object        \n",
            " 13  County             5424 non-null   object        \n",
            " 14  Zipcode            5424 non-null   object        \n",
            " 15  Temperature(F)     5424 non-null   float64       \n",
            " 16  Wind_Chill(F)      5424 non-null   float64       \n",
            " 17  Humidity(%)        5424 non-null   float64       \n",
            " 18  Pressure(in)       5424 non-null   float64       \n",
            " 19  Visibility(mi)     5424 non-null   float64       \n",
            " 20  Wind_Direction     5424 non-null   object        \n",
            " 21  Wind_Speed(mph)    5424 non-null   float64       \n",
            " 22  Precipitation(in)  5424 non-null   float64       \n",
            " 23  Weather_Condition  5424 non-null   object        \n",
            " 24  Amenity            5424 non-null   int64         \n",
            " 25  Crossing           5424 non-null   int64         \n",
            " 26  Give_Way           5424 non-null   int64         \n",
            " 27  Junction           5424 non-null   int64         \n",
            " 28  No_Exit            5424 non-null   int64         \n",
            " 29  Railway            5424 non-null   int64         \n",
            " 30  Station            5424 non-null   int64         \n",
            " 31  Stop               5424 non-null   int64         \n",
            " 32  Traffic_Calming    5424 non-null   int64         \n",
            " 33  Traffic_Signal     5424 non-null   int64         \n",
            " 34  Turning_Loop       5424 non-null   int64         \n",
            " 35  Sunrise_Sunset     5424 non-null   object        \n",
            " 36  Start_Year         5424 non-null   int64         \n",
            " 37  Start_Month        5424 non-null   int64         \n",
            " 38  Start_Dayofweek    5424 non-null   int64         \n",
            " 39  Start_Hour         5424 non-null   int64         \n",
            " 40  Fog                5424 non-null   uint8         \n",
            " 41  Rain               5424 non-null   uint8         \n",
            " 42  Heavy_Rain         5424 non-null   uint8         \n",
            " 43  Light_Rain         5424 non-null   uint8         \n",
            " 44  Snow               5424 non-null   uint8         \n",
            "dtypes: datetime64[ns](2), float64(10), int64(17), object(11), uint8(5)\n",
            "memory usage: 1.7+ MB\n"
          ]
        }
      ],
      "source": [
        "dat.info()"
      ]
    },
    {
      "cell_type": "code",
      "execution_count": null,
      "metadata": {
        "id": "bfam_2MQ_HDJ"
      },
      "outputs": [],
      "source": [
        "dat.to_csv('Cleaned_MO_Accidents.csv', index=False)"
      ]
    },
    {
      "cell_type": "markdown",
      "metadata": {
        "id": "-Rl3YH_2_HDL"
      },
      "source": [
        "### 3.2. Accidents across Missouri Area and Time"
      ]
    },
    {
      "cell_type": "code",
      "execution_count": null,
      "metadata": {
        "id": "FSbtGpgp_HDL"
      },
      "outputs": [],
      "source": [
        "# Matplotlib to visualize the data\n",
        "import matplotlib.pyplot as plt\n",
        "\n",
        "#Show plot in jupyter notebook\n",
        "%matplotlib inline\n",
        "\n",
        "import seaborn as sns"
      ]
    },
    {
      "cell_type": "markdown",
      "metadata": {
        "id": "Ni5H8BOA_HDN"
      },
      "source": [
        "#### 3.2.1 Accidents across Missouri State Area wise"
      ]
    },
    {
      "cell_type": "code",
      "execution_count": null,
      "metadata": {
        "id": "WpWbDgDM_HDN"
      },
      "outputs": [],
      "source": [
        "#plotting the Lat against Long could show the map of the Missouri area\n",
        "plt.figure(figsize=(10,7))\n",
        "plt.title('Most Hits per Area')\n",
        "plt.xlabel('Start Longitude')\n",
        "plt.ylabel('Start Latitude')\n",
        "plt.plot(dat.Start_Lng, dat.Start_Lat, \".\", alpha=0.5, ms=1)\n",
        "plt.show()"
      ]
    },
    {
      "cell_type": "markdown",
      "metadata": {
        "id": "1w3HBXWb_HDP"
      },
      "source": [
        "#### 3.2.2. Accidents across different Counties"
      ]
    },
    {
      "cell_type": "code",
      "execution_count": null,
      "metadata": {
        "id": "DbfjR9Nb_HDP",
        "outputId": "d654eb51-1d50-44e2-a5ad-87e2dac5a471",
        "scrolled": true
      },
      "outputs": [
        {
          "name": "stdout",
          "output_type": "stream",
          "text": [
            "St. Louis County    1965\n",
            "Jackson             1141\n",
            "St. Louis City       565\n",
            "St. Charles          449\n",
            "Jefferson            351\n",
            "Greene               344\n",
            "Clay                 219\n",
            "Platte                99\n",
            "Franklin              54\n",
            "Cass                  30\n",
            "Boone                 29\n",
            "Jasper                21\n",
            "Saline                13\n",
            "Phelps                12\n",
            "Warren                11\n",
            "Lafayette             11\n",
            "Laclede               10\n",
            "Scott                  9\n",
            "Lincoln                7\n",
            "Buchanan               7\n",
            "St. Francois           6\n",
            "Webster                6\n",
            "Cape Girardeau         6\n",
            "Montgomery             6\n",
            "Ste Genevieve          5\n",
            "Pulaski                4\n",
            "Christian              4\n",
            "Washington             4\n",
            "Pemiscot               4\n",
            "Lawrence               3\n",
            "Holt                   3\n",
            "Miller                 3\n",
            "New Madrid             3\n",
            "Callaway               3\n",
            "Saint Louis            3\n",
            "Harrison               2\n",
            "Crawford               2\n",
            "Cole                   2\n",
            "Gasconade              1\n",
            "Pike                   1\n",
            "Johnson                1\n",
            "Barton                 1\n",
            "Texas                  1\n",
            "Scotland               1\n",
            "Iron                   1\n",
            "Madison                1\n",
            "Name: County, dtype: int64\n"
          ]
        }
      ],
      "source": [
        "# Accidents per County\n",
        "County = dat.County.value_counts()\n",
        "print(County)"
      ]
    },
    {
      "cell_type": "code",
      "execution_count": null,
      "metadata": {
        "id": "H3Lot0n0_HDS"
      },
      "outputs": [],
      "source": [
        "#As there are many Counties with less numeber of accidents considering only top 10 \n",
        "County = County.head(10)\n",
        "plt.figure(figsize=(7, 5))\n",
        "sns.barplot(County.values, County.index)"
      ]
    },
    {
      "cell_type": "markdown",
      "metadata": {
        "id": "5kfsE3X6_HDU"
      },
      "source": [
        "#### 3.2.3. Number of Accidents per each Weather Condition"
      ]
    },
    {
      "cell_type": "code",
      "execution_count": null,
      "metadata": {
        "id": "VaOieFc1_HDU",
        "outputId": "507ca1e9-305a-43ac-8daa-1ccc279bd30e"
      },
      "outputs": [
        {
          "data": {
            "text/plain": [
              "41"
            ]
          },
          "execution_count": 52,
          "metadata": {},
          "output_type": "execute_result"
        }
      ],
      "source": [
        "# Value count of number of accidents per each weather condition\n",
        "Weather = dat.Weather_Condition.value_counts()\n",
        "len(Weather)"
      ]
    },
    {
      "cell_type": "code",
      "execution_count": null,
      "metadata": {
        "id": "a2Iyr8c__HDW",
        "outputId": "5064effb-8f9a-4779-e1ef-4a19403c87a5",
        "scrolled": true
      },
      "outputs": [
        {
          "data": {
            "text/plain": [
              "Fair                            2343\n",
              "Cloudy                           979\n",
              "Mostly Cloudy                    669\n",
              "Light Rain                       401\n",
              "Partly Cloudy                    341\n",
              "Light Snow                       131\n",
              "Rain                              72\n",
              "Light Rain with Thunder           66\n",
              "Fog                               60\n",
              "T-Storm                           38\n",
              "Haze                              36\n",
              "Cloudy / Windy                    30\n",
              "Heavy Rain                        28\n",
              "Fair / Windy                      28\n",
              "Snow                              26\n",
              "Heavy T-Storm                     23\n",
              "Partly Cloudy / Windy             17\n",
              "Overcast                          17\n",
              "Light Drizzle                     17\n",
              "Thunder                           16\n",
              "Thunder in the Vicinity           14\n",
              "Wintry Mix                        13\n",
              "Mostly Cloudy / Windy             11\n",
              "Light Snow / Windy                 8\n",
              "Light Snow and Sleet               5\n",
              "Light Freezing Rain                4\n",
              "Heavy Snow                         4\n",
              "Thunderstorms and Rain             4\n",
              "Heavy T-Storm / Windy              4\n",
              "Rain / Windy                       3\n",
              "N/A Precipitation                  2\n",
              "Scattered Clouds                   2\n",
              "Light Rain / Windy                 2\n",
              "Thunder / Windy                    2\n",
              "Heavy Rain / Windy                 2\n",
              "Light Thunderstorms and Rain       1\n",
              "Wintry Mix / Windy                 1\n",
              "Light Freezing Drizzle             1\n",
              "Clear                              1\n",
              "T-Storm / Windy                    1\n",
              "Funnel Cloud                       1\n",
              "Name: Weather_Condition, dtype: int64"
            ]
          },
          "execution_count": 53,
          "metadata": {},
          "output_type": "execute_result"
        }
      ],
      "source": [
        "# Viewing the Weather data\n",
        "Weather"
      ]
    },
    {
      "cell_type": "code",
      "execution_count": null,
      "metadata": {
        "id": "ljTj7w9L_HDY",
        "outputId": "fff78d39-57db-4cc3-c058-383bd34449f1"
      },
      "outputs": [
        {
          "data": {
            "text/plain": [
              "10"
            ]
          },
          "execution_count": 54,
          "metadata": {},
          "output_type": "execute_result"
        }
      ],
      "source": [
        "#As there are many weather condition with less numeber of accidents considering only top 10 \n",
        "Weather = Weather.head(10)\n",
        "len(Weather)"
      ]
    },
    {
      "cell_type": "code",
      "execution_count": null,
      "metadata": {
        "id": "0ugtR1GF_HDZ"
      },
      "outputs": [],
      "source": [
        "# Seaborn to visualize the data\n",
        "import seaborn as sns\n",
        "plt.figure(figsize=(10, 10))\n",
        "sns.barplot(Weather.values, Weather.index)"
      ]
    },
    {
      "cell_type": "markdown",
      "metadata": {
        "id": "32mdE4UU_HDb"
      },
      "source": [
        "#### 3.2.4. Number of Accidents per Temperature (F)"
      ]
    },
    {
      "cell_type": "code",
      "execution_count": null,
      "metadata": {
        "id": "dirO4Sqb_HDc"
      },
      "outputs": [],
      "source": [
        "Temperature = dat['Temperature(F)'].value_counts()\n",
        "#print(Temperature)\n",
        "# Temperature Distribution Plot\n",
        "sns.distplot(dat['Temperature(F)'])"
      ]
    },
    {
      "cell_type": "markdown",
      "metadata": {
        "id": "xCwk7Mwz_HDd"
      },
      "source": [
        "#### 3.2.5. Number of Accidents per Visibility (mi)"
      ]
    },
    {
      "cell_type": "code",
      "execution_count": null,
      "metadata": {
        "id": "F_lnRqXN_HDe",
        "outputId": "cd0f2618-3ff7-4784-9195-0500b534e4ee",
        "scrolled": true
      },
      "outputs": [
        {
          "data": {
            "text/html": [
              "<div>\n",
              "<style scoped>\n",
              "    .dataframe tbody tr th:only-of-type {\n",
              "        vertical-align: middle;\n",
              "    }\n",
              "\n",
              "    .dataframe tbody tr th {\n",
              "        vertical-align: top;\n",
              "    }\n",
              "\n",
              "    .dataframe thead th {\n",
              "        text-align: right;\n",
              "    }\n",
              "</style>\n",
              "<table border=\"1\" class=\"dataframe\">\n",
              "  <thead>\n",
              "    <tr style=\"text-align: right;\">\n",
              "      <th></th>\n",
              "      <th>ID</th>\n",
              "      <th>Source</th>\n",
              "      <th>TMC</th>\n",
              "      <th>Severity</th>\n",
              "      <th>Start_Time</th>\n",
              "      <th>End_Time</th>\n",
              "      <th>Start_Lat</th>\n",
              "      <th>Start_Lng</th>\n",
              "      <th>Distance(mi)</th>\n",
              "      <th>Description</th>\n",
              "      <th>...</th>\n",
              "      <th>Sunrise_Sunset</th>\n",
              "      <th>Start_Year</th>\n",
              "      <th>Start_Month</th>\n",
              "      <th>Start_Dayofweek</th>\n",
              "      <th>Start_Hour</th>\n",
              "      <th>Fog</th>\n",
              "      <th>Rain</th>\n",
              "      <th>Heavy_Rain</th>\n",
              "      <th>Light_Rain</th>\n",
              "      <th>Snow</th>\n",
              "    </tr>\n",
              "    <tr>\n",
              "      <th>Visibility(mi)</th>\n",
              "      <th></th>\n",
              "      <th></th>\n",
              "      <th></th>\n",
              "      <th></th>\n",
              "      <th></th>\n",
              "      <th></th>\n",
              "      <th></th>\n",
              "      <th></th>\n",
              "      <th></th>\n",
              "      <th></th>\n",
              "      <th></th>\n",
              "      <th></th>\n",
              "      <th></th>\n",
              "      <th></th>\n",
              "      <th></th>\n",
              "      <th></th>\n",
              "      <th></th>\n",
              "      <th></th>\n",
              "      <th></th>\n",
              "      <th></th>\n",
              "      <th></th>\n",
              "    </tr>\n",
              "  </thead>\n",
              "  <tbody>\n",
              "    <tr>\n",
              "      <th>0.00</th>\n",
              "      <td>2</td>\n",
              "      <td>2</td>\n",
              "      <td>2</td>\n",
              "      <td>2</td>\n",
              "      <td>2</td>\n",
              "      <td>2</td>\n",
              "      <td>2</td>\n",
              "      <td>2</td>\n",
              "      <td>2</td>\n",
              "      <td>2</td>\n",
              "      <td>...</td>\n",
              "      <td>2</td>\n",
              "      <td>2</td>\n",
              "      <td>2</td>\n",
              "      <td>2</td>\n",
              "      <td>2</td>\n",
              "      <td>2</td>\n",
              "      <td>2</td>\n",
              "      <td>2</td>\n",
              "      <td>2</td>\n",
              "      <td>2</td>\n",
              "    </tr>\n",
              "    <tr>\n",
              "      <th>0.20</th>\n",
              "      <td>1</td>\n",
              "      <td>1</td>\n",
              "      <td>1</td>\n",
              "      <td>1</td>\n",
              "      <td>1</td>\n",
              "      <td>1</td>\n",
              "      <td>1</td>\n",
              "      <td>1</td>\n",
              "      <td>1</td>\n",
              "      <td>1</td>\n",
              "      <td>...</td>\n",
              "      <td>1</td>\n",
              "      <td>1</td>\n",
              "      <td>1</td>\n",
              "      <td>1</td>\n",
              "      <td>1</td>\n",
              "      <td>1</td>\n",
              "      <td>1</td>\n",
              "      <td>1</td>\n",
              "      <td>1</td>\n",
              "      <td>1</td>\n",
              "    </tr>\n",
              "    <tr>\n",
              "      <th>0.25</th>\n",
              "      <td>11</td>\n",
              "      <td>11</td>\n",
              "      <td>11</td>\n",
              "      <td>11</td>\n",
              "      <td>11</td>\n",
              "      <td>11</td>\n",
              "      <td>11</td>\n",
              "      <td>11</td>\n",
              "      <td>11</td>\n",
              "      <td>11</td>\n",
              "      <td>...</td>\n",
              "      <td>11</td>\n",
              "      <td>11</td>\n",
              "      <td>11</td>\n",
              "      <td>11</td>\n",
              "      <td>11</td>\n",
              "      <td>11</td>\n",
              "      <td>11</td>\n",
              "      <td>11</td>\n",
              "      <td>11</td>\n",
              "      <td>11</td>\n",
              "    </tr>\n",
              "    <tr>\n",
              "      <th>0.50</th>\n",
              "      <td>33</td>\n",
              "      <td>33</td>\n",
              "      <td>33</td>\n",
              "      <td>33</td>\n",
              "      <td>33</td>\n",
              "      <td>33</td>\n",
              "      <td>33</td>\n",
              "      <td>33</td>\n",
              "      <td>33</td>\n",
              "      <td>33</td>\n",
              "      <td>...</td>\n",
              "      <td>33</td>\n",
              "      <td>33</td>\n",
              "      <td>33</td>\n",
              "      <td>33</td>\n",
              "      <td>33</td>\n",
              "      <td>33</td>\n",
              "      <td>33</td>\n",
              "      <td>33</td>\n",
              "      <td>33</td>\n",
              "      <td>33</td>\n",
              "    </tr>\n",
              "    <tr>\n",
              "      <th>0.75</th>\n",
              "      <td>24</td>\n",
              "      <td>24</td>\n",
              "      <td>24</td>\n",
              "      <td>24</td>\n",
              "      <td>24</td>\n",
              "      <td>24</td>\n",
              "      <td>24</td>\n",
              "      <td>24</td>\n",
              "      <td>24</td>\n",
              "      <td>24</td>\n",
              "      <td>...</td>\n",
              "      <td>24</td>\n",
              "      <td>24</td>\n",
              "      <td>24</td>\n",
              "      <td>24</td>\n",
              "      <td>24</td>\n",
              "      <td>24</td>\n",
              "      <td>24</td>\n",
              "      <td>24</td>\n",
              "      <td>24</td>\n",
              "      <td>24</td>\n",
              "    </tr>\n",
              "    <tr>\n",
              "      <th>0.80</th>\n",
              "      <td>6</td>\n",
              "      <td>6</td>\n",
              "      <td>6</td>\n",
              "      <td>6</td>\n",
              "      <td>6</td>\n",
              "      <td>6</td>\n",
              "      <td>6</td>\n",
              "      <td>6</td>\n",
              "      <td>6</td>\n",
              "      <td>6</td>\n",
              "      <td>...</td>\n",
              "      <td>6</td>\n",
              "      <td>6</td>\n",
              "      <td>6</td>\n",
              "      <td>6</td>\n",
              "      <td>6</td>\n",
              "      <td>6</td>\n",
              "      <td>6</td>\n",
              "      <td>6</td>\n",
              "      <td>6</td>\n",
              "      <td>6</td>\n",
              "    </tr>\n",
              "    <tr>\n",
              "      <th>1.00</th>\n",
              "      <td>89</td>\n",
              "      <td>89</td>\n",
              "      <td>89</td>\n",
              "      <td>89</td>\n",
              "      <td>89</td>\n",
              "      <td>89</td>\n",
              "      <td>89</td>\n",
              "      <td>89</td>\n",
              "      <td>89</td>\n",
              "      <td>89</td>\n",
              "      <td>...</td>\n",
              "      <td>89</td>\n",
              "      <td>89</td>\n",
              "      <td>89</td>\n",
              "      <td>89</td>\n",
              "      <td>89</td>\n",
              "      <td>89</td>\n",
              "      <td>89</td>\n",
              "      <td>89</td>\n",
              "      <td>89</td>\n",
              "      <td>89</td>\n",
              "    </tr>\n",
              "    <tr>\n",
              "      <th>1.20</th>\n",
              "      <td>1</td>\n",
              "      <td>1</td>\n",
              "      <td>1</td>\n",
              "      <td>1</td>\n",
              "      <td>1</td>\n",
              "      <td>1</td>\n",
              "      <td>1</td>\n",
              "      <td>1</td>\n",
              "      <td>1</td>\n",
              "      <td>1</td>\n",
              "      <td>...</td>\n",
              "      <td>1</td>\n",
              "      <td>1</td>\n",
              "      <td>1</td>\n",
              "      <td>1</td>\n",
              "      <td>1</td>\n",
              "      <td>1</td>\n",
              "      <td>1</td>\n",
              "      <td>1</td>\n",
              "      <td>1</td>\n",
              "      <td>1</td>\n",
              "    </tr>\n",
              "    <tr>\n",
              "      <th>1.50</th>\n",
              "      <td>4</td>\n",
              "      <td>4</td>\n",
              "      <td>4</td>\n",
              "      <td>4</td>\n",
              "      <td>4</td>\n",
              "      <td>4</td>\n",
              "      <td>4</td>\n",
              "      <td>4</td>\n",
              "      <td>4</td>\n",
              "      <td>4</td>\n",
              "      <td>...</td>\n",
              "      <td>4</td>\n",
              "      <td>4</td>\n",
              "      <td>4</td>\n",
              "      <td>4</td>\n",
              "      <td>4</td>\n",
              "      <td>4</td>\n",
              "      <td>4</td>\n",
              "      <td>4</td>\n",
              "      <td>4</td>\n",
              "      <td>4</td>\n",
              "    </tr>\n",
              "    <tr>\n",
              "      <th>1.80</th>\n",
              "      <td>4</td>\n",
              "      <td>4</td>\n",
              "      <td>4</td>\n",
              "      <td>4</td>\n",
              "      <td>4</td>\n",
              "      <td>4</td>\n",
              "      <td>4</td>\n",
              "      <td>4</td>\n",
              "      <td>4</td>\n",
              "      <td>4</td>\n",
              "      <td>...</td>\n",
              "      <td>4</td>\n",
              "      <td>4</td>\n",
              "      <td>4</td>\n",
              "      <td>4</td>\n",
              "      <td>4</td>\n",
              "      <td>4</td>\n",
              "      <td>4</td>\n",
              "      <td>4</td>\n",
              "      <td>4</td>\n",
              "      <td>4</td>\n",
              "    </tr>\n",
              "    <tr>\n",
              "      <th>2.00</th>\n",
              "      <td>130</td>\n",
              "      <td>130</td>\n",
              "      <td>130</td>\n",
              "      <td>130</td>\n",
              "      <td>130</td>\n",
              "      <td>130</td>\n",
              "      <td>130</td>\n",
              "      <td>130</td>\n",
              "      <td>130</td>\n",
              "      <td>130</td>\n",
              "      <td>...</td>\n",
              "      <td>130</td>\n",
              "      <td>130</td>\n",
              "      <td>130</td>\n",
              "      <td>130</td>\n",
              "      <td>130</td>\n",
              "      <td>130</td>\n",
              "      <td>130</td>\n",
              "      <td>130</td>\n",
              "      <td>130</td>\n",
              "      <td>130</td>\n",
              "    </tr>\n",
              "    <tr>\n",
              "      <th>2.50</th>\n",
              "      <td>8</td>\n",
              "      <td>8</td>\n",
              "      <td>8</td>\n",
              "      <td>8</td>\n",
              "      <td>8</td>\n",
              "      <td>8</td>\n",
              "      <td>8</td>\n",
              "      <td>8</td>\n",
              "      <td>8</td>\n",
              "      <td>8</td>\n",
              "      <td>...</td>\n",
              "      <td>8</td>\n",
              "      <td>8</td>\n",
              "      <td>8</td>\n",
              "      <td>8</td>\n",
              "      <td>8</td>\n",
              "      <td>8</td>\n",
              "      <td>8</td>\n",
              "      <td>8</td>\n",
              "      <td>8</td>\n",
              "      <td>8</td>\n",
              "    </tr>\n",
              "    <tr>\n",
              "      <th>3.00</th>\n",
              "      <td>94</td>\n",
              "      <td>94</td>\n",
              "      <td>94</td>\n",
              "      <td>94</td>\n",
              "      <td>94</td>\n",
              "      <td>94</td>\n",
              "      <td>94</td>\n",
              "      <td>94</td>\n",
              "      <td>94</td>\n",
              "      <td>94</td>\n",
              "      <td>...</td>\n",
              "      <td>94</td>\n",
              "      <td>94</td>\n",
              "      <td>94</td>\n",
              "      <td>94</td>\n",
              "      <td>94</td>\n",
              "      <td>94</td>\n",
              "      <td>94</td>\n",
              "      <td>94</td>\n",
              "      <td>94</td>\n",
              "      <td>94</td>\n",
              "    </tr>\n",
              "    <tr>\n",
              "      <th>4.00</th>\n",
              "      <td>112</td>\n",
              "      <td>112</td>\n",
              "      <td>112</td>\n",
              "      <td>112</td>\n",
              "      <td>112</td>\n",
              "      <td>112</td>\n",
              "      <td>112</td>\n",
              "      <td>112</td>\n",
              "      <td>112</td>\n",
              "      <td>112</td>\n",
              "      <td>...</td>\n",
              "      <td>112</td>\n",
              "      <td>112</td>\n",
              "      <td>112</td>\n",
              "      <td>112</td>\n",
              "      <td>112</td>\n",
              "      <td>112</td>\n",
              "      <td>112</td>\n",
              "      <td>112</td>\n",
              "      <td>112</td>\n",
              "      <td>112</td>\n",
              "    </tr>\n",
              "    <tr>\n",
              "      <th>5.00</th>\n",
              "      <td>135</td>\n",
              "      <td>135</td>\n",
              "      <td>135</td>\n",
              "      <td>135</td>\n",
              "      <td>135</td>\n",
              "      <td>135</td>\n",
              "      <td>135</td>\n",
              "      <td>135</td>\n",
              "      <td>135</td>\n",
              "      <td>135</td>\n",
              "      <td>...</td>\n",
              "      <td>135</td>\n",
              "      <td>135</td>\n",
              "      <td>135</td>\n",
              "      <td>135</td>\n",
              "      <td>135</td>\n",
              "      <td>135</td>\n",
              "      <td>135</td>\n",
              "      <td>135</td>\n",
              "      <td>135</td>\n",
              "      <td>135</td>\n",
              "    </tr>\n",
              "    <tr>\n",
              "      <th>6.00</th>\n",
              "      <td>123</td>\n",
              "      <td>123</td>\n",
              "      <td>123</td>\n",
              "      <td>123</td>\n",
              "      <td>123</td>\n",
              "      <td>123</td>\n",
              "      <td>123</td>\n",
              "      <td>123</td>\n",
              "      <td>123</td>\n",
              "      <td>123</td>\n",
              "      <td>...</td>\n",
              "      <td>123</td>\n",
              "      <td>123</td>\n",
              "      <td>123</td>\n",
              "      <td>123</td>\n",
              "      <td>123</td>\n",
              "      <td>123</td>\n",
              "      <td>123</td>\n",
              "      <td>123</td>\n",
              "      <td>123</td>\n",
              "      <td>123</td>\n",
              "    </tr>\n",
              "    <tr>\n",
              "      <th>7.00</th>\n",
              "      <td>98</td>\n",
              "      <td>98</td>\n",
              "      <td>98</td>\n",
              "      <td>98</td>\n",
              "      <td>98</td>\n",
              "      <td>98</td>\n",
              "      <td>98</td>\n",
              "      <td>98</td>\n",
              "      <td>98</td>\n",
              "      <td>98</td>\n",
              "      <td>...</td>\n",
              "      <td>98</td>\n",
              "      <td>98</td>\n",
              "      <td>98</td>\n",
              "      <td>98</td>\n",
              "      <td>98</td>\n",
              "      <td>98</td>\n",
              "      <td>98</td>\n",
              "      <td>98</td>\n",
              "      <td>98</td>\n",
              "      <td>98</td>\n",
              "    </tr>\n",
              "    <tr>\n",
              "      <th>8.00</th>\n",
              "      <td>155</td>\n",
              "      <td>155</td>\n",
              "      <td>155</td>\n",
              "      <td>155</td>\n",
              "      <td>155</td>\n",
              "      <td>155</td>\n",
              "      <td>155</td>\n",
              "      <td>155</td>\n",
              "      <td>155</td>\n",
              "      <td>155</td>\n",
              "      <td>...</td>\n",
              "      <td>155</td>\n",
              "      <td>155</td>\n",
              "      <td>155</td>\n",
              "      <td>155</td>\n",
              "      <td>155</td>\n",
              "      <td>155</td>\n",
              "      <td>155</td>\n",
              "      <td>155</td>\n",
              "      <td>155</td>\n",
              "      <td>155</td>\n",
              "    </tr>\n",
              "    <tr>\n",
              "      <th>9.00</th>\n",
              "      <td>133</td>\n",
              "      <td>133</td>\n",
              "      <td>133</td>\n",
              "      <td>133</td>\n",
              "      <td>133</td>\n",
              "      <td>133</td>\n",
              "      <td>133</td>\n",
              "      <td>133</td>\n",
              "      <td>133</td>\n",
              "      <td>133</td>\n",
              "      <td>...</td>\n",
              "      <td>133</td>\n",
              "      <td>133</td>\n",
              "      <td>133</td>\n",
              "      <td>133</td>\n",
              "      <td>133</td>\n",
              "      <td>133</td>\n",
              "      <td>133</td>\n",
              "      <td>133</td>\n",
              "      <td>133</td>\n",
              "      <td>133</td>\n",
              "    </tr>\n",
              "    <tr>\n",
              "      <th>10.00</th>\n",
              "      <td>4261</td>\n",
              "      <td>4261</td>\n",
              "      <td>4261</td>\n",
              "      <td>4261</td>\n",
              "      <td>4261</td>\n",
              "      <td>4261</td>\n",
              "      <td>4261</td>\n",
              "      <td>4261</td>\n",
              "      <td>4261</td>\n",
              "      <td>4261</td>\n",
              "      <td>...</td>\n",
              "      <td>4261</td>\n",
              "      <td>4261</td>\n",
              "      <td>4261</td>\n",
              "      <td>4261</td>\n",
              "      <td>4261</td>\n",
              "      <td>4261</td>\n",
              "      <td>4261</td>\n",
              "      <td>4261</td>\n",
              "      <td>4261</td>\n",
              "      <td>4261</td>\n",
              "    </tr>\n",
              "  </tbody>\n",
              "</table>\n",
              "<p>20 rows × 44 columns</p>\n",
              "</div>"
            ],
            "text/plain": [
              "                  ID  Source   TMC  Severity  Start_Time  End_Time  Start_Lat  \\\n",
              "Visibility(mi)                                                                  \n",
              "0.00               2       2     2         2           2         2          2   \n",
              "0.20               1       1     1         1           1         1          1   \n",
              "0.25              11      11    11        11          11        11         11   \n",
              "0.50              33      33    33        33          33        33         33   \n",
              "0.75              24      24    24        24          24        24         24   \n",
              "0.80               6       6     6         6           6         6          6   \n",
              "1.00              89      89    89        89          89        89         89   \n",
              "1.20               1       1     1         1           1         1          1   \n",
              "1.50               4       4     4         4           4         4          4   \n",
              "1.80               4       4     4         4           4         4          4   \n",
              "2.00             130     130   130       130         130       130        130   \n",
              "2.50               8       8     8         8           8         8          8   \n",
              "3.00              94      94    94        94          94        94         94   \n",
              "4.00             112     112   112       112         112       112        112   \n",
              "5.00             135     135   135       135         135       135        135   \n",
              "6.00             123     123   123       123         123       123        123   \n",
              "7.00              98      98    98        98          98        98         98   \n",
              "8.00             155     155   155       155         155       155        155   \n",
              "9.00             133     133   133       133         133       133        133   \n",
              "10.00           4261    4261  4261      4261        4261      4261       4261   \n",
              "\n",
              "                Start_Lng  Distance(mi)  Description  ...  Sunrise_Sunset  \\\n",
              "Visibility(mi)                                        ...                   \n",
              "0.00                    2             2            2  ...               2   \n",
              "0.20                    1             1            1  ...               1   \n",
              "0.25                   11            11           11  ...              11   \n",
              "0.50                   33            33           33  ...              33   \n",
              "0.75                   24            24           24  ...              24   \n",
              "0.80                    6             6            6  ...               6   \n",
              "1.00                   89            89           89  ...              89   \n",
              "1.20                    1             1            1  ...               1   \n",
              "1.50                    4             4            4  ...               4   \n",
              "1.80                    4             4            4  ...               4   \n",
              "2.00                  130           130          130  ...             130   \n",
              "2.50                    8             8            8  ...               8   \n",
              "3.00                   94            94           94  ...              94   \n",
              "4.00                  112           112          112  ...             112   \n",
              "5.00                  135           135          135  ...             135   \n",
              "6.00                  123           123          123  ...             123   \n",
              "7.00                   98            98           98  ...              98   \n",
              "8.00                  155           155          155  ...             155   \n",
              "9.00                  133           133          133  ...             133   \n",
              "10.00                4261          4261         4261  ...            4261   \n",
              "\n",
              "                Start_Year  Start_Month  Start_Dayofweek  Start_Hour   Fog  \\\n",
              "Visibility(mi)                                                               \n",
              "0.00                     2            2                2           2     2   \n",
              "0.20                     1            1                1           1     1   \n",
              "0.25                    11           11               11          11    11   \n",
              "0.50                    33           33               33          33    33   \n",
              "0.75                    24           24               24          24    24   \n",
              "0.80                     6            6                6           6     6   \n",
              "1.00                    89           89               89          89    89   \n",
              "1.20                     1            1                1           1     1   \n",
              "1.50                     4            4                4           4     4   \n",
              "1.80                     4            4                4           4     4   \n",
              "2.00                   130          130              130         130   130   \n",
              "2.50                     8            8                8           8     8   \n",
              "3.00                    94           94               94          94    94   \n",
              "4.00                   112          112              112         112   112   \n",
              "5.00                   135          135              135         135   135   \n",
              "6.00                   123          123              123         123   123   \n",
              "7.00                    98           98               98          98    98   \n",
              "8.00                   155          155              155         155   155   \n",
              "9.00                   133          133              133         133   133   \n",
              "10.00                 4261         4261             4261        4261  4261   \n",
              "\n",
              "                Rain  Heavy_Rain  Light_Rain  Snow  \n",
              "Visibility(mi)                                      \n",
              "0.00               2           2           2     2  \n",
              "0.20               1           1           1     1  \n",
              "0.25              11          11          11    11  \n",
              "0.50              33          33          33    33  \n",
              "0.75              24          24          24    24  \n",
              "0.80               6           6           6     6  \n",
              "1.00              89          89          89    89  \n",
              "1.20               1           1           1     1  \n",
              "1.50               4           4           4     4  \n",
              "1.80               4           4           4     4  \n",
              "2.00             130         130         130   130  \n",
              "2.50               8           8           8     8  \n",
              "3.00              94          94          94    94  \n",
              "4.00             112         112         112   112  \n",
              "5.00             135         135         135   135  \n",
              "6.00             123         123         123   123  \n",
              "7.00              98          98          98    98  \n",
              "8.00             155         155         155   155  \n",
              "9.00             133         133         133   133  \n",
              "10.00           4261        4261        4261  4261  \n",
              "\n",
              "[20 rows x 44 columns]"
            ]
          },
          "execution_count": 57,
          "metadata": {},
          "output_type": "execute_result"
        }
      ],
      "source": [
        "visibilityResult = dat.groupby('Visibility(mi)').count()\n",
        "visibilityResult"
      ]
    },
    {
      "cell_type": "code",
      "execution_count": null,
      "metadata": {
        "id": "3Gh-XFji_HDg"
      },
      "outputs": [],
      "source": [
        "plt.figure(figsize=(15, 5))\n",
        "plt.title('Number of Accidents Per Visibility in miles')\n",
        "plt.bar(visibilityResult.index, visibilityResult.ID)\n",
        "plt.xlabel('Severity')\n",
        "plt.ylabel('Number of Accidents')\n",
        "plt.xticks(visibilityResult.index, rotation='vertical', size=15)\n",
        "plt.show()"
      ]
    },
    {
      "cell_type": "markdown",
      "metadata": {
        "id": "s5JbkQoo_HDi"
      },
      "source": [
        "#### 3.2.6. Number of Accidents per Year, Month, Dayof Week"
      ]
    },
    {
      "cell_type": "code",
      "execution_count": null,
      "metadata": {
        "id": "v_CPcBQk_HDi"
      },
      "outputs": [],
      "source": [
        "# Accidents per year\n",
        "plt.figure(figsize =(7,5))\n",
        "dat.groupby(['Start_Year']).size().plot.bar()"
      ]
    },
    {
      "cell_type": "code",
      "execution_count": null,
      "metadata": {
        "id": "ynTIHdQD_HDk"
      },
      "outputs": [],
      "source": [
        "#Accidents per month\n",
        "plt.figure(figsize =(7,5))\n",
        "dat.groupby(['Start_Month']).size().plot.bar()"
      ]
    },
    {
      "cell_type": "code",
      "execution_count": null,
      "metadata": {
        "id": "HDtthncX_HDl"
      },
      "outputs": [],
      "source": [
        "#Accidents per each month year wise\n",
        "plt.figure(figsize =(7,5))\n",
        "dat.groupby(['Start_Year','Start_Month']).size().plot.bar()"
      ]
    },
    {
      "cell_type": "code",
      "execution_count": null,
      "metadata": {
        "id": "n9F2dvd5_HDn"
      },
      "outputs": [],
      "source": [
        "#Accidents day wise\n",
        "dat.groupby(['Start_Dayofweek']).size().plot.pie()"
      ]
    },
    {
      "cell_type": "markdown",
      "metadata": {
        "id": "8FMFNPBE_HDq"
      },
      "source": [
        "#### 3.2.7. Number of Accidents per Day Zone"
      ]
    },
    {
      "cell_type": "code",
      "execution_count": null,
      "metadata": {
        "id": "TE3C7vVO_HDq"
      },
      "outputs": [],
      "source": [
        "dat['day_zone'] = pd.cut((dat['Start_Hour']),bins=(0,6,12,18,24), labels=[\"night\", \"morning\", \"afternoon\", \"evening\"])\n",
        "plt.figure(figsize =(7,5))\n",
        "dat.groupby(['day_zone']).size().plot.bar()"
      ]
    },
    {
      "cell_type": "markdown",
      "metadata": {
        "id": "tH9uEbiy_HDs"
      },
      "source": [
        "#### 3.2.8. Number of Accidents per Side of the street"
      ]
    },
    {
      "cell_type": "code",
      "execution_count": null,
      "metadata": {
        "id": "ZFnfKPB5_HDs"
      },
      "outputs": [],
      "source": [
        "plt.figure(figsize =(5,5))\n",
        "dat.groupby(['Side']).size().plot.bar()\n",
        "plt.xlabel('Side of the street')\n",
        "plt.ylabel('Number of Accidents')"
      ]
    },
    {
      "cell_type": "markdown",
      "metadata": {
        "id": "TFccI4TN_HDt"
      },
      "source": [
        "We can see that more number of accidents happen on right side campared to left side of the road "
      ]
    },
    {
      "cell_type": "markdown",
      "metadata": {
        "id": "kkJMO2a8_HDu"
      },
      "source": [
        "### 3.3 Correlation Analysis"
      ]
    },
    {
      "cell_type": "code",
      "execution_count": null,
      "metadata": {
        "id": "xpyROpXe_HDu",
        "outputId": "37185dca-36ca-470a-93a2-c20781fd9f68"
      },
      "outputs": [
        {
          "data": {
            "text/html": [
              "<div>\n",
              "<style scoped>\n",
              "    .dataframe tbody tr th:only-of-type {\n",
              "        vertical-align: middle;\n",
              "    }\n",
              "\n",
              "    .dataframe tbody tr th {\n",
              "        vertical-align: top;\n",
              "    }\n",
              "\n",
              "    .dataframe thead th {\n",
              "        text-align: right;\n",
              "    }\n",
              "</style>\n",
              "<table border=\"1\" class=\"dataframe\">\n",
              "  <thead>\n",
              "    <tr style=\"text-align: right;\">\n",
              "      <th></th>\n",
              "      <th>TMC</th>\n",
              "      <th>Severity</th>\n",
              "      <th>Start_Lat</th>\n",
              "      <th>Start_Lng</th>\n",
              "      <th>Distance(mi)</th>\n",
              "      <th>Temperature(F)</th>\n",
              "      <th>Wind_Chill(F)</th>\n",
              "      <th>Humidity(%)</th>\n",
              "      <th>Pressure(in)</th>\n",
              "      <th>Visibility(mi)</th>\n",
              "      <th>...</th>\n",
              "      <th>Turning_Loop</th>\n",
              "      <th>Start_Year</th>\n",
              "      <th>Start_Month</th>\n",
              "      <th>Start_Dayofweek</th>\n",
              "      <th>Start_Hour</th>\n",
              "      <th>Fog</th>\n",
              "      <th>Rain</th>\n",
              "      <th>Heavy_Rain</th>\n",
              "      <th>Light_Rain</th>\n",
              "      <th>Snow</th>\n",
              "    </tr>\n",
              "  </thead>\n",
              "  <tbody>\n",
              "    <tr>\n",
              "      <th>TMC</th>\n",
              "      <td>1.000000</td>\n",
              "      <td>0.148428</td>\n",
              "      <td>0.088813</td>\n",
              "      <td>-0.068543</td>\n",
              "      <td>0.106910</td>\n",
              "      <td>-0.106979</td>\n",
              "      <td>-0.114784</td>\n",
              "      <td>0.007943</td>\n",
              "      <td>0.021223</td>\n",
              "      <td>0.014274</td>\n",
              "      <td>...</td>\n",
              "      <td>NaN</td>\n",
              "      <td>0.014883</td>\n",
              "      <td>0.136668</td>\n",
              "      <td>0.003193</td>\n",
              "      <td>-0.064817</td>\n",
              "      <td>-0.020586</td>\n",
              "      <td>0.006565</td>\n",
              "      <td>-0.024942</td>\n",
              "      <td>-0.021333</td>\n",
              "      <td>0.015852</td>\n",
              "    </tr>\n",
              "    <tr>\n",
              "      <th>Severity</th>\n",
              "      <td>0.148428</td>\n",
              "      <td>1.000000</td>\n",
              "      <td>0.292266</td>\n",
              "      <td>0.038825</td>\n",
              "      <td>0.162850</td>\n",
              "      <td>0.039679</td>\n",
              "      <td>0.027385</td>\n",
              "      <td>-0.143652</td>\n",
              "      <td>0.113232</td>\n",
              "      <td>-0.017907</td>\n",
              "      <td>...</td>\n",
              "      <td>NaN</td>\n",
              "      <td>-0.020641</td>\n",
              "      <td>0.026827</td>\n",
              "      <td>0.101839</td>\n",
              "      <td>0.239256</td>\n",
              "      <td>-0.048140</td>\n",
              "      <td>-0.009186</td>\n",
              "      <td>0.011957</td>\n",
              "      <td>0.015458</td>\n",
              "      <td>0.035082</td>\n",
              "    </tr>\n",
              "    <tr>\n",
              "      <th>Start_Lat</th>\n",
              "      <td>0.088813</td>\n",
              "      <td>0.292266</td>\n",
              "      <td>1.000000</td>\n",
              "      <td>-0.217712</td>\n",
              "      <td>0.013590</td>\n",
              "      <td>-0.043364</td>\n",
              "      <td>-0.048703</td>\n",
              "      <td>-0.113108</td>\n",
              "      <td>0.200477</td>\n",
              "      <td>-0.002154</td>\n",
              "      <td>...</td>\n",
              "      <td>NaN</td>\n",
              "      <td>-0.010869</td>\n",
              "      <td>0.131034</td>\n",
              "      <td>0.087021</td>\n",
              "      <td>0.119337</td>\n",
              "      <td>0.004468</td>\n",
              "      <td>-0.043503</td>\n",
              "      <td>0.007481</td>\n",
              "      <td>-0.038707</td>\n",
              "      <td>0.015078</td>\n",
              "    </tr>\n",
              "    <tr>\n",
              "      <th>Start_Lng</th>\n",
              "      <td>-0.068543</td>\n",
              "      <td>0.038825</td>\n",
              "      <td>-0.217712</td>\n",
              "      <td>1.000000</td>\n",
              "      <td>-0.035156</td>\n",
              "      <td>0.010555</td>\n",
              "      <td>0.014748</td>\n",
              "      <td>0.026117</td>\n",
              "      <td>0.619916</td>\n",
              "      <td>-0.066995</td>\n",
              "      <td>...</td>\n",
              "      <td>NaN</td>\n",
              "      <td>-0.083128</td>\n",
              "      <td>-0.032579</td>\n",
              "      <td>-0.036217</td>\n",
              "      <td>0.104572</td>\n",
              "      <td>-0.014680</td>\n",
              "      <td>0.022200</td>\n",
              "      <td>-0.027146</td>\n",
              "      <td>0.038240</td>\n",
              "      <td>-0.000180</td>\n",
              "    </tr>\n",
              "    <tr>\n",
              "      <th>Distance(mi)</th>\n",
              "      <td>0.106910</td>\n",
              "      <td>0.162850</td>\n",
              "      <td>0.013590</td>\n",
              "      <td>-0.035156</td>\n",
              "      <td>1.000000</td>\n",
              "      <td>-0.024828</td>\n",
              "      <td>-0.027322</td>\n",
              "      <td>-0.009967</td>\n",
              "      <td>-0.000183</td>\n",
              "      <td>0.028359</td>\n",
              "      <td>...</td>\n",
              "      <td>NaN</td>\n",
              "      <td>0.013359</td>\n",
              "      <td>0.039411</td>\n",
              "      <td>0.005040</td>\n",
              "      <td>0.005719</td>\n",
              "      <td>-0.017627</td>\n",
              "      <td>0.023594</td>\n",
              "      <td>-0.014478</td>\n",
              "      <td>-0.021193</td>\n",
              "      <td>0.007394</td>\n",
              "    </tr>\n",
              "    <tr>\n",
              "      <th>Temperature(F)</th>\n",
              "      <td>-0.106979</td>\n",
              "      <td>0.039679</td>\n",
              "      <td>-0.043364</td>\n",
              "      <td>0.010555</td>\n",
              "      <td>-0.024828</td>\n",
              "      <td>1.000000</td>\n",
              "      <td>0.994523</td>\n",
              "      <td>-0.300298</td>\n",
              "      <td>-0.283810</td>\n",
              "      <td>0.277601</td>\n",
              "      <td>...</td>\n",
              "      <td>NaN</td>\n",
              "      <td>0.167302</td>\n",
              "      <td>-0.399675</td>\n",
              "      <td>-0.026063</td>\n",
              "      <td>0.256331</td>\n",
              "      <td>-0.049105</td>\n",
              "      <td>-0.014172</td>\n",
              "      <td>-0.001371</td>\n",
              "      <td>-0.013666</td>\n",
              "      <td>-0.125890</td>\n",
              "    </tr>\n",
              "    <tr>\n",
              "      <th>Wind_Chill(F)</th>\n",
              "      <td>-0.114784</td>\n",
              "      <td>0.027385</td>\n",
              "      <td>-0.048703</td>\n",
              "      <td>0.014748</td>\n",
              "      <td>-0.027322</td>\n",
              "      <td>0.994523</td>\n",
              "      <td>1.000000</td>\n",
              "      <td>-0.283344</td>\n",
              "      <td>-0.288846</td>\n",
              "      <td>0.283585</td>\n",
              "      <td>...</td>\n",
              "      <td>NaN</td>\n",
              "      <td>0.179672</td>\n",
              "      <td>-0.410120</td>\n",
              "      <td>-0.024234</td>\n",
              "      <td>0.242143</td>\n",
              "      <td>-0.041864</td>\n",
              "      <td>-0.010477</td>\n",
              "      <td>0.001808</td>\n",
              "      <td>-0.006347</td>\n",
              "      <td>-0.139348</td>\n",
              "    </tr>\n",
              "    <tr>\n",
              "      <th>Humidity(%)</th>\n",
              "      <td>0.007943</td>\n",
              "      <td>-0.143652</td>\n",
              "      <td>-0.113108</td>\n",
              "      <td>0.026117</td>\n",
              "      <td>-0.009967</td>\n",
              "      <td>-0.300298</td>\n",
              "      <td>-0.283344</td>\n",
              "      <td>1.000000</td>\n",
              "      <td>-0.012268</td>\n",
              "      <td>-0.462650</td>\n",
              "      <td>...</td>\n",
              "      <td>NaN</td>\n",
              "      <td>-0.065639</td>\n",
              "      <td>0.009237</td>\n",
              "      <td>-0.014476</td>\n",
              "      <td>-0.451580</td>\n",
              "      <td>0.139755</td>\n",
              "      <td>0.131415</td>\n",
              "      <td>0.086324</td>\n",
              "      <td>0.265501</td>\n",
              "      <td>0.067315</td>\n",
              "    </tr>\n",
              "    <tr>\n",
              "      <th>Pressure(in)</th>\n",
              "      <td>0.021223</td>\n",
              "      <td>0.113232</td>\n",
              "      <td>0.200477</td>\n",
              "      <td>0.619916</td>\n",
              "      <td>-0.000183</td>\n",
              "      <td>-0.283810</td>\n",
              "      <td>-0.288846</td>\n",
              "      <td>-0.012268</td>\n",
              "      <td>1.000000</td>\n",
              "      <td>-0.085345</td>\n",
              "      <td>...</td>\n",
              "      <td>NaN</td>\n",
              "      <td>-0.275969</td>\n",
              "      <td>0.124091</td>\n",
              "      <td>0.037924</td>\n",
              "      <td>0.017365</td>\n",
              "      <td>-0.020760</td>\n",
              "      <td>-0.033784</td>\n",
              "      <td>-0.035389</td>\n",
              "      <td>-0.036140</td>\n",
              "      <td>0.021722</td>\n",
              "    </tr>\n",
              "    <tr>\n",
              "      <th>Visibility(mi)</th>\n",
              "      <td>0.014274</td>\n",
              "      <td>-0.017907</td>\n",
              "      <td>-0.002154</td>\n",
              "      <td>-0.066995</td>\n",
              "      <td>0.028359</td>\n",
              "      <td>0.277601</td>\n",
              "      <td>0.283585</td>\n",
              "      <td>-0.462650</td>\n",
              "      <td>-0.085345</td>\n",
              "      <td>1.000000</td>\n",
              "      <td>...</td>\n",
              "      <td>NaN</td>\n",
              "      <td>0.125536</td>\n",
              "      <td>0.003633</td>\n",
              "      <td>-0.025283</td>\n",
              "      <td>0.048980</td>\n",
              "      <td>-0.327139</td>\n",
              "      <td>-0.249112</td>\n",
              "      <td>-0.201288</td>\n",
              "      <td>-0.217669</td>\n",
              "      <td>-0.238447</td>\n",
              "    </tr>\n",
              "    <tr>\n",
              "      <th>Wind_Speed(mph)</th>\n",
              "      <td>0.013770</td>\n",
              "      <td>0.085527</td>\n",
              "      <td>0.013163</td>\n",
              "      <td>-0.096237</td>\n",
              "      <td>0.008438</td>\n",
              "      <td>0.006906</td>\n",
              "      <td>-0.039005</td>\n",
              "      <td>-0.254556</td>\n",
              "      <td>-0.190227</td>\n",
              "      <td>-0.028383</td>\n",
              "      <td>...</td>\n",
              "      <td>NaN</td>\n",
              "      <td>-0.036268</td>\n",
              "      <td>-0.030071</td>\n",
              "      <td>0.019086</td>\n",
              "      <td>0.150176</td>\n",
              "      <td>-0.082276</td>\n",
              "      <td>0.024850</td>\n",
              "      <td>0.006582</td>\n",
              "      <td>0.024430</td>\n",
              "      <td>0.060778</td>\n",
              "    </tr>\n",
              "    <tr>\n",
              "      <th>Precipitation(in)</th>\n",
              "      <td>-0.031031</td>\n",
              "      <td>0.013190</td>\n",
              "      <td>0.010465</td>\n",
              "      <td>0.015847</td>\n",
              "      <td>-0.016308</td>\n",
              "      <td>0.027493</td>\n",
              "      <td>0.030350</td>\n",
              "      <td>0.198773</td>\n",
              "      <td>-0.046098</td>\n",
              "      <td>-0.260113</td>\n",
              "      <td>...</td>\n",
              "      <td>NaN</td>\n",
              "      <td>0.013130</td>\n",
              "      <td>-0.063415</td>\n",
              "      <td>0.005070</td>\n",
              "      <td>-0.020578</td>\n",
              "      <td>-0.018524</td>\n",
              "      <td>0.177018</td>\n",
              "      <td>0.167981</td>\n",
              "      <td>0.118139</td>\n",
              "      <td>0.028297</td>\n",
              "    </tr>\n",
              "    <tr>\n",
              "      <th>Amenity</th>\n",
              "      <td>-0.019024</td>\n",
              "      <td>-0.037973</td>\n",
              "      <td>-0.041214</td>\n",
              "      <td>0.019377</td>\n",
              "      <td>-0.013324</td>\n",
              "      <td>-0.002590</td>\n",
              "      <td>-0.002536</td>\n",
              "      <td>0.005819</td>\n",
              "      <td>0.009929</td>\n",
              "      <td>-0.033674</td>\n",
              "      <td>...</td>\n",
              "      <td>NaN</td>\n",
              "      <td>0.007434</td>\n",
              "      <td>-0.040860</td>\n",
              "      <td>-0.002726</td>\n",
              "      <td>0.012200</td>\n",
              "      <td>0.019507</td>\n",
              "      <td>-0.007732</td>\n",
              "      <td>-0.004802</td>\n",
              "      <td>0.013012</td>\n",
              "      <td>0.075808</td>\n",
              "    </tr>\n",
              "    <tr>\n",
              "      <th>Crossing</th>\n",
              "      <td>-0.009203</td>\n",
              "      <td>-0.017579</td>\n",
              "      <td>0.022173</td>\n",
              "      <td>-0.106457</td>\n",
              "      <td>-0.006696</td>\n",
              "      <td>0.006124</td>\n",
              "      <td>0.005007</td>\n",
              "      <td>-0.016137</td>\n",
              "      <td>-0.052664</td>\n",
              "      <td>0.031574</td>\n",
              "      <td>...</td>\n",
              "      <td>NaN</td>\n",
              "      <td>0.013730</td>\n",
              "      <td>-0.001070</td>\n",
              "      <td>0.025309</td>\n",
              "      <td>-0.001891</td>\n",
              "      <td>-0.013022</td>\n",
              "      <td>-0.014281</td>\n",
              "      <td>-0.008869</td>\n",
              "      <td>-0.017361</td>\n",
              "      <td>-0.008545</td>\n",
              "    </tr>\n",
              "    <tr>\n",
              "      <th>Give_Way</th>\n",
              "      <td>-0.024736</td>\n",
              "      <td>-0.044332</td>\n",
              "      <td>0.017070</td>\n",
              "      <td>-0.012288</td>\n",
              "      <td>0.025259</td>\n",
              "      <td>-0.005074</td>\n",
              "      <td>-0.004437</td>\n",
              "      <td>-0.007624</td>\n",
              "      <td>-0.015058</td>\n",
              "      <td>-0.002626</td>\n",
              "      <td>...</td>\n",
              "      <td>NaN</td>\n",
              "      <td>0.009115</td>\n",
              "      <td>0.025351</td>\n",
              "      <td>0.005471</td>\n",
              "      <td>0.012787</td>\n",
              "      <td>-0.008645</td>\n",
              "      <td>-0.009481</td>\n",
              "      <td>-0.005888</td>\n",
              "      <td>-0.005740</td>\n",
              "      <td>-0.005673</td>\n",
              "    </tr>\n",
              "    <tr>\n",
              "      <th>Junction</th>\n",
              "      <td>0.013640</td>\n",
              "      <td>0.069401</td>\n",
              "      <td>0.085295</td>\n",
              "      <td>-0.002434</td>\n",
              "      <td>0.020382</td>\n",
              "      <td>-0.002556</td>\n",
              "      <td>-0.002530</td>\n",
              "      <td>-0.039556</td>\n",
              "      <td>0.017723</td>\n",
              "      <td>-0.010179</td>\n",
              "      <td>...</td>\n",
              "      <td>NaN</td>\n",
              "      <td>0.019431</td>\n",
              "      <td>0.015402</td>\n",
              "      <td>0.026373</td>\n",
              "      <td>0.012261</td>\n",
              "      <td>-0.001629</td>\n",
              "      <td>0.012048</td>\n",
              "      <td>-0.009813</td>\n",
              "      <td>0.012885</td>\n",
              "      <td>0.012130</td>\n",
              "    </tr>\n",
              "    <tr>\n",
              "      <th>No_Exit</th>\n",
              "      <td>0.002936</td>\n",
              "      <td>0.013522</td>\n",
              "      <td>0.013679</td>\n",
              "      <td>-0.049880</td>\n",
              "      <td>0.000080</td>\n",
              "      <td>0.009674</td>\n",
              "      <td>0.009989</td>\n",
              "      <td>-0.023891</td>\n",
              "      <td>-0.020602</td>\n",
              "      <td>0.016051</td>\n",
              "      <td>...</td>\n",
              "      <td>NaN</td>\n",
              "      <td>0.004009</td>\n",
              "      <td>-0.016777</td>\n",
              "      <td>0.017514</td>\n",
              "      <td>-0.008741</td>\n",
              "      <td>-0.003802</td>\n",
              "      <td>-0.004169</td>\n",
              "      <td>-0.002589</td>\n",
              "      <td>-0.010157</td>\n",
              "      <td>-0.002495</td>\n",
              "    </tr>\n",
              "    <tr>\n",
              "      <th>Railway</th>\n",
              "      <td>-0.010517</td>\n",
              "      <td>-0.039646</td>\n",
              "      <td>-0.033584</td>\n",
              "      <td>0.004230</td>\n",
              "      <td>-0.006311</td>\n",
              "      <td>0.024173</td>\n",
              "      <td>0.023591</td>\n",
              "      <td>-0.007166</td>\n",
              "      <td>-0.010332</td>\n",
              "      <td>0.001175</td>\n",
              "      <td>...</td>\n",
              "      <td>NaN</td>\n",
              "      <td>0.003387</td>\n",
              "      <td>-0.000697</td>\n",
              "      <td>-0.010225</td>\n",
              "      <td>-0.001486</td>\n",
              "      <td>-0.003213</td>\n",
              "      <td>-0.003523</td>\n",
              "      <td>-0.002188</td>\n",
              "      <td>-0.008583</td>\n",
              "      <td>-0.002108</td>\n",
              "    </tr>\n",
              "    <tr>\n",
              "      <th>Station</th>\n",
              "      <td>-0.017996</td>\n",
              "      <td>-0.064911</td>\n",
              "      <td>-0.134056</td>\n",
              "      <td>-0.028654</td>\n",
              "      <td>-0.010259</td>\n",
              "      <td>0.012858</td>\n",
              "      <td>0.013110</td>\n",
              "      <td>0.026671</td>\n",
              "      <td>-0.075875</td>\n",
              "      <td>-0.007610</td>\n",
              "      <td>...</td>\n",
              "      <td>NaN</td>\n",
              "      <td>0.008725</td>\n",
              "      <td>-0.014128</td>\n",
              "      <td>-0.024233</td>\n",
              "      <td>-0.015212</td>\n",
              "      <td>0.014393</td>\n",
              "      <td>0.011641</td>\n",
              "      <td>-0.005636</td>\n",
              "      <td>0.005077</td>\n",
              "      <td>-0.005430</td>\n",
              "    </tr>\n",
              "    <tr>\n",
              "      <th>Stop</th>\n",
              "      <td>-0.010661</td>\n",
              "      <td>-0.046468</td>\n",
              "      <td>-0.005382</td>\n",
              "      <td>0.028543</td>\n",
              "      <td>-0.016198</td>\n",
              "      <td>-0.000088</td>\n",
              "      <td>0.001425</td>\n",
              "      <td>0.011171</td>\n",
              "      <td>0.021790</td>\n",
              "      <td>-0.003222</td>\n",
              "      <td>...</td>\n",
              "      <td>NaN</td>\n",
              "      <td>0.008987</td>\n",
              "      <td>0.009793</td>\n",
              "      <td>-0.004147</td>\n",
              "      <td>-0.011770</td>\n",
              "      <td>0.013491</td>\n",
              "      <td>-0.009347</td>\n",
              "      <td>-0.005805</td>\n",
              "      <td>-0.005171</td>\n",
              "      <td>-0.005593</td>\n",
              "    </tr>\n",
              "    <tr>\n",
              "      <th>Traffic_Calming</th>\n",
              "      <td>0.007382</td>\n",
              "      <td>0.012607</td>\n",
              "      <td>-0.000136</td>\n",
              "      <td>0.014229</td>\n",
              "      <td>-0.003990</td>\n",
              "      <td>-0.014476</td>\n",
              "      <td>-0.012269</td>\n",
              "      <td>-0.002658</td>\n",
              "      <td>0.010100</td>\n",
              "      <td>0.008576</td>\n",
              "      <td>...</td>\n",
              "      <td>NaN</td>\n",
              "      <td>0.002142</td>\n",
              "      <td>0.021757</td>\n",
              "      <td>-0.014985</td>\n",
              "      <td>0.002325</td>\n",
              "      <td>-0.002031</td>\n",
              "      <td>-0.002228</td>\n",
              "      <td>-0.001383</td>\n",
              "      <td>-0.005427</td>\n",
              "      <td>-0.001333</td>\n",
              "    </tr>\n",
              "    <tr>\n",
              "      <th>Traffic_Signal</th>\n",
              "      <td>-0.035047</td>\n",
              "      <td>-0.175783</td>\n",
              "      <td>-0.176037</td>\n",
              "      <td>0.064834</td>\n",
              "      <td>-0.044246</td>\n",
              "      <td>0.004554</td>\n",
              "      <td>0.005641</td>\n",
              "      <td>-0.011157</td>\n",
              "      <td>-0.014116</td>\n",
              "      <td>0.031698</td>\n",
              "      <td>...</td>\n",
              "      <td>NaN</td>\n",
              "      <td>-0.003053</td>\n",
              "      <td>-0.028694</td>\n",
              "      <td>-0.039205</td>\n",
              "      <td>0.000927</td>\n",
              "      <td>-0.006793</td>\n",
              "      <td>-0.008438</td>\n",
              "      <td>-0.018829</td>\n",
              "      <td>0.009727</td>\n",
              "      <td>-0.025743</td>\n",
              "    </tr>\n",
              "    <tr>\n",
              "      <th>Turning_Loop</th>\n",
              "      <td>NaN</td>\n",
              "      <td>NaN</td>\n",
              "      <td>NaN</td>\n",
              "      <td>NaN</td>\n",
              "      <td>NaN</td>\n",
              "      <td>NaN</td>\n",
              "      <td>NaN</td>\n",
              "      <td>NaN</td>\n",
              "      <td>NaN</td>\n",
              "      <td>NaN</td>\n",
              "      <td>...</td>\n",
              "      <td>NaN</td>\n",
              "      <td>NaN</td>\n",
              "      <td>NaN</td>\n",
              "      <td>NaN</td>\n",
              "      <td>NaN</td>\n",
              "      <td>NaN</td>\n",
              "      <td>NaN</td>\n",
              "      <td>NaN</td>\n",
              "      <td>NaN</td>\n",
              "      <td>NaN</td>\n",
              "    </tr>\n",
              "    <tr>\n",
              "      <th>Start_Year</th>\n",
              "      <td>0.014883</td>\n",
              "      <td>-0.020641</td>\n",
              "      <td>-0.010869</td>\n",
              "      <td>-0.083128</td>\n",
              "      <td>0.013359</td>\n",
              "      <td>0.167302</td>\n",
              "      <td>0.179672</td>\n",
              "      <td>-0.065639</td>\n",
              "      <td>-0.275969</td>\n",
              "      <td>0.125536</td>\n",
              "      <td>...</td>\n",
              "      <td>NaN</td>\n",
              "      <td>1.000000</td>\n",
              "      <td>0.127365</td>\n",
              "      <td>-0.045093</td>\n",
              "      <td>0.034808</td>\n",
              "      <td>0.011794</td>\n",
              "      <td>0.012934</td>\n",
              "      <td>0.008033</td>\n",
              "      <td>-0.057048</td>\n",
              "      <td>0.007739</td>\n",
              "    </tr>\n",
              "    <tr>\n",
              "      <th>Start_Month</th>\n",
              "      <td>0.136668</td>\n",
              "      <td>0.026827</td>\n",
              "      <td>0.131034</td>\n",
              "      <td>-0.032579</td>\n",
              "      <td>0.039411</td>\n",
              "      <td>-0.399675</td>\n",
              "      <td>-0.410120</td>\n",
              "      <td>0.009237</td>\n",
              "      <td>0.124091</td>\n",
              "      <td>0.003633</td>\n",
              "      <td>...</td>\n",
              "      <td>NaN</td>\n",
              "      <td>0.127365</td>\n",
              "      <td>1.000000</td>\n",
              "      <td>0.027923</td>\n",
              "      <td>-0.009487</td>\n",
              "      <td>-0.020255</td>\n",
              "      <td>-0.003594</td>\n",
              "      <td>-0.015964</td>\n",
              "      <td>-0.105690</td>\n",
              "      <td>0.078621</td>\n",
              "    </tr>\n",
              "    <tr>\n",
              "      <th>Start_Dayofweek</th>\n",
              "      <td>0.003193</td>\n",
              "      <td>0.101839</td>\n",
              "      <td>0.087021</td>\n",
              "      <td>-0.036217</td>\n",
              "      <td>0.005040</td>\n",
              "      <td>-0.026063</td>\n",
              "      <td>-0.024234</td>\n",
              "      <td>-0.014476</td>\n",
              "      <td>0.037924</td>\n",
              "      <td>-0.025283</td>\n",
              "      <td>...</td>\n",
              "      <td>NaN</td>\n",
              "      <td>-0.045093</td>\n",
              "      <td>0.027923</td>\n",
              "      <td>1.000000</td>\n",
              "      <td>0.132460</td>\n",
              "      <td>-0.027783</td>\n",
              "      <td>0.035453</td>\n",
              "      <td>0.050787</td>\n",
              "      <td>0.046009</td>\n",
              "      <td>0.013937</td>\n",
              "    </tr>\n",
              "    <tr>\n",
              "      <th>Start_Hour</th>\n",
              "      <td>-0.064817</td>\n",
              "      <td>0.239256</td>\n",
              "      <td>0.119337</td>\n",
              "      <td>0.104572</td>\n",
              "      <td>0.005719</td>\n",
              "      <td>0.256331</td>\n",
              "      <td>0.242143</td>\n",
              "      <td>-0.451580</td>\n",
              "      <td>0.017365</td>\n",
              "      <td>0.048980</td>\n",
              "      <td>...</td>\n",
              "      <td>NaN</td>\n",
              "      <td>0.034808</td>\n",
              "      <td>-0.009487</td>\n",
              "      <td>0.132460</td>\n",
              "      <td>1.000000</td>\n",
              "      <td>-0.057603</td>\n",
              "      <td>-0.028400</td>\n",
              "      <td>-0.013691</td>\n",
              "      <td>0.011294</td>\n",
              "      <td>0.005564</td>\n",
              "    </tr>\n",
              "    <tr>\n",
              "      <th>Fog</th>\n",
              "      <td>-0.020586</td>\n",
              "      <td>-0.048140</td>\n",
              "      <td>0.004468</td>\n",
              "      <td>-0.014680</td>\n",
              "      <td>-0.017627</td>\n",
              "      <td>-0.049105</td>\n",
              "      <td>-0.041864</td>\n",
              "      <td>0.139755</td>\n",
              "      <td>-0.020760</td>\n",
              "      <td>-0.327139</td>\n",
              "      <td>...</td>\n",
              "      <td>NaN</td>\n",
              "      <td>0.011794</td>\n",
              "      <td>-0.020255</td>\n",
              "      <td>-0.027783</td>\n",
              "      <td>-0.057603</td>\n",
              "      <td>1.000000</td>\n",
              "      <td>-0.012267</td>\n",
              "      <td>-0.007619</td>\n",
              "      <td>-0.029883</td>\n",
              "      <td>-0.007340</td>\n",
              "    </tr>\n",
              "    <tr>\n",
              "      <th>Rain</th>\n",
              "      <td>0.006565</td>\n",
              "      <td>-0.009186</td>\n",
              "      <td>-0.043503</td>\n",
              "      <td>0.022200</td>\n",
              "      <td>0.023594</td>\n",
              "      <td>-0.014172</td>\n",
              "      <td>-0.010477</td>\n",
              "      <td>0.131415</td>\n",
              "      <td>-0.033784</td>\n",
              "      <td>-0.249112</td>\n",
              "      <td>...</td>\n",
              "      <td>NaN</td>\n",
              "      <td>0.012934</td>\n",
              "      <td>-0.003594</td>\n",
              "      <td>0.035453</td>\n",
              "      <td>-0.028400</td>\n",
              "      <td>-0.012267</td>\n",
              "      <td>1.000000</td>\n",
              "      <td>-0.008355</td>\n",
              "      <td>-0.032772</td>\n",
              "      <td>-0.008050</td>\n",
              "    </tr>\n",
              "    <tr>\n",
              "      <th>Heavy_Rain</th>\n",
              "      <td>-0.024942</td>\n",
              "      <td>0.011957</td>\n",
              "      <td>0.007481</td>\n",
              "      <td>-0.027146</td>\n",
              "      <td>-0.014478</td>\n",
              "      <td>-0.001371</td>\n",
              "      <td>0.001808</td>\n",
              "      <td>0.086324</td>\n",
              "      <td>-0.035389</td>\n",
              "      <td>-0.201288</td>\n",
              "      <td>...</td>\n",
              "      <td>NaN</td>\n",
              "      <td>0.008033</td>\n",
              "      <td>-0.015964</td>\n",
              "      <td>0.050787</td>\n",
              "      <td>-0.013691</td>\n",
              "      <td>-0.007619</td>\n",
              "      <td>-0.008355</td>\n",
              "      <td>1.000000</td>\n",
              "      <td>-0.020353</td>\n",
              "      <td>-0.004999</td>\n",
              "    </tr>\n",
              "    <tr>\n",
              "      <th>Light_Rain</th>\n",
              "      <td>-0.021333</td>\n",
              "      <td>0.015458</td>\n",
              "      <td>-0.038707</td>\n",
              "      <td>0.038240</td>\n",
              "      <td>-0.021193</td>\n",
              "      <td>-0.013666</td>\n",
              "      <td>-0.006347</td>\n",
              "      <td>0.265501</td>\n",
              "      <td>-0.036140</td>\n",
              "      <td>-0.217669</td>\n",
              "      <td>...</td>\n",
              "      <td>NaN</td>\n",
              "      <td>-0.057048</td>\n",
              "      <td>-0.105690</td>\n",
              "      <td>0.046009</td>\n",
              "      <td>0.011294</td>\n",
              "      <td>-0.029883</td>\n",
              "      <td>-0.032772</td>\n",
              "      <td>-0.020353</td>\n",
              "      <td>1.000000</td>\n",
              "      <td>-0.019609</td>\n",
              "    </tr>\n",
              "    <tr>\n",
              "      <th>Snow</th>\n",
              "      <td>0.015852</td>\n",
              "      <td>0.035082</td>\n",
              "      <td>0.015078</td>\n",
              "      <td>-0.000180</td>\n",
              "      <td>0.007394</td>\n",
              "      <td>-0.125890</td>\n",
              "      <td>-0.139348</td>\n",
              "      <td>0.067315</td>\n",
              "      <td>0.021722</td>\n",
              "      <td>-0.238447</td>\n",
              "      <td>...</td>\n",
              "      <td>NaN</td>\n",
              "      <td>0.007739</td>\n",
              "      <td>0.078621</td>\n",
              "      <td>0.013937</td>\n",
              "      <td>0.005564</td>\n",
              "      <td>-0.007340</td>\n",
              "      <td>-0.008050</td>\n",
              "      <td>-0.004999</td>\n",
              "      <td>-0.019609</td>\n",
              "      <td>1.000000</td>\n",
              "    </tr>\n",
              "  </tbody>\n",
              "</table>\n",
              "<p>32 rows × 32 columns</p>\n",
              "</div>"
            ],
            "text/plain": [
              "                        TMC  Severity  Start_Lat  Start_Lng  Distance(mi)  \\\n",
              "TMC                1.000000  0.148428   0.088813  -0.068543      0.106910   \n",
              "Severity           0.148428  1.000000   0.292266   0.038825      0.162850   \n",
              "Start_Lat          0.088813  0.292266   1.000000  -0.217712      0.013590   \n",
              "Start_Lng         -0.068543  0.038825  -0.217712   1.000000     -0.035156   \n",
              "Distance(mi)       0.106910  0.162850   0.013590  -0.035156      1.000000   \n",
              "Temperature(F)    -0.106979  0.039679  -0.043364   0.010555     -0.024828   \n",
              "Wind_Chill(F)     -0.114784  0.027385  -0.048703   0.014748     -0.027322   \n",
              "Humidity(%)        0.007943 -0.143652  -0.113108   0.026117     -0.009967   \n",
              "Pressure(in)       0.021223  0.113232   0.200477   0.619916     -0.000183   \n",
              "Visibility(mi)     0.014274 -0.017907  -0.002154  -0.066995      0.028359   \n",
              "Wind_Speed(mph)    0.013770  0.085527   0.013163  -0.096237      0.008438   \n",
              "Precipitation(in) -0.031031  0.013190   0.010465   0.015847     -0.016308   \n",
              "Amenity           -0.019024 -0.037973  -0.041214   0.019377     -0.013324   \n",
              "Crossing          -0.009203 -0.017579   0.022173  -0.106457     -0.006696   \n",
              "Give_Way          -0.024736 -0.044332   0.017070  -0.012288      0.025259   \n",
              "Junction           0.013640  0.069401   0.085295  -0.002434      0.020382   \n",
              "No_Exit            0.002936  0.013522   0.013679  -0.049880      0.000080   \n",
              "Railway           -0.010517 -0.039646  -0.033584   0.004230     -0.006311   \n",
              "Station           -0.017996 -0.064911  -0.134056  -0.028654     -0.010259   \n",
              "Stop              -0.010661 -0.046468  -0.005382   0.028543     -0.016198   \n",
              "Traffic_Calming    0.007382  0.012607  -0.000136   0.014229     -0.003990   \n",
              "Traffic_Signal    -0.035047 -0.175783  -0.176037   0.064834     -0.044246   \n",
              "Turning_Loop            NaN       NaN        NaN        NaN           NaN   \n",
              "Start_Year         0.014883 -0.020641  -0.010869  -0.083128      0.013359   \n",
              "Start_Month        0.136668  0.026827   0.131034  -0.032579      0.039411   \n",
              "Start_Dayofweek    0.003193  0.101839   0.087021  -0.036217      0.005040   \n",
              "Start_Hour        -0.064817  0.239256   0.119337   0.104572      0.005719   \n",
              "Fog               -0.020586 -0.048140   0.004468  -0.014680     -0.017627   \n",
              "Rain               0.006565 -0.009186  -0.043503   0.022200      0.023594   \n",
              "Heavy_Rain        -0.024942  0.011957   0.007481  -0.027146     -0.014478   \n",
              "Light_Rain        -0.021333  0.015458  -0.038707   0.038240     -0.021193   \n",
              "Snow               0.015852  0.035082   0.015078  -0.000180      0.007394   \n",
              "\n",
              "                   Temperature(F)  Wind_Chill(F)  Humidity(%)  Pressure(in)  \\\n",
              "TMC                     -0.106979      -0.114784     0.007943      0.021223   \n",
              "Severity                 0.039679       0.027385    -0.143652      0.113232   \n",
              "Start_Lat               -0.043364      -0.048703    -0.113108      0.200477   \n",
              "Start_Lng                0.010555       0.014748     0.026117      0.619916   \n",
              "Distance(mi)            -0.024828      -0.027322    -0.009967     -0.000183   \n",
              "Temperature(F)           1.000000       0.994523    -0.300298     -0.283810   \n",
              "Wind_Chill(F)            0.994523       1.000000    -0.283344     -0.288846   \n",
              "Humidity(%)             -0.300298      -0.283344     1.000000     -0.012268   \n",
              "Pressure(in)            -0.283810      -0.288846    -0.012268      1.000000   \n",
              "Visibility(mi)           0.277601       0.283585    -0.462650     -0.085345   \n",
              "Wind_Speed(mph)          0.006906      -0.039005    -0.254556     -0.190227   \n",
              "Precipitation(in)        0.027493       0.030350     0.198773     -0.046098   \n",
              "Amenity                 -0.002590      -0.002536     0.005819      0.009929   \n",
              "Crossing                 0.006124       0.005007    -0.016137     -0.052664   \n",
              "Give_Way                -0.005074      -0.004437    -0.007624     -0.015058   \n",
              "Junction                -0.002556      -0.002530    -0.039556      0.017723   \n",
              "No_Exit                  0.009674       0.009989    -0.023891     -0.020602   \n",
              "Railway                  0.024173       0.023591    -0.007166     -0.010332   \n",
              "Station                  0.012858       0.013110     0.026671     -0.075875   \n",
              "Stop                    -0.000088       0.001425     0.011171      0.021790   \n",
              "Traffic_Calming         -0.014476      -0.012269    -0.002658      0.010100   \n",
              "Traffic_Signal           0.004554       0.005641    -0.011157     -0.014116   \n",
              "Turning_Loop                  NaN            NaN          NaN           NaN   \n",
              "Start_Year               0.167302       0.179672    -0.065639     -0.275969   \n",
              "Start_Month             -0.399675      -0.410120     0.009237      0.124091   \n",
              "Start_Dayofweek         -0.026063      -0.024234    -0.014476      0.037924   \n",
              "Start_Hour               0.256331       0.242143    -0.451580      0.017365   \n",
              "Fog                     -0.049105      -0.041864     0.139755     -0.020760   \n",
              "Rain                    -0.014172      -0.010477     0.131415     -0.033784   \n",
              "Heavy_Rain              -0.001371       0.001808     0.086324     -0.035389   \n",
              "Light_Rain              -0.013666      -0.006347     0.265501     -0.036140   \n",
              "Snow                    -0.125890      -0.139348     0.067315      0.021722   \n",
              "\n",
              "                   Visibility(mi)  ...  Turning_Loop  Start_Year  Start_Month  \\\n",
              "TMC                      0.014274  ...           NaN    0.014883     0.136668   \n",
              "Severity                -0.017907  ...           NaN   -0.020641     0.026827   \n",
              "Start_Lat               -0.002154  ...           NaN   -0.010869     0.131034   \n",
              "Start_Lng               -0.066995  ...           NaN   -0.083128    -0.032579   \n",
              "Distance(mi)             0.028359  ...           NaN    0.013359     0.039411   \n",
              "Temperature(F)           0.277601  ...           NaN    0.167302    -0.399675   \n",
              "Wind_Chill(F)            0.283585  ...           NaN    0.179672    -0.410120   \n",
              "Humidity(%)             -0.462650  ...           NaN   -0.065639     0.009237   \n",
              "Pressure(in)            -0.085345  ...           NaN   -0.275969     0.124091   \n",
              "Visibility(mi)           1.000000  ...           NaN    0.125536     0.003633   \n",
              "Wind_Speed(mph)         -0.028383  ...           NaN   -0.036268    -0.030071   \n",
              "Precipitation(in)       -0.260113  ...           NaN    0.013130    -0.063415   \n",
              "Amenity                 -0.033674  ...           NaN    0.007434    -0.040860   \n",
              "Crossing                 0.031574  ...           NaN    0.013730    -0.001070   \n",
              "Give_Way                -0.002626  ...           NaN    0.009115     0.025351   \n",
              "Junction                -0.010179  ...           NaN    0.019431     0.015402   \n",
              "No_Exit                  0.016051  ...           NaN    0.004009    -0.016777   \n",
              "Railway                  0.001175  ...           NaN    0.003387    -0.000697   \n",
              "Station                 -0.007610  ...           NaN    0.008725    -0.014128   \n",
              "Stop                    -0.003222  ...           NaN    0.008987     0.009793   \n",
              "Traffic_Calming          0.008576  ...           NaN    0.002142     0.021757   \n",
              "Traffic_Signal           0.031698  ...           NaN   -0.003053    -0.028694   \n",
              "Turning_Loop                  NaN  ...           NaN         NaN          NaN   \n",
              "Start_Year               0.125536  ...           NaN    1.000000     0.127365   \n",
              "Start_Month              0.003633  ...           NaN    0.127365     1.000000   \n",
              "Start_Dayofweek         -0.025283  ...           NaN   -0.045093     0.027923   \n",
              "Start_Hour               0.048980  ...           NaN    0.034808    -0.009487   \n",
              "Fog                     -0.327139  ...           NaN    0.011794    -0.020255   \n",
              "Rain                    -0.249112  ...           NaN    0.012934    -0.003594   \n",
              "Heavy_Rain              -0.201288  ...           NaN    0.008033    -0.015964   \n",
              "Light_Rain              -0.217669  ...           NaN   -0.057048    -0.105690   \n",
              "Snow                    -0.238447  ...           NaN    0.007739     0.078621   \n",
              "\n",
              "                   Start_Dayofweek  Start_Hour       Fog      Rain  \\\n",
              "TMC                       0.003193   -0.064817 -0.020586  0.006565   \n",
              "Severity                  0.101839    0.239256 -0.048140 -0.009186   \n",
              "Start_Lat                 0.087021    0.119337  0.004468 -0.043503   \n",
              "Start_Lng                -0.036217    0.104572 -0.014680  0.022200   \n",
              "Distance(mi)              0.005040    0.005719 -0.017627  0.023594   \n",
              "Temperature(F)           -0.026063    0.256331 -0.049105 -0.014172   \n",
              "Wind_Chill(F)            -0.024234    0.242143 -0.041864 -0.010477   \n",
              "Humidity(%)              -0.014476   -0.451580  0.139755  0.131415   \n",
              "Pressure(in)              0.037924    0.017365 -0.020760 -0.033784   \n",
              "Visibility(mi)           -0.025283    0.048980 -0.327139 -0.249112   \n",
              "Wind_Speed(mph)           0.019086    0.150176 -0.082276  0.024850   \n",
              "Precipitation(in)         0.005070   -0.020578 -0.018524  0.177018   \n",
              "Amenity                  -0.002726    0.012200  0.019507 -0.007732   \n",
              "Crossing                  0.025309   -0.001891 -0.013022 -0.014281   \n",
              "Give_Way                  0.005471    0.012787 -0.008645 -0.009481   \n",
              "Junction                  0.026373    0.012261 -0.001629  0.012048   \n",
              "No_Exit                   0.017514   -0.008741 -0.003802 -0.004169   \n",
              "Railway                  -0.010225   -0.001486 -0.003213 -0.003523   \n",
              "Station                  -0.024233   -0.015212  0.014393  0.011641   \n",
              "Stop                     -0.004147   -0.011770  0.013491 -0.009347   \n",
              "Traffic_Calming          -0.014985    0.002325 -0.002031 -0.002228   \n",
              "Traffic_Signal           -0.039205    0.000927 -0.006793 -0.008438   \n",
              "Turning_Loop                   NaN         NaN       NaN       NaN   \n",
              "Start_Year               -0.045093    0.034808  0.011794  0.012934   \n",
              "Start_Month               0.027923   -0.009487 -0.020255 -0.003594   \n",
              "Start_Dayofweek           1.000000    0.132460 -0.027783  0.035453   \n",
              "Start_Hour                0.132460    1.000000 -0.057603 -0.028400   \n",
              "Fog                      -0.027783   -0.057603  1.000000 -0.012267   \n",
              "Rain                      0.035453   -0.028400 -0.012267  1.000000   \n",
              "Heavy_Rain                0.050787   -0.013691 -0.007619 -0.008355   \n",
              "Light_Rain                0.046009    0.011294 -0.029883 -0.032772   \n",
              "Snow                      0.013937    0.005564 -0.007340 -0.008050   \n",
              "\n",
              "                   Heavy_Rain  Light_Rain      Snow  \n",
              "TMC                 -0.024942   -0.021333  0.015852  \n",
              "Severity             0.011957    0.015458  0.035082  \n",
              "Start_Lat            0.007481   -0.038707  0.015078  \n",
              "Start_Lng           -0.027146    0.038240 -0.000180  \n",
              "Distance(mi)        -0.014478   -0.021193  0.007394  \n",
              "Temperature(F)      -0.001371   -0.013666 -0.125890  \n",
              "Wind_Chill(F)        0.001808   -0.006347 -0.139348  \n",
              "Humidity(%)          0.086324    0.265501  0.067315  \n",
              "Pressure(in)        -0.035389   -0.036140  0.021722  \n",
              "Visibility(mi)      -0.201288   -0.217669 -0.238447  \n",
              "Wind_Speed(mph)      0.006582    0.024430  0.060778  \n",
              "Precipitation(in)    0.167981    0.118139  0.028297  \n",
              "Amenity             -0.004802    0.013012  0.075808  \n",
              "Crossing            -0.008869   -0.017361 -0.008545  \n",
              "Give_Way            -0.005888   -0.005740 -0.005673  \n",
              "Junction            -0.009813    0.012885  0.012130  \n",
              "No_Exit             -0.002589   -0.010157 -0.002495  \n",
              "Railway             -0.002188   -0.008583 -0.002108  \n",
              "Station             -0.005636    0.005077 -0.005430  \n",
              "Stop                -0.005805   -0.005171 -0.005593  \n",
              "Traffic_Calming     -0.001383   -0.005427 -0.001333  \n",
              "Traffic_Signal      -0.018829    0.009727 -0.025743  \n",
              "Turning_Loop              NaN         NaN       NaN  \n",
              "Start_Year           0.008033   -0.057048  0.007739  \n",
              "Start_Month         -0.015964   -0.105690  0.078621  \n",
              "Start_Dayofweek      0.050787    0.046009  0.013937  \n",
              "Start_Hour          -0.013691    0.011294  0.005564  \n",
              "Fog                 -0.007619   -0.029883 -0.007340  \n",
              "Rain                -0.008355   -0.032772 -0.008050  \n",
              "Heavy_Rain           1.000000   -0.020353 -0.004999  \n",
              "Light_Rain          -0.020353    1.000000 -0.019609  \n",
              "Snow                -0.004999   -0.019609  1.000000  \n",
              "\n",
              "[32 rows x 32 columns]"
            ]
          },
          "execution_count": 65,
          "metadata": {},
          "output_type": "execute_result"
        }
      ],
      "source": [
        "# Show correlation matrix\n",
        "dat.corr(method='pearson')"
      ]
    },
    {
      "cell_type": "markdown",
      "metadata": {
        "id": "7A9UdOMt_HDw"
      },
      "source": [
        "Let's focus on the paire-wise correlation involving 'Severity'."
      ]
    },
    {
      "cell_type": "code",
      "execution_count": null,
      "metadata": {
        "id": "bDpHxuIq_HDw",
        "outputId": "3415914f-ed3a-484c-e322-984149dca531"
      },
      "outputs": [
        {
          "data": {
            "text/plain": [
              "TMC                  0.148428\n",
              "Severity             1.000000\n",
              "Start_Lat            0.292266\n",
              "Start_Lng            0.038825\n",
              "Distance(mi)         0.162850\n",
              "Temperature(F)       0.039679\n",
              "Wind_Chill(F)        0.027385\n",
              "Humidity(%)         -0.143652\n",
              "Pressure(in)         0.113232\n",
              "Visibility(mi)      -0.017907\n",
              "Wind_Speed(mph)      0.085527\n",
              "Precipitation(in)    0.013190\n",
              "Amenity             -0.037973\n",
              "Crossing            -0.017579\n",
              "Give_Way            -0.044332\n",
              "Junction             0.069401\n",
              "No_Exit              0.013522\n",
              "Railway             -0.039646\n",
              "Station             -0.064911\n",
              "Stop                -0.046468\n",
              "Traffic_Calming      0.012607\n",
              "Traffic_Signal      -0.175783\n",
              "Turning_Loop              NaN\n",
              "Start_Year          -0.020641\n",
              "Start_Month          0.026827\n",
              "Start_Dayofweek      0.101839\n",
              "Start_Hour           0.239256\n",
              "Fog                 -0.048140\n",
              "Rain                -0.009186\n",
              "Heavy_Rain           0.011957\n",
              "Light_Rain           0.015458\n",
              "Snow                 0.035082\n",
              "Name: Severity, dtype: float64"
            ]
          },
          "execution_count": 66,
          "metadata": {},
          "output_type": "execute_result"
        }
      ],
      "source": [
        "dat.corr(method='pearson')['Severity']"
      ]
    },
    {
      "cell_type": "markdown",
      "metadata": {
        "id": "yaOS4kHd_HDz"
      },
      "source": [
        "From the correlation analysis, we find that the severity is positively associated with the extreme weather conditions like 'Heavy_Rain', 'Light_Rain', 'Snow' and 'Distance(mi)', Temperature(F), Wind_Chill(F), Pressure(in), Wind_SPeed(mph), Precipitation(in)"
      ]
    },
    {
      "cell_type": "code",
      "execution_count": null,
      "metadata": {
        "id": "R3NuOXvm_HDz"
      },
      "outputs": [],
      "source": [
        "import numpy as np\n",
        "import matplotlib.pyplot as plt\n",
        "import seaborn as sns\n",
        "\n",
        "plt.figure(figsize=(20, 8))\n",
        "\n",
        "# Create a mask to display only the lower triangle of the matrix\n",
        "mask = np.zeros_like(dat.corr())\n",
        "mask[np.triu_indices_from(mask)] = True\n",
        "\n",
        "sns.heatmap(dat.corr(), cmap='RdYlGn', vmax=1.0, vmin=-1.0 , mask = mask, linewidths=2)\n",
        "# cmap is a colormap. For more information, refer to http://matplotlib.org/examples/color/colormaps_reference.html\n",
        "\n",
        "plt.yticks(rotation=0)\n",
        "plt.xticks(rotation=45)"
      ]
    },
    {
      "cell_type": "code",
      "execution_count": null,
      "metadata": {
        "id": "O3OELJOw_HD1"
      },
      "outputs": [],
      "source": [
        "dat1 = dat [['Severity',\n",
        "             'Temperature(F)',\n",
        "             'Wind_Chill(F)',\n",
        "             'Humidity(%)',\n",
        "             'Visibility(mi)',\n",
        "             'Wind_Speed(mph)',\n",
        "             'Precipitation(in)',\n",
        "             'Fog',\n",
        "             'Rain',\n",
        "             'Heavy_Rain',\n",
        "             'Light_Rain',\n",
        "             'Snow']]"
      ]
    },
    {
      "cell_type": "code",
      "execution_count": null,
      "metadata": {
        "id": "kxDxsnsQ_HD3"
      },
      "outputs": [],
      "source": [
        "corrmat = dat1.corr()\n",
        "f, ax = plt.subplots(figsize=(8, 8))\n",
        "sns.heatmap(corrmat, vmax=.8, square=True)\n",
        "\n",
        "plt.show()"
      ]
    },
    {
      "cell_type": "markdown",
      "metadata": {
        "id": "-SiqoXxM_HD5"
      },
      "source": [
        "Let's create a refined dataset by deselecting some unrelated variables from the original data frame."
      ]
    },
    {
      "cell_type": "code",
      "execution_count": null,
      "metadata": {
        "id": "fTj2h0yj_HD5",
        "outputId": "25c6825e-ab47-42cd-f91f-22922194df41"
      },
      "outputs": [
        {
          "name": "stdout",
          "output_type": "stream",
          "text": [
            "<class 'pandas.core.frame.DataFrame'>\n",
            "Int64Index: 5424 entries, 20 to 7664\n",
            "Data columns (total 17 columns):\n",
            " #   Column             Non-Null Count  Dtype  \n",
            "---  ------             --------------  -----  \n",
            " 0   Severity           5424 non-null   int64  \n",
            " 1   Distance(mi)       5424 non-null   float64\n",
            " 2   Temperature(F)     5424 non-null   float64\n",
            " 3   Wind_Chill(F)      5424 non-null   float64\n",
            " 4   Humidity(%)        5424 non-null   float64\n",
            " 5   Visibility(mi)     5424 non-null   float64\n",
            " 6   Wind_Speed(mph)    5424 non-null   float64\n",
            " 7   Precipitation(in)  5424 non-null   float64\n",
            " 8   Fog                5424 non-null   uint8  \n",
            " 9   Rain               5424 non-null   uint8  \n",
            " 10  Heavy_Rain         5424 non-null   uint8  \n",
            " 11  Light_Rain         5424 non-null   uint8  \n",
            " 12  Snow               5424 non-null   uint8  \n",
            " 13  Start_Year         5424 non-null   int64  \n",
            " 14  Start_Month        5424 non-null   int64  \n",
            " 15  Start_Dayofweek    5424 non-null   int64  \n",
            " 16  Start_Hour         5424 non-null   int64  \n",
            "dtypes: float64(7), int64(5), uint8(5)\n",
            "memory usage: 577.4 KB\n"
          ]
        }
      ],
      "source": [
        "dat_refined = dat [['Severity', 'Distance(mi)', 'Temperature(F)', 'Wind_Chill(F)', 'Humidity(%)', 'Visibility(mi)', 'Wind_Speed(mph)',\n",
        "             'Precipitation(in)', 'Fog', 'Rain', 'Heavy_Rain', 'Light_Rain', 'Snow', 'Start_Year', 'Start_Month', 'Start_Dayofweek', 'Start_Hour']]\n",
        "dat_refined.info()"
      ]
    },
    {
      "cell_type": "markdown",
      "metadata": {
        "id": "xSGLojKG_HD7"
      },
      "source": [
        "### 3.4 Explore the Refined Dataset\n"
      ]
    },
    {
      "cell_type": "markdown",
      "metadata": {
        "id": "7yYMwnd8_HD7"
      },
      "source": [
        "Let's show the kernel density estimation plot on the diagonal for all numerical columns in the refined dataset, excluding the year, month, hour and dayofweek.\n",
        "\n",
        "Scatter plot matrix in a single plot."
      ]
    },
    {
      "cell_type": "code",
      "execution_count": null,
      "metadata": {
        "id": "_EEnsORI_HD7"
      },
      "outputs": [],
      "source": [
        "import warnings\n",
        "warnings.filterwarnings('ignore')"
      ]
    },
    {
      "cell_type": "code",
      "execution_count": null,
      "metadata": {
        "id": "L-0KIOkm_HD8"
      },
      "outputs": [],
      "source": [
        "column_index = ['Severity', 'Distance(mi)', 'Temperature(F)', 'Wind_Chill(F)', 'Humidity(%)', 'Visibility(mi)', 'Wind_Speed(mph)',\n",
        "             'Precipitation(in)', 'Fog', 'Rain', 'Heavy_Rain', 'Light_Rain', 'Snow']\n",
        "scatterplot = pd.plotting.scatter_matrix(dat_refined[column_index],\n",
        "                           alpha=0.3,\n",
        "                           figsize=(20, 20),\n",
        "                           diagonal='kde',\n",
        "                           marker='o',\n",
        "                           grid=True)"
      ]
    },
    {
      "cell_type": "markdown",
      "metadata": {
        "id": "IS8beSED_HD-"
      },
      "source": [
        "#### 3.4.1. Severity Analysis"
      ]
    },
    {
      "cell_type": "code",
      "execution_count": null,
      "metadata": {
        "id": "fQWYUeG7_HD-",
        "outputId": "52ddaaac-0a5b-4217-aa43-7b9e47594261"
      },
      "outputs": [
        {
          "data": {
            "text/plain": [
              "3    3419\n",
              "2    1904\n",
              "4      97\n",
              "1       4\n",
              "Name: Severity, dtype: int64"
            ]
          },
          "execution_count": 73,
          "metadata": {},
          "output_type": "execute_result"
        }
      ],
      "source": [
        "dat.Severity.value_counts()"
      ]
    },
    {
      "cell_type": "code",
      "execution_count": null,
      "metadata": {
        "id": "ZV1C9P8P_HEB",
        "outputId": "19b7ddb5-e4ea-400f-bb60-510a336f1e5c"
      },
      "outputs": [
        {
          "data": {
            "text/plain": [
              "array([3, 1, 2, 4], dtype=int64)"
            ]
          },
          "execution_count": 74,
          "metadata": {},
          "output_type": "execute_result"
        }
      ],
      "source": [
        "dat.Severity.unique()"
      ]
    },
    {
      "cell_type": "markdown",
      "metadata": {
        "id": "iEUSh-tC_HED"
      },
      "source": [
        "Let's analyze the Impact of different features on Severity"
      ]
    },
    {
      "cell_type": "markdown",
      "metadata": {
        "id": "TlVfgBp3_HEE"
      },
      "source": [
        "#### 3.4.2. Severity of accidents by month"
      ]
    },
    {
      "cell_type": "code",
      "execution_count": null,
      "metadata": {
        "id": "gc-TTACZ_HEE"
      },
      "outputs": [],
      "source": [
        "plt.subplots(2,2,figsize=(15,10))\n",
        "for s in np.arange(1,5):\n",
        "    plt.subplot(2,2,s)\n",
        "    plt.hist(dat.loc[dat[\"Severity\"] == s]['Start_Month'], bins=[1,2,3,4,5,6,7,8,9,10,11,12,13], align='left', rwidth=0.8)\n",
        "    plt.title(\"Accident Count by Month with Severity \" + str(s), fontsize=14)\n",
        "    plt.xlabel(\"Month\", fontsize=16)\n",
        "    plt.ylabel(\"Accident Count\", fontsize=16)\n",
        "    plt.xticks(fontsize=16)\n",
        "    plt.yticks(fontsize=16)\n",
        "plt.tight_layout()\n",
        "plt.show()"
      ]
    },
    {
      "cell_type": "markdown",
      "metadata": {
        "id": "pfKzm0qJ_HEG"
      },
      "source": [
        "For Severity 1: We observe that there are more accidents in the month of September (9) when compared to other months. Its the FALL season when there happen to be rainfalls.\n",
        "\n",
        "For Severity 2: We observe that there are more accidents in the month of April (4) after there is less number of increase and decrease till december (12).\n",
        "\n",
        "For Severity 3: We observe that there are more accidents from the month of April (4) till december (12).\n",
        "\n",
        "For Severity 4: We observe that there are more number of severe accidents in the months of June (6), October (10), November (11) and December (12). These are the seasons when we have rainfall and snow.\n",
        "\n",
        "Finally depending of entire data we can say that more number of sever accidents in fall and winter months. Thus, these seasons are more dangerous, it is interesting that January and February have much lower accident counts."
      ]
    },
    {
      "cell_type": "markdown",
      "metadata": {
        "id": "zezxZeUs_HEG"
      },
      "source": [
        "#### 3.4.3. Severity of accidents by Day"
      ]
    },
    {
      "cell_type": "code",
      "execution_count": null,
      "metadata": {
        "id": "1joI76rI_HEG"
      },
      "outputs": [],
      "source": [
        "plt.subplots(2,2,figsize=(15,10))\n",
        "for s in np.arange(1,5):\n",
        "    plt.subplot(2,2,s)\n",
        "    plt.hist(dat.loc[dat[\"Severity\"] == s]['Start_Dayofweek'], bins=[0,1,2,3,4,5,6,7], align='left', rwidth=0.8)\n",
        "    plt.title(\"Accident Count by Day with Severity \" + str(s), fontsize=16)\n",
        "    plt.xlabel(\"Day\", fontsize=16)\n",
        "    plt.ylabel(\"Accident Count\", fontsize=16)\n",
        "    plt.xticks(fontsize=16)\n",
        "    plt.yticks(fontsize=16)\n",
        "plt.tight_layout()\n",
        "plt.show()"
      ]
    },
    {
      "cell_type": "markdown",
      "metadata": {
        "id": "H13K4nvP_HEK"
      },
      "source": [
        "For all severity levels we can observe that there is a significant drop in the number of accidents during weekends."
      ]
    },
    {
      "cell_type": "markdown",
      "metadata": {
        "id": "fibBYQKD_HEL"
      },
      "source": [
        "#### 3.4.4. Severity of accidents by Weather Conditions"
      ]
    },
    {
      "cell_type": "code",
      "execution_count": null,
      "metadata": {
        "id": "Wvy4TMUD_HEL",
        "scrolled": false
      },
      "outputs": [],
      "source": [
        "for s in np.arange(1,5):\n",
        "    plt.subplots(figsize=(12,3))\n",
        "    dat.loc[dat[\"Severity\"] == s]['Weather_Condition'].value_counts().sort_values(ascending=False).head(20).plot.bar(width=0.5,color='y',edgecolor='k',align='center',linewidth=1)\n",
        "    plt.xlabel('Weather Condition',fontsize=10)\n",
        "    plt.ylabel('Accident Count',fontsize=10)\n",
        "    plt.title('The Main Weather Conditions for Accidents of Severity ' + str(s),fontsize=10)\n",
        "    plt.xticks(fontsize=10)\n",
        "    plt.yticks(fontsize=10)"
      ]
    },
    {
      "cell_type": "markdown",
      "metadata": {
        "id": "cI6wjI-o_HEM"
      },
      "source": [
        "For severity level 1 accidents happen only under certain conditions like scattered clouds, overcast and clear.\n",
        "\n",
        "Whereas for the remaining levels of severity (2,3,4), most accidents happen under fair, cloudy, Mostly cloudy or similar weather conditions. These conditions are considered good compared to rain and snow, Perhaps they are the most frequent conditions. Light rain and light snow are the top adverse weather conditions. Most likely these cause accidents since they can make roads slippery without causing concern in the drivers.\n",
        "\n",
        "Lets see the severity of accidents under conditions like fog, light rain, heavy rain and snow"
      ]
    },
    {
      "cell_type": "markdown",
      "metadata": {
        "id": "5PO15uv1_HEM"
      },
      "source": [
        "#### 3.4.5. Severity of accidents by Fog, Light Rain, Heavy Rain and Snow"
      ]
    },
    {
      "cell_type": "code",
      "execution_count": null,
      "metadata": {
        "id": "MdwfMc0M_HEN",
        "scrolled": true
      },
      "outputs": [],
      "source": [
        "for s in [\"Fog\",\"Rain\",\"Light Rain\",\"Heavy Rain\",\"Snow\"]:\n",
        "    plt.subplots(1,2,figsize=(12,3))\n",
        "    plt.suptitle('Accident Severity Under ' + s,fontsize=10)\n",
        "    plt.subplot(1,2,1)\n",
        "    dat.loc[dat[\"Weather_Condition\"] == s]['Severity'].value_counts().plot.bar(width=0.5,color='y',edgecolor='k',align='center',linewidth=1)\n",
        "    plt.xlabel('Severity',fontsize=10)\n",
        "    plt.ylabel('Accident Count',fontsize=10)\n",
        "    plt.xticks(fontsize=10)\n",
        "    plt.yticks(fontsize=10)\n",
        "    plt.subplot(1,2,2)\n",
        "    dat.loc[dat[\"Weather_Condition\"] == s]['Severity'].value_counts().plot.pie(autopct='%1.0f%%',fontsize=10)"
      ]
    },
    {
      "cell_type": "markdown",
      "metadata": {
        "id": "77j_T0Vf_HEO"
      },
      "source": [
        "The proportion of level 3 accidents increases as weather changes from fog (49%) to rain (66%) to light rain (70%)  to heavy rain (79%) to snow (85%).\n",
        "\n",
        "Whereas we have level 4 accidents under two weather conditions, which are light rain(2%) to snow(4%)."
      ]
    },
    {
      "cell_type": "markdown",
      "metadata": {
        "id": "NJIhqZZ9_HEO"
      },
      "source": [
        "#### 3.4.6. Severity of accidents by Infrasturcture like Amenity, Crossing, Give_Way, Junction, No_Exit, Railway, Station, Stop, Traffic_Calming, Traffic_Signal, Turning_Loop"
      ]
    },
    {
      "cell_type": "code",
      "execution_count": null,
      "metadata": {
        "id": "ihHcwhB1_HEO"
      },
      "outputs": [],
      "source": [
        "for s in ['Amenity', 'Crossing', 'Give_Way', 'Junction', 'No_Exit', 'Railway', 'Station', 'Stop', 'Traffic_Calming', 'Traffic_Signal', 'Turning_Loop']:\n",
        "    # check if infrastructure type is found in any record \n",
        "    if (dat[s] == True).sum() > 0:\n",
        "        plt.subplots(1,2,figsize=(12,3))\n",
        "        plt.xticks(fontsize=10)\n",
        "        plt.suptitle('Accident Severity Near ' + s,fontsize=10)\n",
        "        plt.subplot(1,2,1)\n",
        "        dat.loc[dat[s] == True]['Severity'].value_counts().plot.bar(width=0.5,color='y',edgecolor='k',align='center',linewidth=1)\n",
        "        plt.xlabel('Severity',fontsize=10)\n",
        "        plt.ylabel('Accident Count',fontsize=10)\n",
        "        plt.xticks(fontsize=10)\n",
        "        plt.yticks(fontsize=10)\n",
        "        plt.subplot(1,2,2)\n",
        "        dat.loc[dat[s] == True]['Severity'].value_counts().plot.pie(autopct='%1.0f%%',fontsize=10)"
      ]
    },
    {
      "cell_type": "markdown",
      "metadata": {
        "id": "bbMSYox-_HEQ"
      },
      "source": [
        "Junctions and no exit have the highest proportion of level 3. Whereas creossing, junction, station and traffic signal level 4 severity accidents are taking place."
      ]
    },
    {
      "cell_type": "markdown",
      "metadata": {
        "id": "T6ZJToJ1_HEQ"
      },
      "source": [
        "### 3.5. Principal Component Analysis"
      ]
    },
    {
      "cell_type": "code",
      "execution_count": null,
      "metadata": {
        "id": "KpuTjw2J_HER",
        "outputId": "ed109bb4-3adc-4ef2-b811-5417a4d577c8",
        "scrolled": true
      },
      "outputs": [
        {
          "data": {
            "text/html": [
              "<div>\n",
              "<style scoped>\n",
              "    .dataframe tbody tr th:only-of-type {\n",
              "        vertical-align: middle;\n",
              "    }\n",
              "\n",
              "    .dataframe tbody tr th {\n",
              "        vertical-align: top;\n",
              "    }\n",
              "\n",
              "    .dataframe thead th {\n",
              "        text-align: right;\n",
              "    }\n",
              "</style>\n",
              "<table border=\"1\" class=\"dataframe\">\n",
              "  <thead>\n",
              "    <tr style=\"text-align: right;\">\n",
              "      <th></th>\n",
              "      <th>ID</th>\n",
              "      <th>Source</th>\n",
              "      <th>TMC</th>\n",
              "      <th>Severity</th>\n",
              "      <th>Start_Time</th>\n",
              "      <th>End_Time</th>\n",
              "      <th>Start_Lat</th>\n",
              "      <th>Start_Lng</th>\n",
              "      <th>Distance(mi)</th>\n",
              "      <th>Description</th>\n",
              "      <th>...</th>\n",
              "      <th>Start_Year</th>\n",
              "      <th>Start_Month</th>\n",
              "      <th>Start_Dayofweek</th>\n",
              "      <th>Start_Hour</th>\n",
              "      <th>Fog</th>\n",
              "      <th>Rain</th>\n",
              "      <th>Heavy_Rain</th>\n",
              "      <th>Light_Rain</th>\n",
              "      <th>Snow</th>\n",
              "      <th>day_zone</th>\n",
              "    </tr>\n",
              "  </thead>\n",
              "  <tbody>\n",
              "    <tr>\n",
              "      <th>3243</th>\n",
              "      <td>A-623739</td>\n",
              "      <td>MapQuest</td>\n",
              "      <td>201</td>\n",
              "      <td>3</td>\n",
              "      <td>2019-10-31 13:36:00</td>\n",
              "      <td>2019-10-31 15:30:00</td>\n",
              "      <td>38.938232</td>\n",
              "      <td>-94.509537</td>\n",
              "      <td>0.00</td>\n",
              "      <td>Right lane closed due to accident on I-470 Wes...</td>\n",
              "      <td>...</td>\n",
              "      <td>2019</td>\n",
              "      <td>10</td>\n",
              "      <td>3</td>\n",
              "      <td>13</td>\n",
              "      <td>0</td>\n",
              "      <td>0</td>\n",
              "      <td>0</td>\n",
              "      <td>0</td>\n",
              "      <td>0</td>\n",
              "      <td>afternoon</td>\n",
              "    </tr>\n",
              "    <tr>\n",
              "      <th>7219</th>\n",
              "      <td>A-1011284</td>\n",
              "      <td>MapQuest</td>\n",
              "      <td>201</td>\n",
              "      <td>3</td>\n",
              "      <td>2019-04-19 18:23:00</td>\n",
              "      <td>2019-04-19 19:08:00</td>\n",
              "      <td>38.816689</td>\n",
              "      <td>-90.953629</td>\n",
              "      <td>0.00</td>\n",
              "      <td>Left lane closed due to accident on I-70 Eastb...</td>\n",
              "      <td>...</td>\n",
              "      <td>2019</td>\n",
              "      <td>4</td>\n",
              "      <td>4</td>\n",
              "      <td>18</td>\n",
              "      <td>0</td>\n",
              "      <td>0</td>\n",
              "      <td>0</td>\n",
              "      <td>0</td>\n",
              "      <td>0</td>\n",
              "      <td>afternoon</td>\n",
              "    </tr>\n",
              "    <tr>\n",
              "      <th>2635</th>\n",
              "      <td>A-570060</td>\n",
              "      <td>MapQuest</td>\n",
              "      <td>201</td>\n",
              "      <td>3</td>\n",
              "      <td>2019-10-06 13:29:00</td>\n",
              "      <td>2019-10-06 13:58:00</td>\n",
              "      <td>39.106884</td>\n",
              "      <td>-94.592201</td>\n",
              "      <td>0.00</td>\n",
              "      <td>Right lane closed due to accident on I-70 East...</td>\n",
              "      <td>...</td>\n",
              "      <td>2019</td>\n",
              "      <td>10</td>\n",
              "      <td>6</td>\n",
              "      <td>13</td>\n",
              "      <td>0</td>\n",
              "      <td>0</td>\n",
              "      <td>0</td>\n",
              "      <td>0</td>\n",
              "      <td>0</td>\n",
              "      <td>afternoon</td>\n",
              "    </tr>\n",
              "    <tr>\n",
              "      <th>5708</th>\n",
              "      <td>A-881158</td>\n",
              "      <td>MapQuest</td>\n",
              "      <td>201</td>\n",
              "      <td>3</td>\n",
              "      <td>2019-06-12 08:43:00</td>\n",
              "      <td>2019-06-12 09:13:00</td>\n",
              "      <td>39.096226</td>\n",
              "      <td>-94.563873</td>\n",
              "      <td>0.00</td>\n",
              "      <td>Left lane blocked due to accident on I-70 West...</td>\n",
              "      <td>...</td>\n",
              "      <td>2019</td>\n",
              "      <td>6</td>\n",
              "      <td>2</td>\n",
              "      <td>8</td>\n",
              "      <td>0</td>\n",
              "      <td>0</td>\n",
              "      <td>0</td>\n",
              "      <td>0</td>\n",
              "      <td>0</td>\n",
              "      <td>morning</td>\n",
              "    </tr>\n",
              "    <tr>\n",
              "      <th>2367</th>\n",
              "      <td>A-550978</td>\n",
              "      <td>MapQuest</td>\n",
              "      <td>201</td>\n",
              "      <td>3</td>\n",
              "      <td>2019-12-15 14:15:00</td>\n",
              "      <td>2019-12-15 15:29:00</td>\n",
              "      <td>39.004360</td>\n",
              "      <td>-94.356865</td>\n",
              "      <td>0.00</td>\n",
              "      <td>Left lane blocked and left hand shoulder block...</td>\n",
              "      <td>...</td>\n",
              "      <td>2019</td>\n",
              "      <td>12</td>\n",
              "      <td>6</td>\n",
              "      <td>14</td>\n",
              "      <td>0</td>\n",
              "      <td>0</td>\n",
              "      <td>0</td>\n",
              "      <td>0</td>\n",
              "      <td>1</td>\n",
              "      <td>afternoon</td>\n",
              "    </tr>\n",
              "    <tr>\n",
              "      <th>6519</th>\n",
              "      <td>A-953551</td>\n",
              "      <td>MapQuest</td>\n",
              "      <td>201</td>\n",
              "      <td>3</td>\n",
              "      <td>2019-05-23 17:52:00</td>\n",
              "      <td>2019-05-23 19:07:00</td>\n",
              "      <td>38.968323</td>\n",
              "      <td>-92.371109</td>\n",
              "      <td>0.00</td>\n",
              "      <td>Left lane blocked due to accident on I-70 West...</td>\n",
              "      <td>...</td>\n",
              "      <td>2019</td>\n",
              "      <td>5</td>\n",
              "      <td>3</td>\n",
              "      <td>17</td>\n",
              "      <td>0</td>\n",
              "      <td>0</td>\n",
              "      <td>0</td>\n",
              "      <td>0</td>\n",
              "      <td>0</td>\n",
              "      <td>afternoon</td>\n",
              "    </tr>\n",
              "    <tr>\n",
              "      <th>4690</th>\n",
              "      <td>A-778943</td>\n",
              "      <td>MapQuest</td>\n",
              "      <td>201</td>\n",
              "      <td>3</td>\n",
              "      <td>2019-07-01 13:12:00</td>\n",
              "      <td>2019-07-01 13:57:00</td>\n",
              "      <td>38.347977</td>\n",
              "      <td>-90.395912</td>\n",
              "      <td>0.00</td>\n",
              "      <td>2 right lane blocked due to accident on I-55 N...</td>\n",
              "      <td>...</td>\n",
              "      <td>2019</td>\n",
              "      <td>7</td>\n",
              "      <td>0</td>\n",
              "      <td>13</td>\n",
              "      <td>0</td>\n",
              "      <td>0</td>\n",
              "      <td>0</td>\n",
              "      <td>0</td>\n",
              "      <td>0</td>\n",
              "      <td>afternoon</td>\n",
              "    </tr>\n",
              "    <tr>\n",
              "      <th>6792</th>\n",
              "      <td>A-976910</td>\n",
              "      <td>MapQuest</td>\n",
              "      <td>201</td>\n",
              "      <td>2</td>\n",
              "      <td>2019-04-02 06:47:00</td>\n",
              "      <td>2019-04-02 07:47:00</td>\n",
              "      <td>38.248268</td>\n",
              "      <td>-90.484451</td>\n",
              "      <td>0.00</td>\n",
              "      <td>Accident on MO-Z at Mapaville Fire Dept.</td>\n",
              "      <td>...</td>\n",
              "      <td>2019</td>\n",
              "      <td>4</td>\n",
              "      <td>1</td>\n",
              "      <td>6</td>\n",
              "      <td>0</td>\n",
              "      <td>0</td>\n",
              "      <td>0</td>\n",
              "      <td>0</td>\n",
              "      <td>0</td>\n",
              "      <td>night</td>\n",
              "    </tr>\n",
              "    <tr>\n",
              "      <th>5782</th>\n",
              "      <td>A-889509</td>\n",
              "      <td>MapQuest</td>\n",
              "      <td>201</td>\n",
              "      <td>2</td>\n",
              "      <td>2019-06-17 09:57:00</td>\n",
              "      <td>2019-06-17 12:11:00</td>\n",
              "      <td>38.618420</td>\n",
              "      <td>-90.269989</td>\n",
              "      <td>1.31</td>\n",
              "      <td>Accident on exit ramp from I-44 Eastbound at E...</td>\n",
              "      <td>...</td>\n",
              "      <td>2019</td>\n",
              "      <td>6</td>\n",
              "      <td>0</td>\n",
              "      <td>9</td>\n",
              "      <td>0</td>\n",
              "      <td>0</td>\n",
              "      <td>0</td>\n",
              "      <td>0</td>\n",
              "      <td>0</td>\n",
              "      <td>morning</td>\n",
              "    </tr>\n",
              "    <tr>\n",
              "      <th>6243</th>\n",
              "      <td>A-929002</td>\n",
              "      <td>MapQuest</td>\n",
              "      <td>201</td>\n",
              "      <td>2</td>\n",
              "      <td>2019-05-10 08:23:00</td>\n",
              "      <td>2019-05-10 09:09:00</td>\n",
              "      <td>37.241482</td>\n",
              "      <td>-93.343948</td>\n",
              "      <td>0.00</td>\n",
              "      <td>Left turn lane blocked due to accident on MO-7...</td>\n",
              "      <td>...</td>\n",
              "      <td>2019</td>\n",
              "      <td>5</td>\n",
              "      <td>4</td>\n",
              "      <td>8</td>\n",
              "      <td>0</td>\n",
              "      <td>0</td>\n",
              "      <td>0</td>\n",
              "      <td>0</td>\n",
              "      <td>0</td>\n",
              "      <td>morning</td>\n",
              "    </tr>\n",
              "  </tbody>\n",
              "</table>\n",
              "<p>10 rows × 46 columns</p>\n",
              "</div>"
            ],
            "text/plain": [
              "             ID    Source  TMC  Severity          Start_Time  \\\n",
              "3243   A-623739  MapQuest  201         3 2019-10-31 13:36:00   \n",
              "7219  A-1011284  MapQuest  201         3 2019-04-19 18:23:00   \n",
              "2635   A-570060  MapQuest  201         3 2019-10-06 13:29:00   \n",
              "5708   A-881158  MapQuest  201         3 2019-06-12 08:43:00   \n",
              "2367   A-550978  MapQuest  201         3 2019-12-15 14:15:00   \n",
              "6519   A-953551  MapQuest  201         3 2019-05-23 17:52:00   \n",
              "4690   A-778943  MapQuest  201         3 2019-07-01 13:12:00   \n",
              "6792   A-976910  MapQuest  201         2 2019-04-02 06:47:00   \n",
              "5782   A-889509  MapQuest  201         2 2019-06-17 09:57:00   \n",
              "6243   A-929002  MapQuest  201         2 2019-05-10 08:23:00   \n",
              "\n",
              "                End_Time  Start_Lat  Start_Lng  Distance(mi)  \\\n",
              "3243 2019-10-31 15:30:00  38.938232 -94.509537          0.00   \n",
              "7219 2019-04-19 19:08:00  38.816689 -90.953629          0.00   \n",
              "2635 2019-10-06 13:58:00  39.106884 -94.592201          0.00   \n",
              "5708 2019-06-12 09:13:00  39.096226 -94.563873          0.00   \n",
              "2367 2019-12-15 15:29:00  39.004360 -94.356865          0.00   \n",
              "6519 2019-05-23 19:07:00  38.968323 -92.371109          0.00   \n",
              "4690 2019-07-01 13:57:00  38.347977 -90.395912          0.00   \n",
              "6792 2019-04-02 07:47:00  38.248268 -90.484451          0.00   \n",
              "5782 2019-06-17 12:11:00  38.618420 -90.269989          1.31   \n",
              "6243 2019-05-10 09:09:00  37.241482 -93.343948          0.00   \n",
              "\n",
              "                                            Description  ... Start_Year  \\\n",
              "3243  Right lane closed due to accident on I-470 Wes...  ...       2019   \n",
              "7219  Left lane closed due to accident on I-70 Eastb...  ...       2019   \n",
              "2635  Right lane closed due to accident on I-70 East...  ...       2019   \n",
              "5708  Left lane blocked due to accident on I-70 West...  ...       2019   \n",
              "2367  Left lane blocked and left hand shoulder block...  ...       2019   \n",
              "6519  Left lane blocked due to accident on I-70 West...  ...       2019   \n",
              "4690  2 right lane blocked due to accident on I-55 N...  ...       2019   \n",
              "6792           Accident on MO-Z at Mapaville Fire Dept.  ...       2019   \n",
              "5782  Accident on exit ramp from I-44 Eastbound at E...  ...       2019   \n",
              "6243  Left turn lane blocked due to accident on MO-7...  ...       2019   \n",
              "\n",
              "     Start_Month Start_Dayofweek Start_Hour Fog  Rain  Heavy_Rain  Light_Rain  \\\n",
              "3243          10               3         13   0     0           0           0   \n",
              "7219           4               4         18   0     0           0           0   \n",
              "2635          10               6         13   0     0           0           0   \n",
              "5708           6               2          8   0     0           0           0   \n",
              "2367          12               6         14   0     0           0           0   \n",
              "6519           5               3         17   0     0           0           0   \n",
              "4690           7               0         13   0     0           0           0   \n",
              "6792           4               1          6   0     0           0           0   \n",
              "5782           6               0          9   0     0           0           0   \n",
              "6243           5               4          8   0     0           0           0   \n",
              "\n",
              "      Snow   day_zone  \n",
              "3243     0  afternoon  \n",
              "7219     0  afternoon  \n",
              "2635     0  afternoon  \n",
              "5708     0    morning  \n",
              "2367     1  afternoon  \n",
              "6519     0  afternoon  \n",
              "4690     0  afternoon  \n",
              "6792     0      night  \n",
              "5782     0    morning  \n",
              "6243     0    morning  \n",
              "\n",
              "[10 rows x 46 columns]"
            ]
          },
          "execution_count": 80,
          "metadata": {},
          "output_type": "execute_result"
        }
      ],
      "source": [
        "dat.sample(10)"
      ]
    },
    {
      "cell_type": "code",
      "execution_count": null,
      "metadata": {
        "id": "nrq1CIlg_HEU",
        "outputId": "66c7ea62-98d9-4e6e-a88b-62b080321ab0"
      },
      "outputs": [
        {
          "data": {
            "text/html": [
              "<div>\n",
              "<style scoped>\n",
              "    .dataframe tbody tr th:only-of-type {\n",
              "        vertical-align: middle;\n",
              "    }\n",
              "\n",
              "    .dataframe tbody tr th {\n",
              "        vertical-align: top;\n",
              "    }\n",
              "\n",
              "    .dataframe thead th {\n",
              "        text-align: right;\n",
              "    }\n",
              "</style>\n",
              "<table border=\"1\" class=\"dataframe\">\n",
              "  <thead>\n",
              "    <tr style=\"text-align: right;\">\n",
              "      <th></th>\n",
              "      <th>TMC</th>\n",
              "      <th>Severity</th>\n",
              "      <th>Start_Lat</th>\n",
              "      <th>Start_Lng</th>\n",
              "      <th>Distance(mi)</th>\n",
              "      <th>Temperature(F)</th>\n",
              "      <th>Wind_Chill(F)</th>\n",
              "      <th>Humidity(%)</th>\n",
              "      <th>Pressure(in)</th>\n",
              "      <th>Visibility(mi)</th>\n",
              "      <th>...</th>\n",
              "      <th>Turning_Loop</th>\n",
              "      <th>Start_Year</th>\n",
              "      <th>Start_Month</th>\n",
              "      <th>Start_Dayofweek</th>\n",
              "      <th>Start_Hour</th>\n",
              "      <th>Fog</th>\n",
              "      <th>Rain</th>\n",
              "      <th>Heavy_Rain</th>\n",
              "      <th>Light_Rain</th>\n",
              "      <th>Snow</th>\n",
              "    </tr>\n",
              "  </thead>\n",
              "  <tbody>\n",
              "    <tr>\n",
              "      <th>TMC</th>\n",
              "      <td>1.000000</td>\n",
              "      <td>0.148428</td>\n",
              "      <td>0.088813</td>\n",
              "      <td>-0.068543</td>\n",
              "      <td>0.106910</td>\n",
              "      <td>-0.106979</td>\n",
              "      <td>-0.114784</td>\n",
              "      <td>0.007943</td>\n",
              "      <td>0.021223</td>\n",
              "      <td>0.014274</td>\n",
              "      <td>...</td>\n",
              "      <td>NaN</td>\n",
              "      <td>0.014883</td>\n",
              "      <td>0.136668</td>\n",
              "      <td>0.003193</td>\n",
              "      <td>-0.064817</td>\n",
              "      <td>-0.020586</td>\n",
              "      <td>0.006565</td>\n",
              "      <td>-0.024942</td>\n",
              "      <td>-0.021333</td>\n",
              "      <td>0.015852</td>\n",
              "    </tr>\n",
              "    <tr>\n",
              "      <th>Severity</th>\n",
              "      <td>0.148428</td>\n",
              "      <td>1.000000</td>\n",
              "      <td>0.292266</td>\n",
              "      <td>0.038825</td>\n",
              "      <td>0.162850</td>\n",
              "      <td>0.039679</td>\n",
              "      <td>0.027385</td>\n",
              "      <td>-0.143652</td>\n",
              "      <td>0.113232</td>\n",
              "      <td>-0.017907</td>\n",
              "      <td>...</td>\n",
              "      <td>NaN</td>\n",
              "      <td>-0.020641</td>\n",
              "      <td>0.026827</td>\n",
              "      <td>0.101839</td>\n",
              "      <td>0.239256</td>\n",
              "      <td>-0.048140</td>\n",
              "      <td>-0.009186</td>\n",
              "      <td>0.011957</td>\n",
              "      <td>0.015458</td>\n",
              "      <td>0.035082</td>\n",
              "    </tr>\n",
              "    <tr>\n",
              "      <th>Start_Lat</th>\n",
              "      <td>0.088813</td>\n",
              "      <td>0.292266</td>\n",
              "      <td>1.000000</td>\n",
              "      <td>-0.217712</td>\n",
              "      <td>0.013590</td>\n",
              "      <td>-0.043364</td>\n",
              "      <td>-0.048703</td>\n",
              "      <td>-0.113108</td>\n",
              "      <td>0.200477</td>\n",
              "      <td>-0.002154</td>\n",
              "      <td>...</td>\n",
              "      <td>NaN</td>\n",
              "      <td>-0.010869</td>\n",
              "      <td>0.131034</td>\n",
              "      <td>0.087021</td>\n",
              "      <td>0.119337</td>\n",
              "      <td>0.004468</td>\n",
              "      <td>-0.043503</td>\n",
              "      <td>0.007481</td>\n",
              "      <td>-0.038707</td>\n",
              "      <td>0.015078</td>\n",
              "    </tr>\n",
              "    <tr>\n",
              "      <th>Start_Lng</th>\n",
              "      <td>-0.068543</td>\n",
              "      <td>0.038825</td>\n",
              "      <td>-0.217712</td>\n",
              "      <td>1.000000</td>\n",
              "      <td>-0.035156</td>\n",
              "      <td>0.010555</td>\n",
              "      <td>0.014748</td>\n",
              "      <td>0.026117</td>\n",
              "      <td>0.619916</td>\n",
              "      <td>-0.066995</td>\n",
              "      <td>...</td>\n",
              "      <td>NaN</td>\n",
              "      <td>-0.083128</td>\n",
              "      <td>-0.032579</td>\n",
              "      <td>-0.036217</td>\n",
              "      <td>0.104572</td>\n",
              "      <td>-0.014680</td>\n",
              "      <td>0.022200</td>\n",
              "      <td>-0.027146</td>\n",
              "      <td>0.038240</td>\n",
              "      <td>-0.000180</td>\n",
              "    </tr>\n",
              "    <tr>\n",
              "      <th>Distance(mi)</th>\n",
              "      <td>0.106910</td>\n",
              "      <td>0.162850</td>\n",
              "      <td>0.013590</td>\n",
              "      <td>-0.035156</td>\n",
              "      <td>1.000000</td>\n",
              "      <td>-0.024828</td>\n",
              "      <td>-0.027322</td>\n",
              "      <td>-0.009967</td>\n",
              "      <td>-0.000183</td>\n",
              "      <td>0.028359</td>\n",
              "      <td>...</td>\n",
              "      <td>NaN</td>\n",
              "      <td>0.013359</td>\n",
              "      <td>0.039411</td>\n",
              "      <td>0.005040</td>\n",
              "      <td>0.005719</td>\n",
              "      <td>-0.017627</td>\n",
              "      <td>0.023594</td>\n",
              "      <td>-0.014478</td>\n",
              "      <td>-0.021193</td>\n",
              "      <td>0.007394</td>\n",
              "    </tr>\n",
              "    <tr>\n",
              "      <th>Temperature(F)</th>\n",
              "      <td>-0.106979</td>\n",
              "      <td>0.039679</td>\n",
              "      <td>-0.043364</td>\n",
              "      <td>0.010555</td>\n",
              "      <td>-0.024828</td>\n",
              "      <td>1.000000</td>\n",
              "      <td>0.994523</td>\n",
              "      <td>-0.300298</td>\n",
              "      <td>-0.283810</td>\n",
              "      <td>0.277601</td>\n",
              "      <td>...</td>\n",
              "      <td>NaN</td>\n",
              "      <td>0.167302</td>\n",
              "      <td>-0.399675</td>\n",
              "      <td>-0.026063</td>\n",
              "      <td>0.256331</td>\n",
              "      <td>-0.049105</td>\n",
              "      <td>-0.014172</td>\n",
              "      <td>-0.001371</td>\n",
              "      <td>-0.013666</td>\n",
              "      <td>-0.125890</td>\n",
              "    </tr>\n",
              "    <tr>\n",
              "      <th>Wind_Chill(F)</th>\n",
              "      <td>-0.114784</td>\n",
              "      <td>0.027385</td>\n",
              "      <td>-0.048703</td>\n",
              "      <td>0.014748</td>\n",
              "      <td>-0.027322</td>\n",
              "      <td>0.994523</td>\n",
              "      <td>1.000000</td>\n",
              "      <td>-0.283344</td>\n",
              "      <td>-0.288846</td>\n",
              "      <td>0.283585</td>\n",
              "      <td>...</td>\n",
              "      <td>NaN</td>\n",
              "      <td>0.179672</td>\n",
              "      <td>-0.410120</td>\n",
              "      <td>-0.024234</td>\n",
              "      <td>0.242143</td>\n",
              "      <td>-0.041864</td>\n",
              "      <td>-0.010477</td>\n",
              "      <td>0.001808</td>\n",
              "      <td>-0.006347</td>\n",
              "      <td>-0.139348</td>\n",
              "    </tr>\n",
              "    <tr>\n",
              "      <th>Humidity(%)</th>\n",
              "      <td>0.007943</td>\n",
              "      <td>-0.143652</td>\n",
              "      <td>-0.113108</td>\n",
              "      <td>0.026117</td>\n",
              "      <td>-0.009967</td>\n",
              "      <td>-0.300298</td>\n",
              "      <td>-0.283344</td>\n",
              "      <td>1.000000</td>\n",
              "      <td>-0.012268</td>\n",
              "      <td>-0.462650</td>\n",
              "      <td>...</td>\n",
              "      <td>NaN</td>\n",
              "      <td>-0.065639</td>\n",
              "      <td>0.009237</td>\n",
              "      <td>-0.014476</td>\n",
              "      <td>-0.451580</td>\n",
              "      <td>0.139755</td>\n",
              "      <td>0.131415</td>\n",
              "      <td>0.086324</td>\n",
              "      <td>0.265501</td>\n",
              "      <td>0.067315</td>\n",
              "    </tr>\n",
              "    <tr>\n",
              "      <th>Pressure(in)</th>\n",
              "      <td>0.021223</td>\n",
              "      <td>0.113232</td>\n",
              "      <td>0.200477</td>\n",
              "      <td>0.619916</td>\n",
              "      <td>-0.000183</td>\n",
              "      <td>-0.283810</td>\n",
              "      <td>-0.288846</td>\n",
              "      <td>-0.012268</td>\n",
              "      <td>1.000000</td>\n",
              "      <td>-0.085345</td>\n",
              "      <td>...</td>\n",
              "      <td>NaN</td>\n",
              "      <td>-0.275969</td>\n",
              "      <td>0.124091</td>\n",
              "      <td>0.037924</td>\n",
              "      <td>0.017365</td>\n",
              "      <td>-0.020760</td>\n",
              "      <td>-0.033784</td>\n",
              "      <td>-0.035389</td>\n",
              "      <td>-0.036140</td>\n",
              "      <td>0.021722</td>\n",
              "    </tr>\n",
              "    <tr>\n",
              "      <th>Visibility(mi)</th>\n",
              "      <td>0.014274</td>\n",
              "      <td>-0.017907</td>\n",
              "      <td>-0.002154</td>\n",
              "      <td>-0.066995</td>\n",
              "      <td>0.028359</td>\n",
              "      <td>0.277601</td>\n",
              "      <td>0.283585</td>\n",
              "      <td>-0.462650</td>\n",
              "      <td>-0.085345</td>\n",
              "      <td>1.000000</td>\n",
              "      <td>...</td>\n",
              "      <td>NaN</td>\n",
              "      <td>0.125536</td>\n",
              "      <td>0.003633</td>\n",
              "      <td>-0.025283</td>\n",
              "      <td>0.048980</td>\n",
              "      <td>-0.327139</td>\n",
              "      <td>-0.249112</td>\n",
              "      <td>-0.201288</td>\n",
              "      <td>-0.217669</td>\n",
              "      <td>-0.238447</td>\n",
              "    </tr>\n",
              "    <tr>\n",
              "      <th>Wind_Speed(mph)</th>\n",
              "      <td>0.013770</td>\n",
              "      <td>0.085527</td>\n",
              "      <td>0.013163</td>\n",
              "      <td>-0.096237</td>\n",
              "      <td>0.008438</td>\n",
              "      <td>0.006906</td>\n",
              "      <td>-0.039005</td>\n",
              "      <td>-0.254556</td>\n",
              "      <td>-0.190227</td>\n",
              "      <td>-0.028383</td>\n",
              "      <td>...</td>\n",
              "      <td>NaN</td>\n",
              "      <td>-0.036268</td>\n",
              "      <td>-0.030071</td>\n",
              "      <td>0.019086</td>\n",
              "      <td>0.150176</td>\n",
              "      <td>-0.082276</td>\n",
              "      <td>0.024850</td>\n",
              "      <td>0.006582</td>\n",
              "      <td>0.024430</td>\n",
              "      <td>0.060778</td>\n",
              "    </tr>\n",
              "    <tr>\n",
              "      <th>Precipitation(in)</th>\n",
              "      <td>-0.031031</td>\n",
              "      <td>0.013190</td>\n",
              "      <td>0.010465</td>\n",
              "      <td>0.015847</td>\n",
              "      <td>-0.016308</td>\n",
              "      <td>0.027493</td>\n",
              "      <td>0.030350</td>\n",
              "      <td>0.198773</td>\n",
              "      <td>-0.046098</td>\n",
              "      <td>-0.260113</td>\n",
              "      <td>...</td>\n",
              "      <td>NaN</td>\n",
              "      <td>0.013130</td>\n",
              "      <td>-0.063415</td>\n",
              "      <td>0.005070</td>\n",
              "      <td>-0.020578</td>\n",
              "      <td>-0.018524</td>\n",
              "      <td>0.177018</td>\n",
              "      <td>0.167981</td>\n",
              "      <td>0.118139</td>\n",
              "      <td>0.028297</td>\n",
              "    </tr>\n",
              "    <tr>\n",
              "      <th>Amenity</th>\n",
              "      <td>-0.019024</td>\n",
              "      <td>-0.037973</td>\n",
              "      <td>-0.041214</td>\n",
              "      <td>0.019377</td>\n",
              "      <td>-0.013324</td>\n",
              "      <td>-0.002590</td>\n",
              "      <td>-0.002536</td>\n",
              "      <td>0.005819</td>\n",
              "      <td>0.009929</td>\n",
              "      <td>-0.033674</td>\n",
              "      <td>...</td>\n",
              "      <td>NaN</td>\n",
              "      <td>0.007434</td>\n",
              "      <td>-0.040860</td>\n",
              "      <td>-0.002726</td>\n",
              "      <td>0.012200</td>\n",
              "      <td>0.019507</td>\n",
              "      <td>-0.007732</td>\n",
              "      <td>-0.004802</td>\n",
              "      <td>0.013012</td>\n",
              "      <td>0.075808</td>\n",
              "    </tr>\n",
              "    <tr>\n",
              "      <th>Crossing</th>\n",
              "      <td>-0.009203</td>\n",
              "      <td>-0.017579</td>\n",
              "      <td>0.022173</td>\n",
              "      <td>-0.106457</td>\n",
              "      <td>-0.006696</td>\n",
              "      <td>0.006124</td>\n",
              "      <td>0.005007</td>\n",
              "      <td>-0.016137</td>\n",
              "      <td>-0.052664</td>\n",
              "      <td>0.031574</td>\n",
              "      <td>...</td>\n",
              "      <td>NaN</td>\n",
              "      <td>0.013730</td>\n",
              "      <td>-0.001070</td>\n",
              "      <td>0.025309</td>\n",
              "      <td>-0.001891</td>\n",
              "      <td>-0.013022</td>\n",
              "      <td>-0.014281</td>\n",
              "      <td>-0.008869</td>\n",
              "      <td>-0.017361</td>\n",
              "      <td>-0.008545</td>\n",
              "    </tr>\n",
              "    <tr>\n",
              "      <th>Give_Way</th>\n",
              "      <td>-0.024736</td>\n",
              "      <td>-0.044332</td>\n",
              "      <td>0.017070</td>\n",
              "      <td>-0.012288</td>\n",
              "      <td>0.025259</td>\n",
              "      <td>-0.005074</td>\n",
              "      <td>-0.004437</td>\n",
              "      <td>-0.007624</td>\n",
              "      <td>-0.015058</td>\n",
              "      <td>-0.002626</td>\n",
              "      <td>...</td>\n",
              "      <td>NaN</td>\n",
              "      <td>0.009115</td>\n",
              "      <td>0.025351</td>\n",
              "      <td>0.005471</td>\n",
              "      <td>0.012787</td>\n",
              "      <td>-0.008645</td>\n",
              "      <td>-0.009481</td>\n",
              "      <td>-0.005888</td>\n",
              "      <td>-0.005740</td>\n",
              "      <td>-0.005673</td>\n",
              "    </tr>\n",
              "    <tr>\n",
              "      <th>Junction</th>\n",
              "      <td>0.013640</td>\n",
              "      <td>0.069401</td>\n",
              "      <td>0.085295</td>\n",
              "      <td>-0.002434</td>\n",
              "      <td>0.020382</td>\n",
              "      <td>-0.002556</td>\n",
              "      <td>-0.002530</td>\n",
              "      <td>-0.039556</td>\n",
              "      <td>0.017723</td>\n",
              "      <td>-0.010179</td>\n",
              "      <td>...</td>\n",
              "      <td>NaN</td>\n",
              "      <td>0.019431</td>\n",
              "      <td>0.015402</td>\n",
              "      <td>0.026373</td>\n",
              "      <td>0.012261</td>\n",
              "      <td>-0.001629</td>\n",
              "      <td>0.012048</td>\n",
              "      <td>-0.009813</td>\n",
              "      <td>0.012885</td>\n",
              "      <td>0.012130</td>\n",
              "    </tr>\n",
              "    <tr>\n",
              "      <th>No_Exit</th>\n",
              "      <td>0.002936</td>\n",
              "      <td>0.013522</td>\n",
              "      <td>0.013679</td>\n",
              "      <td>-0.049880</td>\n",
              "      <td>0.000080</td>\n",
              "      <td>0.009674</td>\n",
              "      <td>0.009989</td>\n",
              "      <td>-0.023891</td>\n",
              "      <td>-0.020602</td>\n",
              "      <td>0.016051</td>\n",
              "      <td>...</td>\n",
              "      <td>NaN</td>\n",
              "      <td>0.004009</td>\n",
              "      <td>-0.016777</td>\n",
              "      <td>0.017514</td>\n",
              "      <td>-0.008741</td>\n",
              "      <td>-0.003802</td>\n",
              "      <td>-0.004169</td>\n",
              "      <td>-0.002589</td>\n",
              "      <td>-0.010157</td>\n",
              "      <td>-0.002495</td>\n",
              "    </tr>\n",
              "    <tr>\n",
              "      <th>Railway</th>\n",
              "      <td>-0.010517</td>\n",
              "      <td>-0.039646</td>\n",
              "      <td>-0.033584</td>\n",
              "      <td>0.004230</td>\n",
              "      <td>-0.006311</td>\n",
              "      <td>0.024173</td>\n",
              "      <td>0.023591</td>\n",
              "      <td>-0.007166</td>\n",
              "      <td>-0.010332</td>\n",
              "      <td>0.001175</td>\n",
              "      <td>...</td>\n",
              "      <td>NaN</td>\n",
              "      <td>0.003387</td>\n",
              "      <td>-0.000697</td>\n",
              "      <td>-0.010225</td>\n",
              "      <td>-0.001486</td>\n",
              "      <td>-0.003213</td>\n",
              "      <td>-0.003523</td>\n",
              "      <td>-0.002188</td>\n",
              "      <td>-0.008583</td>\n",
              "      <td>-0.002108</td>\n",
              "    </tr>\n",
              "    <tr>\n",
              "      <th>Station</th>\n",
              "      <td>-0.017996</td>\n",
              "      <td>-0.064911</td>\n",
              "      <td>-0.134056</td>\n",
              "      <td>-0.028654</td>\n",
              "      <td>-0.010259</td>\n",
              "      <td>0.012858</td>\n",
              "      <td>0.013110</td>\n",
              "      <td>0.026671</td>\n",
              "      <td>-0.075875</td>\n",
              "      <td>-0.007610</td>\n",
              "      <td>...</td>\n",
              "      <td>NaN</td>\n",
              "      <td>0.008725</td>\n",
              "      <td>-0.014128</td>\n",
              "      <td>-0.024233</td>\n",
              "      <td>-0.015212</td>\n",
              "      <td>0.014393</td>\n",
              "      <td>0.011641</td>\n",
              "      <td>-0.005636</td>\n",
              "      <td>0.005077</td>\n",
              "      <td>-0.005430</td>\n",
              "    </tr>\n",
              "    <tr>\n",
              "      <th>Stop</th>\n",
              "      <td>-0.010661</td>\n",
              "      <td>-0.046468</td>\n",
              "      <td>-0.005382</td>\n",
              "      <td>0.028543</td>\n",
              "      <td>-0.016198</td>\n",
              "      <td>-0.000088</td>\n",
              "      <td>0.001425</td>\n",
              "      <td>0.011171</td>\n",
              "      <td>0.021790</td>\n",
              "      <td>-0.003222</td>\n",
              "      <td>...</td>\n",
              "      <td>NaN</td>\n",
              "      <td>0.008987</td>\n",
              "      <td>0.009793</td>\n",
              "      <td>-0.004147</td>\n",
              "      <td>-0.011770</td>\n",
              "      <td>0.013491</td>\n",
              "      <td>-0.009347</td>\n",
              "      <td>-0.005805</td>\n",
              "      <td>-0.005171</td>\n",
              "      <td>-0.005593</td>\n",
              "    </tr>\n",
              "    <tr>\n",
              "      <th>Traffic_Calming</th>\n",
              "      <td>0.007382</td>\n",
              "      <td>0.012607</td>\n",
              "      <td>-0.000136</td>\n",
              "      <td>0.014229</td>\n",
              "      <td>-0.003990</td>\n",
              "      <td>-0.014476</td>\n",
              "      <td>-0.012269</td>\n",
              "      <td>-0.002658</td>\n",
              "      <td>0.010100</td>\n",
              "      <td>0.008576</td>\n",
              "      <td>...</td>\n",
              "      <td>NaN</td>\n",
              "      <td>0.002142</td>\n",
              "      <td>0.021757</td>\n",
              "      <td>-0.014985</td>\n",
              "      <td>0.002325</td>\n",
              "      <td>-0.002031</td>\n",
              "      <td>-0.002228</td>\n",
              "      <td>-0.001383</td>\n",
              "      <td>-0.005427</td>\n",
              "      <td>-0.001333</td>\n",
              "    </tr>\n",
              "    <tr>\n",
              "      <th>Traffic_Signal</th>\n",
              "      <td>-0.035047</td>\n",
              "      <td>-0.175783</td>\n",
              "      <td>-0.176037</td>\n",
              "      <td>0.064834</td>\n",
              "      <td>-0.044246</td>\n",
              "      <td>0.004554</td>\n",
              "      <td>0.005641</td>\n",
              "      <td>-0.011157</td>\n",
              "      <td>-0.014116</td>\n",
              "      <td>0.031698</td>\n",
              "      <td>...</td>\n",
              "      <td>NaN</td>\n",
              "      <td>-0.003053</td>\n",
              "      <td>-0.028694</td>\n",
              "      <td>-0.039205</td>\n",
              "      <td>0.000927</td>\n",
              "      <td>-0.006793</td>\n",
              "      <td>-0.008438</td>\n",
              "      <td>-0.018829</td>\n",
              "      <td>0.009727</td>\n",
              "      <td>-0.025743</td>\n",
              "    </tr>\n",
              "    <tr>\n",
              "      <th>Turning_Loop</th>\n",
              "      <td>NaN</td>\n",
              "      <td>NaN</td>\n",
              "      <td>NaN</td>\n",
              "      <td>NaN</td>\n",
              "      <td>NaN</td>\n",
              "      <td>NaN</td>\n",
              "      <td>NaN</td>\n",
              "      <td>NaN</td>\n",
              "      <td>NaN</td>\n",
              "      <td>NaN</td>\n",
              "      <td>...</td>\n",
              "      <td>NaN</td>\n",
              "      <td>NaN</td>\n",
              "      <td>NaN</td>\n",
              "      <td>NaN</td>\n",
              "      <td>NaN</td>\n",
              "      <td>NaN</td>\n",
              "      <td>NaN</td>\n",
              "      <td>NaN</td>\n",
              "      <td>NaN</td>\n",
              "      <td>NaN</td>\n",
              "    </tr>\n",
              "    <tr>\n",
              "      <th>Start_Year</th>\n",
              "      <td>0.014883</td>\n",
              "      <td>-0.020641</td>\n",
              "      <td>-0.010869</td>\n",
              "      <td>-0.083128</td>\n",
              "      <td>0.013359</td>\n",
              "      <td>0.167302</td>\n",
              "      <td>0.179672</td>\n",
              "      <td>-0.065639</td>\n",
              "      <td>-0.275969</td>\n",
              "      <td>0.125536</td>\n",
              "      <td>...</td>\n",
              "      <td>NaN</td>\n",
              "      <td>1.000000</td>\n",
              "      <td>0.127365</td>\n",
              "      <td>-0.045093</td>\n",
              "      <td>0.034808</td>\n",
              "      <td>0.011794</td>\n",
              "      <td>0.012934</td>\n",
              "      <td>0.008033</td>\n",
              "      <td>-0.057048</td>\n",
              "      <td>0.007739</td>\n",
              "    </tr>\n",
              "    <tr>\n",
              "      <th>Start_Month</th>\n",
              "      <td>0.136668</td>\n",
              "      <td>0.026827</td>\n",
              "      <td>0.131034</td>\n",
              "      <td>-0.032579</td>\n",
              "      <td>0.039411</td>\n",
              "      <td>-0.399675</td>\n",
              "      <td>-0.410120</td>\n",
              "      <td>0.009237</td>\n",
              "      <td>0.124091</td>\n",
              "      <td>0.003633</td>\n",
              "      <td>...</td>\n",
              "      <td>NaN</td>\n",
              "      <td>0.127365</td>\n",
              "      <td>1.000000</td>\n",
              "      <td>0.027923</td>\n",
              "      <td>-0.009487</td>\n",
              "      <td>-0.020255</td>\n",
              "      <td>-0.003594</td>\n",
              "      <td>-0.015964</td>\n",
              "      <td>-0.105690</td>\n",
              "      <td>0.078621</td>\n",
              "    </tr>\n",
              "    <tr>\n",
              "      <th>Start_Dayofweek</th>\n",
              "      <td>0.003193</td>\n",
              "      <td>0.101839</td>\n",
              "      <td>0.087021</td>\n",
              "      <td>-0.036217</td>\n",
              "      <td>0.005040</td>\n",
              "      <td>-0.026063</td>\n",
              "      <td>-0.024234</td>\n",
              "      <td>-0.014476</td>\n",
              "      <td>0.037924</td>\n",
              "      <td>-0.025283</td>\n",
              "      <td>...</td>\n",
              "      <td>NaN</td>\n",
              "      <td>-0.045093</td>\n",
              "      <td>0.027923</td>\n",
              "      <td>1.000000</td>\n",
              "      <td>0.132460</td>\n",
              "      <td>-0.027783</td>\n",
              "      <td>0.035453</td>\n",
              "      <td>0.050787</td>\n",
              "      <td>0.046009</td>\n",
              "      <td>0.013937</td>\n",
              "    </tr>\n",
              "    <tr>\n",
              "      <th>Start_Hour</th>\n",
              "      <td>-0.064817</td>\n",
              "      <td>0.239256</td>\n",
              "      <td>0.119337</td>\n",
              "      <td>0.104572</td>\n",
              "      <td>0.005719</td>\n",
              "      <td>0.256331</td>\n",
              "      <td>0.242143</td>\n",
              "      <td>-0.451580</td>\n",
              "      <td>0.017365</td>\n",
              "      <td>0.048980</td>\n",
              "      <td>...</td>\n",
              "      <td>NaN</td>\n",
              "      <td>0.034808</td>\n",
              "      <td>-0.009487</td>\n",
              "      <td>0.132460</td>\n",
              "      <td>1.000000</td>\n",
              "      <td>-0.057603</td>\n",
              "      <td>-0.028400</td>\n",
              "      <td>-0.013691</td>\n",
              "      <td>0.011294</td>\n",
              "      <td>0.005564</td>\n",
              "    </tr>\n",
              "    <tr>\n",
              "      <th>Fog</th>\n",
              "      <td>-0.020586</td>\n",
              "      <td>-0.048140</td>\n",
              "      <td>0.004468</td>\n",
              "      <td>-0.014680</td>\n",
              "      <td>-0.017627</td>\n",
              "      <td>-0.049105</td>\n",
              "      <td>-0.041864</td>\n",
              "      <td>0.139755</td>\n",
              "      <td>-0.020760</td>\n",
              "      <td>-0.327139</td>\n",
              "      <td>...</td>\n",
              "      <td>NaN</td>\n",
              "      <td>0.011794</td>\n",
              "      <td>-0.020255</td>\n",
              "      <td>-0.027783</td>\n",
              "      <td>-0.057603</td>\n",
              "      <td>1.000000</td>\n",
              "      <td>-0.012267</td>\n",
              "      <td>-0.007619</td>\n",
              "      <td>-0.029883</td>\n",
              "      <td>-0.007340</td>\n",
              "    </tr>\n",
              "    <tr>\n",
              "      <th>Rain</th>\n",
              "      <td>0.006565</td>\n",
              "      <td>-0.009186</td>\n",
              "      <td>-0.043503</td>\n",
              "      <td>0.022200</td>\n",
              "      <td>0.023594</td>\n",
              "      <td>-0.014172</td>\n",
              "      <td>-0.010477</td>\n",
              "      <td>0.131415</td>\n",
              "      <td>-0.033784</td>\n",
              "      <td>-0.249112</td>\n",
              "      <td>...</td>\n",
              "      <td>NaN</td>\n",
              "      <td>0.012934</td>\n",
              "      <td>-0.003594</td>\n",
              "      <td>0.035453</td>\n",
              "      <td>-0.028400</td>\n",
              "      <td>-0.012267</td>\n",
              "      <td>1.000000</td>\n",
              "      <td>-0.008355</td>\n",
              "      <td>-0.032772</td>\n",
              "      <td>-0.008050</td>\n",
              "    </tr>\n",
              "    <tr>\n",
              "      <th>Heavy_Rain</th>\n",
              "      <td>-0.024942</td>\n",
              "      <td>0.011957</td>\n",
              "      <td>0.007481</td>\n",
              "      <td>-0.027146</td>\n",
              "      <td>-0.014478</td>\n",
              "      <td>-0.001371</td>\n",
              "      <td>0.001808</td>\n",
              "      <td>0.086324</td>\n",
              "      <td>-0.035389</td>\n",
              "      <td>-0.201288</td>\n",
              "      <td>...</td>\n",
              "      <td>NaN</td>\n",
              "      <td>0.008033</td>\n",
              "      <td>-0.015964</td>\n",
              "      <td>0.050787</td>\n",
              "      <td>-0.013691</td>\n",
              "      <td>-0.007619</td>\n",
              "      <td>-0.008355</td>\n",
              "      <td>1.000000</td>\n",
              "      <td>-0.020353</td>\n",
              "      <td>-0.004999</td>\n",
              "    </tr>\n",
              "    <tr>\n",
              "      <th>Light_Rain</th>\n",
              "      <td>-0.021333</td>\n",
              "      <td>0.015458</td>\n",
              "      <td>-0.038707</td>\n",
              "      <td>0.038240</td>\n",
              "      <td>-0.021193</td>\n",
              "      <td>-0.013666</td>\n",
              "      <td>-0.006347</td>\n",
              "      <td>0.265501</td>\n",
              "      <td>-0.036140</td>\n",
              "      <td>-0.217669</td>\n",
              "      <td>...</td>\n",
              "      <td>NaN</td>\n",
              "      <td>-0.057048</td>\n",
              "      <td>-0.105690</td>\n",
              "      <td>0.046009</td>\n",
              "      <td>0.011294</td>\n",
              "      <td>-0.029883</td>\n",
              "      <td>-0.032772</td>\n",
              "      <td>-0.020353</td>\n",
              "      <td>1.000000</td>\n",
              "      <td>-0.019609</td>\n",
              "    </tr>\n",
              "    <tr>\n",
              "      <th>Snow</th>\n",
              "      <td>0.015852</td>\n",
              "      <td>0.035082</td>\n",
              "      <td>0.015078</td>\n",
              "      <td>-0.000180</td>\n",
              "      <td>0.007394</td>\n",
              "      <td>-0.125890</td>\n",
              "      <td>-0.139348</td>\n",
              "      <td>0.067315</td>\n",
              "      <td>0.021722</td>\n",
              "      <td>-0.238447</td>\n",
              "      <td>...</td>\n",
              "      <td>NaN</td>\n",
              "      <td>0.007739</td>\n",
              "      <td>0.078621</td>\n",
              "      <td>0.013937</td>\n",
              "      <td>0.005564</td>\n",
              "      <td>-0.007340</td>\n",
              "      <td>-0.008050</td>\n",
              "      <td>-0.004999</td>\n",
              "      <td>-0.019609</td>\n",
              "      <td>1.000000</td>\n",
              "    </tr>\n",
              "  </tbody>\n",
              "</table>\n",
              "<p>32 rows × 32 columns</p>\n",
              "</div>"
            ],
            "text/plain": [
              "                        TMC  Severity  Start_Lat  Start_Lng  Distance(mi)  \\\n",
              "TMC                1.000000  0.148428   0.088813  -0.068543      0.106910   \n",
              "Severity           0.148428  1.000000   0.292266   0.038825      0.162850   \n",
              "Start_Lat          0.088813  0.292266   1.000000  -0.217712      0.013590   \n",
              "Start_Lng         -0.068543  0.038825  -0.217712   1.000000     -0.035156   \n",
              "Distance(mi)       0.106910  0.162850   0.013590  -0.035156      1.000000   \n",
              "Temperature(F)    -0.106979  0.039679  -0.043364   0.010555     -0.024828   \n",
              "Wind_Chill(F)     -0.114784  0.027385  -0.048703   0.014748     -0.027322   \n",
              "Humidity(%)        0.007943 -0.143652  -0.113108   0.026117     -0.009967   \n",
              "Pressure(in)       0.021223  0.113232   0.200477   0.619916     -0.000183   \n",
              "Visibility(mi)     0.014274 -0.017907  -0.002154  -0.066995      0.028359   \n",
              "Wind_Speed(mph)    0.013770  0.085527   0.013163  -0.096237      0.008438   \n",
              "Precipitation(in) -0.031031  0.013190   0.010465   0.015847     -0.016308   \n",
              "Amenity           -0.019024 -0.037973  -0.041214   0.019377     -0.013324   \n",
              "Crossing          -0.009203 -0.017579   0.022173  -0.106457     -0.006696   \n",
              "Give_Way          -0.024736 -0.044332   0.017070  -0.012288      0.025259   \n",
              "Junction           0.013640  0.069401   0.085295  -0.002434      0.020382   \n",
              "No_Exit            0.002936  0.013522   0.013679  -0.049880      0.000080   \n",
              "Railway           -0.010517 -0.039646  -0.033584   0.004230     -0.006311   \n",
              "Station           -0.017996 -0.064911  -0.134056  -0.028654     -0.010259   \n",
              "Stop              -0.010661 -0.046468  -0.005382   0.028543     -0.016198   \n",
              "Traffic_Calming    0.007382  0.012607  -0.000136   0.014229     -0.003990   \n",
              "Traffic_Signal    -0.035047 -0.175783  -0.176037   0.064834     -0.044246   \n",
              "Turning_Loop            NaN       NaN        NaN        NaN           NaN   \n",
              "Start_Year         0.014883 -0.020641  -0.010869  -0.083128      0.013359   \n",
              "Start_Month        0.136668  0.026827   0.131034  -0.032579      0.039411   \n",
              "Start_Dayofweek    0.003193  0.101839   0.087021  -0.036217      0.005040   \n",
              "Start_Hour        -0.064817  0.239256   0.119337   0.104572      0.005719   \n",
              "Fog               -0.020586 -0.048140   0.004468  -0.014680     -0.017627   \n",
              "Rain               0.006565 -0.009186  -0.043503   0.022200      0.023594   \n",
              "Heavy_Rain        -0.024942  0.011957   0.007481  -0.027146     -0.014478   \n",
              "Light_Rain        -0.021333  0.015458  -0.038707   0.038240     -0.021193   \n",
              "Snow               0.015852  0.035082   0.015078  -0.000180      0.007394   \n",
              "\n",
              "                   Temperature(F)  Wind_Chill(F)  Humidity(%)  Pressure(in)  \\\n",
              "TMC                     -0.106979      -0.114784     0.007943      0.021223   \n",
              "Severity                 0.039679       0.027385    -0.143652      0.113232   \n",
              "Start_Lat               -0.043364      -0.048703    -0.113108      0.200477   \n",
              "Start_Lng                0.010555       0.014748     0.026117      0.619916   \n",
              "Distance(mi)            -0.024828      -0.027322    -0.009967     -0.000183   \n",
              "Temperature(F)           1.000000       0.994523    -0.300298     -0.283810   \n",
              "Wind_Chill(F)            0.994523       1.000000    -0.283344     -0.288846   \n",
              "Humidity(%)             -0.300298      -0.283344     1.000000     -0.012268   \n",
              "Pressure(in)            -0.283810      -0.288846    -0.012268      1.000000   \n",
              "Visibility(mi)           0.277601       0.283585    -0.462650     -0.085345   \n",
              "Wind_Speed(mph)          0.006906      -0.039005    -0.254556     -0.190227   \n",
              "Precipitation(in)        0.027493       0.030350     0.198773     -0.046098   \n",
              "Amenity                 -0.002590      -0.002536     0.005819      0.009929   \n",
              "Crossing                 0.006124       0.005007    -0.016137     -0.052664   \n",
              "Give_Way                -0.005074      -0.004437    -0.007624     -0.015058   \n",
              "Junction                -0.002556      -0.002530    -0.039556      0.017723   \n",
              "No_Exit                  0.009674       0.009989    -0.023891     -0.020602   \n",
              "Railway                  0.024173       0.023591    -0.007166     -0.010332   \n",
              "Station                  0.012858       0.013110     0.026671     -0.075875   \n",
              "Stop                    -0.000088       0.001425     0.011171      0.021790   \n",
              "Traffic_Calming         -0.014476      -0.012269    -0.002658      0.010100   \n",
              "Traffic_Signal           0.004554       0.005641    -0.011157     -0.014116   \n",
              "Turning_Loop                  NaN            NaN          NaN           NaN   \n",
              "Start_Year               0.167302       0.179672    -0.065639     -0.275969   \n",
              "Start_Month             -0.399675      -0.410120     0.009237      0.124091   \n",
              "Start_Dayofweek         -0.026063      -0.024234    -0.014476      0.037924   \n",
              "Start_Hour               0.256331       0.242143    -0.451580      0.017365   \n",
              "Fog                     -0.049105      -0.041864     0.139755     -0.020760   \n",
              "Rain                    -0.014172      -0.010477     0.131415     -0.033784   \n",
              "Heavy_Rain              -0.001371       0.001808     0.086324     -0.035389   \n",
              "Light_Rain              -0.013666      -0.006347     0.265501     -0.036140   \n",
              "Snow                    -0.125890      -0.139348     0.067315      0.021722   \n",
              "\n",
              "                   Visibility(mi)  ...  Turning_Loop  Start_Year  Start_Month  \\\n",
              "TMC                      0.014274  ...           NaN    0.014883     0.136668   \n",
              "Severity                -0.017907  ...           NaN   -0.020641     0.026827   \n",
              "Start_Lat               -0.002154  ...           NaN   -0.010869     0.131034   \n",
              "Start_Lng               -0.066995  ...           NaN   -0.083128    -0.032579   \n",
              "Distance(mi)             0.028359  ...           NaN    0.013359     0.039411   \n",
              "Temperature(F)           0.277601  ...           NaN    0.167302    -0.399675   \n",
              "Wind_Chill(F)            0.283585  ...           NaN    0.179672    -0.410120   \n",
              "Humidity(%)             -0.462650  ...           NaN   -0.065639     0.009237   \n",
              "Pressure(in)            -0.085345  ...           NaN   -0.275969     0.124091   \n",
              "Visibility(mi)           1.000000  ...           NaN    0.125536     0.003633   \n",
              "Wind_Speed(mph)         -0.028383  ...           NaN   -0.036268    -0.030071   \n",
              "Precipitation(in)       -0.260113  ...           NaN    0.013130    -0.063415   \n",
              "Amenity                 -0.033674  ...           NaN    0.007434    -0.040860   \n",
              "Crossing                 0.031574  ...           NaN    0.013730    -0.001070   \n",
              "Give_Way                -0.002626  ...           NaN    0.009115     0.025351   \n",
              "Junction                -0.010179  ...           NaN    0.019431     0.015402   \n",
              "No_Exit                  0.016051  ...           NaN    0.004009    -0.016777   \n",
              "Railway                  0.001175  ...           NaN    0.003387    -0.000697   \n",
              "Station                 -0.007610  ...           NaN    0.008725    -0.014128   \n",
              "Stop                    -0.003222  ...           NaN    0.008987     0.009793   \n",
              "Traffic_Calming          0.008576  ...           NaN    0.002142     0.021757   \n",
              "Traffic_Signal           0.031698  ...           NaN   -0.003053    -0.028694   \n",
              "Turning_Loop                  NaN  ...           NaN         NaN          NaN   \n",
              "Start_Year               0.125536  ...           NaN    1.000000     0.127365   \n",
              "Start_Month              0.003633  ...           NaN    0.127365     1.000000   \n",
              "Start_Dayofweek         -0.025283  ...           NaN   -0.045093     0.027923   \n",
              "Start_Hour               0.048980  ...           NaN    0.034808    -0.009487   \n",
              "Fog                     -0.327139  ...           NaN    0.011794    -0.020255   \n",
              "Rain                    -0.249112  ...           NaN    0.012934    -0.003594   \n",
              "Heavy_Rain              -0.201288  ...           NaN    0.008033    -0.015964   \n",
              "Light_Rain              -0.217669  ...           NaN   -0.057048    -0.105690   \n",
              "Snow                    -0.238447  ...           NaN    0.007739     0.078621   \n",
              "\n",
              "                   Start_Dayofweek  Start_Hour       Fog      Rain  \\\n",
              "TMC                       0.003193   -0.064817 -0.020586  0.006565   \n",
              "Severity                  0.101839    0.239256 -0.048140 -0.009186   \n",
              "Start_Lat                 0.087021    0.119337  0.004468 -0.043503   \n",
              "Start_Lng                -0.036217    0.104572 -0.014680  0.022200   \n",
              "Distance(mi)              0.005040    0.005719 -0.017627  0.023594   \n",
              "Temperature(F)           -0.026063    0.256331 -0.049105 -0.014172   \n",
              "Wind_Chill(F)            -0.024234    0.242143 -0.041864 -0.010477   \n",
              "Humidity(%)              -0.014476   -0.451580  0.139755  0.131415   \n",
              "Pressure(in)              0.037924    0.017365 -0.020760 -0.033784   \n",
              "Visibility(mi)           -0.025283    0.048980 -0.327139 -0.249112   \n",
              "Wind_Speed(mph)           0.019086    0.150176 -0.082276  0.024850   \n",
              "Precipitation(in)         0.005070   -0.020578 -0.018524  0.177018   \n",
              "Amenity                  -0.002726    0.012200  0.019507 -0.007732   \n",
              "Crossing                  0.025309   -0.001891 -0.013022 -0.014281   \n",
              "Give_Way                  0.005471    0.012787 -0.008645 -0.009481   \n",
              "Junction                  0.026373    0.012261 -0.001629  0.012048   \n",
              "No_Exit                   0.017514   -0.008741 -0.003802 -0.004169   \n",
              "Railway                  -0.010225   -0.001486 -0.003213 -0.003523   \n",
              "Station                  -0.024233   -0.015212  0.014393  0.011641   \n",
              "Stop                     -0.004147   -0.011770  0.013491 -0.009347   \n",
              "Traffic_Calming          -0.014985    0.002325 -0.002031 -0.002228   \n",
              "Traffic_Signal           -0.039205    0.000927 -0.006793 -0.008438   \n",
              "Turning_Loop                   NaN         NaN       NaN       NaN   \n",
              "Start_Year               -0.045093    0.034808  0.011794  0.012934   \n",
              "Start_Month               0.027923   -0.009487 -0.020255 -0.003594   \n",
              "Start_Dayofweek           1.000000    0.132460 -0.027783  0.035453   \n",
              "Start_Hour                0.132460    1.000000 -0.057603 -0.028400   \n",
              "Fog                      -0.027783   -0.057603  1.000000 -0.012267   \n",
              "Rain                      0.035453   -0.028400 -0.012267  1.000000   \n",
              "Heavy_Rain                0.050787   -0.013691 -0.007619 -0.008355   \n",
              "Light_Rain                0.046009    0.011294 -0.029883 -0.032772   \n",
              "Snow                      0.013937    0.005564 -0.007340 -0.008050   \n",
              "\n",
              "                   Heavy_Rain  Light_Rain      Snow  \n",
              "TMC                 -0.024942   -0.021333  0.015852  \n",
              "Severity             0.011957    0.015458  0.035082  \n",
              "Start_Lat            0.007481   -0.038707  0.015078  \n",
              "Start_Lng           -0.027146    0.038240 -0.000180  \n",
              "Distance(mi)        -0.014478   -0.021193  0.007394  \n",
              "Temperature(F)      -0.001371   -0.013666 -0.125890  \n",
              "Wind_Chill(F)        0.001808   -0.006347 -0.139348  \n",
              "Humidity(%)          0.086324    0.265501  0.067315  \n",
              "Pressure(in)        -0.035389   -0.036140  0.021722  \n",
              "Visibility(mi)      -0.201288   -0.217669 -0.238447  \n",
              "Wind_Speed(mph)      0.006582    0.024430  0.060778  \n",
              "Precipitation(in)    0.167981    0.118139  0.028297  \n",
              "Amenity             -0.004802    0.013012  0.075808  \n",
              "Crossing            -0.008869   -0.017361 -0.008545  \n",
              "Give_Way            -0.005888   -0.005740 -0.005673  \n",
              "Junction            -0.009813    0.012885  0.012130  \n",
              "No_Exit             -0.002589   -0.010157 -0.002495  \n",
              "Railway             -0.002188   -0.008583 -0.002108  \n",
              "Station             -0.005636    0.005077 -0.005430  \n",
              "Stop                -0.005805   -0.005171 -0.005593  \n",
              "Traffic_Calming     -0.001383   -0.005427 -0.001333  \n",
              "Traffic_Signal      -0.018829    0.009727 -0.025743  \n",
              "Turning_Loop              NaN         NaN       NaN  \n",
              "Start_Year           0.008033   -0.057048  0.007739  \n",
              "Start_Month         -0.015964   -0.105690  0.078621  \n",
              "Start_Dayofweek      0.050787    0.046009  0.013937  \n",
              "Start_Hour          -0.013691    0.011294  0.005564  \n",
              "Fog                 -0.007619   -0.029883 -0.007340  \n",
              "Rain                -0.008355   -0.032772 -0.008050  \n",
              "Heavy_Rain           1.000000   -0.020353 -0.004999  \n",
              "Light_Rain          -0.020353    1.000000 -0.019609  \n",
              "Snow                -0.004999   -0.019609  1.000000  \n",
              "\n",
              "[32 rows x 32 columns]"
            ]
          },
          "execution_count": 81,
          "metadata": {},
          "output_type": "execute_result"
        }
      ],
      "source": [
        "dat.corr()"
      ]
    },
    {
      "cell_type": "markdown",
      "metadata": {
        "id": "6TY86OXt_HEV"
      },
      "source": [
        "#### 3.5.1. Normalize Data"
      ]
    },
    {
      "cell_type": "code",
      "execution_count": null,
      "metadata": {
        "id": "LzuTZOM__HEW"
      },
      "outputs": [],
      "source": [
        "# Import modules and set inline mode\n",
        "import pandas as pd\n",
        "import numpy as np\n",
        "from sklearn.decomposition import PCA\n",
        "import matplotlib.pyplot as plt\n",
        "from sklearn.preprocessing import scale\n",
        "%matplotlib inline"
      ]
    },
    {
      "cell_type": "code",
      "execution_count": null,
      "metadata": {
        "id": "cIhAI8jr_HEX",
        "outputId": "300d4cac-39f9-4c43-cd54-f9f7cdf63266",
        "scrolled": true
      },
      "outputs": [
        {
          "data": {
            "text/plain": [
              "ID                           object\n",
              "Source                       object\n",
              "TMC                           int64\n",
              "Severity                      int64\n",
              "Start_Time           datetime64[ns]\n",
              "End_Time             datetime64[ns]\n",
              "Start_Lat                   float64\n",
              "Start_Lng                   float64\n",
              "Distance(mi)                float64\n",
              "Description                  object\n",
              "Street                       object\n",
              "Side                         object\n",
              "City                         object\n",
              "County                       object\n",
              "Zipcode                      object\n",
              "Temperature(F)              float64\n",
              "Wind_Chill(F)               float64\n",
              "Humidity(%)                 float64\n",
              "Pressure(in)                float64\n",
              "Visibility(mi)              float64\n",
              "Wind_Direction               object\n",
              "Wind_Speed(mph)             float64\n",
              "Precipitation(in)           float64\n",
              "Weather_Condition            object\n",
              "Amenity                       int64\n",
              "Crossing                      int64\n",
              "Give_Way                      int64\n",
              "Junction                      int64\n",
              "No_Exit                       int64\n",
              "Railway                       int64\n",
              "Station                       int64\n",
              "Stop                          int64\n",
              "Traffic_Calming               int64\n",
              "Traffic_Signal                int64\n",
              "Turning_Loop                  int64\n",
              "Sunrise_Sunset               object\n",
              "Start_Year                    int64\n",
              "Start_Month                   int64\n",
              "Start_Dayofweek               int64\n",
              "Start_Hour                    int64\n",
              "Fog                           uint8\n",
              "Rain                          uint8\n",
              "Heavy_Rain                    uint8\n",
              "Light_Rain                    uint8\n",
              "Snow                          uint8\n",
              "day_zone                   category\n",
              "dtype: object"
            ]
          },
          "execution_count": 83,
          "metadata": {},
          "output_type": "execute_result"
        }
      ],
      "source": [
        "dat.dtypes"
      ]
    },
    {
      "cell_type": "code",
      "execution_count": null,
      "metadata": {
        "id": "NIU7Pgvv_HEY"
      },
      "outputs": [],
      "source": [
        "data_norm = scale(dat.loc[:,'TMC':'Severity'])"
      ]
    },
    {
      "cell_type": "code",
      "execution_count": null,
      "metadata": {
        "id": "pP-sCdND_HEa",
        "outputId": "eb543e35-02f5-43ae-faa8-6ef0063bca1b"
      },
      "outputs": [
        {
          "data": {
            "text/plain": [
              "numpy.ndarray"
            ]
          },
          "execution_count": 85,
          "metadata": {},
          "output_type": "execute_result"
        }
      ],
      "source": [
        "type(data_norm)"
      ]
    },
    {
      "cell_type": "code",
      "execution_count": null,
      "metadata": {
        "id": "YQvLS6gx_HEb",
        "outputId": "b8841de7-12c6-494a-f05f-a41cc37cb7a1"
      },
      "outputs": [
        {
          "data": {
            "text/html": [
              "<div>\n",
              "<style scoped>\n",
              "    .dataframe tbody tr th:only-of-type {\n",
              "        vertical-align: middle;\n",
              "    }\n",
              "\n",
              "    .dataframe tbody tr th {\n",
              "        vertical-align: top;\n",
              "    }\n",
              "\n",
              "    .dataframe thead th {\n",
              "        text-align: right;\n",
              "    }\n",
              "</style>\n",
              "<table border=\"1\" class=\"dataframe\">\n",
              "  <thead>\n",
              "    <tr style=\"text-align: right;\">\n",
              "      <th></th>\n",
              "      <th>count</th>\n",
              "      <th>mean</th>\n",
              "      <th>std</th>\n",
              "      <th>min</th>\n",
              "      <th>25%</th>\n",
              "      <th>50%</th>\n",
              "      <th>75%</th>\n",
              "      <th>max</th>\n",
              "    </tr>\n",
              "  </thead>\n",
              "  <tbody>\n",
              "    <tr>\n",
              "      <th>0</th>\n",
              "      <td>5424.0</td>\n",
              "      <td>-5.135191e-16</td>\n",
              "      <td>1.000092</td>\n",
              "      <td>-0.346247</td>\n",
              "      <td>-0.346247</td>\n",
              "      <td>-0.346247</td>\n",
              "      <td>-0.346247</td>\n",
              "      <td>7.142556</td>\n",
              "    </tr>\n",
              "    <tr>\n",
              "      <th>1</th>\n",
              "      <td>5424.0</td>\n",
              "      <td>2.672395e-16</td>\n",
              "      <td>1.000092</td>\n",
              "      <td>-3.266746</td>\n",
              "      <td>-1.305179</td>\n",
              "      <td>0.656387</td>\n",
              "      <td>0.656387</td>\n",
              "      <td>2.617953</td>\n",
              "    </tr>\n",
              "  </tbody>\n",
              "</table>\n",
              "</div>"
            ],
            "text/plain": [
              "    count          mean       std       min       25%       50%       75%  \\\n",
              "0  5424.0 -5.135191e-16  1.000092 -0.346247 -0.346247 -0.346247 -0.346247   \n",
              "1  5424.0  2.672395e-16  1.000092 -3.266746 -1.305179  0.656387  0.656387   \n",
              "\n",
              "        max  \n",
              "0  7.142556  \n",
              "1  2.617953  "
            ]
          },
          "execution_count": 86,
          "metadata": {},
          "output_type": "execute_result"
        }
      ],
      "source": [
        "pd.DataFrame(data_norm).describe().transpose()"
      ]
    },
    {
      "cell_type": "code",
      "execution_count": null,
      "metadata": {
        "id": "TVqnnGbx_HEd",
        "outputId": "d61966e1-25a6-4324-d11c-d89fe2dcca8a"
      },
      "outputs": [
        {
          "data": {
            "text/html": [
              "<div>\n",
              "<style scoped>\n",
              "    .dataframe tbody tr th:only-of-type {\n",
              "        vertical-align: middle;\n",
              "    }\n",
              "\n",
              "    .dataframe tbody tr th {\n",
              "        vertical-align: top;\n",
              "    }\n",
              "\n",
              "    .dataframe thead th {\n",
              "        text-align: right;\n",
              "    }\n",
              "</style>\n",
              "<table border=\"1\" class=\"dataframe\">\n",
              "  <thead>\n",
              "    <tr style=\"text-align: right;\">\n",
              "      <th></th>\n",
              "      <th>0</th>\n",
              "      <th>1</th>\n",
              "    </tr>\n",
              "  </thead>\n",
              "  <tbody>\n",
              "    <tr>\n",
              "      <th>0</th>\n",
              "      <td>1.000000</td>\n",
              "      <td>0.148428</td>\n",
              "    </tr>\n",
              "    <tr>\n",
              "      <th>1</th>\n",
              "      <td>0.148428</td>\n",
              "      <td>1.000000</td>\n",
              "    </tr>\n",
              "  </tbody>\n",
              "</table>\n",
              "</div>"
            ],
            "text/plain": [
              "          0         1\n",
              "0  1.000000  0.148428\n",
              "1  0.148428  1.000000"
            ]
          },
          "execution_count": 87,
          "metadata": {},
          "output_type": "execute_result"
        }
      ],
      "source": [
        "pd.DataFrame(data_norm).corr()"
      ]
    },
    {
      "cell_type": "code",
      "execution_count": null,
      "metadata": {
        "id": "HhN5dhBW_HEe",
        "outputId": "696f78c0-b02c-4b5d-ad2d-695e6ef082b1"
      },
      "outputs": [
        {
          "data": {
            "text/plain": [
              "PCA(copy=True, iterated_power='auto', n_components=2, random_state=None,\n",
              "    svd_solver='auto', tol=0.0, whiten=False)"
            ]
          },
          "execution_count": 88,
          "metadata": {},
          "output_type": "execute_result"
        }
      ],
      "source": [
        "# Select the number of components\n",
        "pca1 = PCA(n_components=2)\n",
        "\n",
        "# Fit the PCA model\n",
        "pca1.fit(data_norm)"
      ]
    },
    {
      "cell_type": "code",
      "execution_count": null,
      "metadata": {
        "id": "k_dWAM3v_HEf",
        "outputId": "c930f265-ec4e-42aa-c64e-ede07ddccb96"
      },
      "outputs": [
        {
          "name": "stdout",
          "output_type": "stream",
          "text": [
            "[0.57421395 0.42578605]\n"
          ]
        }
      ],
      "source": [
        "#The amount of variance that each PC explains\n",
        "var = pca1.explained_variance_ratio_\n",
        "\n",
        "print(var)"
      ]
    },
    {
      "cell_type": "code",
      "execution_count": null,
      "metadata": {
        "id": "aln-Pa1G_HEg",
        "outputId": "9688e0fc-d2f4-4069-ed70-f4139dfa3ee0"
      },
      "outputs": [
        {
          "name": "stdout",
          "output_type": "stream",
          "text": [
            "[ 57.42 100.  ]\n"
          ]
        }
      ],
      "source": [
        "#Cumulative Variance explains\n",
        "var1 = np.cumsum(np.round(pca1.explained_variance_ratio_, decimals=4)*100)\n",
        "\n",
        "print(var1)"
      ]
    },
    {
      "cell_type": "code",
      "execution_count": null,
      "metadata": {
        "id": "yrjQuCiu_HEj"
      },
      "outputs": [],
      "source": [
        "var1 = pd.DataFrame(var1, index=np.arange(1,3))\n",
        "plt.plot(var1,color='red')\n",
        "plt.title('Scree Plot')\n",
        "plt.xlabel('Number of Principal Components')\n",
        "plt.ylabel('Cumulative Variance Explained')\n",
        "plt.savefig('scree_plot.png',dpi=100,bbox_inches='tight')"
      ]
    },
    {
      "cell_type": "code",
      "execution_count": null,
      "metadata": {
        "id": "pgj-ciyx_HEk"
      },
      "outputs": [],
      "source": [
        ""
      ]
    },
    {
      "cell_type": "markdown",
      "metadata": {
        "id": "N_lcepIS_HEl"
      },
      "source": [
        "## 4. Summary\n",
        "\n",
        "We started our research in the hopes of finding any correlations with traffic accidents using the dataset we acquired. The dataset contained numerous missing values and multiple columns that were not relevant to our research questions, so we removed the missing values and the irrelevant columns to clean our data. \n",
        "\n",
        "Once our dataset was clean, we then transformed out data and created dummy variables for things we wanted to cross tabulate to find correlations such as the different weather conditions. \n",
        "\n",
        "In section 3.2.1, we were able to construct a graph from the longitude and latitude of each accident in our dataset which resulted in a rough sketch of Missouri. It depicts three major areas of accidents and on closer inspection two of the areas can clearly be seen as Kansas City and St. Louis. \n",
        "\n",
        "In section 3.3, we found out that the severity is positively associated with the extreme weather conditions like 'Heavy_Rain', 'Light_Rain', 'Snow' and 'Distance(mi)', Temperature(F), Wind_Chill(F), Pressure(in), Wind_Speed(mph), Precipitation(in). This was particularly interesting to see as it proved that weather such as Snow increased the average severity of an accident. \n",
        "\n",
        "In section 3.4.3, we were able to visualize the counts of accidents in relation to the days of the week (0 = Sunday, 1 = Monday, 2 = Tuesday, 3 = Wednesday, 4 = Thursday, 5 = Friday, 6 = Saturday). From the graphs that were constructed, we can see that a majority of the accidents were of severity 2 and 3. We can also see that there are significantly less accidents on Friday and Saturday.\n",
        "\n",
        "Some variables that can be used to predict road accidents are the day of the week, the weather, and the area that the driver is in. Since there are less average accidents on Friday and Saturday, a driver is less likely to be in accident on those days. If the weather is extreme in the terms of snow or heavy rain, then the driver will have a higher risk of being in an accident. Extreme weather conditions such as snow and heavy weather have a positive correlation to the severity of an accident so a driver driving in these conditions would not only be at higher risk of an accident, but of also being in a more severe accident. Also, if the driver is in a densely populated area such as Kansas City or St. Louis, then they will be at higher risk of being in accident as there are more drivers on the road compared to lesser populated areas. "
      ]
    },
    {
      "cell_type": "code",
      "execution_count": null,
      "metadata": {
        "id": "-wIdcrap_HEm"
      },
      "outputs": [],
      "source": [
        ""
      ]
    },
    {
      "cell_type": "markdown",
      "metadata": {
        "id": "U0y7wFMe_HEn"
      },
      "source": [
        "## 5. Regression Ananlysis"
      ]
    },
    {
      "cell_type": "code",
      "execution_count": null,
      "metadata": {
        "id": "sSRl9Db9I9In"
      },
      "outputs": [],
      "source": [
        "# To diable warnings\n",
        "import warnings\n",
        "warnings.filterwarnings(\"ignore\")"
      ]
    },
    {
      "cell_type": "markdown",
      "metadata": {
        "id": "uqmbob3PIcM9"
      },
      "source": [
        "#### 5.1. Preprocessing Data"
      ]
    },
    {
      "cell_type": "code",
      "execution_count": null,
      "metadata": {
        "id": "2ft67lwiQs4M"
      },
      "outputs": [],
      "source": [
        "import pandas as pd\n",
        "import numpy as np\n",
        "import statsmodels.api as sm"
      ]
    },
    {
      "cell_type": "code",
      "execution_count": null,
      "metadata": {
        "id": "rM66JDeb_HEn"
      },
      "outputs": [],
      "source": [
        "# Read in the cleaned data\n",
        "dat_cleaned = pd.read_csv(\"Cleaned_MO_Accidents.csv\")\n",
        "#dat_cleaned.info()"
      ]
    },
    {
      "cell_type": "code",
      "execution_count": null,
      "metadata": {
        "id": "n6EAzsKX_HEp"
      },
      "outputs": [],
      "source": [
        "dat_cleaned = dat_cleaned.drop(['ID', 'Source', 'TMC', 'Start_Time', 'End_Time', 'Start_Lat', 'Start_Lng', 'Description', 'Street', 'City', 'County', 'Zipcode', 'Fog', 'Rain', 'Heavy_Rain', 'Light_Rain', 'Snow'], axis=1)"
      ]
    },
    {
      "cell_type": "code",
      "execution_count": null,
      "metadata": {
        "id": "VQO1d1s6_HEq"
      },
      "outputs": [],
      "source": [
        "#dat_cleaned.info()"
      ]
    },
    {
      "cell_type": "code",
      "execution_count": null,
      "metadata": {
        "id": "7moVtM3w_HEr"
      },
      "outputs": [],
      "source": [
        "test = []\n",
        "for i in dat_cleaned.Weather_Condition.unique():\n",
        "    if(i.find('/')<0):\n",
        "        test.append(i)"
      ]
    },
    {
      "cell_type": "code",
      "execution_count": null,
      "metadata": {
        "id": "IGMMCAdA_HEu"
      },
      "outputs": [],
      "source": [
        "dummy = pd.get_dummies(dat_cleaned['Weather_Condition'])\n",
        "dat_cleaned = pd.concat([dat_cleaned, dummy[test]], axis=1)"
      ]
    },
    {
      "cell_type": "code",
      "execution_count": null,
      "metadata": {
        "id": "Tjc6JMtO_HEv"
      },
      "outputs": [],
      "source": [
        "# Replacing space in column names with underscore\n",
        "dat_cleaned.columns = dat_cleaned.columns.str.replace(' ', '_')"
      ]
    },
    {
      "cell_type": "code",
      "execution_count": null,
      "metadata": {
        "id": "B1Rb3wjovG1p",
        "outputId": "8070d012-d7ee-484a-8fd1-5dc371ddaae9"
      },
      "outputs": [
        {
          "data": {
            "text/plain": [
              "0    3\n",
              "1    1\n",
              "2    3\n",
              "3    3\n",
              "4    2\n",
              "Name: Severity, dtype: int64"
            ]
          },
          "execution_count": 100,
          "metadata": {},
          "output_type": "execute_result"
        }
      ],
      "source": [
        "y = dat_cleaned['Severity']\n",
        "y.head()"
      ]
    },
    {
      "cell_type": "code",
      "execution_count": null,
      "metadata": {
        "id": "ZpcSJhRD_HEy"
      },
      "outputs": [],
      "source": [
        "X = dat_cleaned[['Temperature(F)', 'Wind_Chill(F)', 'Humidity(%)', 'Pressure(in)', 'Wind_Direction', 'Wind_Speed(mph)', 'Precipitation(in)', 'Weather_Condition', 'Severity', \n",
        "                 'Visibility(mi)']]\n",
        "\n",
        "X = pd.concat([X,\n",
        "               pd.get_dummies(dat_cleaned['Wind_Direction'],prefix='Wind_Direction')],\n",
        "              axis=1)\n",
        "X = sm.add_constant(X)\n",
        "X = X.drop(['Weather_Condition', 'Wind_Direction', 'Severity'], axis=1)"
      ]
    },
    {
      "cell_type": "code",
      "execution_count": null,
      "metadata": {
        "id": "_xhl48ZcOJOM"
      },
      "outputs": [],
      "source": [
        "import statsmodels.api as sm"
      ]
    },
    {
      "cell_type": "code",
      "execution_count": null,
      "metadata": {
        "colab": {
          "base_uri": "https://localhost:8080/",
          "height": 1000
        },
        "id": "fx73IF07SJkY",
        "outputId": "e808e39e-655a-4977-ea0c-45c8b6dde8ff",
        "scrolled": false
      },
      "outputs": [
        {
          "data": {
            "text/html": [
              "<table class=\"simpletable\">\n",
              "<caption>OLS Regression Results</caption>\n",
              "<tr>\n",
              "  <th>Dep. Variable:</th>        <td>Severity</td>     <th>  R-squared:         </th> <td>   0.059</td>\n",
              "</tr>\n",
              "<tr>\n",
              "  <th>Model:</th>                   <td>OLS</td>       <th>  Adj. R-squared:    </th> <td>   0.054</td>\n",
              "</tr>\n",
              "<tr>\n",
              "  <th>Method:</th>             <td>Least Squares</td>  <th>  F-statistic:       </th> <td>   11.99</td>\n",
              "</tr>\n",
              "<tr>\n",
              "  <th>Date:</th>             <td>Mon, 04 May 2020</td> <th>  Prob (F-statistic):</th> <td>1.28e-52</td>\n",
              "</tr>\n",
              "<tr>\n",
              "  <th>Time:</th>                 <td>21:24:30</td>     <th>  Log-Likelihood:    </th> <td> -3878.2</td>\n",
              "</tr>\n",
              "<tr>\n",
              "  <th>No. Observations:</th>      <td>  5424</td>      <th>  AIC:               </th> <td>   7814.</td>\n",
              "</tr>\n",
              "<tr>\n",
              "  <th>Df Residuals:</th>          <td>  5395</td>      <th>  BIC:               </th> <td>   8006.</td>\n",
              "</tr>\n",
              "<tr>\n",
              "  <th>Df Model:</th>              <td>    28</td>      <th>                     </th>     <td> </td>   \n",
              "</tr>\n",
              "<tr>\n",
              "  <th>Covariance Type:</th>      <td>nonrobust</td>    <th>                     </th>     <td> </td>   \n",
              "</tr>\n",
              "</table>\n",
              "<table class=\"simpletable\">\n",
              "<tr>\n",
              "             <td></td>                <th>coef</th>     <th>std err</th>      <th>t</th>      <th>P>|t|</th>  <th>[0.025</th>    <th>0.975]</th>  \n",
              "</tr>\n",
              "<tr>\n",
              "  <th>const</th>                   <td>   -2.3057</td> <td>    0.651</td> <td>   -3.543</td> <td> 0.000</td> <td>   -3.581</td> <td>   -1.030</td>\n",
              "</tr>\n",
              "<tr>\n",
              "  <th>Temperature(F)</th>          <td>    0.0161</td> <td>    0.004</td> <td>    4.036</td> <td> 0.000</td> <td>    0.008</td> <td>    0.024</td>\n",
              "</tr>\n",
              "<tr>\n",
              "  <th>Wind_Chill(F)</th>           <td>   -0.0130</td> <td>    0.004</td> <td>   -3.664</td> <td> 0.000</td> <td>   -0.020</td> <td>   -0.006</td>\n",
              "</tr>\n",
              "<tr>\n",
              "  <th>Humidity(%)</th>             <td>   -0.0041</td> <td>    0.000</td> <td>   -8.950</td> <td> 0.000</td> <td>   -0.005</td> <td>   -0.003</td>\n",
              "</tr>\n",
              "<tr>\n",
              "  <th>Pressure(in)</th>            <td>    0.1811</td> <td>    0.023</td> <td>    8.029</td> <td> 0.000</td> <td>    0.137</td> <td>    0.225</td>\n",
              "</tr>\n",
              "<tr>\n",
              "  <th>Wind_Speed(mph)</th>         <td>    0.0015</td> <td>    0.002</td> <td>    0.808</td> <td> 0.419</td> <td>   -0.002</td> <td>    0.005</td>\n",
              "</tr>\n",
              "<tr>\n",
              "  <th>Precipitation(in)</th>       <td>    0.1996</td> <td>    0.099</td> <td>    2.022</td> <td> 0.043</td> <td>    0.006</td> <td>    0.393</td>\n",
              "</tr>\n",
              "<tr>\n",
              "  <th>Visibility(mi)</th>          <td>   -0.0143</td> <td>    0.003</td> <td>   -4.235</td> <td> 0.000</td> <td>   -0.021</td> <td>   -0.008</td>\n",
              "</tr>\n",
              "<tr>\n",
              "  <th>Wind_Direction_CALM</th>     <td>   -0.2309</td> <td>    0.044</td> <td>   -5.259</td> <td> 0.000</td> <td>   -0.317</td> <td>   -0.145</td>\n",
              "</tr>\n",
              "<tr>\n",
              "  <th>Wind_Direction_E</th>        <td>   -0.0904</td> <td>    0.046</td> <td>   -1.970</td> <td> 0.049</td> <td>   -0.180</td> <td>   -0.000</td>\n",
              "</tr>\n",
              "<tr>\n",
              "  <th>Wind_Direction_ENE</th>      <td>   -0.0070</td> <td>    0.051</td> <td>   -0.138</td> <td> 0.891</td> <td>   -0.107</td> <td>    0.093</td>\n",
              "</tr>\n",
              "<tr>\n",
              "  <th>Wind_Direction_ESE</th>      <td>   -0.0877</td> <td>    0.050</td> <td>   -1.771</td> <td> 0.077</td> <td>   -0.185</td> <td>    0.009</td>\n",
              "</tr>\n",
              "<tr>\n",
              "  <th>Wind_Direction_East</th>     <td>    0.0097</td> <td>    0.165</td> <td>    0.059</td> <td> 0.953</td> <td>   -0.313</td> <td>    0.332</td>\n",
              "</tr>\n",
              "<tr>\n",
              "  <th>Wind_Direction_N</th>        <td>   -0.1390</td> <td>    0.044</td> <td>   -3.188</td> <td> 0.001</td> <td>   -0.225</td> <td>   -0.054</td>\n",
              "</tr>\n",
              "<tr>\n",
              "  <th>Wind_Direction_NE</th>       <td>   -0.1923</td> <td>    0.051</td> <td>   -3.755</td> <td> 0.000</td> <td>   -0.293</td> <td>   -0.092</td>\n",
              "</tr>\n",
              "<tr>\n",
              "  <th>Wind_Direction_NNE</th>      <td>   -0.1268</td> <td>    0.051</td> <td>   -2.500</td> <td> 0.012</td> <td>   -0.226</td> <td>   -0.027</td>\n",
              "</tr>\n",
              "<tr>\n",
              "  <th>Wind_Direction_NNW</th>      <td>   -0.1150</td> <td>    0.048</td> <td>   -2.382</td> <td> 0.017</td> <td>   -0.210</td> <td>   -0.020</td>\n",
              "</tr>\n",
              "<tr>\n",
              "  <th>Wind_Direction_NW</th>       <td>   -0.1718</td> <td>    0.047</td> <td>   -3.636</td> <td> 0.000</td> <td>   -0.264</td> <td>   -0.079</td>\n",
              "</tr>\n",
              "<tr>\n",
              "  <th>Wind_Direction_North</th>    <td>   -0.0680</td> <td>    0.101</td> <td>   -0.671</td> <td> 0.502</td> <td>   -0.267</td> <td>    0.131</td>\n",
              "</tr>\n",
              "<tr>\n",
              "  <th>Wind_Direction_S</th>        <td>   -0.1769</td> <td>    0.041</td> <td>   -4.349</td> <td> 0.000</td> <td>   -0.257</td> <td>   -0.097</td>\n",
              "</tr>\n",
              "<tr>\n",
              "  <th>Wind_Direction_SE</th>       <td>   -0.1462</td> <td>    0.048</td> <td>   -3.025</td> <td> 0.002</td> <td>   -0.241</td> <td>   -0.051</td>\n",
              "</tr>\n",
              "<tr>\n",
              "  <th>Wind_Direction_SSE</th>      <td>   -0.2068</td> <td>    0.044</td> <td>   -4.649</td> <td> 0.000</td> <td>   -0.294</td> <td>   -0.120</td>\n",
              "</tr>\n",
              "<tr>\n",
              "  <th>Wind_Direction_SSW</th>      <td>   -0.1418</td> <td>    0.044</td> <td>   -3.235</td> <td> 0.001</td> <td>   -0.228</td> <td>   -0.056</td>\n",
              "</tr>\n",
              "<tr>\n",
              "  <th>Wind_Direction_SW</th>       <td>   -0.1244</td> <td>    0.046</td> <td>   -2.690</td> <td> 0.007</td> <td>   -0.215</td> <td>   -0.034</td>\n",
              "</tr>\n",
              "<tr>\n",
              "  <th>Wind_Direction_South</th>    <td>    0.1050</td> <td>    0.338</td> <td>    0.310</td> <td> 0.756</td> <td>   -0.558</td> <td>    0.768</td>\n",
              "</tr>\n",
              "<tr>\n",
              "  <th>Wind_Direction_VAR</th>      <td>   -0.1774</td> <td>    0.054</td> <td>   -3.267</td> <td> 0.001</td> <td>   -0.284</td> <td>   -0.071</td>\n",
              "</tr>\n",
              "<tr>\n",
              "  <th>Wind_Direction_Variable</th> <td>    0.1392</td> <td>    0.339</td> <td>    0.410</td> <td> 0.681</td> <td>   -0.526</td> <td>    0.804</td>\n",
              "</tr>\n",
              "<tr>\n",
              "  <th>Wind_Direction_W</th>        <td>   -0.1390</td> <td>    0.044</td> <td>   -3.166</td> <td> 0.002</td> <td>   -0.225</td> <td>   -0.053</td>\n",
              "</tr>\n",
              "<tr>\n",
              "  <th>Wind_Direction_WNW</th>      <td>   -0.1192</td> <td>    0.047</td> <td>   -2.516</td> <td> 0.012</td> <td>   -0.212</td> <td>   -0.026</td>\n",
              "</tr>\n",
              "<tr>\n",
              "  <th>Wind_Direction_WSW</th>      <td>   -0.0987</td> <td>    0.046</td> <td>   -2.140</td> <td> 0.032</td> <td>   -0.189</td> <td>   -0.008</td>\n",
              "</tr>\n",
              "</table>\n",
              "<table class=\"simpletable\">\n",
              "<tr>\n",
              "  <th>Omnibus:</th>       <td>283.450</td> <th>  Durbin-Watson:     </th> <td>   1.766</td>\n",
              "</tr>\n",
              "<tr>\n",
              "  <th>Prob(Omnibus):</th> <td> 0.000</td>  <th>  Jarque-Bera (JB):  </th> <td> 152.933</td>\n",
              "</tr>\n",
              "<tr>\n",
              "  <th>Skew:</th>          <td>-0.249</td>  <th>  Prob(JB):          </th> <td>6.18e-34</td>\n",
              "</tr>\n",
              "<tr>\n",
              "  <th>Kurtosis:</th>      <td> 2.345</td>  <th>  Cond. No.          </th> <td>4.78e+15</td>\n",
              "</tr>\n",
              "</table><br/><br/>Warnings:<br/>[1] Standard Errors assume that the covariance matrix of the errors is correctly specified.<br/>[2] The smallest eigenvalue is 3.22e-24. This might indicate that there are<br/>strong multicollinearity problems or that the design matrix is singular."
            ],
            "text/plain": [
              "<class 'statsmodels.iolib.summary.Summary'>\n",
              "\"\"\"\n",
              "                            OLS Regression Results                            \n",
              "==============================================================================\n",
              "Dep. Variable:               Severity   R-squared:                       0.059\n",
              "Model:                            OLS   Adj. R-squared:                  0.054\n",
              "Method:                 Least Squares   F-statistic:                     11.99\n",
              "Date:                Mon, 04 May 2020   Prob (F-statistic):           1.28e-52\n",
              "Time:                        21:24:30   Log-Likelihood:                -3878.2\n",
              "No. Observations:                5424   AIC:                             7814.\n",
              "Df Residuals:                    5395   BIC:                             8006.\n",
              "Df Model:                          28                                         \n",
              "Covariance Type:            nonrobust                                         \n",
              "===========================================================================================\n",
              "                              coef    std err          t      P>|t|      [0.025      0.975]\n",
              "-------------------------------------------------------------------------------------------\n",
              "const                      -2.3057      0.651     -3.543      0.000      -3.581      -1.030\n",
              "Temperature(F)              0.0161      0.004      4.036      0.000       0.008       0.024\n",
              "Wind_Chill(F)              -0.0130      0.004     -3.664      0.000      -0.020      -0.006\n",
              "Humidity(%)                -0.0041      0.000     -8.950      0.000      -0.005      -0.003\n",
              "Pressure(in)                0.1811      0.023      8.029      0.000       0.137       0.225\n",
              "Wind_Speed(mph)             0.0015      0.002      0.808      0.419      -0.002       0.005\n",
              "Precipitation(in)           0.1996      0.099      2.022      0.043       0.006       0.393\n",
              "Visibility(mi)             -0.0143      0.003     -4.235      0.000      -0.021      -0.008\n",
              "Wind_Direction_CALM        -0.2309      0.044     -5.259      0.000      -0.317      -0.145\n",
              "Wind_Direction_E           -0.0904      0.046     -1.970      0.049      -0.180      -0.000\n",
              "Wind_Direction_ENE         -0.0070      0.051     -0.138      0.891      -0.107       0.093\n",
              "Wind_Direction_ESE         -0.0877      0.050     -1.771      0.077      -0.185       0.009\n",
              "Wind_Direction_East         0.0097      0.165      0.059      0.953      -0.313       0.332\n",
              "Wind_Direction_N           -0.1390      0.044     -3.188      0.001      -0.225      -0.054\n",
              "Wind_Direction_NE          -0.1923      0.051     -3.755      0.000      -0.293      -0.092\n",
              "Wind_Direction_NNE         -0.1268      0.051     -2.500      0.012      -0.226      -0.027\n",
              "Wind_Direction_NNW         -0.1150      0.048     -2.382      0.017      -0.210      -0.020\n",
              "Wind_Direction_NW          -0.1718      0.047     -3.636      0.000      -0.264      -0.079\n",
              "Wind_Direction_North       -0.0680      0.101     -0.671      0.502      -0.267       0.131\n",
              "Wind_Direction_S           -0.1769      0.041     -4.349      0.000      -0.257      -0.097\n",
              "Wind_Direction_SE          -0.1462      0.048     -3.025      0.002      -0.241      -0.051\n",
              "Wind_Direction_SSE         -0.2068      0.044     -4.649      0.000      -0.294      -0.120\n",
              "Wind_Direction_SSW         -0.1418      0.044     -3.235      0.001      -0.228      -0.056\n",
              "Wind_Direction_SW          -0.1244      0.046     -2.690      0.007      -0.215      -0.034\n",
              "Wind_Direction_South        0.1050      0.338      0.310      0.756      -0.558       0.768\n",
              "Wind_Direction_VAR         -0.1774      0.054     -3.267      0.001      -0.284      -0.071\n",
              "Wind_Direction_Variable     0.1392      0.339      0.410      0.681      -0.526       0.804\n",
              "Wind_Direction_W           -0.1390      0.044     -3.166      0.002      -0.225      -0.053\n",
              "Wind_Direction_WNW         -0.1192      0.047     -2.516      0.012      -0.212      -0.026\n",
              "Wind_Direction_WSW         -0.0987      0.046     -2.140      0.032      -0.189      -0.008\n",
              "==============================================================================\n",
              "Omnibus:                      283.450   Durbin-Watson:                   1.766\n",
              "Prob(Omnibus):                  0.000   Jarque-Bera (JB):              152.933\n",
              "Skew:                          -0.249   Prob(JB):                     6.18e-34\n",
              "Kurtosis:                       2.345   Cond. No.                     4.78e+15\n",
              "==============================================================================\n",
              "\n",
              "Warnings:\n",
              "[1] Standard Errors assume that the covariance matrix of the errors is correctly specified.\n",
              "[2] The smallest eigenvalue is 3.22e-24. This might indicate that there are\n",
              "strong multicollinearity problems or that the design matrix is singular.\n",
              "\"\"\""
            ]
          },
          "execution_count": 103,
          "metadata": {},
          "output_type": "execute_result"
        }
      ],
      "source": [
        "# Fit a full model\n",
        "mod_full = sm.OLS(y,X).fit()\n",
        "\n",
        "# Summarize model\n",
        "mod_full.summary()"
      ]
    },
    {
      "cell_type": "markdown",
      "metadata": {
        "id": "bpDLjjqbScAz"
      },
      "source": [
        "Findings:\n",
        "\n",
        "*   Per the Coefficient, we can discern that Wind Chill, Humidity, and Visibility have a negative effect on Severity while Temperature, Pressure, Wind Speed, Precipitation and all wind directions have a positive effect on Severity. This would mean that as precipitation rises, severity rises as well.\n",
        "*   P > |t| shows us that variables such as Temperature, Wind Chill, Humidity, Pressure and weather conditions like Heavy T-storm, Thunder in the vicinity are all statistically significant as their value is below 0.05\n",
        "\n"
      ]
    },
    {
      "cell_type": "markdown",
      "metadata": {
        "id": "VhMu4W3LvG1t"
      },
      "source": [
        "#### 5.2. Multi Linear Regression Excluding Insignificant Predictors"
      ]
    },
    {
      "cell_type": "code",
      "execution_count": null,
      "metadata": {
        "id": "NFb_yx-5vG1t",
        "outputId": "4c32ae97-35b1-474f-e621-128222cf5981"
      },
      "outputs": [
        {
          "data": {
            "text/html": [
              "<table class=\"simpletable\">\n",
              "<caption>OLS Regression Results</caption>\n",
              "<tr>\n",
              "  <th>Dep. Variable:</th>        <td>Severity</td>     <th>  R-squared:         </th> <td>   0.058</td>\n",
              "</tr>\n",
              "<tr>\n",
              "  <th>Model:</th>                   <td>OLS</td>       <th>  Adj. R-squared:    </th> <td>   0.054</td>\n",
              "</tr>\n",
              "<tr>\n",
              "  <th>Method:</th>             <td>Least Squares</td>  <th>  F-statistic:       </th> <td>   12.41</td>\n",
              "</tr>\n",
              "<tr>\n",
              "  <th>Date:</th>             <td>Mon, 04 May 2020</td> <th>  Prob (F-statistic):</th> <td>4.85e-53</td>\n",
              "</tr>\n",
              "<tr>\n",
              "  <th>Time:</th>                 <td>21:24:30</td>     <th>  Log-Likelihood:    </th> <td> -3878.5</td>\n",
              "</tr>\n",
              "<tr>\n",
              "  <th>No. Observations:</th>      <td>  5424</td>      <th>  AIC:               </th> <td>   7813.</td>\n",
              "</tr>\n",
              "<tr>\n",
              "  <th>Df Residuals:</th>          <td>  5396</td>      <th>  BIC:               </th> <td>   7998.</td>\n",
              "</tr>\n",
              "<tr>\n",
              "  <th>Df Model:</th>              <td>    27</td>      <th>                     </th>     <td> </td>   \n",
              "</tr>\n",
              "<tr>\n",
              "  <th>Covariance Type:</th>      <td>nonrobust</td>    <th>                     </th>     <td> </td>   \n",
              "</tr>\n",
              "</table>\n",
              "<table class=\"simpletable\">\n",
              "<tr>\n",
              "             <td></td>                <th>coef</th>     <th>std err</th>      <th>t</th>      <th>P>|t|</th>  <th>[0.025</th>    <th>0.975]</th>  \n",
              "</tr>\n",
              "<tr>\n",
              "  <th>const</th>                   <td>   -2.1720</td> <td>    0.629</td> <td>   -3.452</td> <td> 0.001</td> <td>   -3.406</td> <td>   -0.938</td>\n",
              "</tr>\n",
              "<tr>\n",
              "  <th>Temperature(F)</th>          <td>    0.0171</td> <td>    0.004</td> <td>    4.541</td> <td> 0.000</td> <td>    0.010</td> <td>    0.025</td>\n",
              "</tr>\n",
              "<tr>\n",
              "  <th>Wind_Chill(F)</th>           <td>   -0.0140</td> <td>    0.003</td> <td>   -4.174</td> <td> 0.000</td> <td>   -0.021</td> <td>   -0.007</td>\n",
              "</tr>\n",
              "<tr>\n",
              "  <th>Humidity(%)</th>             <td>   -0.0042</td> <td>    0.000</td> <td>   -9.424</td> <td> 0.000</td> <td>   -0.005</td> <td>   -0.003</td>\n",
              "</tr>\n",
              "<tr>\n",
              "  <th>Pressure(in)</th>            <td>    0.1768</td> <td>    0.022</td> <td>    8.064</td> <td> 0.000</td> <td>    0.134</td> <td>    0.220</td>\n",
              "</tr>\n",
              "<tr>\n",
              "  <th>Precipitation(in)</th>       <td>    0.2049</td> <td>    0.098</td> <td>    2.081</td> <td> 0.037</td> <td>    0.012</td> <td>    0.398</td>\n",
              "</tr>\n",
              "<tr>\n",
              "  <th>Visibility(mi)</th>          <td>   -0.0146</td> <td>    0.003</td> <td>   -4.352</td> <td> 0.000</td> <td>   -0.021</td> <td>   -0.008</td>\n",
              "</tr>\n",
              "<tr>\n",
              "  <th>Wind_Direction_CALM</th>     <td>   -0.2343</td> <td>    0.044</td> <td>   -5.360</td> <td> 0.000</td> <td>   -0.320</td> <td>   -0.149</td>\n",
              "</tr>\n",
              "<tr>\n",
              "  <th>Wind_Direction_E</th>        <td>   -0.0845</td> <td>    0.045</td> <td>   -1.866</td> <td> 0.062</td> <td>   -0.173</td> <td>    0.004</td>\n",
              "</tr>\n",
              "<tr>\n",
              "  <th>Wind_Direction_ENE</th>      <td>   -0.0025</td> <td>    0.051</td> <td>   -0.049</td> <td> 0.961</td> <td>   -0.102</td> <td>    0.097</td>\n",
              "</tr>\n",
              "<tr>\n",
              "  <th>Wind_Direction_ESE</th>      <td>   -0.0812</td> <td>    0.049</td> <td>   -1.661</td> <td> 0.097</td> <td>   -0.177</td> <td>    0.015</td>\n",
              "</tr>\n",
              "<tr>\n",
              "  <th>Wind_Direction_East</th>     <td>    0.0162</td> <td>    0.164</td> <td>    0.098</td> <td> 0.922</td> <td>   -0.306</td> <td>    0.338</td>\n",
              "</tr>\n",
              "<tr>\n",
              "  <th>Wind_Direction_N</th>        <td>   -0.1316</td> <td>    0.043</td> <td>   -3.087</td> <td> 0.002</td> <td>   -0.215</td> <td>   -0.048</td>\n",
              "</tr>\n",
              "<tr>\n",
              "  <th>Wind_Direction_NE</th>       <td>   -0.1868</td> <td>    0.051</td> <td>   -3.680</td> <td> 0.000</td> <td>   -0.286</td> <td>   -0.087</td>\n",
              "</tr>\n",
              "<tr>\n",
              "  <th>Wind_Direction_NNE</th>      <td>   -0.1215</td> <td>    0.050</td> <td>   -2.416</td> <td> 0.016</td> <td>   -0.220</td> <td>   -0.023</td>\n",
              "</tr>\n",
              "<tr>\n",
              "  <th>Wind_Direction_NNW</th>      <td>   -0.1064</td> <td>    0.047</td> <td>   -2.259</td> <td> 0.024</td> <td>   -0.199</td> <td>   -0.014</td>\n",
              "</tr>\n",
              "<tr>\n",
              "  <th>Wind_Direction_NW</th>       <td>   -0.1633</td> <td>    0.046</td> <td>   -3.546</td> <td> 0.000</td> <td>   -0.254</td> <td>   -0.073</td>\n",
              "</tr>\n",
              "<tr>\n",
              "  <th>Wind_Direction_North</th>    <td>   -0.0609</td> <td>    0.101</td> <td>   -0.603</td> <td> 0.546</td> <td>   -0.259</td> <td>    0.137</td>\n",
              "</tr>\n",
              "<tr>\n",
              "  <th>Wind_Direction_S</th>        <td>   -0.1696</td> <td>    0.040</td> <td>   -4.276</td> <td> 0.000</td> <td>   -0.247</td> <td>   -0.092</td>\n",
              "</tr>\n",
              "<tr>\n",
              "  <th>Wind_Direction_SE</th>       <td>   -0.1387</td> <td>    0.047</td> <td>   -2.924</td> <td> 0.003</td> <td>   -0.232</td> <td>   -0.046</td>\n",
              "</tr>\n",
              "<tr>\n",
              "  <th>Wind_Direction_SSE</th>      <td>   -0.1995</td> <td>    0.044</td> <td>   -4.581</td> <td> 0.000</td> <td>   -0.285</td> <td>   -0.114</td>\n",
              "</tr>\n",
              "<tr>\n",
              "  <th>Wind_Direction_SSW</th>      <td>   -0.1336</td> <td>    0.043</td> <td>   -3.133</td> <td> 0.002</td> <td>   -0.217</td> <td>   -0.050</td>\n",
              "</tr>\n",
              "<tr>\n",
              "  <th>Wind_Direction_SW</th>       <td>   -0.1173</td> <td>    0.045</td> <td>   -2.583</td> <td> 0.010</td> <td>   -0.206</td> <td>   -0.028</td>\n",
              "</tr>\n",
              "<tr>\n",
              "  <th>Wind_Direction_South</th>    <td>    0.1125</td> <td>    0.338</td> <td>    0.333</td> <td> 0.739</td> <td>   -0.550</td> <td>    0.775</td>\n",
              "</tr>\n",
              "<tr>\n",
              "  <th>Wind_Direction_VAR</th>      <td>   -0.1763</td> <td>    0.054</td> <td>   -3.247</td> <td> 0.001</td> <td>   -0.283</td> <td>   -0.070</td>\n",
              "</tr>\n",
              "<tr>\n",
              "  <th>Wind_Direction_Variable</th> <td>    0.1426</td> <td>    0.339</td> <td>    0.421</td> <td> 0.674</td> <td>   -0.522</td> <td>    0.807</td>\n",
              "</tr>\n",
              "<tr>\n",
              "  <th>Wind_Direction_W</th>        <td>   -0.1321</td> <td>    0.043</td> <td>   -3.068</td> <td> 0.002</td> <td>   -0.217</td> <td>   -0.048</td>\n",
              "</tr>\n",
              "<tr>\n",
              "  <th>Wind_Direction_WNW</th>      <td>   -0.1111</td> <td>    0.046</td> <td>   -2.400</td> <td> 0.016</td> <td>   -0.202</td> <td>   -0.020</td>\n",
              "</tr>\n",
              "<tr>\n",
              "  <th>Wind_Direction_WSW</th>      <td>   -0.0921</td> <td>    0.045</td> <td>   -2.028</td> <td> 0.043</td> <td>   -0.181</td> <td>   -0.003</td>\n",
              "</tr>\n",
              "</table>\n",
              "<table class=\"simpletable\">\n",
              "<tr>\n",
              "  <th>Omnibus:</th>       <td>283.516</td> <th>  Durbin-Watson:     </th> <td>   1.766</td>\n",
              "</tr>\n",
              "<tr>\n",
              "  <th>Prob(Omnibus):</th> <td> 0.000</td>  <th>  Jarque-Bera (JB):  </th> <td> 152.760</td>\n",
              "</tr>\n",
              "<tr>\n",
              "  <th>Skew:</th>          <td>-0.248</td>  <th>  Prob(JB):          </th> <td>6.74e-34</td>\n",
              "</tr>\n",
              "<tr>\n",
              "  <th>Kurtosis:</th>      <td> 2.345</td>  <th>  Cond. No.          </th> <td>3.44e+15</td>\n",
              "</tr>\n",
              "</table><br/><br/>Warnings:<br/>[1] Standard Errors assume that the covariance matrix of the errors is correctly specified.<br/>[2] The smallest eigenvalue is 6.2e-24. This might indicate that there are<br/>strong multicollinearity problems or that the design matrix is singular."
            ],
            "text/plain": [
              "<class 'statsmodels.iolib.summary.Summary'>\n",
              "\"\"\"\n",
              "                            OLS Regression Results                            \n",
              "==============================================================================\n",
              "Dep. Variable:               Severity   R-squared:                       0.058\n",
              "Model:                            OLS   Adj. R-squared:                  0.054\n",
              "Method:                 Least Squares   F-statistic:                     12.41\n",
              "Date:                Mon, 04 May 2020   Prob (F-statistic):           4.85e-53\n",
              "Time:                        21:24:30   Log-Likelihood:                -3878.5\n",
              "No. Observations:                5424   AIC:                             7813.\n",
              "Df Residuals:                    5396   BIC:                             7998.\n",
              "Df Model:                          27                                         \n",
              "Covariance Type:            nonrobust                                         \n",
              "===========================================================================================\n",
              "                              coef    std err          t      P>|t|      [0.025      0.975]\n",
              "-------------------------------------------------------------------------------------------\n",
              "const                      -2.1720      0.629     -3.452      0.001      -3.406      -0.938\n",
              "Temperature(F)              0.0171      0.004      4.541      0.000       0.010       0.025\n",
              "Wind_Chill(F)              -0.0140      0.003     -4.174      0.000      -0.021      -0.007\n",
              "Humidity(%)                -0.0042      0.000     -9.424      0.000      -0.005      -0.003\n",
              "Pressure(in)                0.1768      0.022      8.064      0.000       0.134       0.220\n",
              "Precipitation(in)           0.2049      0.098      2.081      0.037       0.012       0.398\n",
              "Visibility(mi)             -0.0146      0.003     -4.352      0.000      -0.021      -0.008\n",
              "Wind_Direction_CALM        -0.2343      0.044     -5.360      0.000      -0.320      -0.149\n",
              "Wind_Direction_E           -0.0845      0.045     -1.866      0.062      -0.173       0.004\n",
              "Wind_Direction_ENE         -0.0025      0.051     -0.049      0.961      -0.102       0.097\n",
              "Wind_Direction_ESE         -0.0812      0.049     -1.661      0.097      -0.177       0.015\n",
              "Wind_Direction_East         0.0162      0.164      0.098      0.922      -0.306       0.338\n",
              "Wind_Direction_N           -0.1316      0.043     -3.087      0.002      -0.215      -0.048\n",
              "Wind_Direction_NE          -0.1868      0.051     -3.680      0.000      -0.286      -0.087\n",
              "Wind_Direction_NNE         -0.1215      0.050     -2.416      0.016      -0.220      -0.023\n",
              "Wind_Direction_NNW         -0.1064      0.047     -2.259      0.024      -0.199      -0.014\n",
              "Wind_Direction_NW          -0.1633      0.046     -3.546      0.000      -0.254      -0.073\n",
              "Wind_Direction_North       -0.0609      0.101     -0.603      0.546      -0.259       0.137\n",
              "Wind_Direction_S           -0.1696      0.040     -4.276      0.000      -0.247      -0.092\n",
              "Wind_Direction_SE          -0.1387      0.047     -2.924      0.003      -0.232      -0.046\n",
              "Wind_Direction_SSE         -0.1995      0.044     -4.581      0.000      -0.285      -0.114\n",
              "Wind_Direction_SSW         -0.1336      0.043     -3.133      0.002      -0.217      -0.050\n",
              "Wind_Direction_SW          -0.1173      0.045     -2.583      0.010      -0.206      -0.028\n",
              "Wind_Direction_South        0.1125      0.338      0.333      0.739      -0.550       0.775\n",
              "Wind_Direction_VAR         -0.1763      0.054     -3.247      0.001      -0.283      -0.070\n",
              "Wind_Direction_Variable     0.1426      0.339      0.421      0.674      -0.522       0.807\n",
              "Wind_Direction_W           -0.1321      0.043     -3.068      0.002      -0.217      -0.048\n",
              "Wind_Direction_WNW         -0.1111      0.046     -2.400      0.016      -0.202      -0.020\n",
              "Wind_Direction_WSW         -0.0921      0.045     -2.028      0.043      -0.181      -0.003\n",
              "==============================================================================\n",
              "Omnibus:                      283.516   Durbin-Watson:                   1.766\n",
              "Prob(Omnibus):                  0.000   Jarque-Bera (JB):              152.760\n",
              "Skew:                          -0.248   Prob(JB):                     6.74e-34\n",
              "Kurtosis:                       2.345   Cond. No.                     3.44e+15\n",
              "==============================================================================\n",
              "\n",
              "Warnings:\n",
              "[1] Standard Errors assume that the covariance matrix of the errors is correctly specified.\n",
              "[2] The smallest eigenvalue is 6.2e-24. This might indicate that there are\n",
              "strong multicollinearity problems or that the design matrix is singular.\n",
              "\"\"\""
            ]
          },
          "execution_count": 104,
          "metadata": {},
          "output_type": "execute_result"
        }
      ],
      "source": [
        "mod_refined1 = sm.OLS(y,X.drop(['Wind_Speed(mph)'], axis = 1)).fit()\n",
        "\n",
        "mod_refined1.summary()"
      ]
    },
    {
      "cell_type": "code",
      "execution_count": null,
      "metadata": {
        "id": "wqa8-c17vG1u",
        "outputId": "225013b3-8f1a-4897-e908-d2a417147a31"
      },
      "outputs": [
        {
          "data": {
            "text/html": [
              "<table class=\"simpletable\">\n",
              "<caption>OLS Regression Results</caption>\n",
              "<tr>\n",
              "  <th>Dep. Variable:</th>        <td>Severity</td>     <th>  R-squared:         </th> <td>   0.058</td>\n",
              "</tr>\n",
              "<tr>\n",
              "  <th>Model:</th>                   <td>OLS</td>       <th>  Adj. R-squared:    </th> <td>   0.054</td>\n",
              "</tr>\n",
              "<tr>\n",
              "  <th>Method:</th>             <td>Least Squares</td>  <th>  F-statistic:       </th> <td>   13.30</td>\n",
              "</tr>\n",
              "<tr>\n",
              "  <th>Date:</th>             <td>Mon, 04 May 2020</td> <th>  Prob (F-statistic):</th> <td>1.16e-53</td>\n",
              "</tr>\n",
              "<tr>\n",
              "  <th>Time:</th>                 <td>21:24:30</td>     <th>  Log-Likelihood:    </th> <td> -3879.8</td>\n",
              "</tr>\n",
              "<tr>\n",
              "  <th>No. Observations:</th>      <td>  5424</td>      <th>  AIC:               </th> <td>   7812.</td>\n",
              "</tr>\n",
              "<tr>\n",
              "  <th>Df Residuals:</th>          <td>  5398</td>      <th>  BIC:               </th> <td>   7983.</td>\n",
              "</tr>\n",
              "<tr>\n",
              "  <th>Df Model:</th>              <td>    25</td>      <th>                     </th>     <td> </td>   \n",
              "</tr>\n",
              "<tr>\n",
              "  <th>Covariance Type:</th>      <td>nonrobust</td>    <th>                     </th>     <td> </td>   \n",
              "</tr>\n",
              "</table>\n",
              "<table class=\"simpletable\">\n",
              "<tr>\n",
              "             <td></td>                <th>coef</th>     <th>std err</th>      <th>t</th>      <th>P>|t|</th>  <th>[0.025</th>    <th>0.975]</th>  \n",
              "</tr>\n",
              "<tr>\n",
              "  <th>const</th>                   <td>   -2.2310</td> <td>    0.655</td> <td>   -3.405</td> <td> 0.001</td> <td>   -3.515</td> <td>   -0.947</td>\n",
              "</tr>\n",
              "<tr>\n",
              "  <th>Temperature(F)</th>          <td>    0.0173</td> <td>    0.004</td> <td>    4.597</td> <td> 0.000</td> <td>    0.010</td> <td>    0.025</td>\n",
              "</tr>\n",
              "<tr>\n",
              "  <th>Wind_Chill(F)</th>           <td>   -0.0141</td> <td>    0.003</td> <td>   -4.230</td> <td> 0.000</td> <td>   -0.021</td> <td>   -0.008</td>\n",
              "</tr>\n",
              "<tr>\n",
              "  <th>Humidity(%)</th>             <td>   -0.0042</td> <td>    0.000</td> <td>   -9.445</td> <td> 0.000</td> <td>   -0.005</td> <td>   -0.003</td>\n",
              "</tr>\n",
              "<tr>\n",
              "  <th>Pressure(in)</th>            <td>    0.1773</td> <td>    0.022</td> <td>    8.105</td> <td> 0.000</td> <td>    0.134</td> <td>    0.220</td>\n",
              "</tr>\n",
              "<tr>\n",
              "  <th>Precipitation(in)</th>       <td>    0.2086</td> <td>    0.098</td> <td>    2.120</td> <td> 0.034</td> <td>    0.016</td> <td>    0.402</td>\n",
              "</tr>\n",
              "<tr>\n",
              "  <th>Visibility(mi)</th>          <td>   -0.0148</td> <td>    0.003</td> <td>   -4.419</td> <td> 0.000</td> <td>   -0.021</td> <td>   -0.008</td>\n",
              "</tr>\n",
              "<tr>\n",
              "  <th>Wind_Direction_CALM</th>     <td>   -0.1902</td> <td>    0.033</td> <td>   -5.692</td> <td> 0.000</td> <td>   -0.256</td> <td>   -0.125</td>\n",
              "</tr>\n",
              "<tr>\n",
              "  <th>Wind_Direction_E</th>        <td>   -0.0409</td> <td>    0.038</td> <td>   -1.072</td> <td> 0.284</td> <td>   -0.116</td> <td>    0.034</td>\n",
              "</tr>\n",
              "<tr>\n",
              "  <th>Wind_Direction_N</th>        <td>   -0.0883</td> <td>    0.035</td> <td>   -2.499</td> <td> 0.012</td> <td>   -0.158</td> <td>   -0.019</td>\n",
              "</tr>\n",
              "<tr>\n",
              "  <th>Wind_Direction_NE</th>       <td>   -0.1431</td> <td>    0.045</td> <td>   -3.174</td> <td> 0.002</td> <td>   -0.232</td> <td>   -0.055</td>\n",
              "</tr>\n",
              "<tr>\n",
              "  <th>Wind_Direction_NNE</th>      <td>   -0.0782</td> <td>    0.045</td> <td>   -1.737</td> <td> 0.082</td> <td>   -0.166</td> <td>    0.010</td>\n",
              "</tr>\n",
              "<tr>\n",
              "  <th>Wind_Direction_NNW</th>      <td>   -0.0630</td> <td>    0.040</td> <td>   -1.565</td> <td> 0.118</td> <td>   -0.142</td> <td>    0.016</td>\n",
              "</tr>\n",
              "<tr>\n",
              "  <th>Wind_Direction_NW</th>       <td>   -0.1196</td> <td>    0.040</td> <td>   -3.027</td> <td> 0.002</td> <td>   -0.197</td> <td>   -0.042</td>\n",
              "</tr>\n",
              "<tr>\n",
              "  <th>Wind_Direction_North</th>    <td>   -0.0193</td> <td>    0.098</td> <td>   -0.197</td> <td> 0.844</td> <td>   -0.211</td> <td>    0.173</td>\n",
              "</tr>\n",
              "<tr>\n",
              "  <th>Wind_Direction_S</th>        <td>   -0.1258</td> <td>    0.033</td> <td>   -3.840</td> <td> 0.000</td> <td>   -0.190</td> <td>   -0.062</td>\n",
              "</tr>\n",
              "<tr>\n",
              "  <th>Wind_Direction_SE</th>       <td>   -0.0948</td> <td>    0.041</td> <td>   -2.293</td> <td> 0.022</td> <td>   -0.176</td> <td>   -0.014</td>\n",
              "</tr>\n",
              "<tr>\n",
              "  <th>Wind_Direction_SSE</th>      <td>   -0.1556</td> <td>    0.037</td> <td>   -4.221</td> <td> 0.000</td> <td>   -0.228</td> <td>   -0.083</td>\n",
              "</tr>\n",
              "<tr>\n",
              "  <th>Wind_Direction_SSW</th>      <td>   -0.0898</td> <td>    0.036</td> <td>   -2.473</td> <td> 0.013</td> <td>   -0.161</td> <td>   -0.019</td>\n",
              "</tr>\n",
              "<tr>\n",
              "  <th>Wind_Direction_SW</th>       <td>   -0.0735</td> <td>    0.039</td> <td>   -1.881</td> <td> 0.060</td> <td>   -0.150</td> <td>    0.003</td>\n",
              "</tr>\n",
              "<tr>\n",
              "  <th>Wind_Direction_South</th>    <td>    0.1549</td> <td>    0.352</td> <td>    0.440</td> <td> 0.660</td> <td>   -0.535</td> <td>    0.845</td>\n",
              "</tr>\n",
              "<tr>\n",
              "  <th>Wind_Direction_VAR</th>      <td>   -0.1325</td> <td>    0.049</td> <td>   -2.730</td> <td> 0.006</td> <td>   -0.228</td> <td>   -0.037</td>\n",
              "</tr>\n",
              "<tr>\n",
              "  <th>Wind_Direction_Variable</th> <td>    0.1850</td> <td>    0.353</td> <td>    0.525</td> <td> 0.600</td> <td>   -0.506</td> <td>    0.876</td>\n",
              "</tr>\n",
              "<tr>\n",
              "  <th>Wind_Direction_W</th>        <td>   -0.0884</td> <td>    0.037</td> <td>   -2.389</td> <td> 0.017</td> <td>   -0.161</td> <td>   -0.016</td>\n",
              "</tr>\n",
              "<tr>\n",
              "  <th>Wind_Direction_WNW</th>      <td>   -0.0674</td> <td>    0.040</td> <td>   -1.678</td> <td> 0.093</td> <td>   -0.146</td> <td>    0.011</td>\n",
              "</tr>\n",
              "<tr>\n",
              "  <th>Wind_Direction_WSW</th>      <td>   -0.0483</td> <td>    0.040</td> <td>   -1.220</td> <td> 0.223</td> <td>   -0.126</td> <td>    0.029</td>\n",
              "</tr>\n",
              "</table>\n",
              "<table class=\"simpletable\">\n",
              "<tr>\n",
              "  <th>Omnibus:</th>       <td>283.830</td> <th>  Durbin-Watson:     </th> <td>   1.765</td>\n",
              "</tr>\n",
              "<tr>\n",
              "  <th>Prob(Omnibus):</th> <td> 0.000</td>  <th>  Jarque-Bera (JB):  </th> <td> 153.299</td>\n",
              "</tr>\n",
              "<tr>\n",
              "  <th>Skew:</th>          <td>-0.250</td>  <th>  Prob(JB):          </th> <td>5.15e-34</td>\n",
              "</tr>\n",
              "<tr>\n",
              "  <th>Kurtosis:</th>      <td> 2.345</td>  <th>  Cond. No.          </th> <td>1.13e+04</td>\n",
              "</tr>\n",
              "</table><br/><br/>Warnings:<br/>[1] Standard Errors assume that the covariance matrix of the errors is correctly specified.<br/>[2] The condition number is large, 1.13e+04. This might indicate that there are<br/>strong multicollinearity or other numerical problems."
            ],
            "text/plain": [
              "<class 'statsmodels.iolib.summary.Summary'>\n",
              "\"\"\"\n",
              "                            OLS Regression Results                            \n",
              "==============================================================================\n",
              "Dep. Variable:               Severity   R-squared:                       0.058\n",
              "Model:                            OLS   Adj. R-squared:                  0.054\n",
              "Method:                 Least Squares   F-statistic:                     13.30\n",
              "Date:                Mon, 04 May 2020   Prob (F-statistic):           1.16e-53\n",
              "Time:                        21:24:30   Log-Likelihood:                -3879.8\n",
              "No. Observations:                5424   AIC:                             7812.\n",
              "Df Residuals:                    5398   BIC:                             7983.\n",
              "Df Model:                          25                                         \n",
              "Covariance Type:            nonrobust                                         \n",
              "===========================================================================================\n",
              "                              coef    std err          t      P>|t|      [0.025      0.975]\n",
              "-------------------------------------------------------------------------------------------\n",
              "const                      -2.2310      0.655     -3.405      0.001      -3.515      -0.947\n",
              "Temperature(F)              0.0173      0.004      4.597      0.000       0.010       0.025\n",
              "Wind_Chill(F)              -0.0141      0.003     -4.230      0.000      -0.021      -0.008\n",
              "Humidity(%)                -0.0042      0.000     -9.445      0.000      -0.005      -0.003\n",
              "Pressure(in)                0.1773      0.022      8.105      0.000       0.134       0.220\n",
              "Precipitation(in)           0.2086      0.098      2.120      0.034       0.016       0.402\n",
              "Visibility(mi)             -0.0148      0.003     -4.419      0.000      -0.021      -0.008\n",
              "Wind_Direction_CALM        -0.1902      0.033     -5.692      0.000      -0.256      -0.125\n",
              "Wind_Direction_E           -0.0409      0.038     -1.072      0.284      -0.116       0.034\n",
              "Wind_Direction_N           -0.0883      0.035     -2.499      0.012      -0.158      -0.019\n",
              "Wind_Direction_NE          -0.1431      0.045     -3.174      0.002      -0.232      -0.055\n",
              "Wind_Direction_NNE         -0.0782      0.045     -1.737      0.082      -0.166       0.010\n",
              "Wind_Direction_NNW         -0.0630      0.040     -1.565      0.118      -0.142       0.016\n",
              "Wind_Direction_NW          -0.1196      0.040     -3.027      0.002      -0.197      -0.042\n",
              "Wind_Direction_North       -0.0193      0.098     -0.197      0.844      -0.211       0.173\n",
              "Wind_Direction_S           -0.1258      0.033     -3.840      0.000      -0.190      -0.062\n",
              "Wind_Direction_SE          -0.0948      0.041     -2.293      0.022      -0.176      -0.014\n",
              "Wind_Direction_SSE         -0.1556      0.037     -4.221      0.000      -0.228      -0.083\n",
              "Wind_Direction_SSW         -0.0898      0.036     -2.473      0.013      -0.161      -0.019\n",
              "Wind_Direction_SW          -0.0735      0.039     -1.881      0.060      -0.150       0.003\n",
              "Wind_Direction_South        0.1549      0.352      0.440      0.660      -0.535       0.845\n",
              "Wind_Direction_VAR         -0.1325      0.049     -2.730      0.006      -0.228      -0.037\n",
              "Wind_Direction_Variable     0.1850      0.353      0.525      0.600      -0.506       0.876\n",
              "Wind_Direction_W           -0.0884      0.037     -2.389      0.017      -0.161      -0.016\n",
              "Wind_Direction_WNW         -0.0674      0.040     -1.678      0.093      -0.146       0.011\n",
              "Wind_Direction_WSW         -0.0483      0.040     -1.220      0.223      -0.126       0.029\n",
              "==============================================================================\n",
              "Omnibus:                      283.830   Durbin-Watson:                   1.765\n",
              "Prob(Omnibus):                  0.000   Jarque-Bera (JB):              153.299\n",
              "Skew:                          -0.250   Prob(JB):                     5.15e-34\n",
              "Kurtosis:                       2.345   Cond. No.                     1.13e+04\n",
              "==============================================================================\n",
              "\n",
              "Warnings:\n",
              "[1] Standard Errors assume that the covariance matrix of the errors is correctly specified.\n",
              "[2] The condition number is large, 1.13e+04. This might indicate that there are\n",
              "strong multicollinearity or other numerical problems.\n",
              "\"\"\""
            ]
          },
          "execution_count": 105,
          "metadata": {},
          "output_type": "execute_result"
        }
      ],
      "source": [
        "mod_refined2 = sm.OLS(y,X.drop(['Wind_Speed(mph)','Wind_Direction_ENE','Wind_Direction_ESE','Wind_Direction_East'], axis = 1)).fit()\n",
        "\n",
        "mod_refined2.summary()"
      ]
    },
    {
      "cell_type": "code",
      "execution_count": null,
      "metadata": {
        "id": "VS0wSoYovG1v",
        "outputId": "e88f2f86-cf3a-4ee9-b126-e40d93364f10"
      },
      "outputs": [
        {
          "data": {
            "text/html": [
              "<table class=\"simpletable\">\n",
              "<caption>OLS Regression Results</caption>\n",
              "<tr>\n",
              "  <th>Dep. Variable:</th>        <td>Severity</td>     <th>  R-squared:         </th> <td>   0.058</td>\n",
              "</tr>\n",
              "<tr>\n",
              "  <th>Model:</th>                   <td>OLS</td>       <th>  Adj. R-squared:    </th> <td>   0.054</td>\n",
              "</tr>\n",
              "<tr>\n",
              "  <th>Method:</th>             <td>Least Squares</td>  <th>  F-statistic:       </th> <td>   15.10</td>\n",
              "</tr>\n",
              "<tr>\n",
              "  <th>Date:</th>             <td>Mon, 04 May 2020</td> <th>  Prob (F-statistic):</th> <td>2.57e-55</td>\n",
              "</tr>\n",
              "<tr>\n",
              "  <th>Time:</th>                 <td>21:24:30</td>     <th>  Log-Likelihood:    </th> <td> -3880.0</td>\n",
              "</tr>\n",
              "<tr>\n",
              "  <th>No. Observations:</th>      <td>  5424</td>      <th>  AIC:               </th> <td>   7806.</td>\n",
              "</tr>\n",
              "<tr>\n",
              "  <th>Df Residuals:</th>          <td>  5401</td>      <th>  BIC:               </th> <td>   7958.</td>\n",
              "</tr>\n",
              "<tr>\n",
              "  <th>Df Model:</th>              <td>    22</td>      <th>                     </th>     <td> </td>   \n",
              "</tr>\n",
              "<tr>\n",
              "  <th>Covariance Type:</th>      <td>nonrobust</td>    <th>                     </th>     <td> </td>   \n",
              "</tr>\n",
              "</table>\n",
              "<table class=\"simpletable\">\n",
              "<tr>\n",
              "           <td></td>              <th>coef</th>     <th>std err</th>      <th>t</th>      <th>P>|t|</th>  <th>[0.025</th>    <th>0.975]</th>  \n",
              "</tr>\n",
              "<tr>\n",
              "  <th>const</th>               <td>   -2.2297</td> <td>    0.649</td> <td>   -3.435</td> <td> 0.001</td> <td>   -3.502</td> <td>   -0.957</td>\n",
              "</tr>\n",
              "<tr>\n",
              "  <th>Temperature(F)</th>      <td>    0.0172</td> <td>    0.004</td> <td>    4.603</td> <td> 0.000</td> <td>    0.010</td> <td>    0.025</td>\n",
              "</tr>\n",
              "<tr>\n",
              "  <th>Wind_Chill(F)</th>       <td>   -0.0140</td> <td>    0.003</td> <td>   -4.238</td> <td> 0.000</td> <td>   -0.021</td> <td>   -0.008</td>\n",
              "</tr>\n",
              "<tr>\n",
              "  <th>Humidity(%)</th>         <td>   -0.0042</td> <td>    0.000</td> <td>   -9.439</td> <td> 0.000</td> <td>   -0.005</td> <td>   -0.003</td>\n",
              "</tr>\n",
              "<tr>\n",
              "  <th>Pressure(in)</th>        <td>    0.1773</td> <td>    0.022</td> <td>    8.201</td> <td> 0.000</td> <td>    0.135</td> <td>    0.220</td>\n",
              "</tr>\n",
              "<tr>\n",
              "  <th>Precipitation(in)</th>   <td>    0.2080</td> <td>    0.098</td> <td>    2.115</td> <td> 0.034</td> <td>    0.015</td> <td>    0.401</td>\n",
              "</tr>\n",
              "<tr>\n",
              "  <th>Visibility(mi)</th>      <td>   -0.0148</td> <td>    0.003</td> <td>   -4.460</td> <td> 0.000</td> <td>   -0.021</td> <td>   -0.008</td>\n",
              "</tr>\n",
              "<tr>\n",
              "  <th>Wind_Direction_CALM</th> <td>   -0.1907</td> <td>    0.033</td> <td>   -5.812</td> <td> 0.000</td> <td>   -0.255</td> <td>   -0.126</td>\n",
              "</tr>\n",
              "<tr>\n",
              "  <th>Wind_Direction_E</th>    <td>   -0.0412</td> <td>    0.038</td> <td>   -1.098</td> <td> 0.272</td> <td>   -0.115</td> <td>    0.032</td>\n",
              "</tr>\n",
              "<tr>\n",
              "  <th>Wind_Direction_N</th>    <td>   -0.0885</td> <td>    0.034</td> <td>   -2.571</td> <td> 0.010</td> <td>   -0.156</td> <td>   -0.021</td>\n",
              "</tr>\n",
              "<tr>\n",
              "  <th>Wind_Direction_NE</th>   <td>   -0.1434</td> <td>    0.045</td> <td>   -3.216</td> <td> 0.001</td> <td>   -0.231</td> <td>   -0.056</td>\n",
              "</tr>\n",
              "<tr>\n",
              "  <th>Wind_Direction_NNE</th>  <td>   -0.0784</td> <td>    0.044</td> <td>   -1.769</td> <td> 0.077</td> <td>   -0.165</td> <td>    0.009</td>\n",
              "</tr>\n",
              "<tr>\n",
              "  <th>Wind_Direction_NNW</th>  <td>   -0.0630</td> <td>    0.039</td> <td>   -1.599</td> <td> 0.110</td> <td>   -0.140</td> <td>    0.014</td>\n",
              "</tr>\n",
              "<tr>\n",
              "  <th>Wind_Direction_NW</th>   <td>   -0.1198</td> <td>    0.039</td> <td>   -3.081</td> <td> 0.002</td> <td>   -0.196</td> <td>   -0.044</td>\n",
              "</tr>\n",
              "<tr>\n",
              "  <th>Wind_Direction_S</th>    <td>   -0.1260</td> <td>    0.032</td> <td>   -3.906</td> <td> 0.000</td> <td>   -0.189</td> <td>   -0.063</td>\n",
              "</tr>\n",
              "<tr>\n",
              "  <th>Wind_Direction_SE</th>   <td>   -0.0951</td> <td>    0.041</td> <td>   -2.329</td> <td> 0.020</td> <td>   -0.175</td> <td>   -0.015</td>\n",
              "</tr>\n",
              "<tr>\n",
              "  <th>Wind_Direction_SSE</th>  <td>   -0.1558</td> <td>    0.036</td> <td>   -4.289</td> <td> 0.000</td> <td>   -0.227</td> <td>   -0.085</td>\n",
              "</tr>\n",
              "<tr>\n",
              "  <th>Wind_Direction_SSW</th>  <td>   -0.0899</td> <td>    0.036</td> <td>   -2.510</td> <td> 0.012</td> <td>   -0.160</td> <td>   -0.020</td>\n",
              "</tr>\n",
              "<tr>\n",
              "  <th>Wind_Direction_SW</th>   <td>   -0.0737</td> <td>    0.039</td> <td>   -1.909</td> <td> 0.056</td> <td>   -0.149</td> <td>    0.002</td>\n",
              "</tr>\n",
              "<tr>\n",
              "  <th>Wind_Direction_VAR</th>  <td>   -0.1327</td> <td>    0.048</td> <td>   -2.757</td> <td> 0.006</td> <td>   -0.227</td> <td>   -0.038</td>\n",
              "</tr>\n",
              "<tr>\n",
              "  <th>Wind_Direction_W</th>    <td>   -0.0885</td> <td>    0.036</td> <td>   -2.433</td> <td> 0.015</td> <td>   -0.160</td> <td>   -0.017</td>\n",
              "</tr>\n",
              "<tr>\n",
              "  <th>Wind_Direction_WNW</th>  <td>   -0.0675</td> <td>    0.040</td> <td>   -1.707</td> <td> 0.088</td> <td>   -0.145</td> <td>    0.010</td>\n",
              "</tr>\n",
              "<tr>\n",
              "  <th>Wind_Direction_WSW</th>  <td>   -0.0485</td> <td>    0.039</td> <td>   -1.240</td> <td> 0.215</td> <td>   -0.125</td> <td>    0.028</td>\n",
              "</tr>\n",
              "</table>\n",
              "<table class=\"simpletable\">\n",
              "<tr>\n",
              "  <th>Omnibus:</th>       <td>284.165</td> <th>  Durbin-Watson:     </th> <td>   1.765</td>\n",
              "</tr>\n",
              "<tr>\n",
              "  <th>Prob(Omnibus):</th> <td> 0.000</td>  <th>  Jarque-Bera (JB):  </th> <td> 153.471</td>\n",
              "</tr>\n",
              "<tr>\n",
              "  <th>Skew:</th>          <td>-0.250</td>  <th>  Prob(JB):          </th> <td>4.72e-34</td>\n",
              "</tr>\n",
              "<tr>\n",
              "  <th>Kurtosis:</th>      <td> 2.345</td>  <th>  Cond. No.          </th> <td>1.12e+04</td>\n",
              "</tr>\n",
              "</table><br/><br/>Warnings:<br/>[1] Standard Errors assume that the covariance matrix of the errors is correctly specified.<br/>[2] The condition number is large, 1.12e+04. This might indicate that there are<br/>strong multicollinearity or other numerical problems."
            ],
            "text/plain": [
              "<class 'statsmodels.iolib.summary.Summary'>\n",
              "\"\"\"\n",
              "                            OLS Regression Results                            \n",
              "==============================================================================\n",
              "Dep. Variable:               Severity   R-squared:                       0.058\n",
              "Model:                            OLS   Adj. R-squared:                  0.054\n",
              "Method:                 Least Squares   F-statistic:                     15.10\n",
              "Date:                Mon, 04 May 2020   Prob (F-statistic):           2.57e-55\n",
              "Time:                        21:24:30   Log-Likelihood:                -3880.0\n",
              "No. Observations:                5424   AIC:                             7806.\n",
              "Df Residuals:                    5401   BIC:                             7958.\n",
              "Df Model:                          22                                         \n",
              "Covariance Type:            nonrobust                                         \n",
              "=======================================================================================\n",
              "                          coef    std err          t      P>|t|      [0.025      0.975]\n",
              "---------------------------------------------------------------------------------------\n",
              "const                  -2.2297      0.649     -3.435      0.001      -3.502      -0.957\n",
              "Temperature(F)          0.0172      0.004      4.603      0.000       0.010       0.025\n",
              "Wind_Chill(F)          -0.0140      0.003     -4.238      0.000      -0.021      -0.008\n",
              "Humidity(%)            -0.0042      0.000     -9.439      0.000      -0.005      -0.003\n",
              "Pressure(in)            0.1773      0.022      8.201      0.000       0.135       0.220\n",
              "Precipitation(in)       0.2080      0.098      2.115      0.034       0.015       0.401\n",
              "Visibility(mi)         -0.0148      0.003     -4.460      0.000      -0.021      -0.008\n",
              "Wind_Direction_CALM    -0.1907      0.033     -5.812      0.000      -0.255      -0.126\n",
              "Wind_Direction_E       -0.0412      0.038     -1.098      0.272      -0.115       0.032\n",
              "Wind_Direction_N       -0.0885      0.034     -2.571      0.010      -0.156      -0.021\n",
              "Wind_Direction_NE      -0.1434      0.045     -3.216      0.001      -0.231      -0.056\n",
              "Wind_Direction_NNE     -0.0784      0.044     -1.769      0.077      -0.165       0.009\n",
              "Wind_Direction_NNW     -0.0630      0.039     -1.599      0.110      -0.140       0.014\n",
              "Wind_Direction_NW      -0.1198      0.039     -3.081      0.002      -0.196      -0.044\n",
              "Wind_Direction_S       -0.1260      0.032     -3.906      0.000      -0.189      -0.063\n",
              "Wind_Direction_SE      -0.0951      0.041     -2.329      0.020      -0.175      -0.015\n",
              "Wind_Direction_SSE     -0.1558      0.036     -4.289      0.000      -0.227      -0.085\n",
              "Wind_Direction_SSW     -0.0899      0.036     -2.510      0.012      -0.160      -0.020\n",
              "Wind_Direction_SW      -0.0737      0.039     -1.909      0.056      -0.149       0.002\n",
              "Wind_Direction_VAR     -0.1327      0.048     -2.757      0.006      -0.227      -0.038\n",
              "Wind_Direction_W       -0.0885      0.036     -2.433      0.015      -0.160      -0.017\n",
              "Wind_Direction_WNW     -0.0675      0.040     -1.707      0.088      -0.145       0.010\n",
              "Wind_Direction_WSW     -0.0485      0.039     -1.240      0.215      -0.125       0.028\n",
              "==============================================================================\n",
              "Omnibus:                      284.165   Durbin-Watson:                   1.765\n",
              "Prob(Omnibus):                  0.000   Jarque-Bera (JB):              153.471\n",
              "Skew:                          -0.250   Prob(JB):                     4.72e-34\n",
              "Kurtosis:                       2.345   Cond. No.                     1.12e+04\n",
              "==============================================================================\n",
              "\n",
              "Warnings:\n",
              "[1] Standard Errors assume that the covariance matrix of the errors is correctly specified.\n",
              "[2] The condition number is large, 1.12e+04. This might indicate that there are\n",
              "strong multicollinearity or other numerical problems.\n",
              "\"\"\""
            ]
          },
          "execution_count": 106,
          "metadata": {},
          "output_type": "execute_result"
        }
      ],
      "source": [
        "mod_refined3 = sm.OLS(y,X.drop(['Wind_Speed(mph)','Wind_Direction_ENE','Wind_Direction_ESE','Wind_Direction_East', 'Wind_Direction_North', 'Wind_Direction_South', 'Wind_Direction_Variable'], axis = 1)).fit()\n",
        "\n",
        "mod_refined3.summary()"
      ]
    },
    {
      "cell_type": "markdown",
      "metadata": {
        "id": "gbfOizbQvG1v"
      },
      "source": [
        "#### 5.3. Multicollinearity Check"
      ]
    },
    {
      "cell_type": "code",
      "execution_count": null,
      "metadata": {
        "id": "kfiQkljFvG1w",
        "outputId": "425c9022-8f1e-45f5-f457-561fb843235e"
      },
      "outputs": [
        {
          "data": {
            "text/plain": [
              "const                  9295.438329\n",
              "Temperature(F)          108.121931\n",
              "Wind_Chill(F)           108.779892\n",
              "Humidity(%)               1.482586\n",
              "Pressure(in)              1.164549\n",
              "Precipitation(in)         1.108996\n",
              "Visibility(mi)            1.467632\n",
              "Wind_Direction_CALM       2.183901\n",
              "Wind_Direction_E          1.616224\n",
              "Wind_Direction_N          1.857448\n",
              "Wind_Direction_NE         1.370157\n",
              "Wind_Direction_NNE        1.377448\n",
              "Wind_Direction_NNW        1.558399\n",
              "Wind_Direction_NW         1.561049\n",
              "Wind_Direction_S          2.241764\n",
              "Wind_Direction_SE         1.495106\n",
              "Wind_Direction_SSE        1.720411\n",
              "Wind_Direction_SSW        1.854609\n",
              "Wind_Direction_SW         1.627518\n",
              "Wind_Direction_VAR        1.330038\n",
              "Wind_Direction_W          1.744508\n",
              "Wind_Direction_WNW        1.553139\n",
              "Wind_Direction_WSW        1.577715\n",
              "dtype: float64"
            ]
          },
          "execution_count": 107,
          "metadata": {},
          "output_type": "execute_result"
        }
      ],
      "source": [
        "from statsmodels.stats.outliers_influence import variance_inflation_factor\n",
        "\n",
        "X2 = X.drop(['Wind_Speed(mph)','Wind_Direction_ENE','Wind_Direction_ESE','Wind_Direction_East', 'Wind_Direction_North', 'Wind_Direction_South', 'Wind_Direction_Variable'],axis=1)\n",
        "# Calculate VIF\n",
        "pd.Series([variance_inflation_factor(X2.values, i)\n",
        "           for i in range(X2.shape[1])], \n",
        "          index=X2.columns)"
      ]
    },
    {
      "cell_type": "code",
      "execution_count": null,
      "metadata": {
        "id": "kZgzPBV3vG1w",
        "outputId": "bc4bcc1b-fffc-42d8-fcad-063b23474617"
      },
      "outputs": [
        {
          "data": {
            "text/plain": [
              "const                  9294.134512\n",
              "Wind_Chill(F)             1.350429\n",
              "Humidity(%)               1.448835\n",
              "Pressure(in)              1.161359\n",
              "Precipitation(in)         1.108573\n",
              "Visibility(mi)            1.447838\n",
              "Wind_Direction_CALM       2.112551\n",
              "Wind_Direction_E          1.612223\n",
              "Wind_Direction_N          1.847112\n",
              "Wind_Direction_NE         1.369521\n",
              "Wind_Direction_NNE        1.377414\n",
              "Wind_Direction_NNW        1.550242\n",
              "Wind_Direction_NW         1.560730\n",
              "Wind_Direction_S          2.241558\n",
              "Wind_Direction_SE         1.484134\n",
              "Wind_Direction_SSE        1.719816\n",
              "Wind_Direction_SSW        1.852701\n",
              "Wind_Direction_SW         1.625448\n",
              "Wind_Direction_VAR        1.329621\n",
              "Wind_Direction_W          1.742295\n",
              "Wind_Direction_WNW        1.549393\n",
              "Wind_Direction_WSW        1.577237\n",
              "dtype: float64"
            ]
          },
          "execution_count": 108,
          "metadata": {},
          "output_type": "execute_result"
        }
      ],
      "source": [
        "# Further drop Infant_Deaths from the data\n",
        "X3 = X2.drop('Temperature(F)',axis=1)\n",
        "# Calculate VIF\n",
        "pd.Series([variance_inflation_factor(X3.values, i)\n",
        "           for i in range(X3.shape[1])], \n",
        "          index=X3.columns)"
      ]
    },
    {
      "cell_type": "code",
      "execution_count": null,
      "metadata": {
        "id": "AKFHIGrmvG1x",
        "outputId": "e792c01f-25d2-4435-9fe7-929374408a60"
      },
      "outputs": [
        {
          "data": {
            "text/html": [
              "<table class=\"simpletable\">\n",
              "<caption>OLS Regression Results</caption>\n",
              "<tr>\n",
              "  <th>Dep. Variable:</th>        <td>Severity</td>     <th>  R-squared:         </th> <td>   0.054</td>\n",
              "</tr>\n",
              "<tr>\n",
              "  <th>Model:</th>                   <td>OLS</td>       <th>  Adj. R-squared:    </th> <td>   0.051</td>\n",
              "</tr>\n",
              "<tr>\n",
              "  <th>Method:</th>             <td>Least Squares</td>  <th>  F-statistic:       </th> <td>   14.76</td>\n",
              "</tr>\n",
              "<tr>\n",
              "  <th>Date:</th>             <td>Mon, 04 May 2020</td> <th>  Prob (F-statistic):</th> <td>1.34e-51</td>\n",
              "</tr>\n",
              "<tr>\n",
              "  <th>Time:</th>                 <td>21:24:30</td>     <th>  Log-Likelihood:    </th> <td> -3890.7</td>\n",
              "</tr>\n",
              "<tr>\n",
              "  <th>No. Observations:</th>      <td>  5424</td>      <th>  AIC:               </th> <td>   7825.</td>\n",
              "</tr>\n",
              "<tr>\n",
              "  <th>Df Residuals:</th>          <td>  5402</td>      <th>  BIC:               </th> <td>   7971.</td>\n",
              "</tr>\n",
              "<tr>\n",
              "  <th>Df Model:</th>              <td>    21</td>      <th>                     </th>     <td> </td>   \n",
              "</tr>\n",
              "<tr>\n",
              "  <th>Covariance Type:</th>      <td>nonrobust</td>    <th>                     </th>     <td> </td>   \n",
              "</tr>\n",
              "</table>\n",
              "<table class=\"simpletable\">\n",
              "<tr>\n",
              "           <td></td>              <th>coef</th>     <th>std err</th>      <th>t</th>      <th>P>|t|</th>  <th>[0.025</th>    <th>0.975]</th>  \n",
              "</tr>\n",
              "<tr>\n",
              "  <th>const</th>               <td>   -2.1943</td> <td>    0.650</td> <td>   -3.374</td> <td> 0.001</td> <td>   -3.469</td> <td>   -0.919</td>\n",
              "</tr>\n",
              "<tr>\n",
              "  <th>Wind_Chill(F)</th>       <td>    0.0011</td> <td>    0.000</td> <td>    3.017</td> <td> 0.003</td> <td>    0.000</td> <td>    0.002</td>\n",
              "</tr>\n",
              "<tr>\n",
              "  <th>Humidity(%)</th>         <td>   -0.0045</td> <td>    0.000</td> <td>  -10.232</td> <td> 0.000</td> <td>   -0.005</td> <td>   -0.004</td>\n",
              "</tr>\n",
              "<tr>\n",
              "  <th>Pressure(in)</th>        <td>    0.1825</td> <td>    0.022</td> <td>    8.438</td> <td> 0.000</td> <td>    0.140</td> <td>    0.225</td>\n",
              "</tr>\n",
              "<tr>\n",
              "  <th>Precipitation(in)</th>   <td>    0.1992</td> <td>    0.099</td> <td>    2.022</td> <td> 0.043</td> <td>    0.006</td> <td>    0.392</td>\n",
              "</tr>\n",
              "<tr>\n",
              "  <th>Visibility(mi)</th>      <td>   -0.0166</td> <td>    0.003</td> <td>   -5.019</td> <td> 0.000</td> <td>   -0.023</td> <td>   -0.010</td>\n",
              "</tr>\n",
              "<tr>\n",
              "  <th>Wind_Direction_CALM</th> <td>   -0.2179</td> <td>    0.032</td> <td>   -6.743</td> <td> 0.000</td> <td>   -0.281</td> <td>   -0.155</td>\n",
              "</tr>\n",
              "<tr>\n",
              "  <th>Wind_Direction_E</th>    <td>   -0.0498</td> <td>    0.038</td> <td>   -1.326</td> <td> 0.185</td> <td>   -0.123</td> <td>    0.024</td>\n",
              "</tr>\n",
              "<tr>\n",
              "  <th>Wind_Direction_N</th>    <td>   -0.0766</td> <td>    0.034</td> <td>   -2.230</td> <td> 0.026</td> <td>   -0.144</td> <td>   -0.009</td>\n",
              "</tr>\n",
              "<tr>\n",
              "  <th>Wind_Direction_NE</th>   <td>   -0.1479</td> <td>    0.045</td> <td>   -3.310</td> <td> 0.001</td> <td>   -0.235</td> <td>   -0.060</td>\n",
              "</tr>\n",
              "<tr>\n",
              "  <th>Wind_Direction_NNE</th>  <td>   -0.0774</td> <td>    0.044</td> <td>   -1.742</td> <td> 0.081</td> <td>   -0.165</td> <td>    0.010</td>\n",
              "</tr>\n",
              "<tr>\n",
              "  <th>Wind_Direction_NNW</th>  <td>   -0.0499</td> <td>    0.039</td> <td>   -1.267</td> <td> 0.205</td> <td>   -0.127</td> <td>    0.027</td>\n",
              "</tr>\n",
              "<tr>\n",
              "  <th>Wind_Direction_NW</th>   <td>   -0.1172</td> <td>    0.039</td> <td>   -3.010</td> <td> 0.003</td> <td>   -0.194</td> <td>   -0.041</td>\n",
              "</tr>\n",
              "<tr>\n",
              "  <th>Wind_Direction_S</th>    <td>   -0.1246</td> <td>    0.032</td> <td>   -3.855</td> <td> 0.000</td> <td>   -0.188</td> <td>   -0.061</td>\n",
              "</tr>\n",
              "<tr>\n",
              "  <th>Wind_Direction_SE</th>   <td>   -0.1112</td> <td>    0.041</td> <td>   -2.728</td> <td> 0.006</td> <td>   -0.191</td> <td>   -0.031</td>\n",
              "</tr>\n",
              "<tr>\n",
              "  <th>Wind_Direction_SSE</th>  <td>   -0.1589</td> <td>    0.036</td> <td>   -4.367</td> <td> 0.000</td> <td>   -0.230</td> <td>   -0.088</td>\n",
              "</tr>\n",
              "<tr>\n",
              "  <th>Wind_Direction_SSW</th>  <td>   -0.0847</td> <td>    0.036</td> <td>   -2.359</td> <td> 0.018</td> <td>   -0.155</td> <td>   -0.014</td>\n",
              "</tr>\n",
              "<tr>\n",
              "  <th>Wind_Direction_SW</th>   <td>   -0.0674</td> <td>    0.039</td> <td>   -1.742</td> <td> 0.082</td> <td>   -0.143</td> <td>    0.008</td>\n",
              "</tr>\n",
              "<tr>\n",
              "  <th>Wind_Direction_VAR</th>  <td>   -0.1366</td> <td>    0.048</td> <td>   -2.833</td> <td> 0.005</td> <td>   -0.231</td> <td>   -0.042</td>\n",
              "</tr>\n",
              "<tr>\n",
              "  <th>Wind_Direction_W</th>    <td>   -0.0826</td> <td>    0.036</td> <td>   -2.266</td> <td> 0.023</td> <td>   -0.154</td> <td>   -0.011</td>\n",
              "</tr>\n",
              "<tr>\n",
              "  <th>Wind_Direction_WNW</th>  <td>   -0.0586</td> <td>    0.040</td> <td>   -1.480</td> <td> 0.139</td> <td>   -0.136</td> <td>    0.019</td>\n",
              "</tr>\n",
              "<tr>\n",
              "  <th>Wind_Direction_WSW</th>  <td>   -0.0453</td> <td>    0.039</td> <td>   -1.158</td> <td> 0.247</td> <td>   -0.122</td> <td>    0.031</td>\n",
              "</tr>\n",
              "</table>\n",
              "<table class=\"simpletable\">\n",
              "<tr>\n",
              "  <th>Omnibus:</th>       <td>297.855</td> <th>  Durbin-Watson:     </th> <td>   1.764</td>\n",
              "</tr>\n",
              "<tr>\n",
              "  <th>Prob(Omnibus):</th> <td> 0.000</td>  <th>  Jarque-Bera (JB):  </th> <td> 158.524</td>\n",
              "</tr>\n",
              "<tr>\n",
              "  <th>Skew:</th>          <td>-0.254</td>  <th>  Prob(JB):          </th> <td>3.78e-35</td>\n",
              "</tr>\n",
              "<tr>\n",
              "  <th>Kurtosis:</th>      <td> 2.334</td>  <th>  Cond. No.          </th> <td>9.44e+03</td>\n",
              "</tr>\n",
              "</table><br/><br/>Warnings:<br/>[1] Standard Errors assume that the covariance matrix of the errors is correctly specified.<br/>[2] The condition number is large, 9.44e+03. This might indicate that there are<br/>strong multicollinearity or other numerical problems."
            ],
            "text/plain": [
              "<class 'statsmodels.iolib.summary.Summary'>\n",
              "\"\"\"\n",
              "                            OLS Regression Results                            \n",
              "==============================================================================\n",
              "Dep. Variable:               Severity   R-squared:                       0.054\n",
              "Model:                            OLS   Adj. R-squared:                  0.051\n",
              "Method:                 Least Squares   F-statistic:                     14.76\n",
              "Date:                Mon, 04 May 2020   Prob (F-statistic):           1.34e-51\n",
              "Time:                        21:24:30   Log-Likelihood:                -3890.7\n",
              "No. Observations:                5424   AIC:                             7825.\n",
              "Df Residuals:                    5402   BIC:                             7971.\n",
              "Df Model:                          21                                         \n",
              "Covariance Type:            nonrobust                                         \n",
              "=======================================================================================\n",
              "                          coef    std err          t      P>|t|      [0.025      0.975]\n",
              "---------------------------------------------------------------------------------------\n",
              "const                  -2.1943      0.650     -3.374      0.001      -3.469      -0.919\n",
              "Wind_Chill(F)           0.0011      0.000      3.017      0.003       0.000       0.002\n",
              "Humidity(%)            -0.0045      0.000    -10.232      0.000      -0.005      -0.004\n",
              "Pressure(in)            0.1825      0.022      8.438      0.000       0.140       0.225\n",
              "Precipitation(in)       0.1992      0.099      2.022      0.043       0.006       0.392\n",
              "Visibility(mi)         -0.0166      0.003     -5.019      0.000      -0.023      -0.010\n",
              "Wind_Direction_CALM    -0.2179      0.032     -6.743      0.000      -0.281      -0.155\n",
              "Wind_Direction_E       -0.0498      0.038     -1.326      0.185      -0.123       0.024\n",
              "Wind_Direction_N       -0.0766      0.034     -2.230      0.026      -0.144      -0.009\n",
              "Wind_Direction_NE      -0.1479      0.045     -3.310      0.001      -0.235      -0.060\n",
              "Wind_Direction_NNE     -0.0774      0.044     -1.742      0.081      -0.165       0.010\n",
              "Wind_Direction_NNW     -0.0499      0.039     -1.267      0.205      -0.127       0.027\n",
              "Wind_Direction_NW      -0.1172      0.039     -3.010      0.003      -0.194      -0.041\n",
              "Wind_Direction_S       -0.1246      0.032     -3.855      0.000      -0.188      -0.061\n",
              "Wind_Direction_SE      -0.1112      0.041     -2.728      0.006      -0.191      -0.031\n",
              "Wind_Direction_SSE     -0.1589      0.036     -4.367      0.000      -0.230      -0.088\n",
              "Wind_Direction_SSW     -0.0847      0.036     -2.359      0.018      -0.155      -0.014\n",
              "Wind_Direction_SW      -0.0674      0.039     -1.742      0.082      -0.143       0.008\n",
              "Wind_Direction_VAR     -0.1366      0.048     -2.833      0.005      -0.231      -0.042\n",
              "Wind_Direction_W       -0.0826      0.036     -2.266      0.023      -0.154      -0.011\n",
              "Wind_Direction_WNW     -0.0586      0.040     -1.480      0.139      -0.136       0.019\n",
              "Wind_Direction_WSW     -0.0453      0.039     -1.158      0.247      -0.122       0.031\n",
              "==============================================================================\n",
              "Omnibus:                      297.855   Durbin-Watson:                   1.764\n",
              "Prob(Omnibus):                  0.000   Jarque-Bera (JB):              158.524\n",
              "Skew:                          -0.254   Prob(JB):                     3.78e-35\n",
              "Kurtosis:                       2.334   Cond. No.                     9.44e+03\n",
              "==============================================================================\n",
              "\n",
              "Warnings:\n",
              "[1] Standard Errors assume that the covariance matrix of the errors is correctly specified.\n",
              "[2] The condition number is large, 9.44e+03. This might indicate that there are\n",
              "strong multicollinearity or other numerical problems.\n",
              "\"\"\""
            ]
          },
          "execution_count": 109,
          "metadata": {},
          "output_type": "execute_result"
        }
      ],
      "source": [
        "mod_refined4 = sm.OLS(y,X3).fit()\n",
        "\n",
        "mod_refined4.summary()"
      ]
    },
    {
      "cell_type": "markdown",
      "metadata": {
        "id": "4TKGkRdNvG1x"
      },
      "source": [
        "#### 5.4. Model Comparison"
      ]
    },
    {
      "cell_type": "code",
      "execution_count": null,
      "metadata": {
        "id": "UZWSgKqnvG1y",
        "outputId": "69c9ed48-71e7-4cd9-9e71-4d15588dec2e"
      },
      "outputs": [
        {
          "name": "stdout",
          "output_type": "stream",
          "text": [
            "                               OLS Regressions\n",
            "==============================================================================\n",
            "                         Model 1    Model 2    Model 3    Model 4    Model 5  \n",
            "------------------------------------------------------------------------------\n",
            "Humidity(%)             -0.0041*** -0.0042*** -0.0042*** -0.0042*** -0.0045***\n",
            "                        (0.0005)   (0.0004)   (0.0004)   (0.0004)   (0.0004)  \n",
            "Precipitation(in)       0.1996**   0.2049**   0.2086**   0.2080**   0.1992**  \n",
            "                        (0.0987)   (0.0985)   (0.0984)   (0.0983)   (0.0985)  \n",
            "Pressure(in)            0.1811***  0.1768***  0.1773***  0.1773***  0.1825*** \n",
            "                        (0.0226)   (0.0219)   (0.0219)   (0.0216)   (0.0216)  \n",
            "R-squared               0.0537     0.0538     0.0537     0.0541     0.0506    \n",
            "                        0.0586     0.0585     0.0580     0.0579     0.0543    \n",
            "Temperature(F)          0.0161***  0.0171***  0.0173***  0.0172***            \n",
            "                        (0.0040)   (0.0038)   (0.0038)   (0.0037)             \n",
            "Visibility(mi)          -0.0143*** -0.0146*** -0.0148*** -0.0148*** -0.0166***\n",
            "                        (0.0034)   (0.0034)   (0.0033)   (0.0033)   (0.0033)  \n",
            "Wind_Chill(F)           -0.0130*** -0.0140*** -0.0141*** -0.0140*** 0.0011*** \n",
            "                        (0.0036)   (0.0033)   (0.0033)   (0.0033)   (0.0004)  \n",
            "Wind_Direction_CALM     -0.2309*** -0.2343*** -0.1902*** -0.1907*** -0.2179***\n",
            "                        (0.0439)   (0.0437)   (0.0334)   (0.0328)   (0.0323)  \n",
            "Wind_Direction_E        -0.0904**  -0.0845*   -0.0409    -0.0412    -0.0498   \n",
            "                        (0.0459)   (0.0453)   (0.0381)   (0.0375)   (0.0375)  \n",
            "Wind_Direction_ENE      -0.0070    -0.0025                                    \n",
            "                        (0.0510)   (0.0507)                                   \n",
            "Wind_Direction_ESE      -0.0877*   -0.0812*                                   \n",
            "                        (0.0495)   (0.0488)                                   \n",
            "Wind_Direction_East     0.0097     0.0162                                     \n",
            "                        (0.1646)   (0.1644)                                   \n",
            "Wind_Direction_N        -0.1390*** -0.1316*** -0.0883**  -0.0885**  -0.0766** \n",
            "                        (0.0436)   (0.0426)   (0.0353)   (0.0344)   (0.0344)  \n",
            "Wind_Direction_NE       -0.1923*** -0.1868*** -0.1431*** -0.1434*** -0.1479***\n",
            "                        (0.0512)   (0.0508)   (0.0451)   (0.0446)   (0.0447)  \n",
            "Wind_Direction_NNE      -0.1268**  -0.1215**  -0.0782*   -0.0784*   -0.0774*  \n",
            "                        (0.0507)   (0.0503)   (0.0450)   (0.0444)   (0.0444)  \n",
            "Wind_Direction_NNW      -0.1150**  -0.1064**  -0.0630    -0.0630    -0.0499   \n",
            "                        (0.0483)   (0.0471)   (0.0402)   (0.0394)   (0.0394)  \n",
            "Wind_Direction_NW       -0.1718*** -0.1633*** -0.1196*** -0.1198*** -0.1172***\n",
            "                        (0.0472)   (0.0461)   (0.0395)   (0.0389)   (0.0390)  \n",
            "Wind_Direction_North    -0.0680    -0.0609    -0.0193                         \n",
            "                        (0.1013)   (0.1009)   (0.0980)                        \n",
            "Wind_Direction_S        -0.1769*** -0.1696*** -0.1258*** -0.1260*** -0.1246***\n",
            "                        (0.0407)   (0.0397)   (0.0328)   (0.0323)   (0.0323)  \n",
            "Wind_Direction_SE       -0.1462*** -0.1387*** -0.0948**  -0.0951**  -0.1112***\n",
            "                        (0.0483)   (0.0474)   (0.0413)   (0.0409)   (0.0408)  \n",
            "Wind_Direction_SSE      -0.2068*** -0.1995*** -0.1556*** -0.1558*** -0.1589***\n",
            "                        (0.0445)   (0.0435)   (0.0369)   (0.0363)   (0.0364)  \n",
            "Wind_Direction_SSW      -0.1418*** -0.1336*** -0.0898**  -0.0899**  -0.0847** \n",
            "                        (0.0438)   (0.0426)   (0.0363)   (0.0358)   (0.0359)  \n",
            "Wind_Direction_SW       -0.1244*** -0.1173*** -0.0735*   -0.0737*   -0.0674*  \n",
            "                        (0.0463)   (0.0454)   (0.0391)   (0.0386)   (0.0387)  \n",
            "Wind_Direction_South    0.1050     0.1125     0.1549                          \n",
            "                        (0.3382)   (0.3380)   (0.3520)                        \n",
            "Wind_Direction_VAR      -0.1774*** -0.1763*** -0.1325*** -0.1327*** -0.1366***\n",
            "                        (0.0543)   (0.0543)   (0.0485)   (0.0481)   (0.0482)  \n",
            "Wind_Direction_Variable 0.1392     0.1426     0.1850                          \n",
            "                        (0.3392)   (0.3391)   (0.3527)                        \n",
            "Wind_Direction_W        -0.1390*** -0.1321*** -0.0884**  -0.0885**  -0.0826** \n",
            "                        (0.0439)   (0.0431)   (0.0370)   (0.0364)   (0.0364)  \n",
            "Wind_Direction_WNW      -0.1192**  -0.1111**  -0.0674*   -0.0675*   -0.0586   \n",
            "                        (0.0474)   (0.0463)   (0.0402)   (0.0396)   (0.0396)  \n",
            "Wind_Direction_WSW      -0.0987**  -0.0921**  -0.0483    -0.0485    -0.0453   \n",
            "                        (0.0461)   (0.0454)   (0.0396)   (0.0391)   (0.0392)  \n",
            "Wind_Speed(mph)         0.0015                                                \n",
            "                        (0.0019)                                              \n",
            "const                   -2.3057*** -2.1720*** -2.2310*** -2.2297*** -2.1943***\n",
            "                        (0.6507)   (0.6293)   (0.6552)   (0.6491)   (0.6503)  \n",
            "N                       5424       5424       5424       5424       5424      \n",
            "R2                      0.06       0.06       0.06       0.06       0.05      \n",
            "==============================================================================\n",
            "Standard errors in parentheses.\n",
            "* p<.1, ** p<.05, ***p<.01\n"
          ]
        }
      ],
      "source": [
        "# Use summary_col() to compare multiple models\n",
        "from statsmodels.iolib.summary2 import summary_col\n",
        "\n",
        "\n",
        "reg_sum = summary_col([mod_full,\n",
        "                       mod_refined1,\n",
        "                       mod_refined2,\n",
        "                       mod_refined3,\n",
        "                      mod_refined4,],stars=True,\n",
        "                     model_names= ['Model 1', 'Model 2', 'Model 3', 'Model 4', 'Model 5'], \n",
        "                      info_dict={'N':lambda x: \"{0:d}\".format(int(x.nobs)),\n",
        "                             'R2':lambda x: \"{:.2f}\".format(x.rsquared)})\n",
        "reg_sum.add_title('OLS Regressions')\n",
        "\n",
        "print(reg_sum)"
      ]
    },
    {
      "cell_type": "markdown",
      "metadata": {
        "id": "iUOufZtGvG1y"
      },
      "source": [
        "Comparing all models, we found that model 5 is better than other models:\n",
        "1. maintains the similar adjusted R square.\n",
        "2. fewer predictors than others.\n",
        "3. No multicollinearity issue.\n",
        "\n"
      ]
    },
    {
      "cell_type": "markdown",
      "metadata": {
        "id": "eV6wcxIN_HE2"
      },
      "source": [
        "### 6. Predictive Modeling"
      ]
    },
    {
      "cell_type": "markdown",
      "metadata": {
        "id": "alkCWQxIEDIa"
      },
      "source": [
        "#### Data Partition"
      ]
    },
    {
      "cell_type": "code",
      "execution_count": null,
      "metadata": {
        "id": "Gdi_FMpk_HE2"
      },
      "outputs": [],
      "source": [
        "from sklearn.model_selection import train_test_split\n",
        "\n",
        "# 30-70% simple split\n",
        "# To make the result reproducible, set the random_state\n",
        "train_y,test_y,train_X,test_X = train_test_split(y, X,\n",
        "                                                 test_size=0.3,  \n",
        "                                                 random_state=123)"
      ]
    },
    {
      "cell_type": "code",
      "execution_count": null,
      "metadata": {
        "colab": {
          "base_uri": "https://localhost:8080/",
          "height": 34
        },
        "id": "N_ihDL9Y_HE3",
        "outputId": "9d67dd20-3ff6-4e72-d045-2dd49eaf0fa1"
      },
      "outputs": [
        {
          "data": {
            "text/plain": [
              "(3796,)"
            ]
          },
          "execution_count": 12,
          "metadata": {
            "tags": []
          },
          "output_type": "execute_result"
        }
      ],
      "source": [
        "train_y.shape"
      ]
    },
    {
      "cell_type": "code",
      "execution_count": null,
      "metadata": {
        "colab": {
          "base_uri": "https://localhost:8080/",
          "height": 34
        },
        "id": "sH46Vggn_HE4",
        "outputId": "7892419c-fdd7-488d-f18d-be2727ec9177"
      },
      "outputs": [
        {
          "data": {
            "text/plain": [
              "(1628,)"
            ]
          },
          "execution_count": 13,
          "metadata": {
            "tags": []
          },
          "output_type": "execute_result"
        }
      ],
      "source": [
        "test_y.shape"
      ]
    },
    {
      "cell_type": "code",
      "execution_count": null,
      "metadata": {
        "colab": {
          "base_uri": "https://localhost:8080/",
          "height": 34
        },
        "id": "vwCf-Kra_HE5",
        "outputId": "445ce000-4914-4623-c859-5c1ef233c27e"
      },
      "outputs": [
        {
          "data": {
            "text/plain": [
              "(3796, 77)"
            ]
          },
          "execution_count": 14,
          "metadata": {
            "tags": []
          },
          "output_type": "execute_result"
        }
      ],
      "source": [
        "train_X.shape"
      ]
    },
    {
      "cell_type": "code",
      "execution_count": null,
      "metadata": {
        "colab": {
          "base_uri": "https://localhost:8080/",
          "height": 34
        },
        "id": "KTtNDrra_HE6",
        "outputId": "c3c73e11-0442-4f24-ce12-269ad2b48fed"
      },
      "outputs": [
        {
          "data": {
            "text/plain": [
              "(1628, 77)"
            ]
          },
          "execution_count": 15,
          "metadata": {
            "tags": []
          },
          "output_type": "execute_result"
        }
      ],
      "source": [
        "test_X.shape"
      ]
    },
    {
      "cell_type": "code",
      "execution_count": null,
      "metadata": {
        "id": "JhmJiMLF_HE7"
      },
      "outputs": [],
      "source": [
        ""
      ]
    },
    {
      "cell_type": "markdown",
      "metadata": {
        "id": "KlchPJvv_HE8"
      },
      "source": [
        "## SVM"
      ]
    },
    {
      "cell_type": "code",
      "execution_count": null,
      "metadata": {
        "id": "u6JhoydT_HE9"
      },
      "outputs": [],
      "source": [
        "import matplotlib.pyplot as plt\n",
        "import itertools\n",
        "from sklearn import svm\n",
        "from sklearn import metrics\n",
        "from sklearn import model_selection"
      ]
    },
    {
      "cell_type": "markdown",
      "metadata": {
        "id": "TkzAnt0P_HE-"
      },
      "source": [
        "### Linear SVC"
      ]
    },
    {
      "cell_type": "markdown",
      "metadata": {
        "id": "R6bgITHp_HE-"
      },
      "source": [
        "First, let's build a support vector classifier with linear kernel. We manually set the parameter C as 1.0. Then we use the test set to evaluate performance of the SVC."
      ]
    },
    {
      "cell_type": "code",
      "execution_count": null,
      "metadata": {
        "id": "fNjeMmU5_HE-"
      },
      "outputs": [],
      "source": [
        "# Train an SVC with linear kernel\n",
        "svc_linear = svm.SVC(kernel='linear', C=1.0)"
      ]
    },
    {
      "cell_type": "code",
      "execution_count": null,
      "metadata": {
        "colab": {
          "base_uri": "https://localhost:8080/",
          "height": 84
        },
        "id": "oPbf0PNM_HFB",
        "outputId": "d8f53b7e-dad8-4f6e-b46d-64106db3d0e1"
      },
      "outputs": [
        {
          "data": {
            "text/plain": [
              "SVC(C=1.0, break_ties=False, cache_size=200, class_weight=None, coef0=0.0,\n",
              "    decision_function_shape='ovr', degree=3, gamma='scale', kernel='linear',\n",
              "    max_iter=-1, probability=False, random_state=None, shrinking=True,\n",
              "    tol=0.001, verbose=False)"
            ]
          },
          "execution_count": 56,
          "metadata": {
            "tags": []
          },
          "output_type": "execute_result"
        }
      ],
      "source": [
        "svc_linear.fit(train_X,train_y)"
      ]
    },
    {
      "cell_type": "code",
      "execution_count": null,
      "metadata": {
        "id": "nyRQOVrY_HFC"
      },
      "outputs": [],
      "source": [
        "# Predict on test set\n",
        "pred_y1 = svc_linear.predict(test_X)"
      ]
    },
    {
      "cell_type": "code",
      "execution_count": null,
      "metadata": {
        "colab": {
          "base_uri": "https://localhost:8080/",
          "height": 101
        },
        "id": "BeZP6toQ_HFD",
        "outputId": "90cb383c-9b95-48bd-da2c-0df8c1a79099"
      },
      "outputs": [
        {
          "data": {
            "text/plain": [
              "3    1044\n",
              "2     563\n",
              "4      20\n",
              "1       1\n",
              "Name: Severity, dtype: int64"
            ]
          },
          "execution_count": 58,
          "metadata": {
            "tags": []
          },
          "output_type": "execute_result"
        }
      ],
      "source": [
        "# Count of the values in the test_y\n",
        "test_y.value_counts()"
      ]
    },
    {
      "cell_type": "code",
      "execution_count": null,
      "metadata": {
        "colab": {
          "base_uri": "https://localhost:8080/",
          "height": 101
        },
        "id": "7NbZU4Zg_HFD",
        "outputId": "d251e3d7-8c97-4922-eb79-9a4a92b6bc1e"
      },
      "outputs": [
        {
          "data": {
            "text/plain": [
              "3    1319\n",
              "2     295\n",
              "4      13\n",
              "1       1\n",
              "dtype: int64"
            ]
          },
          "execution_count": 59,
          "metadata": {
            "tags": []
          },
          "output_type": "execute_result"
        }
      ],
      "source": [
        "# Count of the values in the pred_y\n",
        "pd.Series(pred_y1).value_counts()"
      ]
    },
    {
      "cell_type": "code",
      "execution_count": null,
      "metadata": {
        "colab": {
          "base_uri": "https://localhost:8080/",
          "height": 84
        },
        "id": "WnTkxlpg_HFE",
        "outputId": "b49367aa-f914-470f-f8ab-dabf72203ed9"
      },
      "outputs": [
        {
          "name": "stdout",
          "output_type": "stream",
          "text": [
            "[[  1   0   0   0]\n",
            " [  0 189 372   2]\n",
            " [  0 104 934   6]\n",
            " [  0   2  13   5]]\n"
          ]
        }
      ],
      "source": [
        "# Print confusion matrix\n",
        "print(metrics.confusion_matrix(test_y, pred_y1))"
      ]
    },
    {
      "cell_type": "markdown",
      "metadata": {
        "id": "eorNTjeHWGjf"
      },
      "source": [
        "Let's beautify the confusion matrix "
      ]
    },
    {
      "cell_type": "code",
      "execution_count": null,
      "metadata": {
        "id": "g_NlXg0sVs4O"
      },
      "outputs": [],
      "source": [
        "# Define a function to plot confusion matrix\n",
        "def plot_confusion_matrix(cm, classes,\n",
        "                          normalize=False,\n",
        "                          title='Confusion matrix',\n",
        "                          cmap=plt.cm.Blues):  \n",
        "    plt.imshow(cm, interpolation='nearest', cmap=cmap)\n",
        "    plt.title(title)\n",
        "    plt.colorbar()\n",
        "    tick_marks = np.arange(len(classes))\n",
        "    plt.xticks(tick_marks, classes, rotation=45)\n",
        "    plt.yticks(tick_marks, classes)\n",
        "    thresh = cm.max() / 2.\n",
        "    for i, j in itertools.product(range(cm.shape[0]), range(cm.shape[1])):\n",
        "        plt.text(j, i, format(cm[i, j], 'd'),\n",
        "                 horizontalalignment=\"center\",\n",
        "                 color=\"white\" if cm[i, j] > thresh else \"black\")\n",
        "\n",
        "    plt.tight_layout()\n",
        "    plt.ylabel('True label')\n",
        "    plt.xlabel('Predicted label')\n",
        "    plt.plot()"
      ]
    },
    {
      "cell_type": "code",
      "execution_count": null,
      "metadata": {
        "id": "3JdfHPJ6WdwG"
      },
      "outputs": [],
      "source": [
        "# Compute confusion matrix\n",
        "cnf_matrix = metrics.confusion_matrix(test_y, pred_y1)\n",
        "\n",
        "# Plot non-normalized confusion matrix\n",
        "plot_confusion_matrix(cnf_matrix, classes=['1','2','3','4'],\n",
        "                      title='Confusion matrix, without normalization')"
      ]
    },
    {
      "cell_type": "markdown",
      "metadata": {
        "id": "U62ShKi9_HFH"
      },
      "source": [
        "We can see that the trained SVC has good performance."
      ]
    },
    {
      "cell_type": "code",
      "execution_count": null,
      "metadata": {
        "colab": {
          "base_uri": "https://localhost:8080/",
          "height": 34
        },
        "id": "zt-V7ubJ_HFH",
        "outputId": "b03d3aba-8d28-4c99-c72f-17a240fbc9ed"
      },
      "outputs": [
        {
          "data": {
            "text/plain": [
              "0.6934889434889435"
            ]
          },
          "execution_count": 97,
          "metadata": {
            "tags": []
          },
          "output_type": "execute_result"
        }
      ],
      "source": [
        "# Calculate classification accuracy\n",
        "metrics.accuracy_score(test_y, pred_y1)"
      ]
    },
    {
      "cell_type": "code",
      "execution_count": null,
      "metadata": {
        "colab": {
          "base_uri": "https://localhost:8080/",
          "height": 202
        },
        "id": "BZUJsixW_HFI",
        "outputId": "88048187-577a-4696-d17c-7e46fa73925c"
      },
      "outputs": [
        {
          "name": "stdout",
          "output_type": "stream",
          "text": [
            "              precision    recall  f1-score   support\n",
            "\n",
            "           1       1.00      1.00      1.00         1\n",
            "           2       0.64      0.34      0.44       563\n",
            "           3       0.71      0.89      0.79      1044\n",
            "           4       0.38      0.25      0.30        20\n",
            "\n",
            "    accuracy                           0.69      1628\n",
            "   macro avg       0.68      0.62      0.63      1628\n",
            "weighted avg       0.68      0.69      0.66      1628\n",
            "\n"
          ]
        }
      ],
      "source": [
        "# Print classification report\n",
        "print(metrics.classification_report(test_y, pred_y1))"
      ]
    },
    {
      "cell_type": "markdown",
      "metadata": {
        "id": "5IS1UyLu_HFJ"
      },
      "source": [
        "Since the outcomes is not binary (it contains 4 classes), we cannot directly calculate AUC."
      ]
    },
    {
      "cell_type": "markdown",
      "metadata": {
        "id": "st0pewEH_HFJ"
      },
      "source": [
        "### Tune Hyper-parameters"
      ]
    },
    {
      "cell_type": "markdown",
      "metadata": {
        "id": "05gm7xVl_HFK"
      },
      "source": [
        "In the above analysis, we manually choose linear kernel and set the parameter C as 1.0. Now, lets tune the parameters in order to get a model with better performance."
      ]
    },
    {
      "cell_type": "code",
      "execution_count": null,
      "metadata": {
        "colab": {
          "base_uri": "https://localhost:8080/",
          "height": 67
        },
        "id": "K0yq-Tsa_HFK",
        "outputId": "46173350-987d-4727-d278-7d5e66e95d07"
      },
      "outputs": [
        {
          "data": {
            "text/plain": [
              "{'C': [0.001, 0.01, 0.025, 0.05, 1, 5, 10],\n",
              " 'gamma': [0.01, 0.02, 0.03, 0.1, 0.2, 0.3, 0.5],\n",
              " 'kernel': ['linear', 'rbf', 'poly']}"
            ]
          },
          "execution_count": 67,
          "metadata": {
            "tags": []
          },
          "output_type": "execute_result"
        }
      ],
      "source": [
        "parameters = {'kernel':['linear','rbf','poly'],\n",
        "              'C':[0.001,0.01,0.025,0.05,1,5],\n",
        "              'gamma':[0.01,0.02,0.03,0.10,0.2,0.3]}\n",
        "# {'kernel':['linear','rbf','poly'],\n",
        "#               'C':[0.001,0.01],\n",
        "#               'gamma':[0.1,0.01]}\n",
        "parameters"
      ]
    },
    {
      "cell_type": "code",
      "execution_count": null,
      "metadata": {
        "id": "wfj-CWp8_HFL"
      },
      "outputs": [],
      "source": [
        "svc = svm.SVC()"
      ]
    },
    {
      "cell_type": "code",
      "execution_count": null,
      "metadata": {
        "id": "bFMDOJSH_HFM"
      },
      "outputs": [],
      "source": [
        "grid_svc = model_selection.GridSearchCV(svc, parameters, scoring='accuracy', cv=5, iid = False, n_jobs=-1, verbose=1)"
      ]
    },
    {
      "cell_type": "code",
      "execution_count": null,
      "metadata": {
        "colab": {
          "base_uri": "https://localhost:8080/",
          "height": 491
        },
        "id": "Q7QifVsyGIPe",
        "outputId": "5920c2ee-e3c2-4013-97b1-b7966df0a63f"
      },
      "outputs": [
        {
          "name": "stdout",
          "output_type": "stream",
          "text": [
            "Time Sart:05/04/2020 23:52:11\n",
            "Fitting 5 folds for each of 147 candidates, totalling 735 fits\n"
          ]
        },
        {
          "name": "stderr",
          "output_type": "stream",
          "text": [
            "/usr/local/lib/python3.6/dist-packages/sklearn/model_selection/_split.py:667: UserWarning: The least populated class in y has only 3 members, which is less than n_splits=5.\n",
            "  % (min_groups, self.n_splits)), UserWarning)\n",
            "[Parallel(n_jobs=-1)]: Using backend LokyBackend with 2 concurrent workers.\n",
            "[Parallel(n_jobs=-1)]: Done  46 tasks      | elapsed:  3.6min\n"
          ]
        },
        {
          "ename": "KeyboardInterrupt",
          "evalue": "ignored",
          "output_type": "error",
          "traceback": [
            "\u001b[0;31m---------------------------------------------------------------------------\u001b[0m",
            "\u001b[0;31mKeyboardInterrupt\u001b[0m                         Traceback (most recent call last)",
            "\u001b[0;32m<ipython-input-70-83e4cb8acfd4>\u001b[0m in \u001b[0;36m<module>\u001b[0;34m()\u001b[0m\n\u001b[1;32m      3\u001b[0m \u001b[0mprint\u001b[0m\u001b[0;34m(\u001b[0m\u001b[0;34m'Time Sart:'\u001b[0m\u001b[0;34m+\u001b[0m \u001b[0mtime\u001b[0m\u001b[0;34m.\u001b[0m\u001b[0mstrftime\u001b[0m\u001b[0;34m(\u001b[0m\u001b[0;34m\"%m/%d/%Y %H:%M:%S\"\u001b[0m\u001b[0;34m)\u001b[0m\u001b[0;34m)\u001b[0m\u001b[0;34m\u001b[0m\u001b[0;34m\u001b[0m\u001b[0m\n\u001b[1;32m      4\u001b[0m \u001b[0;34m\u001b[0m\u001b[0m\n\u001b[0;32m----> 5\u001b[0;31m \u001b[0mgrid_svc\u001b[0m\u001b[0;34m.\u001b[0m\u001b[0mfit\u001b[0m\u001b[0;34m(\u001b[0m\u001b[0mtrain_X\u001b[0m\u001b[0;34m,\u001b[0m\u001b[0mtrain_y\u001b[0m\u001b[0;34m)\u001b[0m\u001b[0;34m\u001b[0m\u001b[0;34m\u001b[0m\u001b[0m\n\u001b[0m\u001b[1;32m      6\u001b[0m \u001b[0;34m\u001b[0m\u001b[0m\n\u001b[1;32m      7\u001b[0m \u001b[0mend\u001b[0m \u001b[0;34m=\u001b[0m \u001b[0mtime\u001b[0m\u001b[0;34m.\u001b[0m\u001b[0mtime\u001b[0m\u001b[0;34m(\u001b[0m\u001b[0;34m)\u001b[0m\u001b[0;34m\u001b[0m\u001b[0;34m\u001b[0m\u001b[0m\n",
            "\u001b[0;32m/usr/local/lib/python3.6/dist-packages/sklearn/model_selection/_search.py\u001b[0m in \u001b[0;36mfit\u001b[0;34m(self, X, y, groups, **fit_params)\u001b[0m\n\u001b[1;32m    708\u001b[0m                 \u001b[0;32mreturn\u001b[0m \u001b[0mresults\u001b[0m\u001b[0;34m\u001b[0m\u001b[0;34m\u001b[0m\u001b[0m\n\u001b[1;32m    709\u001b[0m \u001b[0;34m\u001b[0m\u001b[0m\n\u001b[0;32m--> 710\u001b[0;31m             \u001b[0mself\u001b[0m\u001b[0;34m.\u001b[0m\u001b[0m_run_search\u001b[0m\u001b[0;34m(\u001b[0m\u001b[0mevaluate_candidates\u001b[0m\u001b[0;34m)\u001b[0m\u001b[0;34m\u001b[0m\u001b[0;34m\u001b[0m\u001b[0m\n\u001b[0m\u001b[1;32m    711\u001b[0m \u001b[0;34m\u001b[0m\u001b[0m\n\u001b[1;32m    712\u001b[0m         \u001b[0;31m# For multi-metric evaluation, store the best_index_, best_params_ and\u001b[0m\u001b[0;34m\u001b[0m\u001b[0;34m\u001b[0m\u001b[0;34m\u001b[0m\u001b[0m\n",
            "\u001b[0;32m/usr/local/lib/python3.6/dist-packages/sklearn/model_selection/_search.py\u001b[0m in \u001b[0;36m_run_search\u001b[0;34m(self, evaluate_candidates)\u001b[0m\n\u001b[1;32m   1149\u001b[0m     \u001b[0;32mdef\u001b[0m \u001b[0m_run_search\u001b[0m\u001b[0;34m(\u001b[0m\u001b[0mself\u001b[0m\u001b[0;34m,\u001b[0m \u001b[0mevaluate_candidates\u001b[0m\u001b[0;34m)\u001b[0m\u001b[0;34m:\u001b[0m\u001b[0;34m\u001b[0m\u001b[0;34m\u001b[0m\u001b[0m\n\u001b[1;32m   1150\u001b[0m         \u001b[0;34m\"\"\"Search all candidates in param_grid\"\"\"\u001b[0m\u001b[0;34m\u001b[0m\u001b[0;34m\u001b[0m\u001b[0m\n\u001b[0;32m-> 1151\u001b[0;31m         \u001b[0mevaluate_candidates\u001b[0m\u001b[0;34m(\u001b[0m\u001b[0mParameterGrid\u001b[0m\u001b[0;34m(\u001b[0m\u001b[0mself\u001b[0m\u001b[0;34m.\u001b[0m\u001b[0mparam_grid\u001b[0m\u001b[0;34m)\u001b[0m\u001b[0;34m)\u001b[0m\u001b[0;34m\u001b[0m\u001b[0;34m\u001b[0m\u001b[0m\n\u001b[0m\u001b[1;32m   1152\u001b[0m \u001b[0;34m\u001b[0m\u001b[0m\n\u001b[1;32m   1153\u001b[0m \u001b[0;34m\u001b[0m\u001b[0m\n",
            "\u001b[0;32m/usr/local/lib/python3.6/dist-packages/sklearn/model_selection/_search.py\u001b[0m in \u001b[0;36mevaluate_candidates\u001b[0;34m(candidate_params)\u001b[0m\n\u001b[1;32m    687\u001b[0m                                \u001b[0;32mfor\u001b[0m \u001b[0mparameters\u001b[0m\u001b[0;34m,\u001b[0m \u001b[0;34m(\u001b[0m\u001b[0mtrain\u001b[0m\u001b[0;34m,\u001b[0m \u001b[0mtest\u001b[0m\u001b[0;34m)\u001b[0m\u001b[0;34m\u001b[0m\u001b[0;34m\u001b[0m\u001b[0m\n\u001b[1;32m    688\u001b[0m                                in product(candidate_params,\n\u001b[0;32m--> 689\u001b[0;31m                                           cv.split(X, y, groups)))\n\u001b[0m\u001b[1;32m    690\u001b[0m \u001b[0;34m\u001b[0m\u001b[0m\n\u001b[1;32m    691\u001b[0m                 \u001b[0;32mif\u001b[0m \u001b[0mlen\u001b[0m\u001b[0;34m(\u001b[0m\u001b[0mout\u001b[0m\u001b[0;34m)\u001b[0m \u001b[0;34m<\u001b[0m \u001b[0;36m1\u001b[0m\u001b[0;34m:\u001b[0m\u001b[0;34m\u001b[0m\u001b[0;34m\u001b[0m\u001b[0m\n",
            "\u001b[0;32m/usr/local/lib/python3.6/dist-packages/joblib/parallel.py\u001b[0m in \u001b[0;36m__call__\u001b[0;34m(self, iterable)\u001b[0m\n\u001b[1;32m   1015\u001b[0m \u001b[0;34m\u001b[0m\u001b[0m\n\u001b[1;32m   1016\u001b[0m             \u001b[0;32mwith\u001b[0m \u001b[0mself\u001b[0m\u001b[0;34m.\u001b[0m\u001b[0m_backend\u001b[0m\u001b[0;34m.\u001b[0m\u001b[0mretrieval_context\u001b[0m\u001b[0;34m(\u001b[0m\u001b[0;34m)\u001b[0m\u001b[0;34m:\u001b[0m\u001b[0;34m\u001b[0m\u001b[0;34m\u001b[0m\u001b[0m\n\u001b[0;32m-> 1017\u001b[0;31m                 \u001b[0mself\u001b[0m\u001b[0;34m.\u001b[0m\u001b[0mretrieve\u001b[0m\u001b[0;34m(\u001b[0m\u001b[0;34m)\u001b[0m\u001b[0;34m\u001b[0m\u001b[0;34m\u001b[0m\u001b[0m\n\u001b[0m\u001b[1;32m   1018\u001b[0m             \u001b[0;31m# Make sure that we get a last message telling us we are done\u001b[0m\u001b[0;34m\u001b[0m\u001b[0;34m\u001b[0m\u001b[0;34m\u001b[0m\u001b[0m\n\u001b[1;32m   1019\u001b[0m             \u001b[0melapsed_time\u001b[0m \u001b[0;34m=\u001b[0m \u001b[0mtime\u001b[0m\u001b[0;34m.\u001b[0m\u001b[0mtime\u001b[0m\u001b[0;34m(\u001b[0m\u001b[0;34m)\u001b[0m \u001b[0;34m-\u001b[0m \u001b[0mself\u001b[0m\u001b[0;34m.\u001b[0m\u001b[0m_start_time\u001b[0m\u001b[0;34m\u001b[0m\u001b[0;34m\u001b[0m\u001b[0m\n",
            "\u001b[0;32m/usr/local/lib/python3.6/dist-packages/joblib/parallel.py\u001b[0m in \u001b[0;36mretrieve\u001b[0;34m(self)\u001b[0m\n\u001b[1;32m    907\u001b[0m             \u001b[0;32mtry\u001b[0m\u001b[0;34m:\u001b[0m\u001b[0;34m\u001b[0m\u001b[0;34m\u001b[0m\u001b[0m\n\u001b[1;32m    908\u001b[0m                 \u001b[0;32mif\u001b[0m \u001b[0mgetattr\u001b[0m\u001b[0;34m(\u001b[0m\u001b[0mself\u001b[0m\u001b[0;34m.\u001b[0m\u001b[0m_backend\u001b[0m\u001b[0;34m,\u001b[0m \u001b[0;34m'supports_timeout'\u001b[0m\u001b[0;34m,\u001b[0m \u001b[0;32mFalse\u001b[0m\u001b[0;34m)\u001b[0m\u001b[0;34m:\u001b[0m\u001b[0;34m\u001b[0m\u001b[0;34m\u001b[0m\u001b[0m\n\u001b[0;32m--> 909\u001b[0;31m                     \u001b[0mself\u001b[0m\u001b[0;34m.\u001b[0m\u001b[0m_output\u001b[0m\u001b[0;34m.\u001b[0m\u001b[0mextend\u001b[0m\u001b[0;34m(\u001b[0m\u001b[0mjob\u001b[0m\u001b[0;34m.\u001b[0m\u001b[0mget\u001b[0m\u001b[0;34m(\u001b[0m\u001b[0mtimeout\u001b[0m\u001b[0;34m=\u001b[0m\u001b[0mself\u001b[0m\u001b[0;34m.\u001b[0m\u001b[0mtimeout\u001b[0m\u001b[0;34m)\u001b[0m\u001b[0;34m)\u001b[0m\u001b[0;34m\u001b[0m\u001b[0;34m\u001b[0m\u001b[0m\n\u001b[0m\u001b[1;32m    910\u001b[0m                 \u001b[0;32melse\u001b[0m\u001b[0;34m:\u001b[0m\u001b[0;34m\u001b[0m\u001b[0;34m\u001b[0m\u001b[0m\n\u001b[1;32m    911\u001b[0m                     \u001b[0mself\u001b[0m\u001b[0;34m.\u001b[0m\u001b[0m_output\u001b[0m\u001b[0;34m.\u001b[0m\u001b[0mextend\u001b[0m\u001b[0;34m(\u001b[0m\u001b[0mjob\u001b[0m\u001b[0;34m.\u001b[0m\u001b[0mget\u001b[0m\u001b[0;34m(\u001b[0m\u001b[0;34m)\u001b[0m\u001b[0;34m)\u001b[0m\u001b[0;34m\u001b[0m\u001b[0;34m\u001b[0m\u001b[0m\n",
            "\u001b[0;32m/usr/local/lib/python3.6/dist-packages/joblib/_parallel_backends.py\u001b[0m in \u001b[0;36mwrap_future_result\u001b[0;34m(future, timeout)\u001b[0m\n\u001b[1;32m    560\u001b[0m         AsyncResults.get from multiprocessing.\"\"\"\n\u001b[1;32m    561\u001b[0m         \u001b[0;32mtry\u001b[0m\u001b[0;34m:\u001b[0m\u001b[0;34m\u001b[0m\u001b[0;34m\u001b[0m\u001b[0m\n\u001b[0;32m--> 562\u001b[0;31m             \u001b[0;32mreturn\u001b[0m \u001b[0mfuture\u001b[0m\u001b[0;34m.\u001b[0m\u001b[0mresult\u001b[0m\u001b[0;34m(\u001b[0m\u001b[0mtimeout\u001b[0m\u001b[0;34m=\u001b[0m\u001b[0mtimeout\u001b[0m\u001b[0;34m)\u001b[0m\u001b[0;34m\u001b[0m\u001b[0;34m\u001b[0m\u001b[0m\n\u001b[0m\u001b[1;32m    563\u001b[0m         \u001b[0;32mexcept\u001b[0m \u001b[0mLokyTimeoutError\u001b[0m\u001b[0;34m:\u001b[0m\u001b[0;34m\u001b[0m\u001b[0;34m\u001b[0m\u001b[0m\n\u001b[1;32m    564\u001b[0m             \u001b[0;32mraise\u001b[0m \u001b[0mTimeoutError\u001b[0m\u001b[0;34m(\u001b[0m\u001b[0;34m)\u001b[0m\u001b[0;34m\u001b[0m\u001b[0;34m\u001b[0m\u001b[0m\n",
            "\u001b[0;32m/usr/lib/python3.6/concurrent/futures/_base.py\u001b[0m in \u001b[0;36mresult\u001b[0;34m(self, timeout)\u001b[0m\n\u001b[1;32m    425\u001b[0m                 \u001b[0;32mreturn\u001b[0m \u001b[0mself\u001b[0m\u001b[0;34m.\u001b[0m\u001b[0m__get_result\u001b[0m\u001b[0;34m(\u001b[0m\u001b[0;34m)\u001b[0m\u001b[0;34m\u001b[0m\u001b[0;34m\u001b[0m\u001b[0m\n\u001b[1;32m    426\u001b[0m \u001b[0;34m\u001b[0m\u001b[0m\n\u001b[0;32m--> 427\u001b[0;31m             \u001b[0mself\u001b[0m\u001b[0;34m.\u001b[0m\u001b[0m_condition\u001b[0m\u001b[0;34m.\u001b[0m\u001b[0mwait\u001b[0m\u001b[0;34m(\u001b[0m\u001b[0mtimeout\u001b[0m\u001b[0;34m)\u001b[0m\u001b[0;34m\u001b[0m\u001b[0;34m\u001b[0m\u001b[0m\n\u001b[0m\u001b[1;32m    428\u001b[0m \u001b[0;34m\u001b[0m\u001b[0m\n\u001b[1;32m    429\u001b[0m             \u001b[0;32mif\u001b[0m \u001b[0mself\u001b[0m\u001b[0;34m.\u001b[0m\u001b[0m_state\u001b[0m \u001b[0;32min\u001b[0m \u001b[0;34m[\u001b[0m\u001b[0mCANCELLED\u001b[0m\u001b[0;34m,\u001b[0m \u001b[0mCANCELLED_AND_NOTIFIED\u001b[0m\u001b[0;34m]\u001b[0m\u001b[0;34m:\u001b[0m\u001b[0;34m\u001b[0m\u001b[0;34m\u001b[0m\u001b[0m\n",
            "\u001b[0;32m/usr/lib/python3.6/threading.py\u001b[0m in \u001b[0;36mwait\u001b[0;34m(self, timeout)\u001b[0m\n\u001b[1;32m    293\u001b[0m         \u001b[0;32mtry\u001b[0m\u001b[0;34m:\u001b[0m    \u001b[0;31m# restore state no matter what (e.g., KeyboardInterrupt)\u001b[0m\u001b[0;34m\u001b[0m\u001b[0;34m\u001b[0m\u001b[0m\n\u001b[1;32m    294\u001b[0m             \u001b[0;32mif\u001b[0m \u001b[0mtimeout\u001b[0m \u001b[0;32mis\u001b[0m \u001b[0;32mNone\u001b[0m\u001b[0;34m:\u001b[0m\u001b[0;34m\u001b[0m\u001b[0;34m\u001b[0m\u001b[0m\n\u001b[0;32m--> 295\u001b[0;31m                 \u001b[0mwaiter\u001b[0m\u001b[0;34m.\u001b[0m\u001b[0macquire\u001b[0m\u001b[0;34m(\u001b[0m\u001b[0;34m)\u001b[0m\u001b[0;34m\u001b[0m\u001b[0;34m\u001b[0m\u001b[0m\n\u001b[0m\u001b[1;32m    296\u001b[0m                 \u001b[0mgotit\u001b[0m \u001b[0;34m=\u001b[0m \u001b[0;32mTrue\u001b[0m\u001b[0;34m\u001b[0m\u001b[0;34m\u001b[0m\u001b[0m\n\u001b[1;32m    297\u001b[0m             \u001b[0;32melse\u001b[0m\u001b[0;34m:\u001b[0m\u001b[0;34m\u001b[0m\u001b[0;34m\u001b[0m\u001b[0m\n",
            "\u001b[0;31mKeyboardInterrupt\u001b[0m: "
          ]
        }
      ],
      "source": [
        "import time\n",
        "start = time.time()\n",
        "print('Time Sart:'+ time.strftime(\"%m/%d/%Y %H:%M:%S\"))\n",
        "\n",
        "grid_svc.fit(train_X,train_y)\n",
        "\n",
        "end = time.time()\n",
        "print('Time End:'+ time.strftime(\"%m/%d/%Y %H:%M:%S\"))\n",
        "print('Execution Time (Seconds):' + str(end - start))"
      ]
    },
    {
      "cell_type": "code",
      "execution_count": null,
      "metadata": {
        "colab": {
          "base_uri": "https://localhost:8080/",
          "height": 70
        },
        "id": "9FDRZJWJ_HFM",
        "outputId": "91cb9c5d-cfbe-4330-fe2e-7a2c5a95528a"
      },
      "outputs": [
        {
          "name": "stderr",
          "output_type": "stream",
          "text": [
            "/usr/local/lib/python3.6/dist-packages/sklearn/model_selection/_split.py:667: UserWarning: The least populated class in y has only 3 members, which is less than n_splits=5.\n",
            "  % (min_groups, self.n_splits)), UserWarning)\n"
          ]
        }
      ],
      "source": [
        "# grid_svc.fit(train_X,train_y)"
      ]
    },
    {
      "cell_type": "code",
      "execution_count": null,
      "metadata": {
        "id": "Psztb7m6_HFO"
      },
      "outputs": [],
      "source": [
        "# Show best parameters\n",
        "grid_svc.best_params_"
      ]
    },
    {
      "cell_type": "code",
      "execution_count": null,
      "metadata": {
        "id": "SpfyZScb_HFO"
      },
      "outputs": [],
      "source": [
        "# Train a new SVC with best parameters\n",
        "svc_final = svm.SVC(kernel='poly', C=0.01, gamma=0.2)"
      ]
    },
    {
      "cell_type": "code",
      "execution_count": null,
      "metadata": {
        "id": "hYOv2P-K_HFR"
      },
      "outputs": [],
      "source": [
        "svc_final.fit(train_X,train_y)"
      ]
    },
    {
      "cell_type": "code",
      "execution_count": null,
      "metadata": {
        "id": "YegyV_O-_HFS"
      },
      "outputs": [],
      "source": [
        "# Predict on test set\n",
        "pred_y2 = svc_final.predict(test_X)"
      ]
    },
    {
      "cell_type": "code",
      "execution_count": null,
      "metadata": {
        "id": "0d4slkUl_HFT"
      },
      "outputs": [],
      "source": [
        "# Print confusion matrix\n",
        "print(metrics.confusion_matrix(test_y, pred_y2))"
      ]
    },
    {
      "cell_type": "code",
      "execution_count": null,
      "metadata": {
        "id": "oHjpcwoi_HFU"
      },
      "outputs": [],
      "source": [
        "# Calculate classification accuracy\n",
        "metrics.accuracy_score(test_y, pred_y2)"
      ]
    },
    {
      "cell_type": "code",
      "execution_count": null,
      "metadata": {
        "id": "jGJBz9CL_HFV"
      },
      "outputs": [],
      "source": [
        "# Print classification report\n",
        "print(metrics.classification_report(test_y, pred_y2))"
      ]
    },
    {
      "cell_type": "code",
      "execution_count": null,
      "metadata": {
        "id": "SqwhrfR6_HFX"
      },
      "outputs": [],
      "source": [
        ""
      ]
    },
    {
      "cell_type": "markdown",
      "metadata": {
        "id": "N6JVhQZXJDkr"
      },
      "source": [
        "### Compare the two SVM Models"
      ]
    },
    {
      "cell_type": "markdown",
      "metadata": {
        "id": "03HCWvkEJWgB"
      },
      "source": [
        "This is a multiclass classification problem. Accuracy can be directly calculated for a multiclass classifier. However, precision, recall, and F1 score cannot be directly calculated. We can calculate average metrics. In this example, we calculate the average scores weighted by support (the number of true instances for each label)."
      ]
    },
    {
      "cell_type": "code",
      "execution_count": null,
      "metadata": {
        "id": "J4r8c-lPJNi3"
      },
      "outputs": [],
      "source": [
        "acc = [metrics.accuracy_score(test_y, pred_y1),\n",
        "       metrics.accuracy_score(test_y, pred_y2)]\n",
        "\n",
        "pre = [metrics.precision_score(test_y, pred_y1, average='weighted'),\n",
        "       metrics.precision_score(test_y, pred_y2, average='weighted')]\n",
        "\n",
        "rec = [metrics.recall_score(test_y, pred_y1, average='weighted'),\n",
        "       metrics.recall_score(test_y, pred_y2, average='weighted')]\n",
        "\n",
        "f1  = [metrics.f1_score(test_y, pred_y1, average='weighted'),\n",
        "       metrics.f1_score(test_y, pred_y2, average='weighted')]"
      ]
    },
    {
      "cell_type": "code",
      "execution_count": null,
      "metadata": {
        "id": "0RajeJPUJPxI"
      },
      "outputs": [],
      "source": [
        "pd.DataFrame({'Accuracy':acc, 'Precision':pre, 'Recall':rec, 'F1 Score': f1},\n",
        "             index = ['SVM without Hyperparameter Tunning','SVM with Hyperparameter Tunning'])"
      ]
    },
    {
      "cell_type": "markdown",
      "metadata": {
        "id": "haFsKAqcJTcF"
      },
      "source": [
        "In this example, we find that the hyperparameter tuning increases the metrics a little bit. As the untuned SVM already has a good performance, hyperparameter tuning does not improve the performance significantly. For an untuned SVM that does not have high performance, usually we will see significance improvement by tuning the hyperparameters."
      ]
    },
    {
      "cell_type": "markdown",
      "metadata": {
        "id": "raj2AVow_HFY"
      },
      "source": [
        "## KNN"
      ]
    },
    {
      "cell_type": "code",
      "execution_count": null,
      "metadata": {
        "id": "QklI9ExnHTvg"
      },
      "outputs": [],
      "source": [
        "from sklearn import preprocessing\n",
        "\n",
        "# Create a scaler to do the transformation\n",
        "scaler = preprocessing.MinMaxScaler().fit(train_X)"
      ]
    },
    {
      "cell_type": "code",
      "execution_count": null,
      "metadata": {
        "colab": {
          "base_uri": "https://localhost:8080/",
          "height": 402
        },
        "id": "qF-m5x89HTyq",
        "outputId": "665c5a19-c163-457f-aa52-00b3cd615f5b"
      },
      "outputs": [
        {
          "data": {
            "text/html": [
              "<div>\n",
              "<style scoped>\n",
              "    .dataframe tbody tr th:only-of-type {\n",
              "        vertical-align: middle;\n",
              "    }\n",
              "\n",
              "    .dataframe tbody tr th {\n",
              "        vertical-align: top;\n",
              "    }\n",
              "\n",
              "    .dataframe thead th {\n",
              "        text-align: right;\n",
              "    }\n",
              "</style>\n",
              "<table border=\"1\" class=\"dataframe\">\n",
              "  <thead>\n",
              "    <tr style=\"text-align: right;\">\n",
              "      <th></th>\n",
              "      <th>count</th>\n",
              "      <th>mean</th>\n",
              "      <th>std</th>\n",
              "      <th>min</th>\n",
              "      <th>25%</th>\n",
              "      <th>50%</th>\n",
              "      <th>75%</th>\n",
              "      <th>max</th>\n",
              "    </tr>\n",
              "  </thead>\n",
              "  <tbody>\n",
              "    <tr>\n",
              "      <th>Distance(mi)</th>\n",
              "      <td>3796.0</td>\n",
              "      <td>0.009735</td>\n",
              "      <td>0.047104</td>\n",
              "      <td>0.0</td>\n",
              "      <td>0.000000</td>\n",
              "      <td>0.000000</td>\n",
              "      <td>0.000000</td>\n",
              "      <td>1.0</td>\n",
              "    </tr>\n",
              "    <tr>\n",
              "      <th>Temperature(F)</th>\n",
              "      <td>3796.0</td>\n",
              "      <td>0.599796</td>\n",
              "      <td>0.213843</td>\n",
              "      <td>0.0</td>\n",
              "      <td>0.448276</td>\n",
              "      <td>0.643678</td>\n",
              "      <td>0.770115</td>\n",
              "      <td>1.0</td>\n",
              "    </tr>\n",
              "    <tr>\n",
              "      <th>Wind_Chill(F)</th>\n",
              "      <td>3796.0</td>\n",
              "      <td>0.636113</td>\n",
              "      <td>0.210721</td>\n",
              "      <td>0.0</td>\n",
              "      <td>0.480000</td>\n",
              "      <td>0.690000</td>\n",
              "      <td>0.800000</td>\n",
              "      <td>1.0</td>\n",
              "    </tr>\n",
              "    <tr>\n",
              "      <th>Humidity(%)</th>\n",
              "      <td>3796.0</td>\n",
              "      <td>0.607630</td>\n",
              "      <td>0.239176</td>\n",
              "      <td>0.0</td>\n",
              "      <td>0.410256</td>\n",
              "      <td>0.641026</td>\n",
              "      <td>0.820513</td>\n",
              "      <td>1.0</td>\n",
              "    </tr>\n",
              "    <tr>\n",
              "      <th>Pressure(in)</th>\n",
              "      <td>3796.0</td>\n",
              "      <td>0.466442</td>\n",
              "      <td>0.131026</td>\n",
              "      <td>0.0</td>\n",
              "      <td>0.385214</td>\n",
              "      <td>0.486381</td>\n",
              "      <td>0.548638</td>\n",
              "      <td>1.0</td>\n",
              "    </tr>\n",
              "    <tr>\n",
              "      <th>...</th>\n",
              "      <td>...</td>\n",
              "      <td>...</td>\n",
              "      <td>...</td>\n",
              "      <td>...</td>\n",
              "      <td>...</td>\n",
              "      <td>...</td>\n",
              "      <td>...</td>\n",
              "      <td>...</td>\n",
              "    </tr>\n",
              "    <tr>\n",
              "      <th>Wind_Direction_W</th>\n",
              "      <td>3796.0</td>\n",
              "      <td>0.063488</td>\n",
              "      <td>0.243871</td>\n",
              "      <td>0.0</td>\n",
              "      <td>0.000000</td>\n",
              "      <td>0.000000</td>\n",
              "      <td>0.000000</td>\n",
              "      <td>1.0</td>\n",
              "    </tr>\n",
              "    <tr>\n",
              "      <th>Wind_Direction_WNW</th>\n",
              "      <td>3796.0</td>\n",
              "      <td>0.045311</td>\n",
              "      <td>0.208012</td>\n",
              "      <td>0.0</td>\n",
              "      <td>0.000000</td>\n",
              "      <td>0.000000</td>\n",
              "      <td>0.000000</td>\n",
              "      <td>1.0</td>\n",
              "    </tr>\n",
              "    <tr>\n",
              "      <th>Wind_Direction_WSW</th>\n",
              "      <td>3796.0</td>\n",
              "      <td>0.048736</td>\n",
              "      <td>0.215343</td>\n",
              "      <td>0.0</td>\n",
              "      <td>0.000000</td>\n",
              "      <td>0.000000</td>\n",
              "      <td>0.000000</td>\n",
              "      <td>1.0</td>\n",
              "    </tr>\n",
              "    <tr>\n",
              "      <th>Sunrise_Sunset_Day</th>\n",
              "      <td>3796.0</td>\n",
              "      <td>0.821654</td>\n",
              "      <td>0.382854</td>\n",
              "      <td>0.0</td>\n",
              "      <td>1.000000</td>\n",
              "      <td>1.000000</td>\n",
              "      <td>1.000000</td>\n",
              "      <td>1.0</td>\n",
              "    </tr>\n",
              "    <tr>\n",
              "      <th>Sunrise_Sunset_Night</th>\n",
              "      <td>3796.0</td>\n",
              "      <td>0.178346</td>\n",
              "      <td>0.382854</td>\n",
              "      <td>0.0</td>\n",
              "      <td>0.000000</td>\n",
              "      <td>0.000000</td>\n",
              "      <td>0.000000</td>\n",
              "      <td>1.0</td>\n",
              "    </tr>\n",
              "  </tbody>\n",
              "</table>\n",
              "<p>77 rows × 8 columns</p>\n",
              "</div>"
            ],
            "text/plain": [
              "                       count      mean       std  ...       50%       75%  max\n",
              "Distance(mi)          3796.0  0.009735  0.047104  ...  0.000000  0.000000  1.0\n",
              "Temperature(F)        3796.0  0.599796  0.213843  ...  0.643678  0.770115  1.0\n",
              "Wind_Chill(F)         3796.0  0.636113  0.210721  ...  0.690000  0.800000  1.0\n",
              "Humidity(%)           3796.0  0.607630  0.239176  ...  0.641026  0.820513  1.0\n",
              "Pressure(in)          3796.0  0.466442  0.131026  ...  0.486381  0.548638  1.0\n",
              "...                      ...       ...       ...  ...       ...       ...  ...\n",
              "Wind_Direction_W      3796.0  0.063488  0.243871  ...  0.000000  0.000000  1.0\n",
              "Wind_Direction_WNW    3796.0  0.045311  0.208012  ...  0.000000  0.000000  1.0\n",
              "Wind_Direction_WSW    3796.0  0.048736  0.215343  ...  0.000000  0.000000  1.0\n",
              "Sunrise_Sunset_Day    3796.0  0.821654  0.382854  ...  1.000000  1.000000  1.0\n",
              "Sunrise_Sunset_Night  3796.0  0.178346  0.382854  ...  0.000000  0.000000  1.0\n",
              "\n",
              "[77 rows x 8 columns]"
            ]
          },
          "execution_count": 101,
          "metadata": {
            "tags": []
          },
          "output_type": "execute_result"
        }
      ],
      "source": [
        "# Transform training X\n",
        "train_X_scale = scaler.transform(train_X)\n",
        "train_X_scale = pd.DataFrame(train_X_scale)\n",
        "train_X_scale.columns = train_X.columns\n",
        "\n",
        "train_X_scale.describe().transpose()"
      ]
    },
    {
      "cell_type": "code",
      "execution_count": null,
      "metadata": {
        "colab": {
          "base_uri": "https://localhost:8080/",
          "height": 402
        },
        "id": "xq7p6I3ZHieX",
        "outputId": "8ae767d6-bc5e-45fc-e5a4-04480d66d386"
      },
      "outputs": [
        {
          "data": {
            "text/html": [
              "<div>\n",
              "<style scoped>\n",
              "    .dataframe tbody tr th:only-of-type {\n",
              "        vertical-align: middle;\n",
              "    }\n",
              "\n",
              "    .dataframe tbody tr th {\n",
              "        vertical-align: top;\n",
              "    }\n",
              "\n",
              "    .dataframe thead th {\n",
              "        text-align: right;\n",
              "    }\n",
              "</style>\n",
              "<table border=\"1\" class=\"dataframe\">\n",
              "  <thead>\n",
              "    <tr style=\"text-align: right;\">\n",
              "      <th></th>\n",
              "      <th>count</th>\n",
              "      <th>mean</th>\n",
              "      <th>std</th>\n",
              "      <th>min</th>\n",
              "      <th>25%</th>\n",
              "      <th>50%</th>\n",
              "      <th>75%</th>\n",
              "      <th>max</th>\n",
              "    </tr>\n",
              "  </thead>\n",
              "  <tbody>\n",
              "    <tr>\n",
              "      <th>Distance(mi)</th>\n",
              "      <td>1628.0</td>\n",
              "      <td>0.008988</td>\n",
              "      <td>0.042554</td>\n",
              "      <td>0.000000</td>\n",
              "      <td>0.000000</td>\n",
              "      <td>0.000000</td>\n",
              "      <td>0.000000</td>\n",
              "      <td>0.594067</td>\n",
              "    </tr>\n",
              "    <tr>\n",
              "      <th>Temperature(F)</th>\n",
              "      <td>1628.0</td>\n",
              "      <td>0.596882</td>\n",
              "      <td>0.218183</td>\n",
              "      <td>0.000000</td>\n",
              "      <td>0.448276</td>\n",
              "      <td>0.632184</td>\n",
              "      <td>0.770115</td>\n",
              "      <td>1.000000</td>\n",
              "    </tr>\n",
              "    <tr>\n",
              "      <th>Wind_Chill(F)</th>\n",
              "      <td>1628.0</td>\n",
              "      <td>0.633718</td>\n",
              "      <td>0.214884</td>\n",
              "      <td>-0.065000</td>\n",
              "      <td>0.480000</td>\n",
              "      <td>0.680000</td>\n",
              "      <td>0.800000</td>\n",
              "      <td>1.000000</td>\n",
              "    </tr>\n",
              "    <tr>\n",
              "      <th>Humidity(%)</th>\n",
              "      <td>1628.0</td>\n",
              "      <td>0.614471</td>\n",
              "      <td>0.230839</td>\n",
              "      <td>0.012821</td>\n",
              "      <td>0.423077</td>\n",
              "      <td>0.641026</td>\n",
              "      <td>0.820513</td>\n",
              "      <td>1.000000</td>\n",
              "    </tr>\n",
              "    <tr>\n",
              "      <th>Pressure(in)</th>\n",
              "      <td>1628.0</td>\n",
              "      <td>0.465839</td>\n",
              "      <td>0.130173</td>\n",
              "      <td>0.000000</td>\n",
              "      <td>0.388132</td>\n",
              "      <td>0.486381</td>\n",
              "      <td>0.548638</td>\n",
              "      <td>0.918288</td>\n",
              "    </tr>\n",
              "    <tr>\n",
              "      <th>...</th>\n",
              "      <td>...</td>\n",
              "      <td>...</td>\n",
              "      <td>...</td>\n",
              "      <td>...</td>\n",
              "      <td>...</td>\n",
              "      <td>...</td>\n",
              "      <td>...</td>\n",
              "      <td>...</td>\n",
              "    </tr>\n",
              "    <tr>\n",
              "      <th>Wind_Direction_W</th>\n",
              "      <td>1628.0</td>\n",
              "      <td>0.064496</td>\n",
              "      <td>0.245710</td>\n",
              "      <td>0.000000</td>\n",
              "      <td>0.000000</td>\n",
              "      <td>0.000000</td>\n",
              "      <td>0.000000</td>\n",
              "      <td>1.000000</td>\n",
              "    </tr>\n",
              "    <tr>\n",
              "      <th>Wind_Direction_WNW</th>\n",
              "      <td>1628.0</td>\n",
              "      <td>0.051597</td>\n",
              "      <td>0.221280</td>\n",
              "      <td>0.000000</td>\n",
              "      <td>0.000000</td>\n",
              "      <td>0.000000</td>\n",
              "      <td>0.000000</td>\n",
              "      <td>1.000000</td>\n",
              "    </tr>\n",
              "    <tr>\n",
              "      <th>Wind_Direction_WSW</th>\n",
              "      <td>1628.0</td>\n",
              "      <td>0.050369</td>\n",
              "      <td>0.218771</td>\n",
              "      <td>0.000000</td>\n",
              "      <td>0.000000</td>\n",
              "      <td>0.000000</td>\n",
              "      <td>0.000000</td>\n",
              "      <td>1.000000</td>\n",
              "    </tr>\n",
              "    <tr>\n",
              "      <th>Sunrise_Sunset_Day</th>\n",
              "      <td>1628.0</td>\n",
              "      <td>0.798526</td>\n",
              "      <td>0.401225</td>\n",
              "      <td>0.000000</td>\n",
              "      <td>1.000000</td>\n",
              "      <td>1.000000</td>\n",
              "      <td>1.000000</td>\n",
              "      <td>1.000000</td>\n",
              "    </tr>\n",
              "    <tr>\n",
              "      <th>Sunrise_Sunset_Night</th>\n",
              "      <td>1628.0</td>\n",
              "      <td>0.201474</td>\n",
              "      <td>0.401225</td>\n",
              "      <td>0.000000</td>\n",
              "      <td>0.000000</td>\n",
              "      <td>0.000000</td>\n",
              "      <td>0.000000</td>\n",
              "      <td>1.000000</td>\n",
              "    </tr>\n",
              "  </tbody>\n",
              "</table>\n",
              "<p>77 rows × 8 columns</p>\n",
              "</div>"
            ],
            "text/plain": [
              "                       count      mean       std  ...       50%       75%       max\n",
              "Distance(mi)          1628.0  0.008988  0.042554  ...  0.000000  0.000000  0.594067\n",
              "Temperature(F)        1628.0  0.596882  0.218183  ...  0.632184  0.770115  1.000000\n",
              "Wind_Chill(F)         1628.0  0.633718  0.214884  ...  0.680000  0.800000  1.000000\n",
              "Humidity(%)           1628.0  0.614471  0.230839  ...  0.641026  0.820513  1.000000\n",
              "Pressure(in)          1628.0  0.465839  0.130173  ...  0.486381  0.548638  0.918288\n",
              "...                      ...       ...       ...  ...       ...       ...       ...\n",
              "Wind_Direction_W      1628.0  0.064496  0.245710  ...  0.000000  0.000000  1.000000\n",
              "Wind_Direction_WNW    1628.0  0.051597  0.221280  ...  0.000000  0.000000  1.000000\n",
              "Wind_Direction_WSW    1628.0  0.050369  0.218771  ...  0.000000  0.000000  1.000000\n",
              "Sunrise_Sunset_Day    1628.0  0.798526  0.401225  ...  1.000000  1.000000  1.000000\n",
              "Sunrise_Sunset_Night  1628.0  0.201474  0.401225  ...  0.000000  0.000000  1.000000\n",
              "\n",
              "[77 rows x 8 columns]"
            ]
          },
          "execution_count": 102,
          "metadata": {
            "tags": []
          },
          "output_type": "execute_result"
        }
      ],
      "source": [
        "# Transform test X\n",
        "test_X_scale = scaler.transform(test_X)\n",
        "test_X_scale = pd.DataFrame(test_X_scale)\n",
        "test_X_scale.columns = test_X.columns\n",
        "\n",
        "test_X_scale.describe().transpose()"
      ]
    },
    {
      "cell_type": "markdown",
      "metadata": {
        "id": "pVq0VkLVHozM"
      },
      "source": [
        "### Train a k-NN Classifier"
      ]
    },
    {
      "cell_type": "code",
      "execution_count": null,
      "metadata": {
        "id": "qkLDtN4PHUAT"
      },
      "outputs": [],
      "source": [
        "from sklearn import neighbors\n",
        "\n",
        "# KNN: K=5, default measure of distance (euclidean)\n",
        "knn5 = neighbors.KNeighborsClassifier(n_neighbors=5, \n",
        "                                      weights='uniform', \n",
        "                                      algorithm='auto')"
      ]
    },
    {
      "cell_type": "code",
      "execution_count": null,
      "metadata": {
        "colab": {
          "base_uri": "https://localhost:8080/",
          "height": 67
        },
        "id": "ttereS78Hv8R",
        "outputId": "f5e5b689-1df7-4e35-b5bb-a4265551f28d"
      },
      "outputs": [
        {
          "data": {
            "text/plain": [
              "KNeighborsClassifier(algorithm='auto', leaf_size=30, metric='minkowski',\n",
              "                     metric_params=None, n_jobs=None, n_neighbors=5, p=2,\n",
              "                     weights='uniform')"
            ]
          },
          "execution_count": 104,
          "metadata": {
            "tags": []
          },
          "output_type": "execute_result"
        }
      ],
      "source": [
        "knn5.fit(train_X_scale, train_y)"
      ]
    },
    {
      "cell_type": "markdown",
      "metadata": {
        "id": "U-k6OAQXH0tB"
      },
      "source": [
        "Now, let's use the test dataset to assess the performance of the trained model."
      ]
    },
    {
      "cell_type": "code",
      "execution_count": null,
      "metadata": {
        "id": "WlPg8BzWHyhV"
      },
      "outputs": [],
      "source": [
        "pred_y_knn5 = knn5.predict(test_X_scale)"
      ]
    },
    {
      "cell_type": "code",
      "execution_count": null,
      "metadata": {
        "colab": {
          "base_uri": "https://localhost:8080/",
          "height": 84
        },
        "id": "ye206Q3mHv_N",
        "outputId": "428862c3-ecb9-441c-d77b-851c685078a3"
      },
      "outputs": [
        {
          "name": "stdout",
          "output_type": "stream",
          "text": [
            "[[  0   1   0   0]\n",
            " [  0 225 338   0]\n",
            " [  0 222 822   0]\n",
            " [  0   9  11   0]]\n"
          ]
        }
      ],
      "source": [
        "from sklearn import metrics\n",
        "\n",
        "# Print confusion matrix\n",
        "cm = metrics.confusion_matrix(test_y, pred_y_knn5)\n",
        "print(cm)"
      ]
    },
    {
      "cell_type": "markdown",
      "metadata": {
        "id": "M34xXhXfH7ny"
      },
      "source": [
        "The above confusion matrix is not very informative. Let's beautify it."
      ]
    },
    {
      "cell_type": "code",
      "execution_count": null,
      "metadata": {
        "id": "HQcV1Ke2YSn2"
      },
      "outputs": [],
      "source": [
        "# Plot non-normalized confusion matrix\n",
        "plot_confusion_matrix(cm, classes=['1','2','3','4'],\n",
        "                      title='Confusion matrix')"
      ]
    },
    {
      "cell_type": "code",
      "execution_count": null,
      "metadata": {
        "colab": {
          "base_uri": "https://localhost:8080/",
          "height": 34
        },
        "id": "ZKiWiyOBIJzr",
        "outputId": "e34694eb-2dbe-408d-a082-665f5452df10"
      },
      "outputs": [
        {
          "data": {
            "text/plain": [
              "0.6431203931203932"
            ]
          },
          "execution_count": 108,
          "metadata": {
            "tags": []
          },
          "output_type": "execute_result"
        }
      ],
      "source": [
        "# Calculate classification accuracy\n",
        "metrics.accuracy_score(test_y, pred_y_knn5)"
      ]
    },
    {
      "cell_type": "code",
      "execution_count": null,
      "metadata": {
        "colab": {
          "base_uri": "https://localhost:8080/",
          "height": 34
        },
        "id": "yylJZBQYINbr",
        "outputId": "c9aa9766-106e-4174-9310-a3560bde47e1"
      },
      "outputs": [
        {
          "data": {
            "text/plain": [
              "0.19195878243828424"
            ]
          },
          "execution_count": 109,
          "metadata": {
            "tags": []
          },
          "output_type": "execute_result"
        }
      ],
      "source": [
        "# Calculate Cohen's Kappa\n",
        "metrics.cohen_kappa_score(test_y, pred_y_knn5)"
      ]
    },
    {
      "cell_type": "code",
      "execution_count": null,
      "metadata": {
        "colab": {
          "base_uri": "https://localhost:8080/",
          "height": 202
        },
        "id": "OGfzRyURINeo",
        "outputId": "04c0bdce-483d-4904-88a5-dac195a92c67"
      },
      "outputs": [
        {
          "name": "stdout",
          "output_type": "stream",
          "text": [
            "              precision    recall  f1-score   support\n",
            "\n",
            "           1       0.00      0.00      0.00         1\n",
            "           2       0.49      0.40      0.44       563\n",
            "           3       0.70      0.79      0.74      1044\n",
            "           4       0.00      0.00      0.00        20\n",
            "\n",
            "    accuracy                           0.64      1628\n",
            "   macro avg       0.30      0.30      0.30      1628\n",
            "weighted avg       0.62      0.64      0.63      1628\n",
            "\n"
          ]
        }
      ],
      "source": [
        "# Print classification report\n",
        "print(metrics.classification_report(test_y, pred_y_knn5))"
      ]
    },
    {
      "cell_type": "markdown",
      "metadata": {
        "id": "SWYtbLWiY_72"
      },
      "source": [
        "Severity class 1 and 4 are not properly classified. Let's tune the KNN Classifier and see if this can be improved"
      ]
    },
    {
      "cell_type": "markdown",
      "metadata": {
        "id": "hB_yLe7BIfKF"
      },
      "source": [
        "### Tune the k-NN Classifier"
      ]
    },
    {
      "cell_type": "code",
      "execution_count": null,
      "metadata": {
        "colab": {
          "base_uri": "https://localhost:8080/",
          "height": 1000
        },
        "id": "pDyLYk4lIg8e",
        "outputId": "cf08a639-9b55-424d-ba75-26c83ede1ebb"
      },
      "outputs": [
        {
          "name": "stdout",
          "output_type": "stream",
          "text": [
            "Accuracy is  60.13513513513513 % for k = 1\n",
            "Accuracy is  57.00245700245701 % for k = 2\n",
            "Accuracy is  63.452088452088454 % for k = 3\n",
            "Accuracy is  60.25798525798526 % for k = 4\n",
            "Accuracy is  64.31203931203932 % for k = 5\n",
            "Accuracy is  64.25061425061425 % for k = 6\n",
            "Accuracy is  64.98771498771498 % for k = 7\n",
            "Accuracy is  64.86486486486487 % for k = 8\n",
            "Accuracy is  65.17199017199017 % for k = 9\n",
            "Accuracy is  65.23341523341524 % for k = 10\n",
            "Accuracy is  66.15479115479116 % for k = 11\n",
            "Accuracy is  66.83046683046683 % for k = 12\n",
            "Accuracy is  66.21621621621621 % for k = 13\n",
            "Accuracy is  67.13759213759214 % for k = 14\n",
            "Accuracy is  67.01474201474201 % for k = 15\n",
            "Accuracy is  67.32186732186733 % for k = 16\n",
            "Accuracy is  66.76904176904176 % for k = 17\n",
            "Accuracy is  67.56756756756756 % for k = 18\n",
            "Accuracy is  66.8918918918919 % for k = 19\n",
            "Accuracy is  67.13759213759214 % for k = 20\n",
            "Accuracy is  67.26044226044226 % for k = 21\n",
            "Accuracy is  66.95331695331696 % for k = 22\n",
            "Accuracy is  66.52334152334153 % for k = 23\n",
            "Accuracy is  66.33906633906635 % for k = 24\n",
            "Accuracy is  66.4004914004914 % for k = 25\n",
            "Accuracy is  66.95331695331696 % for k = 26\n",
            "Accuracy is  66.8918918918919 % for k = 27\n",
            "Accuracy is  67.44471744471745 % for k = 28\n",
            "Accuracy is  66.70761670761671 % for k = 29\n",
            "Accuracy is  67.26044226044226 % for k = 30\n",
            "Accuracy is  67.69041769041769 % for k = 31\n",
            "Accuracy is  67.44471744471745 % for k = 32\n",
            "Accuracy is  67.32186732186733 % for k = 33\n",
            "Accuracy is  67.56756756756756 % for k = 34\n",
            "Accuracy is  67.69041769041769 % for k = 35\n",
            "Accuracy is  68.18181818181817 % for k = 36\n",
            "Accuracy is  68.18181818181817 % for k = 37\n",
            "Accuracy is  68.18181818181817 % for k = 38\n",
            "Accuracy is  68.48894348894349 % for k = 39\n",
            "Accuracy is  68.36609336609337 % for k = 40\n",
            "Accuracy is  68.18181818181817 % for k = 41\n",
            "Accuracy is  68.42751842751844 % for k = 42\n",
            "Accuracy is  68.18181818181817 % for k = 43\n",
            "Accuracy is  68.05896805896806 % for k = 44\n",
            "Accuracy is  67.93611793611794 % for k = 45\n",
            "Accuracy is  68.12039312039312 % for k = 46\n",
            "Accuracy is  67.81326781326781 % for k = 47\n",
            "Accuracy is  68.12039312039312 % for k = 48\n",
            "Accuracy is  67.93611793611794 % for k = 49\n",
            "Accuracy is  67.81326781326781 % for k = 50\n",
            "Accuracy is  67.997542997543 % for k = 51\n",
            "Accuracy is  67.997542997543 % for k = 52\n",
            "Accuracy is  67.75184275184274 % for k = 53\n",
            "Accuracy is  67.81326781326781 % for k = 54\n",
            "Accuracy is  68.12039312039312 % for k = 55\n",
            "Accuracy is  68.18181818181817 % for k = 56\n",
            "Accuracy is  67.997542997543 % for k = 57\n",
            "Accuracy is  68.3046683046683 % for k = 58\n",
            "Accuracy is  67.69041769041769 % for k = 59\n",
            "Accuracy is  67.87469287469288 % for k = 60\n",
            "Accuracy is  67.81326781326781 % for k = 61\n",
            "Accuracy is  67.93611793611794 % for k = 62\n",
            "Accuracy is  67.93611793611794 % for k = 63\n",
            "Accuracy is  68.05896805896806 % for k = 64\n",
            "Accuracy is  67.87469287469288 % for k = 65\n",
            "Accuracy is  67.997542997543 % for k = 66\n",
            "Accuracy is  67.997542997543 % for k = 67\n",
            "Accuracy is  67.87469287469288 % for k = 68\n",
            "Accuracy is  67.81326781326781 % for k = 69\n",
            "Accuracy is  67.87469287469288 % for k = 70\n",
            "Accuracy is  68.12039312039312 % for k = 71\n",
            "Accuracy is  67.87469287469288 % for k = 72\n",
            "Accuracy is  68.36609336609337 % for k = 73\n",
            "Accuracy is  68.05896805896806 % for k = 74\n",
            "Accuracy is  67.87469287469288 % for k = 75\n",
            "Accuracy is  67.62899262899262 % for k = 76\n",
            "Accuracy is  68.24324324324324 % for k = 77\n",
            "Accuracy is  67.93611793611794 % for k = 78\n",
            "Accuracy is  67.69041769041769 % for k = 79\n",
            "Accuracy is  67.81326781326781 % for k = 80\n",
            "Accuracy is  67.75184275184274 % for k = 81\n",
            "Accuracy is  67.62899262899262 % for k = 82\n",
            "Accuracy is  67.50614250614251 % for k = 83\n",
            "Accuracy is  67.38329238329239 % for k = 84\n",
            "Accuracy is  67.38329238329239 % for k = 85\n",
            "Accuracy is  67.87469287469288 % for k = 86\n",
            "Accuracy is  67.93611793611794 % for k = 87\n",
            "Accuracy is  67.69041769041769 % for k = 88\n",
            "Accuracy is  67.87469287469288 % for k = 89\n",
            "Accuracy is  67.93611793611794 % for k = 90\n",
            "Accuracy is  67.50614250614251 % for k = 91\n",
            "Accuracy is  67.87469287469288 % for k = 92\n",
            "Accuracy is  67.44471744471745 % for k = 93\n",
            "Accuracy is  67.56756756756756 % for k = 94\n",
            "Accuracy is  67.44471744471745 % for k = 95\n",
            "Accuracy is  67.75184275184274 % for k = 96\n",
            "Accuracy is  67.44471744471745 % for k = 97\n",
            "Accuracy is  67.81326781326781 % for k = 98\n",
            "Accuracy is  68.12039312039312 % for k = 99\n",
            "Accuracy is  67.93611793611794 % for k = 100\n"
          ]
        }
      ],
      "source": [
        "for k in range(100):\n",
        "    k = k + 1\n",
        "    knn = neighbors.KNeighborsClassifier(n_neighbors = k, \n",
        "                                         weights='uniform', \n",
        "                                         algorithm='auto')\n",
        "    knn.fit(train_X_scale, train_y)\n",
        "    pred_y = knn.predict(test_X_scale)\n",
        "    print(\"Accuracy is \", metrics.accuracy_score(test_y, pred_y)*100,\"% for k =\",k)"
      ]
    },
    {
      "cell_type": "markdown",
      "metadata": {
        "id": "JtmFfyxbIlaG"
      },
      "source": [
        "If we use overall accuracy as the measure, the optimal hyperparameter is k = 39.\n"
      ]
    },
    {
      "cell_type": "markdown",
      "metadata": {
        "id": "aTHLoGn3IrP3"
      },
      "source": [
        "Now, let's use the test dataset to assess the performance of the knn(k=39) model."
      ]
    },
    {
      "cell_type": "code",
      "execution_count": null,
      "metadata": {
        "id": "nGJ7IsjnIn-0"
      },
      "outputs": [],
      "source": [
        "knn_final = neighbors.KNeighborsClassifier(n_neighbors = 39, \n",
        "                                      weights='uniform',                                    \n",
        "                                      algorithm='auto')\n",
        "knn_final.fit(train_X_scale, train_y)\n",
        "pred_y_knn_final = knn_final.predict(test_X_scale)"
      ]
    },
    {
      "cell_type": "code",
      "execution_count": null,
      "metadata": {
        "id": "W0lP7sL-abUv"
      },
      "outputs": [],
      "source": [
        "# Compute confusion matrix\n",
        "cnf_matrix = metrics.confusion_matrix(test_y, pred_y_knn_final)\n",
        "\n",
        "# Plot non-normalized confusion matrix\n",
        "plot_confusion_matrix(cnf_matrix, classes=['1','2','3','4'],\n",
        "                      title='Confusion matrix, without normalization')"
      ]
    },
    {
      "cell_type": "code",
      "execution_count": null,
      "metadata": {
        "colab": {
          "base_uri": "https://localhost:8080/",
          "height": 34
        },
        "id": "3wEOBn5_IxdO",
        "outputId": "fae19fb3-68e3-44db-d075-36d46a156b18"
      },
      "outputs": [
        {
          "data": {
            "text/plain": [
              "0.6848894348894349"
            ]
          },
          "execution_count": 114,
          "metadata": {
            "tags": []
          },
          "output_type": "execute_result"
        }
      ],
      "source": [
        "# Calculate classification accuracy\n",
        "metrics.accuracy_score(test_y, pred_y_knn_final)"
      ]
    },
    {
      "cell_type": "code",
      "execution_count": null,
      "metadata": {
        "colab": {
          "base_uri": "https://localhost:8080/",
          "height": 34
        },
        "id": "rCGCcHWnI1Sb",
        "outputId": "72deabcd-5fd8-4c55-9100-071b1a5c4228"
      },
      "outputs": [
        {
          "data": {
            "text/plain": [
              "0.20082141339753568"
            ]
          },
          "execution_count": 115,
          "metadata": {
            "tags": []
          },
          "output_type": "execute_result"
        }
      ],
      "source": [
        "# Calculate Cohen's Kappa\n",
        "metrics.cohen_kappa_score(test_y, pred_y_knn_final)"
      ]
    },
    {
      "cell_type": "code",
      "execution_count": null,
      "metadata": {
        "colab": {
          "base_uri": "https://localhost:8080/",
          "height": 202
        },
        "id": "7uandyZjI267",
        "outputId": "e7111561-60c4-434e-d360-d01658c485d2"
      },
      "outputs": [
        {
          "name": "stdout",
          "output_type": "stream",
          "text": [
            "              precision    recall  f1-score   support\n",
            "\n",
            "           1       0.00      0.00      0.00         1\n",
            "           2       0.68      0.24      0.35       563\n",
            "           3       0.69      0.94      0.79      1044\n",
            "           4       0.00      0.00      0.00        20\n",
            "\n",
            "    accuracy                           0.68      1628\n",
            "   macro avg       0.34      0.29      0.29      1628\n",
            "weighted avg       0.67      0.68      0.63      1628\n",
            "\n"
          ]
        }
      ],
      "source": [
        "# Print classification report\n",
        "print(metrics.classification_report(test_y, pred_y_knn_final))"
      ]
    },
    {
      "cell_type": "markdown",
      "metadata": {
        "id": "aT2SrjCYbJ-4"
      },
      "source": [
        "Even after tuning Severity class 1 and 4 are still not properly classified."
      ]
    },
    {
      "cell_type": "markdown",
      "metadata": {
        "id": "NIiC3Wm6I6TG"
      },
      "source": [
        "### Compare the Two k-NN Models"
      ]
    },
    {
      "cell_type": "code",
      "execution_count": null,
      "metadata": {
        "id": "pBliZUJ4IxgM"
      },
      "outputs": [],
      "source": [
        "acc = [metrics.accuracy_score(test_y, pred_y_knn5),\n",
        "       metrics.accuracy_score(test_y, pred_y_knn_final)]\n",
        "\n",
        "pre = [metrics.precision_score(test_y, pred_y_knn5, average='weighted'),\n",
        "       metrics.precision_score(test_y, pred_y_knn_final, average='weighted')]\n",
        "\n",
        "rec = [metrics.recall_score(test_y, pred_y_knn5, average='weighted'),\n",
        "       metrics.recall_score(test_y, pred_y_knn_final, average='weighted')]\n",
        "\n",
        "f1  = [metrics.f1_score(test_y, pred_y_knn5, average='weighted'),\n",
        "       metrics.f1_score(test_y, pred_y_knn_final, average='weighted')]"
      ]
    },
    {
      "cell_type": "code",
      "execution_count": null,
      "metadata": {
        "colab": {
          "base_uri": "https://localhost:8080/",
          "height": 106
        },
        "id": "F-WL1CG0I9DY",
        "outputId": "748c357f-db27-4286-e7d4-9daa44aa2b03"
      },
      "outputs": [
        {
          "data": {
            "text/html": [
              "<div>\n",
              "<style scoped>\n",
              "    .dataframe tbody tr th:only-of-type {\n",
              "        vertical-align: middle;\n",
              "    }\n",
              "\n",
              "    .dataframe tbody tr th {\n",
              "        vertical-align: top;\n",
              "    }\n",
              "\n",
              "    .dataframe thead th {\n",
              "        text-align: right;\n",
              "    }\n",
              "</style>\n",
              "<table border=\"1\" class=\"dataframe\">\n",
              "  <thead>\n",
              "    <tr style=\"text-align: right;\">\n",
              "      <th></th>\n",
              "      <th>Accuracy</th>\n",
              "      <th>Precision</th>\n",
              "      <th>Recall</th>\n",
              "      <th>F1 Score</th>\n",
              "    </tr>\n",
              "  </thead>\n",
              "  <tbody>\n",
              "    <tr>\n",
              "      <th>k-NN (k=5)</th>\n",
              "      <td>0.643120</td>\n",
              "      <td>0.620417</td>\n",
              "      <td>0.643120</td>\n",
              "      <td>0.628533</td>\n",
              "    </tr>\n",
              "    <tr>\n",
              "      <th>k-NN (k=39)</th>\n",
              "      <td>0.684889</td>\n",
              "      <td>0.674425</td>\n",
              "      <td>0.684889</td>\n",
              "      <td>0.629869</td>\n",
              "    </tr>\n",
              "  </tbody>\n",
              "</table>\n",
              "</div>"
            ],
            "text/plain": [
              "             Accuracy  Precision    Recall  F1 Score\n",
              "k-NN (k=5)   0.643120   0.620417  0.643120  0.628533\n",
              "k-NN (k=39)  0.684889   0.674425  0.684889  0.629869"
            ]
          },
          "execution_count": 118,
          "metadata": {
            "tags": []
          },
          "output_type": "execute_result"
        }
      ],
      "source": [
        "pd.DataFrame({'Accuracy':acc, 'Precision':pre, 'Recall':rec, 'F1 Score': f1},\n",
        "             index = ['k-NN (k=5)','k-NN (k=39)'])"
      ]
    },
    {
      "cell_type": "markdown",
      "metadata": {
        "id": "S8uJA30PI_4Y"
      },
      "source": [
        "Compared with the kNN with k=5, the kNN model with k=39 has a higher accuracy, precision and recall. We notice that there is no trade-off between precision and recall.\n",
        "\n",
        "However this model does not classify severity 1 and 4 properly."
      ]
    },
    {
      "cell_type": "markdown",
      "metadata": {
        "id": "tA4Y2uHk_HFZ"
      },
      "source": [
        "## Decision Tree"
      ]
    },
    {
      "cell_type": "code",
      "execution_count": null,
      "metadata": {
        "colab": {
          "base_uri": "https://localhost:8080/",
          "height": 118
        },
        "id": "yHPQyWGCkTd3",
        "outputId": "55cb390d-aa6c-48ea-e622-3ebb78ecf1d8"
      },
      "outputs": [
        {
          "data": {
            "text/plain": [
              "DecisionTreeClassifier(ccp_alpha=0.0, class_weight=None, criterion='entropy',\n",
              "                       max_depth=None, max_features=None, max_leaf_nodes=None,\n",
              "                       min_impurity_decrease=0.0, min_impurity_split=None,\n",
              "                       min_samples_leaf=1, min_samples_split=2,\n",
              "                       min_weight_fraction_leaf=0.0, presort='deprecated',\n",
              "                       random_state=None, splitter='best')"
            ]
          },
          "execution_count": 120,
          "metadata": {
            "tags": []
          },
          "output_type": "execute_result"
        }
      ],
      "source": [
        "from sklearn import tree\n",
        "# Decision trees for classification, use entropy criterion (gini by default)\n",
        "dt = tree.DecisionTreeClassifier(criterion='entropy')\n",
        "dt.fit(train_X, train_y)"
      ]
    },
    {
      "cell_type": "code",
      "execution_count": null,
      "metadata": {
        "id": "nkZAlqXVkTbi"
      },
      "outputs": [],
      "source": [
        "# Import modules\n",
        "import pydotplus\n",
        "from IPython.display import Image\n",
        "\n",
        "# Export the decision tree as a graphviz dot object\n",
        "dot_data = tree.export_graphviz(dt, out_file=None,\n",
        "                                feature_names=X.columns,\n",
        "                                class_names= ['Severity 1', 'Severity 2', 'Severity 3', 'Severity 4'],\n",
        "                                filled=True, rounded=True,\n",
        "                                special_characters=False)\n",
        "\n",
        "# Convert the dot data into a graph\n",
        "graph = pydotplus.graph_from_dot_data(dot_data)"
      ]
    },
    {
      "cell_type": "code",
      "execution_count": null,
      "metadata": {
        "id": "8Rqgw4-jkTYO"
      },
      "outputs": [],
      "source": [
        "# Show the graph\n",
        "Image(graph.create_png())"
      ]
    },
    {
      "cell_type": "code",
      "execution_count": null,
      "metadata": {
        "colab": {
          "base_uri": "https://localhost:8080/",
          "height": 67
        },
        "id": "tLfGibFhkb-4",
        "outputId": "e10181db-2b58-4c94-fbf2-976eefdf68bf"
      },
      "outputs": [
        {
          "name": "stdout",
          "output_type": "stream",
          "text": [
            "dot: graph is too large for cairo-renderer bitmaps. Scaling by 0.890383 to fit\n",
            "\n"
          ]
        },
        {
          "data": {
            "text/plain": [
              "True"
            ]
          },
          "execution_count": 123,
          "metadata": {
            "tags": []
          },
          "output_type": "execute_result"
        }
      ],
      "source": [
        "# Save the graph as a png file\n",
        "graph.write_png(\"dt_Severity.png\")"
      ]
    },
    {
      "cell_type": "markdown",
      "metadata": {
        "id": "YAsUmxlxmqAm"
      },
      "source": [
        "Now, let's use the test dataset to assess the performance of the trained model."
      ]
    },
    {
      "cell_type": "code",
      "execution_count": null,
      "metadata": {
        "id": "n2-dzv_8kcCu"
      },
      "outputs": [],
      "source": [
        "pred_y_dt = dt.predict(test_X)"
      ]
    },
    {
      "cell_type": "code",
      "execution_count": null,
      "metadata": {
        "colab": {
          "base_uri": "https://localhost:8080/",
          "height": 84
        },
        "id": "RR_yve9_msVd",
        "outputId": "5945fd8e-be05-4a69-9bc4-ba40a48a1db8"
      },
      "outputs": [
        {
          "data": {
            "text/plain": [
              "array([[  0,   1,   0,   0],\n",
              "       [  0, 290, 267,   6],\n",
              "       [  0, 273, 749,  22],\n",
              "       [  0,   5,   9,   6]])"
            ]
          },
          "execution_count": 125,
          "metadata": {
            "tags": []
          },
          "output_type": "execute_result"
        }
      ],
      "source": [
        "# Print confusion matrix\n",
        "metrics.confusion_matrix(test_y, pred_y_dt)"
      ]
    },
    {
      "cell_type": "code",
      "execution_count": null,
      "metadata": {
        "id": "hu8PRTV2cPGr"
      },
      "outputs": [],
      "source": [
        "# Compute confusion matrix\n",
        "cnf_matrix = metrics.confusion_matrix(test_y, pred_y_dt)\n",
        "\n",
        "# Plot non-normalized confusion matrix\n",
        "plot_confusion_matrix(cnf_matrix, classes=['1','2','3','4'],\n",
        "                      title='Confusion matrix, without normalization')"
      ]
    },
    {
      "cell_type": "code",
      "execution_count": null,
      "metadata": {
        "colab": {
          "base_uri": "https://localhost:8080/",
          "height": 34
        },
        "id": "da1dh7IamsY1",
        "outputId": "a7e5db95-c87f-42e5-ab90-5d908f86de2f"
      },
      "outputs": [
        {
          "data": {
            "text/plain": [
              "0.6418918918918919"
            ]
          },
          "execution_count": 127,
          "metadata": {
            "tags": []
          },
          "output_type": "execute_result"
        }
      ],
      "source": [
        "# Calculate classification accuracy\n",
        "metrics.accuracy_score(test_y, pred_y_dt)"
      ]
    },
    {
      "cell_type": "code",
      "execution_count": null,
      "metadata": {
        "colab": {
          "base_uri": "https://localhost:8080/",
          "height": 34
        },
        "id": "QxWiPO2vm196",
        "outputId": "8bcac008-9cd1-45b1-bb66-05f2a3380321"
      },
      "outputs": [
        {
          "data": {
            "text/plain": [
              "0.24628253009512746"
            ]
          },
          "execution_count": 128,
          "metadata": {
            "tags": []
          },
          "output_type": "execute_result"
        }
      ],
      "source": [
        "# Calculate Cohen's Kappa\n",
        "metrics.cohen_kappa_score(test_y, pred_y_dt)"
      ]
    },
    {
      "cell_type": "code",
      "execution_count": null,
      "metadata": {
        "colab": {
          "base_uri": "https://localhost:8080/",
          "height": 202
        },
        "id": "G_1co2Ghm4PP",
        "outputId": "49e99ce5-0d86-4597-ca4e-1ebd072e91f2"
      },
      "outputs": [
        {
          "name": "stdout",
          "output_type": "stream",
          "text": [
            "              precision    recall  f1-score   support\n",
            "\n",
            "           1       0.00      0.00      0.00         1\n",
            "           2       0.51      0.52      0.51       563\n",
            "           3       0.73      0.72      0.72      1044\n",
            "           4       0.18      0.30      0.22        20\n",
            "\n",
            "    accuracy                           0.64      1628\n",
            "   macro avg       0.35      0.38      0.36      1628\n",
            "weighted avg       0.65      0.64      0.64      1628\n",
            "\n"
          ]
        }
      ],
      "source": [
        "# Print classification report\n",
        "print(metrics.classification_report(test_y, pred_y_dt))"
      ]
    },
    {
      "cell_type": "code",
      "execution_count": null,
      "metadata": {
        "id": "sbxYS-2Nmsc1"
      },
      "outputs": [],
      "source": [
        ""
      ]
    },
    {
      "cell_type": "markdown",
      "metadata": {
        "id": "5ZDF3afH_HFZ"
      },
      "source": [
        "## Random Forest"
      ]
    },
    {
      "cell_type": "code",
      "execution_count": null,
      "metadata": {
        "id": "jfStyENMpL9P"
      },
      "outputs": [],
      "source": [
        "from sklearn.ensemble import RandomForestClassifier"
      ]
    },
    {
      "cell_type": "markdown",
      "metadata": {
        "id": "JFKrKxC2pS-q"
      },
      "source": [
        "### RF Classifier"
      ]
    },
    {
      "cell_type": "code",
      "execution_count": null,
      "metadata": {
        "id": "-D0wy1QYpMF2"
      },
      "outputs": [],
      "source": [
        "# Train an RF classifier\n",
        "rf = RandomForestClassifier(n_estimators=5, max_features=10, random_state=123)"
      ]
    },
    {
      "cell_type": "code",
      "execution_count": null,
      "metadata": {
        "colab": {
          "base_uri": "https://localhost:8080/",
          "height": 151
        },
        "id": "aRWZYMPmpMLm",
        "outputId": "78c6708a-3a93-4bbf-cbed-22e5a2a2444c"
      },
      "outputs": [
        {
          "data": {
            "text/plain": [
              "RandomForestClassifier(bootstrap=True, ccp_alpha=0.0, class_weight=None,\n",
              "                       criterion='gini', max_depth=None, max_features=10,\n",
              "                       max_leaf_nodes=None, max_samples=None,\n",
              "                       min_impurity_decrease=0.0, min_impurity_split=None,\n",
              "                       min_samples_leaf=1, min_samples_split=2,\n",
              "                       min_weight_fraction_leaf=0.0, n_estimators=5,\n",
              "                       n_jobs=None, oob_score=False, random_state=123,\n",
              "                       verbose=0, warm_start=False)"
            ]
          },
          "execution_count": 132,
          "metadata": {
            "tags": []
          },
          "output_type": "execute_result"
        }
      ],
      "source": [
        "rf.fit(train_X,train_y)"
      ]
    },
    {
      "cell_type": "code",
      "execution_count": null,
      "metadata": {
        "colab": {
          "base_uri": "https://localhost:8080/",
          "height": 353
        },
        "id": "uOAr3ebYpMIx",
        "outputId": "bc079562-e5af-4012-c666-ea44fc05c2e2"
      },
      "outputs": [
        {
          "data": {
            "text/plain": [
              "array([4.26101950e-02, 7.44228462e-02, 7.96276126e-02, 8.00700472e-02,\n",
              "       1.30002680e-01, 2.41865427e-02, 6.28356241e-02, 1.57298023e-02,\n",
              "       4.43922130e-04, 2.80814129e-03, 2.16792502e-03, 1.08409421e-02,\n",
              "       1.69585804e-05, 5.94733082e-04, 2.98420495e-03, 1.39888408e-03,\n",
              "       0.00000000e+00, 2.21705282e-02, 0.00000000e+00, 2.34782495e-03,\n",
              "       5.43261184e-02, 6.20955144e-02, 1.02950103e-01, 6.11033270e-03,\n",
              "       1.87220516e-04, 3.06348061e-04, 0.00000000e+00, 0.00000000e+00,\n",
              "       3.16566348e-03, 1.27565966e-03, 3.94306862e-04, 1.48118921e-02,\n",
              "       5.18196191e-03, 1.19626647e-02, 1.13264519e-02, 1.43738092e-03,\n",
              "       2.50376534e-03, 9.44102259e-04, 4.67933465e-04, 0.00000000e+00,\n",
              "       0.00000000e+00, 1.48387579e-04, 1.80324214e-03, 2.11493508e-03,\n",
              "       9.94514833e-04, 1.15198680e-03, 8.98220691e-04, 2.18041852e-05,\n",
              "       0.00000000e+00, 0.00000000e+00, 0.00000000e+00, 7.79148600e-03,\n",
              "       2.09872611e-02, 6.31235974e-03, 3.67888873e-03, 5.42749707e-03,\n",
              "       6.61860685e-03, 4.76622763e-04, 5.73125875e-03, 4.39659057e-03,\n",
              "       2.85696786e-03, 4.43635343e-03, 5.63526405e-03, 5.23567956e-04,\n",
              "       8.46667020e-03, 7.01274101e-03, 7.75701994e-03, 8.20429299e-03,\n",
              "       7.15279602e-03, 0.00000000e+00, 2.75606038e-03, 2.77016962e-04,\n",
              "       8.84185283e-03, 8.32038989e-03, 6.92246329e-03, 8.17059588e-03,\n",
              "       9.40545067e-03])"
            ]
          },
          "execution_count": 133,
          "metadata": {
            "tags": []
          },
          "output_type": "execute_result"
        }
      ],
      "source": [
        "# Show feature importance\n",
        "rf.feature_importances_"
      ]
    },
    {
      "cell_type": "code",
      "execution_count": null,
      "metadata": {
        "colab": {
          "base_uri": "https://localhost:8080/",
          "height": 402
        },
        "id": "TQJ9H6vZpbdg",
        "outputId": "b6deff6d-7db3-4139-c079-4818c447efe9"
      },
      "outputs": [
        {
          "data": {
            "text/html": [
              "<div>\n",
              "<style scoped>\n",
              "    .dataframe tbody tr th:only-of-type {\n",
              "        vertical-align: middle;\n",
              "    }\n",
              "\n",
              "    .dataframe tbody tr th {\n",
              "        vertical-align: top;\n",
              "    }\n",
              "\n",
              "    .dataframe thead th {\n",
              "        text-align: right;\n",
              "    }\n",
              "</style>\n",
              "<table border=\"1\" class=\"dataframe\">\n",
              "  <thead>\n",
              "    <tr style=\"text-align: right;\">\n",
              "      <th></th>\n",
              "      <th>importance</th>\n",
              "    </tr>\n",
              "  </thead>\n",
              "  <tbody>\n",
              "    <tr>\n",
              "      <th>Pressure(in)</th>\n",
              "      <td>0.130003</td>\n",
              "    </tr>\n",
              "    <tr>\n",
              "      <th>Start_Hour</th>\n",
              "      <td>0.102950</td>\n",
              "    </tr>\n",
              "    <tr>\n",
              "      <th>Humidity(%)</th>\n",
              "      <td>0.080070</td>\n",
              "    </tr>\n",
              "    <tr>\n",
              "      <th>Wind_Chill(F)</th>\n",
              "      <td>0.079628</td>\n",
              "    </tr>\n",
              "    <tr>\n",
              "      <th>Temperature(F)</th>\n",
              "      <td>0.074423</td>\n",
              "    </tr>\n",
              "    <tr>\n",
              "      <th>...</th>\n",
              "      <td>...</td>\n",
              "    </tr>\n",
              "    <tr>\n",
              "      <th>Light_Snow_and_Sleet</th>\n",
              "      <td>0.000000</td>\n",
              "    </tr>\n",
              "    <tr>\n",
              "      <th>Light_Freezing_Rain</th>\n",
              "      <td>0.000000</td>\n",
              "    </tr>\n",
              "    <tr>\n",
              "      <th>Light_Freezing_Drizzle</th>\n",
              "      <td>0.000000</td>\n",
              "    </tr>\n",
              "    <tr>\n",
              "      <th>Traffic_Calming</th>\n",
              "      <td>0.000000</td>\n",
              "    </tr>\n",
              "    <tr>\n",
              "      <th>Turning_Loop</th>\n",
              "      <td>0.000000</td>\n",
              "    </tr>\n",
              "  </tbody>\n",
              "</table>\n",
              "<p>77 rows × 1 columns</p>\n",
              "</div>"
            ],
            "text/plain": [
              "                        importance\n",
              "Pressure(in)              0.130003\n",
              "Start_Hour                0.102950\n",
              "Humidity(%)               0.080070\n",
              "Wind_Chill(F)             0.079628\n",
              "Temperature(F)            0.074423\n",
              "...                            ...\n",
              "Light_Snow_and_Sleet      0.000000\n",
              "Light_Freezing_Rain       0.000000\n",
              "Light_Freezing_Drizzle    0.000000\n",
              "Traffic_Calming           0.000000\n",
              "Turning_Loop              0.000000\n",
              "\n",
              "[77 rows x 1 columns]"
            ]
          },
          "execution_count": 134,
          "metadata": {
            "tags": []
          },
          "output_type": "execute_result"
        }
      ],
      "source": [
        "# Beautify the display of feature importance\n",
        "feature_importances = pd.DataFrame(rf.feature_importances_,\n",
        "                                   index = train_X.columns,\n",
        "                                   columns=['importance'])\n",
        "feature_importances = feature_importances.sort_values('importance',ascending=False)\n",
        "\n",
        "feature_importances"
      ]
    },
    {
      "cell_type": "code",
      "execution_count": null,
      "metadata": {
        "id": "5yl0li8fpgFH"
      },
      "outputs": [],
      "source": [
        "# Predict on test set\n",
        "pred_y_rf = rf.predict(test_X)"
      ]
    },
    {
      "cell_type": "code",
      "execution_count": null,
      "metadata": {
        "colab": {
          "base_uri": "https://localhost:8080/",
          "height": 84
        },
        "id": "83r3LwwNpgK1",
        "outputId": "0789c903-8cfb-43e3-da5b-e17a5f554e37"
      },
      "outputs": [
        {
          "data": {
            "text/plain": [
              "array([[  0,   1,   0,   0],\n",
              "       [  0, 264, 296,   3],\n",
              "       [  0, 217, 817,  10],\n",
              "       [  0,   6,  11,   3]])"
            ]
          },
          "execution_count": 137,
          "metadata": {
            "tags": []
          },
          "output_type": "execute_result"
        }
      ],
      "source": [
        "# Print confusion matrix\n",
        "metrics.confusion_matrix(test_y, pred_y_rf)"
      ]
    },
    {
      "cell_type": "code",
      "execution_count": null,
      "metadata": {
        "id": "PAnWOcH_cvv1"
      },
      "outputs": [],
      "source": [
        "# Compute confusion matrix\n",
        "cnf_matrix = metrics.confusion_matrix(test_y, pred_y_rf)\n",
        "\n",
        "# Plot non-normalized confusion matrix\n",
        "plot_confusion_matrix(cnf_matrix, classes=['1','2','3','4'],\n",
        "                      title='Confusion matrix, without normalization')"
      ]
    },
    {
      "cell_type": "markdown",
      "metadata": {
        "id": "yo-sVavMpss_"
      },
      "source": [
        "We can see that the trained RF has good performance. But still many in the test set have been incorrectly predicted by the trained model."
      ]
    },
    {
      "cell_type": "code",
      "execution_count": null,
      "metadata": {
        "colab": {
          "base_uri": "https://localhost:8080/",
          "height": 34
        },
        "id": "EHFGqEsRpgIA",
        "outputId": "06035e61-b3fb-4045-c1b3-8766412be48e"
      },
      "outputs": [
        {
          "data": {
            "text/plain": [
              "0.6658476658476659"
            ]
          },
          "execution_count": 139,
          "metadata": {
            "tags": []
          },
          "output_type": "execute_result"
        }
      ],
      "source": [
        "# Calculate classification accuracy\n",
        "metrics.accuracy_score(test_y, pred_y_rf)"
      ]
    },
    {
      "cell_type": "code",
      "execution_count": null,
      "metadata": {
        "colab": {
          "base_uri": "https://localhost:8080/",
          "height": 34
        },
        "id": "OseLPkn1pyho",
        "outputId": "9e3a1e59-0482-450e-c138-49e1db31ab4d"
      },
      "outputs": [
        {
          "data": {
            "text/plain": [
              "0.26311795677381133"
            ]
          },
          "execution_count": 140,
          "metadata": {
            "tags": []
          },
          "output_type": "execute_result"
        }
      ],
      "source": [
        "# Calculate Cohen's Kappa\n",
        "metrics.cohen_kappa_score(test_y, pred_y_rf)"
      ]
    },
    {
      "cell_type": "code",
      "execution_count": null,
      "metadata": {
        "colab": {
          "base_uri": "https://localhost:8080/",
          "height": 202
        },
        "id": "5-e-BwfZp0qm",
        "outputId": "9384cb2e-b46a-4308-9933-47acaa02faa0"
      },
      "outputs": [
        {
          "name": "stdout",
          "output_type": "stream",
          "text": [
            "              precision    recall  f1-score   support\n",
            "\n",
            "           1       0.00      0.00      0.00         1\n",
            "           2       0.54      0.47      0.50       563\n",
            "           3       0.73      0.78      0.75      1044\n",
            "           4       0.19      0.15      0.17        20\n",
            "\n",
            "    accuracy                           0.67      1628\n",
            "   macro avg       0.36      0.35      0.36      1628\n",
            "weighted avg       0.66      0.67      0.66      1628\n",
            "\n"
          ]
        }
      ],
      "source": [
        "# Print classification report\n",
        "print(metrics.classification_report(test_y, pred_y_rf))"
      ]
    },
    {
      "cell_type": "markdown",
      "metadata": {
        "id": "mg3vM8UNp3NR"
      },
      "source": [
        "Since the outcomes is not binary (it contains 3 classes), we cannot directly calculate AUC."
      ]
    },
    {
      "cell_type": "markdown",
      "metadata": {
        "id": "dkrzkKf1roJA"
      },
      "source": [
        "### Tune Hyper-parameters"
      ]
    },
    {
      "cell_type": "code",
      "execution_count": null,
      "metadata": {
        "colab": {
          "base_uri": "https://localhost:8080/",
          "height": 101
        },
        "id": "Anf4f9f7rsT-",
        "outputId": "8fdaed12-d8e7-43cc-df32-d29b25072044"
      },
      "outputs": [
        {
          "data": {
            "text/plain": [
              "{'criterion': ['gini', 'entropy'],\n",
              " 'max_depth': [5, 10],\n",
              " 'max_features': [20, 30, 40, 50, 60],\n",
              " 'n_estimators': [50, 100, 200, 300, 400, 500, 600],\n",
              " 'random_state': [123]}"
            ]
          },
          "execution_count": 142,
          "metadata": {
            "tags": []
          },
          "output_type": "execute_result"
        }
      ],
      "source": [
        "parameters = {'criterion': ['gini', 'entropy'],\n",
        "          'n_estimators':[50,100,200,300,400,500,600],\n",
        "          'max_features': [20,30,40,50,60],\n",
        "          'max_depth':[5,10],\n",
        "          'random_state':[123]\n",
        "         }\n",
        "parameters"
      ]
    },
    {
      "cell_type": "code",
      "execution_count": null,
      "metadata": {
        "id": "2xkW9v16rurJ"
      },
      "outputs": [],
      "source": [
        "rf2 = RandomForestClassifier()"
      ]
    },
    {
      "cell_type": "code",
      "execution_count": null,
      "metadata": {
        "id": "gPVBQaw9ruv5"
      },
      "outputs": [],
      "source": [
        "from sklearn.model_selection import GridSearchCV\n",
        "\n",
        "# Use a 5-fold cross-validation\n",
        "grid_rf = GridSearchCV(rf2, parameters, scoring='accuracy', cv=5, n_jobs=-1, verbose=1)"
      ]
    },
    {
      "cell_type": "code",
      "execution_count": null,
      "metadata": {
        "colab": {
          "base_uri": "https://localhost:8080/",
          "height": 168
        },
        "id": "mRgZdo9Pru2J",
        "outputId": "771af0c1-4acd-42cc-d5f9-dff7d5a0836c"
      },
      "outputs": [
        {
          "name": "stdout",
          "output_type": "stream",
          "text": [
            "Time Sart:05/05/2020 01:44:39\n",
            "Fitting 5 folds for each of 140 candidates, totalling 700 fits\n"
          ]
        },
        {
          "name": "stderr",
          "output_type": "stream",
          "text": [
            "[Parallel(n_jobs=-1)]: Using backend LokyBackend with 2 concurrent workers.\n",
            "[Parallel(n_jobs=-1)]: Done  46 tasks      | elapsed:   31.6s\n",
            "[Parallel(n_jobs=-1)]: Done 196 tasks      | elapsed:  3.6min\n",
            "[Parallel(n_jobs=-1)]: Done 446 tasks      | elapsed: 10.3min\n",
            "[Parallel(n_jobs=-1)]: Done 700 out of 700 | elapsed: 18.8min finished\n"
          ]
        },
        {
          "name": "stdout",
          "output_type": "stream",
          "text": [
            "Time End:05/05/2020 02:03:30\n",
            "Execution Time (Seconds):1130.0997502803802\n"
          ]
        }
      ],
      "source": [
        "import time\n",
        "start = time.time()\n",
        "print('Time Sart:'+ time.strftime(\"%m/%d/%Y %H:%M:%S\"))\n",
        "\n",
        "grid_rf.fit(train_X,train_y)\n",
        "\n",
        "end = time.time()\n",
        "print('Time End:'+ time.strftime(\"%m/%d/%Y %H:%M:%S\"))\n",
        "print('Execution Time (Seconds):' + str(end - start))"
      ]
    },
    {
      "cell_type": "code",
      "execution_count": null,
      "metadata": {
        "colab": {
          "base_uri": "https://localhost:8080/",
          "height": 101
        },
        "id": "yLC9Af9nr62R",
        "outputId": "9dc95d08-2193-40d5-c948-5927af4045c6"
      },
      "outputs": [
        {
          "data": {
            "text/plain": [
              "{'criterion': 'gini',\n",
              " 'max_depth': 10,\n",
              " 'max_features': 30,\n",
              " 'n_estimators': 500,\n",
              " 'random_state': 123}"
            ]
          },
          "execution_count": 146,
          "metadata": {
            "tags": []
          },
          "output_type": "execute_result"
        }
      ],
      "source": [
        "# Show best parameters\n",
        "grid_rf.best_params_"
      ]
    },
    {
      "cell_type": "code",
      "execution_count": null,
      "metadata": {
        "id": "pPL02jBvr66t"
      },
      "outputs": [],
      "source": [
        "# Train a new RF with best parameters\n",
        "rf_final = RandomForestClassifier(n_estimators=500,\n",
        "                                   max_depth=10, \n",
        "                                   max_features=30, \n",
        "                                   criterion='gini',\n",
        "                                   random_state=123)"
      ]
    },
    {
      "cell_type": "code",
      "execution_count": null,
      "metadata": {
        "colab": {
          "base_uri": "https://localhost:8080/",
          "height": 151
        },
        "id": "oqQKqGg9r_C3",
        "outputId": "4519ef5e-c344-4296-9ecd-2461d026a52f"
      },
      "outputs": [
        {
          "data": {
            "text/plain": [
              "RandomForestClassifier(bootstrap=True, ccp_alpha=0.0, class_weight=None,\n",
              "                       criterion='gini', max_depth=10, max_features=30,\n",
              "                       max_leaf_nodes=None, max_samples=None,\n",
              "                       min_impurity_decrease=0.0, min_impurity_split=None,\n",
              "                       min_samples_leaf=1, min_samples_split=2,\n",
              "                       min_weight_fraction_leaf=0.0, n_estimators=500,\n",
              "                       n_jobs=None, oob_score=False, random_state=123,\n",
              "                       verbose=0, warm_start=False)"
            ]
          },
          "execution_count": 148,
          "metadata": {
            "tags": []
          },
          "output_type": "execute_result"
        }
      ],
      "source": [
        "rf_final.fit(train_X,train_y)"
      ]
    },
    {
      "cell_type": "code",
      "execution_count": null,
      "metadata": {
        "id": "kE-ry3iNr_J5"
      },
      "outputs": [],
      "source": [
        "# Predict on test set\n",
        "pred_y_rf_final = grid_rf.predict(test_X)"
      ]
    },
    {
      "cell_type": "code",
      "execution_count": null,
      "metadata": {
        "colab": {
          "base_uri": "https://localhost:8080/",
          "height": 84
        },
        "id": "SUXTS6y2r_Gt",
        "outputId": "9f9e611a-f6ed-494a-e4d3-172b1bb68e82"
      },
      "outputs": [
        {
          "data": {
            "text/plain": [
              "array([[  0,   0,   1,   0],\n",
              "       [  0, 209, 351,   3],\n",
              "       [  0,  89, 945,  10],\n",
              "       [  0,   3,  12,   5]])"
            ]
          },
          "execution_count": 150,
          "metadata": {
            "tags": []
          },
          "output_type": "execute_result"
        }
      ],
      "source": [
        "# Print confusion matrix\n",
        "metrics.confusion_matrix(test_y, pred_y_rf_final)"
      ]
    },
    {
      "cell_type": "code",
      "execution_count": null,
      "metadata": {
        "id": "UPoc-8FvmwJW"
      },
      "outputs": [],
      "source": [
        "# Compute confusion matrix\n",
        "cnf_matrix = metrics.confusion_matrix(test_y, pred_y_rf_final)\n",
        "\n",
        "# Plot non-normalized confusion matrix\n",
        "plot_confusion_matrix(cnf_matrix, classes=['1','2','3','4'],\n",
        "                      title='Confusion matrix, without normalization')"
      ]
    },
    {
      "cell_type": "code",
      "execution_count": null,
      "metadata": {
        "colab": {
          "base_uri": "https://localhost:8080/",
          "height": 34
        },
        "id": "udg8DZonsFuA",
        "outputId": "88fcf9a7-21e7-4dbb-d77a-f8e4dc7ab1d7"
      },
      "outputs": [
        {
          "data": {
            "text/plain": [
              "0.711916461916462"
            ]
          },
          "execution_count": 152,
          "metadata": {
            "tags": []
          },
          "output_type": "execute_result"
        }
      ],
      "source": [
        "# Calculate classification accuracy\n",
        "metrics.accuracy_score(test_y, pred_y_rf_final)"
      ]
    },
    {
      "cell_type": "code",
      "execution_count": null,
      "metadata": {
        "colab": {
          "base_uri": "https://localhost:8080/",
          "height": 202
        },
        "id": "xQhPztylsF0D",
        "outputId": "a7cec9d9-30b4-45a2-813a-20f2135527ab"
      },
      "outputs": [
        {
          "name": "stdout",
          "output_type": "stream",
          "text": [
            "              precision    recall  f1-score   support\n",
            "\n",
            "           1       0.00      0.00      0.00         1\n",
            "           2       0.69      0.37      0.48       563\n",
            "           3       0.72      0.91      0.80      1044\n",
            "           4       0.28      0.25      0.26        20\n",
            "\n",
            "    accuracy                           0.71      1628\n",
            "   macro avg       0.42      0.38      0.39      1628\n",
            "weighted avg       0.71      0.71      0.69      1628\n",
            "\n"
          ]
        }
      ],
      "source": [
        "# Print classification report\n",
        "print(metrics.classification_report(test_y, pred_y_rf_final))"
      ]
    },
    {
      "cell_type": "markdown",
      "metadata": {
        "id": "DcPGLKHCsMP7"
      },
      "source": [
        "### Model Comparison"
      ]
    },
    {
      "cell_type": "code",
      "execution_count": null,
      "metadata": {
        "id": "Pd9qZbPcsFxr"
      },
      "outputs": [],
      "source": [
        "acc = [metrics.accuracy_score(test_y, pred_y_rf),\n",
        "       metrics.accuracy_score(test_y, pred_y_rf_final)]\n",
        "\n",
        "pre = [metrics.precision_score(test_y, pred_y_rf, average='weighted'),\n",
        "       metrics.precision_score(test_y, pred_y_rf_final, average='weighted')]\n",
        "\n",
        "rec = [metrics.recall_score(test_y, pred_y_rf, average='weighted'),\n",
        "       metrics.recall_score(test_y, pred_y_rf_final, average='weighted')]\n",
        "\n",
        "f1  = [metrics.f1_score(test_y, pred_y_rf, average='weighted'),\n",
        "       metrics.f1_score(test_y, pred_y_rf_final, average='weighted')]"
      ]
    },
    {
      "cell_type": "code",
      "execution_count": null,
      "metadata": {
        "colab": {
          "base_uri": "https://localhost:8080/",
          "height": 106
        },
        "id": "kNucWscmsQ3S",
        "outputId": "ee5cedd9-e521-4725-b1fa-878e419f7173"
      },
      "outputs": [
        {
          "data": {
            "text/html": [
              "<div>\n",
              "<style scoped>\n",
              "    .dataframe tbody tr th:only-of-type {\n",
              "        vertical-align: middle;\n",
              "    }\n",
              "\n",
              "    .dataframe tbody tr th {\n",
              "        vertical-align: top;\n",
              "    }\n",
              "\n",
              "    .dataframe thead th {\n",
              "        text-align: right;\n",
              "    }\n",
              "</style>\n",
              "<table border=\"1\" class=\"dataframe\">\n",
              "  <thead>\n",
              "    <tr style=\"text-align: right;\">\n",
              "      <th></th>\n",
              "      <th>Accuracy</th>\n",
              "      <th>Precision</th>\n",
              "      <th>Recall</th>\n",
              "      <th>F1 Score</th>\n",
              "    </tr>\n",
              "  </thead>\n",
              "  <tbody>\n",
              "    <tr>\n",
              "      <th>RF without Hyperparameter Tunning</th>\n",
              "      <td>0.665848</td>\n",
              "      <td>0.655512</td>\n",
              "      <td>0.665848</td>\n",
              "      <td>0.659106</td>\n",
              "    </tr>\n",
              "    <tr>\n",
              "      <th>RF with Hyperparameter Tunning</th>\n",
              "      <td>0.711916</td>\n",
              "      <td>0.706490</td>\n",
              "      <td>0.711916</td>\n",
              "      <td>0.685634</td>\n",
              "    </tr>\n",
              "  </tbody>\n",
              "</table>\n",
              "</div>"
            ],
            "text/plain": [
              "                                   Accuracy  Precision    Recall  F1 Score\n",
              "RF without Hyperparameter Tunning  0.665848   0.655512  0.665848  0.659106\n",
              "RF with Hyperparameter Tunning     0.711916   0.706490  0.711916  0.685634"
            ]
          },
          "execution_count": 155,
          "metadata": {
            "tags": []
          },
          "output_type": "execute_result"
        }
      ],
      "source": [
        "pd.DataFrame({'Accuracy':acc, 'Precision':pre, 'Recall':rec, 'F1 Score': f1},\n",
        "             index = ['RF without Hyperparameter Tunning','RF with Hyperparameter Tunning'])"
      ]
    },
    {
      "cell_type": "markdown",
      "metadata": {
        "id": "y0Q-PwlTdLwF"
      },
      "source": [
        "## Feature Importance according to Random Forest"
      ]
    },
    {
      "cell_type": "code",
      "execution_count": null,
      "metadata": {
        "id": "RJz9fecddMJn"
      },
      "outputs": [],
      "source": [
        "feature_importances.plot(kind = 'bar',figsize=(15,5),\n",
        "                         title='Feature Importance of German Credit Dataset')"
      ]
    },
    {
      "cell_type": "markdown",
      "metadata": {
        "id": "tDwHvOMHhV8C"
      },
      "source": [
        "## 7. Findings"
      ]
    },
    {
      "cell_type": "markdown",
      "metadata": {
        "id": "bFmp6zTEvG2n"
      },
      "source": [
        "## 7. Summary\n",
        "\n",
        "#### Section5: Regression analysis:\n",
        "Section 5.1 we found that \n",
        "*   Per the Coefficient, we can discern that Wind Chill, Humidity, and Visibility have a negative effect on Severity while Temperature, Pressure, Wind Speed, Precipitation and all wind directions have a positive effect on Severity. This would mean that as precipitation rises, severity rises as well.\n",
        "*   P > |t| shows us that variables such as Temperature, Wind Chill, Humidity, Pressure and weather conditions like Heavy T-storm, Thunder in the vicinity are all statistically significant as their value is below 0.05\n",
        "* In Section 5.2: We excluded the insignificant predictors which don’t have any effect on severity.\n",
        "* In Section 5.3: We did the multicollinearity check to remove the overlaps.\n",
        "* In Section 5.4: We compared all the OLS Regression models and found that Model 5 is better than other models which have less multicollinearity issue.\n",
        "#### Section6: Predictive Modeling:\n",
        "* With the two confusion matrices created based on precipitation to severity and wind speed to severity, we were able to determine that precipitation had a higher precision in predicting accidents with a severity of 2 whilst both precipitation and wind speed had the same precision in predicting accidents with a severity of 3. \n",
        "* This was surprising to see as we expected more of a difference between the two variables on severity, but there was barely any difference between the two. Precipitation did show a slightly higher precision in predicting severity than wind speed, but this more or so shows evidence that severity is based off more than one variable.\n",
        "* SVM has a good performance, hyperparameter tuning does not improve the performance significantly. For an untuned SVM that does not have high performance, usually we will see significance improvement by tuning the hyperparameters.\n",
        "* In KNN if we use overall accuracy as the measure, the optimal hyperparameter is k = 39. The KNN model with k=39 has a higher accuracy, precision and recall. We notice that there is no trade-off between precision and recall. However this model does not classify severity 1 and 4 properly.\n",
        "* We saw that the trained Random Forest has good performance. But still many in the test set have been incorrectly predicted by the trained model."
      ]
    },
    {
      "cell_type": "code",
      "execution_count": null,
      "metadata": {
        "id": "c1K6JbP4vG2o"
      },
      "outputs": [],
      "source": [
        ""
      ]
    }
  ],
  "metadata": {
    "accelerator": "GPU",
    "colab": {
      "name": "Descriptive & Predictive Analysis on different factors influencing road accidents.ipynb",
      "provenance": [],
      "toc_visible": true,
      "collapsed_sections": [],
      "include_colab_link": true
    },
    "kernelspec": {
      "display_name": "Python 3",
      "language": "python",
      "name": "python3"
    },
    "language_info": {
      "codemirror_mode": {
        "name": "ipython",
        "version": 3
      },
      "file_extension": ".py",
      "mimetype": "text/x-python",
      "name": "python",
      "nbconvert_exporter": "python",
      "pygments_lexer": "ipython3",
      "version": "3.6.8"
    }
  },
  "nbformat": 4,
  "nbformat_minor": 0
}